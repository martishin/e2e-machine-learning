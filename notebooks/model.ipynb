{
 "cells": [
  {
   "cell_type": "markdown",
   "id": "dae3857cb37f0a95",
   "metadata": {},
   "source": [
    "## Setup"
   ]
  },
  {
   "cell_type": "code",
   "id": "d9de1326501792c3",
   "metadata": {
    "ExecuteTime": {
     "end_time": "2024-12-21T14:25:50.277916Z",
     "start_time": "2024-12-21T14:25:50.029979Z"
    }
   },
   "source": [
    "import os\n",
    "\n",
    "import ray"
   ],
   "outputs": [],
   "execution_count": 1
  },
  {
   "cell_type": "code",
   "id": "170aaa8bdebafe48",
   "metadata": {
    "ExecuteTime": {
     "end_time": "2024-12-21T14:25:50.301271Z",
     "start_time": "2024-12-21T14:25:50.281360Z"
    }
   },
   "source": [
    "import sys\n",
    "\n",
    "sys.path.append(\"..\")\n",
    "import warnings\n",
    "\n",
    "warnings.filterwarnings(\"ignore\")\n",
    "from dotenv import load_dotenv\n",
    "\n",
    "load_dotenv()\n",
    "%load_ext autoreload\n",
    "%autoreload 2"
   ],
   "outputs": [],
   "execution_count": 2
  },
  {
   "cell_type": "code",
   "id": "8e3c2d1a381ab7af",
   "metadata": {
    "ExecuteTime": {
     "end_time": "2024-12-21T14:25:52.007797Z",
     "start_time": "2024-12-21T14:25:50.385486Z"
    }
   },
   "source": [
    "if ray.is_initialized():\n",
    "    ray.shutdown()\n",
    "ray.init()"
   ],
   "outputs": [
    {
     "name": "stderr",
     "output_type": "stream",
     "text": [
      "2024-12-21 15:25:51,351\tINFO worker.py:1812 -- Started a local Ray instance. View the dashboard at \u001b[1m\u001b[32mhttp://127.0.0.1:8265 \u001b[39m\u001b[22m\n"
     ]
    },
    {
     "data": {
      "text/plain": [
       "RayContext(dashboard_url='127.0.0.1:8265', python_version='3.11.11', ray_version='2.40.0', ray_commit='{{RAY_COMMIT_SHA}}')"
      ],
      "application/vnd.jupyter.widget-view+json": {
       "version_major": 2,
       "version_minor": 0,
       "model_id": "38563c94498f40d39ef1798f766f145e"
      },
      "text/html": [
       "<div class=\"lm-Widget p-Widget lm-Panel p-Panel jp-Cell-outputWrapper\">\n",
       "    <div style=\"margin-left: 50px;display: flex;flex-direction: row;align-items: center\">\n",
       "        <div class=\"jp-RenderedHTMLCommon\" style=\"display: flex; flex-direction: row;\">\n",
       "  <svg viewBox=\"0 0 567 224\" fill=\"none\" xmlns=\"http://www.w3.org/2000/svg\" style=\"height: 3em;\">\n",
       "    <g clip-path=\"url(#clip0_4338_178347)\">\n",
       "        <path d=\"M341.29 165.561H355.29L330.13 129.051C345.63 123.991 354.21 112.051 354.21 94.2307C354.21 71.3707 338.72 58.1807 311.88 58.1807H271V165.561H283.27V131.661H311.8C314.25 131.661 316.71 131.501 319.01 131.351L341.25 165.561H341.29ZM283.29 119.851V70.0007H311.82C331.3 70.0007 342.34 78.2907 342.34 94.5507C342.34 111.271 331.34 119.861 311.82 119.861L283.29 119.851ZM451.4 138.411L463.4 165.561H476.74L428.74 58.1807H416L367.83 165.561H380.83L392.83 138.411H451.4ZM446.19 126.601H398L422 72.1407L446.24 126.601H446.19ZM526.11 128.741L566.91 58.1807H554.35L519.99 114.181L485.17 58.1807H472.44L514.01 129.181V165.541H526.13V128.741H526.11Z\" fill=\"var(--jp-ui-font-color0)\"/>\n",
       "        <path d=\"M82.35 104.44C84.0187 97.8827 87.8248 92.0678 93.1671 87.9146C98.5094 83.7614 105.083 81.5067 111.85 81.5067C118.617 81.5067 125.191 83.7614 130.533 87.9146C135.875 92.0678 139.681 97.8827 141.35 104.44H163.75C164.476 101.562 165.622 98.8057 167.15 96.2605L127.45 56.5605C121.071 60.3522 113.526 61.6823 106.235 60.3005C98.9443 58.9187 92.4094 54.9203 87.8602 49.0574C83.3109 43.1946 81.0609 35.8714 81.5332 28.4656C82.0056 21.0599 85.1679 14.0819 90.4252 8.8446C95.6824 3.60726 102.672 0.471508 110.08 0.0272655C117.487 -0.416977 124.802 1.86091 130.647 6.4324C136.493 11.0039 140.467 17.5539 141.821 24.8501C143.175 32.1463 141.816 39.6859 138 46.0505L177.69 85.7505C182.31 82.9877 187.58 81.4995 192.962 81.4375C198.345 81.3755 203.648 82.742 208.33 85.3976C213.012 88.0532 216.907 91.9029 219.616 96.5544C222.326 101.206 223.753 106.492 223.753 111.875C223.753 117.258 222.326 122.545 219.616 127.197C216.907 131.848 213.012 135.698 208.33 138.353C203.648 141.009 198.345 142.375 192.962 142.313C187.58 142.251 182.31 140.763 177.69 138L138 177.7C141.808 184.071 143.155 191.614 141.79 198.91C140.424 206.205 136.44 212.75 130.585 217.313C124.731 221.875 117.412 224.141 110.004 223.683C102.596 223.226 95.6103 220.077 90.3621 214.828C85.1139 209.58 81.9647 202.595 81.5072 195.187C81.0497 187.779 83.3154 180.459 87.878 174.605C92.4405 168.751 98.9853 164.766 106.281 163.401C113.576 162.035 121.119 163.383 127.49 167.19L167.19 127.49C165.664 124.941 164.518 122.182 163.79 119.3H141.39C139.721 125.858 135.915 131.673 130.573 135.826C125.231 139.98 118.657 142.234 111.89 142.234C105.123 142.234 98.5494 139.98 93.2071 135.826C87.8648 131.673 84.0587 125.858 82.39 119.3H60C58.1878 126.495 53.8086 132.78 47.6863 136.971C41.5641 141.163 34.1211 142.972 26.7579 142.059C19.3947 141.146 12.6191 137.574 7.70605 132.014C2.79302 126.454 0.0813599 119.29 0.0813599 111.87C0.0813599 104.451 2.79302 97.2871 7.70605 91.7272C12.6191 86.1673 19.3947 82.5947 26.7579 81.6817C34.1211 80.7686 41.5641 82.5781 47.6863 86.7696C53.8086 90.9611 58.1878 97.2456 60 104.44H82.35ZM100.86 204.32C103.407 206.868 106.759 208.453 110.345 208.806C113.93 209.159 117.527 208.258 120.522 206.256C123.517 204.254 125.725 201.276 126.771 197.828C127.816 194.38 127.633 190.677 126.253 187.349C124.874 184.021 122.383 181.274 119.205 179.577C116.027 177.88 112.359 177.337 108.826 178.042C105.293 178.746 102.113 180.654 99.8291 183.44C97.5451 186.226 96.2979 189.718 96.3 193.32C96.2985 195.364 96.7006 197.388 97.4831 199.275C98.2656 201.163 99.4132 202.877 100.86 204.32ZM204.32 122.88C206.868 120.333 208.453 116.981 208.806 113.396C209.159 109.811 208.258 106.214 206.256 103.219C204.254 100.223 201.275 98.0151 197.827 96.97C194.38 95.9249 190.676 96.1077 187.348 97.4873C184.02 98.8669 181.274 101.358 179.577 104.536C177.879 107.714 177.337 111.382 178.041 114.915C178.746 118.448 180.653 121.627 183.439 123.911C186.226 126.195 189.717 127.443 193.32 127.44C195.364 127.443 197.388 127.042 199.275 126.259C201.163 125.476 202.878 124.328 204.32 122.88ZM122.88 19.4205C120.333 16.8729 116.981 15.2876 113.395 14.9347C109.81 14.5817 106.213 15.483 103.218 17.4849C100.223 19.4868 98.0146 22.4654 96.9696 25.9131C95.9245 29.3608 96.1073 33.0642 97.4869 36.3922C98.8665 39.7202 101.358 42.4668 104.535 44.1639C107.713 45.861 111.381 46.4036 114.914 45.6992C118.447 44.9949 121.627 43.0871 123.911 40.301C126.195 37.515 127.442 34.0231 127.44 30.4205C127.44 28.3772 127.038 26.3539 126.255 24.4664C125.473 22.5788 124.326 20.8642 122.88 19.4205ZM19.42 100.86C16.8725 103.408 15.2872 106.76 14.9342 110.345C14.5813 113.93 15.4826 117.527 17.4844 120.522C19.4863 123.518 22.4649 125.726 25.9127 126.771C29.3604 127.816 33.0638 127.633 36.3918 126.254C39.7198 124.874 42.4664 122.383 44.1635 119.205C45.8606 116.027 46.4032 112.359 45.6988 108.826C44.9944 105.293 43.0866 102.114 40.3006 99.8296C37.5145 97.5455 34.0227 96.2983 30.42 96.3005C26.2938 96.3018 22.337 97.9421 19.42 100.86ZM100.86 100.86C98.3125 103.408 96.7272 106.76 96.3742 110.345C96.0213 113.93 96.9226 117.527 98.9244 120.522C100.926 123.518 103.905 125.726 107.353 126.771C110.8 127.816 114.504 127.633 117.832 126.254C121.16 124.874 123.906 122.383 125.604 119.205C127.301 116.027 127.843 112.359 127.139 108.826C126.434 105.293 124.527 102.114 121.741 99.8296C118.955 97.5455 115.463 96.2983 111.86 96.3005C109.817 96.299 107.793 96.701 105.905 97.4835C104.018 98.2661 102.303 99.4136 100.86 100.86Z\" fill=\"#00AEEF\"/>\n",
       "    </g>\n",
       "    <defs>\n",
       "        <clipPath id=\"clip0_4338_178347\">\n",
       "            <rect width=\"566.93\" height=\"223.75\" fill=\"white\"/>\n",
       "        </clipPath>\n",
       "    </defs>\n",
       "  </svg>\n",
       "</div>\n",
       "\n",
       "        <table class=\"jp-RenderedHTMLCommon\" style=\"border-collapse: collapse;color: var(--jp-ui-font-color1);font-size: var(--jp-ui-font-size1);\">\n",
       "    <tr>\n",
       "        <td style=\"text-align: left\"><b>Python version:</b></td>\n",
       "        <td style=\"text-align: left\"><b>3.11.11</b></td>\n",
       "    </tr>\n",
       "    <tr>\n",
       "        <td style=\"text-align: left\"><b>Ray version:</b></td>\n",
       "        <td style=\"text-align: left\"><b>2.40.0</b></td>\n",
       "    </tr>\n",
       "    <tr>\n",
       "    <td style=\"text-align: left\"><b>Dashboard:</b></td>\n",
       "    <td style=\"text-align: left\"><b><a href=\"http://127.0.0.1:8265\" target=\"_blank\">http://127.0.0.1:8265</a></b></td>\n",
       "</tr>\n",
       "\n",
       "</table>\n",
       "\n",
       "    </div>\n",
       "</div>\n"
      ]
     },
     "execution_count": 3,
     "metadata": {},
     "output_type": "execute_result"
    }
   ],
   "execution_count": 3
  },
  {
   "cell_type": "code",
   "id": "7ac0dc138cf7e0f0",
   "metadata": {
    "ExecuteTime": {
     "end_time": "2024-12-21T14:25:52.036552Z",
     "start_time": "2024-12-21T14:25:52.017824Z"
    }
   },
   "source": [
    "ray.cluster_resources()"
   ],
   "outputs": [
    {
     "data": {
      "text/plain": [
       "{'CPU': 10.0,\n",
       " 'object_store_memory': 2147483648.0,\n",
       " 'node:127.0.0.1': 1.0,\n",
       " 'memory': 13787806106.0,\n",
       " 'node:__internal_head__': 1.0}"
      ]
     },
     "execution_count": 4,
     "metadata": {},
     "output_type": "execute_result"
    }
   ],
   "execution_count": 4
  },
  {
   "cell_type": "code",
   "id": "31e5851221c3279b",
   "metadata": {
    "ExecuteTime": {
     "end_time": "2024-12-21T14:25:52.081757Z",
     "start_time": "2024-12-21T14:25:52.067135Z"
    }
   },
   "source": [
    "num_workers = 6\n",
    "resources_per_worker = {\"CPU\": 1, \"GPU\": 0}"
   ],
   "outputs": [],
   "execution_count": 5
  },
  {
   "cell_type": "markdown",
   "id": "3f4e98b492a89f59",
   "metadata": {},
   "source": [
    "## Data Preparation"
   ]
  },
  {
   "cell_type": "markdown",
   "id": "8b081c1dae19f199",
   "metadata": {},
   "source": [
    "### Data ingestion"
   ]
  },
  {
   "cell_type": "code",
   "id": "f9c9ddf59a4dc1f2",
   "metadata": {
    "ExecuteTime": {
     "end_time": "2024-12-21T14:25:52.137683Z",
     "start_time": "2024-12-21T14:25:52.122549Z"
    }
   },
   "source": [
    "import pandas as pd"
   ],
   "outputs": [],
   "execution_count": 6
  },
  {
   "cell_type": "code",
   "id": "b883d9ea53412407",
   "metadata": {
    "ExecuteTime": {
     "end_time": "2024-12-21T14:25:52.192794Z",
     "start_time": "2024-12-21T14:25:52.171598Z"
    }
   },
   "source": [
    "# Data ingestion\n",
    "DATASET_LOC = \"../datasets/dataset.csv\"\n",
    "df = pd.read_csv(DATASET_LOC)\n",
    "df.head()"
   ],
   "outputs": [
    {
     "data": {
      "text/plain": [
       "   id           created_on                                              title  \\\n",
       "0   6  2020-02-20 06:43:18  Comparison between YOLO and RCNN on real world...   \n",
       "1   7  2020-02-20 06:47:21  Show, Infer & Tell: Contextual Inference for C...   \n",
       "2   9  2020-02-24 16:24:45                       Awesome Graph Classification   \n",
       "3  15  2020-02-28 23:55:26                    Awesome Monte Carlo Tree Search   \n",
       "4  25  2020-03-07 23:04:31                                      AttentionWalk   \n",
       "\n",
       "                                         description              tag  \n",
       "0  Bringing theory to experiment is cool. We can ...  computer-vision  \n",
       "1  The beauty of the work lies in the way it arch...  computer-vision  \n",
       "2  A collection of important graph embedding, cla...            other  \n",
       "3  A curated list of Monte Carlo tree search pape...            other  \n",
       "4  A PyTorch Implementation of \"Watch Your Step: ...            other  "
      ],
      "text/html": [
       "<div>\n",
       "<style scoped>\n",
       "    .dataframe tbody tr th:only-of-type {\n",
       "        vertical-align: middle;\n",
       "    }\n",
       "\n",
       "    .dataframe tbody tr th {\n",
       "        vertical-align: top;\n",
       "    }\n",
       "\n",
       "    .dataframe thead th {\n",
       "        text-align: right;\n",
       "    }\n",
       "</style>\n",
       "<table border=\"1\" class=\"dataframe\">\n",
       "  <thead>\n",
       "    <tr style=\"text-align: right;\">\n",
       "      <th></th>\n",
       "      <th>id</th>\n",
       "      <th>created_on</th>\n",
       "      <th>title</th>\n",
       "      <th>description</th>\n",
       "      <th>tag</th>\n",
       "    </tr>\n",
       "  </thead>\n",
       "  <tbody>\n",
       "    <tr>\n",
       "      <th>0</th>\n",
       "      <td>6</td>\n",
       "      <td>2020-02-20 06:43:18</td>\n",
       "      <td>Comparison between YOLO and RCNN on real world...</td>\n",
       "      <td>Bringing theory to experiment is cool. We can ...</td>\n",
       "      <td>computer-vision</td>\n",
       "    </tr>\n",
       "    <tr>\n",
       "      <th>1</th>\n",
       "      <td>7</td>\n",
       "      <td>2020-02-20 06:47:21</td>\n",
       "      <td>Show, Infer &amp; Tell: Contextual Inference for C...</td>\n",
       "      <td>The beauty of the work lies in the way it arch...</td>\n",
       "      <td>computer-vision</td>\n",
       "    </tr>\n",
       "    <tr>\n",
       "      <th>2</th>\n",
       "      <td>9</td>\n",
       "      <td>2020-02-24 16:24:45</td>\n",
       "      <td>Awesome Graph Classification</td>\n",
       "      <td>A collection of important graph embedding, cla...</td>\n",
       "      <td>other</td>\n",
       "    </tr>\n",
       "    <tr>\n",
       "      <th>3</th>\n",
       "      <td>15</td>\n",
       "      <td>2020-02-28 23:55:26</td>\n",
       "      <td>Awesome Monte Carlo Tree Search</td>\n",
       "      <td>A curated list of Monte Carlo tree search pape...</td>\n",
       "      <td>other</td>\n",
       "    </tr>\n",
       "    <tr>\n",
       "      <th>4</th>\n",
       "      <td>25</td>\n",
       "      <td>2020-03-07 23:04:31</td>\n",
       "      <td>AttentionWalk</td>\n",
       "      <td>A PyTorch Implementation of \"Watch Your Step: ...</td>\n",
       "      <td>other</td>\n",
       "    </tr>\n",
       "  </tbody>\n",
       "</table>\n",
       "</div>"
      ]
     },
     "execution_count": 7,
     "metadata": {},
     "output_type": "execute_result"
    }
   ],
   "execution_count": 7
  },
  {
   "cell_type": "markdown",
   "id": "18a092cb2807c46a",
   "metadata": {},
   "source": [
    "### Data Splitting"
   ]
  },
  {
   "cell_type": "code",
   "id": "21065628a9ebf0fc",
   "metadata": {
    "ExecuteTime": {
     "end_time": "2024-12-21T14:25:52.404226Z",
     "start_time": "2024-12-21T14:25:52.243636Z"
    }
   },
   "source": [
    "from sklearn.model_selection import train_test_split"
   ],
   "outputs": [],
   "execution_count": 8
  },
  {
   "cell_type": "code",
   "id": "92a44527aff512e3",
   "metadata": {
    "ExecuteTime": {
     "end_time": "2024-12-21T14:25:52.440428Z",
     "start_time": "2024-12-21T14:25:52.423034Z"
    }
   },
   "source": [
    "# Value counts\n",
    "df.tag.value_counts()"
   ],
   "outputs": [
    {
     "data": {
      "text/plain": [
       "tag\n",
       "natural-language-processing    310\n",
       "computer-vision                285\n",
       "other                          106\n",
       "mlops                           63\n",
       "Name: count, dtype: int64"
      ]
     },
     "execution_count": 9,
     "metadata": {},
     "output_type": "execute_result"
    }
   ],
   "execution_count": 9
  },
  {
   "cell_type": "code",
   "id": "246d74e3323b29aa",
   "metadata": {
    "ExecuteTime": {
     "end_time": "2024-12-21T14:25:52.529758Z",
     "start_time": "2024-12-21T14:25:52.512704Z"
    }
   },
   "source": [
    "# Split dataset\n",
    "test_size = 0.2\n",
    "train_df, val_df = train_test_split(\n",
    "    df, stratify=df.tag, test_size=test_size, random_state=1234\n",
    ")"
   ],
   "outputs": [],
   "execution_count": 10
  },
  {
   "cell_type": "code",
   "id": "99cd0972fdd687ab",
   "metadata": {
    "ExecuteTime": {
     "end_time": "2024-12-21T14:25:52.616593Z",
     "start_time": "2024-12-21T14:25:52.599471Z"
    }
   },
   "source": [
    "# Train value counts\n",
    "train_df.tag.value_counts()"
   ],
   "outputs": [
    {
     "data": {
      "text/plain": [
       "tag\n",
       "natural-language-processing    248\n",
       "computer-vision                228\n",
       "other                           85\n",
       "mlops                           50\n",
       "Name: count, dtype: int64"
      ]
     },
     "execution_count": 11,
     "metadata": {},
     "output_type": "execute_result"
    }
   ],
   "execution_count": 11
  },
  {
   "cell_type": "code",
   "id": "1e98eaa9ab00b09e",
   "metadata": {
    "ExecuteTime": {
     "end_time": "2024-12-21T14:25:52.749005Z",
     "start_time": "2024-12-21T14:25:52.732840Z"
    }
   },
   "source": [
    "# Validation (adjusted) value counts\n",
    "val_df.tag.value_counts() * int((1 - test_size) / test_size)"
   ],
   "outputs": [
    {
     "data": {
      "text/plain": [
       "tag\n",
       "natural-language-processing    248\n",
       "computer-vision                228\n",
       "other                           84\n",
       "mlops                           52\n",
       "Name: count, dtype: int64"
      ]
     },
     "execution_count": 12,
     "metadata": {},
     "output_type": "execute_result"
    }
   ],
   "execution_count": 12
  },
  {
   "cell_type": "markdown",
   "id": "4713d42a4e0388f9",
   "metadata": {},
   "source": [
    "## Exploratory Data Analysis (EDA)"
   ]
  },
  {
   "cell_type": "markdown",
   "id": "f8e21b632bfdde41",
   "metadata": {},
   "source": [
    "Exploratory data analysis helps us understand the signals and nuances of our dataset. It's a cyclical process that can be done at various points of our development process (before/after labeling, preprocessing, etc.) depending on how well the problem is defined."
   ]
  },
  {
   "cell_type": "code",
   "id": "f8fce3c08fbf8a58",
   "metadata": {
    "ExecuteTime": {
     "end_time": "2024-12-21T14:25:52.860928Z",
     "start_time": "2024-12-21T14:25:52.835151Z"
    }
   },
   "source": [
    "from collections import Counter\n",
    "\n",
    "import matplotlib.pyplot as plt\n",
    "import seaborn as sns\n",
    "\n",
    "sns.set_theme()\n",
    "import warnings\n",
    "\n",
    "warnings.filterwarnings(\"ignore\")\n",
    "from wordcloud import STOPWORDS, WordCloud"
   ],
   "outputs": [],
   "execution_count": 13
  },
  {
   "cell_type": "code",
   "id": "d254cc42801268f5",
   "metadata": {
    "ExecuteTime": {
     "end_time": "2024-12-21T14:25:52.965423Z",
     "start_time": "2024-12-21T14:25:52.948507Z"
    }
   },
   "source": [
    "# Most common tags\n",
    "all_tags = Counter(df.tag)\n",
    "all_tags.most_common()"
   ],
   "outputs": [
    {
     "data": {
      "text/plain": [
       "[('natural-language-processing', 310),\n",
       " ('computer-vision', 285),\n",
       " ('other', 106),\n",
       " ('mlops', 63)]"
      ]
     },
     "execution_count": 14,
     "metadata": {},
     "output_type": "execute_result"
    }
   ],
   "execution_count": 14
  },
  {
   "cell_type": "code",
   "id": "7ec7738d9889b9f5",
   "metadata": {
    "ExecuteTime": {
     "end_time": "2024-12-21T14:25:53.140260Z",
     "start_time": "2024-12-21T14:25:53.059836Z"
    }
   },
   "source": [
    "# Plot tag frequencies\n",
    "tags, tag_counts = zip(*all_tags.most_common())\n",
    "plt.figure(figsize=(10, 3))\n",
    "ax = sns.barplot(x=list(tags), y=list(tag_counts))\n",
    "ax.set_xticklabels(tags, rotation=0, fontsize=8)\n",
    "plt.title(\"Tag distribution\", fontsize=14)\n",
    "plt.ylabel(\"# of projects\", fontsize=12)\n",
    "plt.show()"
   ],
   "outputs": [
    {
     "data": {
      "text/plain": [
       "<Figure size 1000x300 with 1 Axes>"
      ],
      "image/png": "[encoded data removed]"
     },
     "metadata": {},
     "output_type": "display_data"
    }
   ],
   "execution_count": 15
  },
  {
   "cell_type": "code",
   "id": "dba190bda56ae1c7",
   "metadata": {
    "ExecuteTime": {
     "end_time": "2024-12-21T14:25:53.560746Z",
     "start_time": "2024-12-21T14:25:53.199418Z"
    }
   },
   "source": [
    "# Most frequent tokens for each tag\n",
    "tag = \"natural-language-processing\"\n",
    "plt.figure(figsize=(10, 3))\n",
    "subset = df[df.tag == tag]\n",
    "text = subset.title.values\n",
    "cloud = WordCloud(\n",
    "    stopwords=STOPWORDS,\n",
    "    background_color=\"black\",\n",
    "    collocations=False,\n",
    "    width=500,\n",
    "    height=300,\n",
    ").generate(\" \".join(text))\n",
    "plt.axis(\"off\")\n",
    "plt.imshow(cloud)"
   ],
   "outputs": [
    {
     "data": {
      "text/plain": [
       "<matplotlib.image.AxesImage at 0x17f89a510>"
      ]
     },
     "execution_count": 16,
     "metadata": {},
     "output_type": "execute_result"
    },
    {
     "data": {
      "text/plain": [
       "<Figure size 1000x300 with 1 Axes>"
      ],
      "image/png": "[encoded data removed]"
     },
     "metadata": {},
     "output_type": "display_data"
    }
   ],
   "execution_count": 16
  },
  {
   "cell_type": "markdown",
   "id": "2ec5a875f0ef2119",
   "metadata": {},
   "source": [
    "Looks like the title text feature has some good signal for the respective classes and matches our intuition. We can repeat this for the description text feature as well. This information will become useful when we decide how to use our features for modeling."
   ]
  },
  {
   "cell_type": "markdown",
   "id": "8e7bc93588d5cc2c",
   "metadata": {},
   "source": [
    "##  Data Preprocessing"
   ]
  },
  {
   "cell_type": "markdown",
   "id": "72205a7bc7d4cc8c",
   "metadata": {},
   "source": [
    "Preprocessing the data via feature engineering, filtering and cleaning. Certain preprocessing steps are global (don't depend on our dataset, ex. lower casing text, removing stop words, etc.) and others are local (constructs are learned only from the training split, ex. vocabulary, standardization, etc.). For the local, dataset-dependent preprocessing steps, we want to ensure that we split the data first before preprocessing to avoid data leaks."
   ]
  },
  {
   "cell_type": "code",
   "id": "44d7649557b34247",
   "metadata": {
    "ExecuteTime": {
     "end_time": "2024-12-21T14:25:53.779662Z",
     "start_time": "2024-12-21T14:25:53.586365Z"
    }
   },
   "source": [
    "import json\n",
    "import re\n",
    "\n",
    "import nltk\n",
    "from nltk.corpus import stopwords\n",
    "from nltk.stem import PorterStemmer"
   ],
   "outputs": [],
   "execution_count": 17
  },
  {
   "cell_type": "markdown",
   "id": "1db558650fe652f4",
   "metadata": {},
   "source": [
    "### Feature engineering"
   ]
  },
  {
   "cell_type": "markdown",
   "id": "a0dda6838facee90",
   "metadata": {},
   "source": [
    "We can combine existing input features to create new meaningful signal (helping the model learn)."
   ]
  },
  {
   "cell_type": "code",
   "id": "34f9a220423b6eb3",
   "metadata": {
    "ExecuteTime": {
     "end_time": "2024-12-21T14:25:53.838963Z",
     "start_time": "2024-12-21T14:25:53.818907Z"
    }
   },
   "source": [
    "df[\"text\"] = df.title + \" \" + df.description\n",
    "df.head(5)"
   ],
   "outputs": [
    {
     "data": {
      "text/plain": [
       "   id           created_on                                              title  \\\n",
       "0   6  2020-02-20 06:43:18  Comparison between YOLO and RCNN on real world...   \n",
       "1   7  2020-02-20 06:47:21  Show, Infer & Tell: Contextual Inference for C...   \n",
       "2   9  2020-02-24 16:24:45                       Awesome Graph Classification   \n",
       "3  15  2020-02-28 23:55:26                    Awesome Monte Carlo Tree Search   \n",
       "4  25  2020-03-07 23:04:31                                      AttentionWalk   \n",
       "\n",
       "                                         description              tag  \\\n",
       "0  Bringing theory to experiment is cool. We can ...  computer-vision   \n",
       "1  The beauty of the work lies in the way it arch...  computer-vision   \n",
       "2  A collection of important graph embedding, cla...            other   \n",
       "3  A curated list of Monte Carlo tree search pape...            other   \n",
       "4  A PyTorch Implementation of \"Watch Your Step: ...            other   \n",
       "\n",
       "                                                text  \n",
       "0  Comparison between YOLO and RCNN on real world...  \n",
       "1  Show, Infer & Tell: Contextual Inference for C...  \n",
       "2  Awesome Graph Classification A collection of i...  \n",
       "3  Awesome Monte Carlo Tree Search A curated list...  \n",
       "4  AttentionWalk A PyTorch Implementation of \"Wat...  "
      ],
      "text/html": [
       "<div>\n",
       "<style scoped>\n",
       "    .dataframe tbody tr th:only-of-type {\n",
       "        vertical-align: middle;\n",
       "    }\n",
       "\n",
       "    .dataframe tbody tr th {\n",
       "        vertical-align: top;\n",
       "    }\n",
       "\n",
       "    .dataframe thead th {\n",
       "        text-align: right;\n",
       "    }\n",
       "</style>\n",
       "<table border=\"1\" class=\"dataframe\">\n",
       "  <thead>\n",
       "    <tr style=\"text-align: right;\">\n",
       "      <th></th>\n",
       "      <th>id</th>\n",
       "      <th>created_on</th>\n",
       "      <th>title</th>\n",
       "      <th>description</th>\n",
       "      <th>tag</th>\n",
       "      <th>text</th>\n",
       "    </tr>\n",
       "  </thead>\n",
       "  <tbody>\n",
       "    <tr>\n",
       "      <th>0</th>\n",
       "      <td>6</td>\n",
       "      <td>2020-02-20 06:43:18</td>\n",
       "      <td>Comparison between YOLO and RCNN on real world...</td>\n",
       "      <td>Bringing theory to experiment is cool. We can ...</td>\n",
       "      <td>computer-vision</td>\n",
       "      <td>Comparison between YOLO and RCNN on real world...</td>\n",
       "    </tr>\n",
       "    <tr>\n",
       "      <th>1</th>\n",
       "      <td>7</td>\n",
       "      <td>2020-02-20 06:47:21</td>\n",
       "      <td>Show, Infer &amp; Tell: Contextual Inference for C...</td>\n",
       "      <td>The beauty of the work lies in the way it arch...</td>\n",
       "      <td>computer-vision</td>\n",
       "      <td>Show, Infer &amp; Tell: Contextual Inference for C...</td>\n",
       "    </tr>\n",
       "    <tr>\n",
       "      <th>2</th>\n",
       "      <td>9</td>\n",
       "      <td>2020-02-24 16:24:45</td>\n",
       "      <td>Awesome Graph Classification</td>\n",
       "      <td>A collection of important graph embedding, cla...</td>\n",
       "      <td>other</td>\n",
       "      <td>Awesome Graph Classification A collection of i...</td>\n",
       "    </tr>\n",
       "    <tr>\n",
       "      <th>3</th>\n",
       "      <td>15</td>\n",
       "      <td>2020-02-28 23:55:26</td>\n",
       "      <td>Awesome Monte Carlo Tree Search</td>\n",
       "      <td>A curated list of Monte Carlo tree search pape...</td>\n",
       "      <td>other</td>\n",
       "      <td>Awesome Monte Carlo Tree Search A curated list...</td>\n",
       "    </tr>\n",
       "    <tr>\n",
       "      <th>4</th>\n",
       "      <td>25</td>\n",
       "      <td>2020-03-07 23:04:31</td>\n",
       "      <td>AttentionWalk</td>\n",
       "      <td>A PyTorch Implementation of \"Watch Your Step: ...</td>\n",
       "      <td>other</td>\n",
       "      <td>AttentionWalk A PyTorch Implementation of \"Wat...</td>\n",
       "    </tr>\n",
       "  </tbody>\n",
       "</table>\n",
       "</div>"
      ]
     },
     "execution_count": 18,
     "metadata": {},
     "output_type": "execute_result"
    }
   ],
   "execution_count": 18
  },
  {
   "cell_type": "markdown",
   "id": "554c1b71f7a27273",
   "metadata": {},
   "source": [
    "### Cleaning"
   ]
  },
  {
   "cell_type": "code",
   "id": "ad74deba445dbbcd",
   "metadata": {
    "ExecuteTime": {
     "end_time": "2024-12-21T14:25:53.977186Z",
     "start_time": "2024-12-21T14:25:53.892320Z"
    }
   },
   "source": [
    "nltk.download(\"stopwords\")\n",
    "STOPWORDS = stopwords.words(\"english\")"
   ],
   "outputs": [
    {
     "name": "stderr",
     "output_type": "stream",
     "text": [
      "[nltk_data] Downloading package stopwords to\n",
      "[nltk_data]     /Users/monkey/nltk_data...\n",
      "[nltk_data]   Package stopwords is already up-to-date!\n"
     ]
    }
   ],
   "execution_count": 19
  },
  {
   "cell_type": "code",
   "id": "b361cbe9a4824eda",
   "metadata": {
    "ExecuteTime": {
     "end_time": "2024-12-21T14:25:54.063399Z",
     "start_time": "2024-12-21T14:25:54.045233Z"
    }
   },
   "source": [
    "def clean_text(text, stopwords=STOPWORDS):\n",
    "    \"\"\"Clean raw text string\"\"\"\n",
    "    # Lower\n",
    "    text = text.lower()\n",
    "\n",
    "    # Remove stopwords\n",
    "    pattern = re.compile(r\"\\b(\" + r\"|\".join(stopwords) + r\")\\b\\s*\")\n",
    "    text = pattern.sub(\"\", text)\n",
    "\n",
    "    # Spacing and filters\n",
    "    text = re.sub(\n",
    "        r\"([!\\\"'#$%&()*\\+,-./:;<=>?@\\\\\\[\\]^_`{|}~])\", r\" \\1 \", text\n",
    "    )  # add spacing\n",
    "    text = re.sub(\"[^A-Za-z0-9]+\", \" \", text)  # remove non alphanumeric chars\n",
    "    text = re.sub(\" +\", \" \", text)  # remove multiple spaces\n",
    "    text = text.strip()  # strip white space at the ends\n",
    "    text = re.sub(r\"http\\S+\", \"\", text)  #  remove links\n",
    "\n",
    "    return text"
   ],
   "outputs": [],
   "execution_count": 20
  },
  {
   "cell_type": "code",
   "id": "30b12e7556e616d5",
   "metadata": {
    "ExecuteTime": {
     "end_time": "2024-12-21T14:25:54.174593Z",
     "start_time": "2024-12-21T14:25:54.119213Z"
    }
   },
   "source": [
    "# Apply to dataframe\n",
    "original_df = df.copy()\n",
    "df.text = df.text.apply(clean_text)\n",
    "print(f\"{original_df.text.values[0]}\\n{df.text.values[0]}\")"
   ],
   "outputs": [
    {
     "name": "stdout",
     "output_type": "stream",
     "text": [
      "Comparison between YOLO and RCNN on real world videos Bringing theory to experiment is cool. We can easily train models in colab and find the results in minutes.\n",
      "comparison yolo rcnn real world videos bringing theory experiment cool easily train models colab find results minutes\n"
     ]
    }
   ],
   "execution_count": 21
  },
  {
   "cell_type": "code",
   "id": "976caeb34b9c6a0a",
   "metadata": {
    "ExecuteTime": {
     "end_time": "2024-12-21T14:25:54.246793Z",
     "start_time": "2024-12-21T14:25:54.227301Z"
    }
   },
   "source": [
    "# DataFrame cleanup\n",
    "df = df.drop(\n",
    "    columns=[\"id\", \"created_on\", \"title\", \"description\"], errors=\"ignore\"\n",
    ")  # drop cols\n",
    "df = df.dropna(subset=[\"tag\"])  # drop nulls\n",
    "df = df[[\"text\", \"tag\"]]  # rearrange cols\n",
    "df.head()"
   ],
   "outputs": [
    {
     "data": {
      "text/plain": [
       "                                                text              tag\n",
       "0  comparison yolo rcnn real world videos bringin...  computer-vision\n",
       "1  show infer tell contextual inference creative ...  computer-vision\n",
       "2  awesome graph classification collection import...            other\n",
       "3  awesome monte carlo tree search curated list m...            other\n",
       "4  attentionwalk pytorch implementation watch ste...            other"
      ],
      "text/html": [
       "<div>\n",
       "<style scoped>\n",
       "    .dataframe tbody tr th:only-of-type {\n",
       "        vertical-align: middle;\n",
       "    }\n",
       "\n",
       "    .dataframe tbody tr th {\n",
       "        vertical-align: top;\n",
       "    }\n",
       "\n",
       "    .dataframe thead th {\n",
       "        text-align: right;\n",
       "    }\n",
       "</style>\n",
       "<table border=\"1\" class=\"dataframe\">\n",
       "  <thead>\n",
       "    <tr style=\"text-align: right;\">\n",
       "      <th></th>\n",
       "      <th>text</th>\n",
       "      <th>tag</th>\n",
       "    </tr>\n",
       "  </thead>\n",
       "  <tbody>\n",
       "    <tr>\n",
       "      <th>0</th>\n",
       "      <td>comparison yolo rcnn real world videos bringin...</td>\n",
       "      <td>computer-vision</td>\n",
       "    </tr>\n",
       "    <tr>\n",
       "      <th>1</th>\n",
       "      <td>show infer tell contextual inference creative ...</td>\n",
       "      <td>computer-vision</td>\n",
       "    </tr>\n",
       "    <tr>\n",
       "      <th>2</th>\n",
       "      <td>awesome graph classification collection import...</td>\n",
       "      <td>other</td>\n",
       "    </tr>\n",
       "    <tr>\n",
       "      <th>3</th>\n",
       "      <td>awesome monte carlo tree search curated list m...</td>\n",
       "      <td>other</td>\n",
       "    </tr>\n",
       "    <tr>\n",
       "      <th>4</th>\n",
       "      <td>attentionwalk pytorch implementation watch ste...</td>\n",
       "      <td>other</td>\n",
       "    </tr>\n",
       "  </tbody>\n",
       "</table>\n",
       "</div>"
      ]
     },
     "execution_count": 22,
     "metadata": {},
     "output_type": "execute_result"
    }
   ],
   "execution_count": 22
  },
  {
   "cell_type": "markdown",
   "id": "d91f5e748dc1f263",
   "metadata": {},
   "source": [
    "### Encoding"
   ]
  },
  {
   "cell_type": "markdown",
   "id": "380596b9b98c4f92",
   "metadata": {},
   "source": [
    "We need to encode our data into numerical values so that our models can process them. We'll start by encoding our text labels into unique indices."
   ]
  },
  {
   "cell_type": "code",
   "id": "ee58befa2f5827f5",
   "metadata": {
    "ExecuteTime": {
     "end_time": "2024-12-21T14:25:54.306911Z",
     "start_time": "2024-12-21T14:25:54.288050Z"
    }
   },
   "source": [
    "# Label to index\n",
    "tags = train_df.tag.unique().tolist()\n",
    "num_classes = len(tags)\n",
    "class_to_index = {tag: i for i, tag in enumerate(tags)}\n",
    "class_to_index"
   ],
   "outputs": [
    {
     "data": {
      "text/plain": [
       "{'mlops': 0,\n",
       " 'natural-language-processing': 1,\n",
       " 'computer-vision': 2,\n",
       " 'other': 3}"
      ]
     },
     "execution_count": 23,
     "metadata": {},
     "output_type": "execute_result"
    }
   ],
   "execution_count": 23
  },
  {
   "cell_type": "code",
   "id": "36317b38c6667660",
   "metadata": {
    "ExecuteTime": {
     "end_time": "2024-12-21T14:25:54.402560Z",
     "start_time": "2024-12-21T14:25:54.383197Z"
    }
   },
   "source": [
    "# Encode labels\n",
    "df[\"tag\"] = df[\"tag\"].map(class_to_index)\n",
    "df.head()"
   ],
   "outputs": [
    {
     "data": {
      "text/plain": [
       "                                                text  tag\n",
       "0  comparison yolo rcnn real world videos bringin...    2\n",
       "1  show infer tell contextual inference creative ...    2\n",
       "2  awesome graph classification collection import...    3\n",
       "3  awesome monte carlo tree search curated list m...    3\n",
       "4  attentionwalk pytorch implementation watch ste...    3"
      ],
      "text/html": [
       "<div>\n",
       "<style scoped>\n",
       "    .dataframe tbody tr th:only-of-type {\n",
       "        vertical-align: middle;\n",
       "    }\n",
       "\n",
       "    .dataframe tbody tr th {\n",
       "        vertical-align: top;\n",
       "    }\n",
       "\n",
       "    .dataframe thead th {\n",
       "        text-align: right;\n",
       "    }\n",
       "</style>\n",
       "<table border=\"1\" class=\"dataframe\">\n",
       "  <thead>\n",
       "    <tr style=\"text-align: right;\">\n",
       "      <th></th>\n",
       "      <th>text</th>\n",
       "      <th>tag</th>\n",
       "    </tr>\n",
       "  </thead>\n",
       "  <tbody>\n",
       "    <tr>\n",
       "      <th>0</th>\n",
       "      <td>comparison yolo rcnn real world videos bringin...</td>\n",
       "      <td>2</td>\n",
       "    </tr>\n",
       "    <tr>\n",
       "      <th>1</th>\n",
       "      <td>show infer tell contextual inference creative ...</td>\n",
       "      <td>2</td>\n",
       "    </tr>\n",
       "    <tr>\n",
       "      <th>2</th>\n",
       "      <td>awesome graph classification collection import...</td>\n",
       "      <td>3</td>\n",
       "    </tr>\n",
       "    <tr>\n",
       "      <th>3</th>\n",
       "      <td>awesome monte carlo tree search curated list m...</td>\n",
       "      <td>3</td>\n",
       "    </tr>\n",
       "    <tr>\n",
       "      <th>4</th>\n",
       "      <td>attentionwalk pytorch implementation watch ste...</td>\n",
       "      <td>3</td>\n",
       "    </tr>\n",
       "  </tbody>\n",
       "</table>\n",
       "</div>"
      ]
     },
     "execution_count": 24,
     "metadata": {},
     "output_type": "execute_result"
    }
   ],
   "execution_count": 24
  },
  {
   "cell_type": "code",
   "id": "155fa52c9bc90b4c",
   "metadata": {
    "ExecuteTime": {
     "end_time": "2024-12-21T14:25:54.560053Z",
     "start_time": "2024-12-21T14:25:54.542079Z"
    }
   },
   "source": [
    "def decode(indices, index_to_class):\n",
    "    return [index_to_class[index] for index in indices]"
   ],
   "outputs": [],
   "execution_count": 25
  },
  {
   "cell_type": "code",
   "id": "81f139f01ba9a81e",
   "metadata": {
    "ExecuteTime": {
     "end_time": "2024-12-21T14:25:54.626415Z",
     "start_time": "2024-12-21T14:25:54.608398Z"
    }
   },
   "source": [
    "index_to_class = {v: k for k, v in class_to_index.items()}\n",
    "decode(df.head()[\"tag\"].values, index_to_class=index_to_class)"
   ],
   "outputs": [
    {
     "data": {
      "text/plain": [
       "['computer-vision', 'computer-vision', 'other', 'other', 'other']"
      ]
     },
     "execution_count": 26,
     "metadata": {},
     "output_type": "execute_result"
    }
   ],
   "execution_count": 26
  },
  {
   "cell_type": "markdown",
   "id": "25286702f262e506",
   "metadata": {},
   "source": [
    "### Tokenize"
   ]
  },
  {
   "cell_type": "markdown",
   "id": "821240635e447f11",
   "metadata": {},
   "source": [
    "Next we'll encode our text as well. Instead of using a random dictionary, we'll use a tokenizer that was used for a pretrained LLM (scibert) to tokenize our text. We'll be fine-tuning this exact model later when we train our model."
   ]
  },
  {
   "cell_type": "code",
   "id": "45587b2bbb204e5c",
   "metadata": {
    "ExecuteTime": {
     "end_time": "2024-12-21T14:25:55.725797Z",
     "start_time": "2024-12-21T14:25:54.711218Z"
    }
   },
   "source": [
    "import numpy as np\n",
    "from transformers import BertTokenizer"
   ],
   "outputs": [],
   "execution_count": 27
  },
  {
   "cell_type": "code",
   "id": "f2d70a938f41495",
   "metadata": {
    "ExecuteTime": {
     "end_time": "2024-12-21T14:25:56.101727Z",
     "start_time": "2024-12-21T14:25:55.737603Z"
    }
   },
   "source": [
    "# Bert tokenizer\n",
    "tokenizer = BertTokenizer.from_pretrained(\n",
    "    \"allenai/scibert_scivocab_uncased\", return_dict=False\n",
    ")\n",
    "text = \"Transfer learning with transformers for text classification.\"\n",
    "encoded_inputs = tokenizer(\n",
    "    [text], return_tensors=\"np\", padding=\"longest\"\n",
    ")  # pad to longest item in batch\n",
    "print(\"input_ids:\", encoded_inputs[\"input_ids\"])\n",
    "print(\"attention_mask:\", encoded_inputs[\"attention_mask\"])\n",
    "print(tokenizer.decode(encoded_inputs[\"input_ids\"][0]))"
   ],
   "outputs": [
    {
     "name": "stdout",
     "output_type": "stream",
     "text": [
      "input_ids: [[  102  2268  1904   190 29155   168  3267  2998   205   103]]\n",
      "attention_mask: [[1 1 1 1 1 1 1 1 1 1]]\n",
      "[CLS] transfer learning with transformers for text classification. [SEP]\n"
     ]
    }
   ],
   "execution_count": 28
  },
  {
   "cell_type": "code",
   "id": "ea7ea85a916d166d",
   "metadata": {
    "ExecuteTime": {
     "end_time": "2024-12-21T14:25:56.134763Z",
     "start_time": "2024-12-21T14:25:56.111427Z"
    }
   },
   "source": [
    "def tokenize(batch):\n",
    "    tokenizer = BertTokenizer.from_pretrained(\n",
    "        \"allenai/scibert_scivocab_uncased\", return_dict=False\n",
    "    )\n",
    "    encoded_inputs = tokenizer(\n",
    "        batch[\"text\"].tolist(), return_tensors=\"np\", padding=\"longest\"\n",
    "    )\n",
    "    return dict(\n",
    "        ids=encoded_inputs[\"input_ids\"],\n",
    "        masks=encoded_inputs[\"attention_mask\"],\n",
    "        targets=np.array(batch[\"tag\"]),\n",
    "    )"
   ],
   "outputs": [],
   "execution_count": 29
  },
  {
   "cell_type": "code",
   "id": "a6a228498512277d",
   "metadata": {
    "ExecuteTime": {
     "end_time": "2024-12-21T14:25:56.405503Z",
     "start_time": "2024-12-21T14:25:56.142771Z"
    }
   },
   "source": [
    "# Tokenization\n",
    "tokenize(df.head(1))"
   ],
   "outputs": [
    {
     "data": {
      "text/plain": [
       "{'ids': array([[  102,  2029,  1778,   609,  6446,  4857,  1332,  2399, 13572,\n",
       "         19125,  1983,  1954,  6240,  3717,  7434,  1262,   537,   201,\n",
       "          1040,   545,  4714,   103]]),\n",
       " 'masks': array([[1, 1, 1, 1, 1, 1, 1, 1, 1, 1, 1, 1, 1, 1, 1, 1, 1, 1, 1, 1, 1, 1]]),\n",
       " 'targets': array([2])}"
      ]
     },
     "execution_count": 30,
     "metadata": {},
     "output_type": "execute_result"
    }
   ],
   "execution_count": 30
  },
  {
   "cell_type": "markdown",
   "id": "46bdc561448a757b",
   "metadata": {},
   "source": [
    "We'll combine all of our preprocessing steps into function:"
   ]
  },
  {
   "cell_type": "code",
   "id": "fa39fcbe4d864579",
   "metadata": {
    "ExecuteTime": {
     "end_time": "2024-12-21T14:25:56.436159Z",
     "start_time": "2024-12-21T14:25:56.412906Z"
    }
   },
   "source": [
    "def preprocess(df, class_to_index):\n",
    "    \"\"\"Preprocess the data.\"\"\"\n",
    "    df[\"text\"] = df.title + \" \" + df.description  # feature engineering\n",
    "    df[\"text\"] = df.text.apply(clean_text)  # clean text\n",
    "    df = df.drop(\n",
    "        columns=[\"id\", \"created_on\", \"title\", \"description\"], errors=\"ignore\"\n",
    "    )  # clean dataframe\n",
    "    df = df[[\"text\", \"tag\"]]  # rearrange columns\n",
    "    df[\"tag\"] = df[\"tag\"].map(class_to_index)  # label encoding\n",
    "    outputs = tokenize(df)\n",
    "    return outputs"
   ],
   "outputs": [],
   "execution_count": 31
  },
  {
   "cell_type": "code",
   "id": "177fbf834ad7eac7",
   "metadata": {
    "ExecuteTime": {
     "end_time": "2024-12-21T14:25:56.852640Z",
     "start_time": "2024-12-21T14:25:56.452184Z"
    }
   },
   "source": [
    "# Apply\n",
    "preprocess(df=train_df, class_to_index=class_to_index)"
   ],
   "outputs": [
    {
     "data": {
      "text/plain": [
       "{'ids': array([[  102,   856,   532, ...,     0,     0,     0],\n",
       "        [  102,  2177, 29155, ...,     0,     0,     0],\n",
       "        [  102,  2180,  3241, ...,     0,     0,     0],\n",
       "        ...,\n",
       "        [  102,   453,  2068, ...,  5730,   432,   103],\n",
       "        [  102, 11268,  1782, ...,     0,     0,     0],\n",
       "        [  102,  1596,   122, ...,     0,     0,     0]]),\n",
       " 'masks': array([[1, 1, 1, ..., 0, 0, 0],\n",
       "        [1, 1, 1, ..., 0, 0, 0],\n",
       "        [1, 1, 1, ..., 0, 0, 0],\n",
       "        ...,\n",
       "        [1, 1, 1, ..., 1, 1, 1],\n",
       "        [1, 1, 1, ..., 0, 0, 0],\n",
       "        [1, 1, 1, ..., 0, 0, 0]]),\n",
       " 'targets': array([0, 1, 1, 1, 1, 2, 1, 2, 3, 1, 2, 2, 1, 1, 2, 2, 2, 2, 1, 2, 0, 1,\n",
       "        1, 1, 1, 1, 2, 1, 2, 0, 3, 2, 0, 1, 1, 1, 1, 2, 1, 1, 0, 2, 3, 3,\n",
       "        3, 0, 2, 1, 3, 3, 1, 1, 1, 1, 2, 1, 2, 2, 2, 3, 2, 1, 1, 3, 1, 0,\n",
       "        1, 2, 2, 2, 3, 2, 3, 2, 3, 2, 1, 1, 3, 3, 3, 1, 1, 2, 3, 0, 1, 1,\n",
       "        1, 1, 3, 3, 0, 2, 3, 2, 2, 1, 1, 3, 2, 3, 1, 1, 1, 1, 2, 0, 0, 2,\n",
       "        1, 1, 2, 2, 1, 1, 0, 3, 1, 2, 2, 1, 0, 2, 3, 1, 3, 1, 2, 3, 1, 1,\n",
       "        3, 3, 2, 1, 1, 0, 1, 3, 1, 1, 2, 2, 0, 0, 2, 1, 1, 1, 2, 3, 2, 1,\n",
       "        1, 2, 0, 1, 1, 3, 2, 1, 1, 2, 1, 2, 3, 1, 2, 2, 1, 2, 1, 2, 1, 3,\n",
       "        2, 2, 0, 1, 2, 2, 1, 2, 2, 1, 3, 2, 2, 1, 2, 2, 3, 2, 1, 1, 1, 1,\n",
       "        2, 2, 2, 0, 2, 1, 0, 2, 1, 3, 1, 1, 1, 1, 2, 1, 3, 3, 2, 1, 0, 1,\n",
       "        2, 0, 2, 2, 3, 1, 1, 2, 1, 1, 1, 1, 1, 2, 1, 1, 2, 1, 2, 2, 1, 2,\n",
       "        0, 2, 2, 1, 1, 2, 2, 2, 2, 2, 1, 1, 2, 3, 2, 1, 0, 2, 1, 2, 2, 1,\n",
       "        1, 2, 1, 2, 2, 1, 1, 2, 1, 2, 2, 2, 3, 2, 1, 2, 0, 2, 2, 1, 2, 3,\n",
       "        2, 1, 1, 1, 1, 1, 2, 1, 1, 2, 1, 2, 3, 2, 1, 2, 2, 2, 1, 2, 2, 2,\n",
       "        2, 1, 1, 2, 2, 1, 2, 2, 2, 2, 1, 1, 2, 1, 2, 2, 1, 3, 3, 0, 1, 3,\n",
       "        0, 2, 1, 1, 1, 1, 1, 0, 2, 1, 3, 2, 1, 2, 2, 1, 1, 3, 0, 3, 3, 2,\n",
       "        1, 1, 3, 3, 2, 3, 1, 1, 3, 1, 0, 1, 1, 1, 3, 0, 2, 2, 2, 1, 1, 2,\n",
       "        2, 1, 3, 2, 0, 1, 1, 1, 2, 1, 1, 1, 2, 1, 1, 2, 0, 3, 0, 1, 2, 1,\n",
       "        3, 2, 3, 2, 2, 0, 2, 3, 2, 2, 2, 1, 2, 1, 1, 1, 2, 1, 1, 1, 1, 1,\n",
       "        2, 2, 1, 2, 1, 1, 2, 2, 3, 1, 2, 2, 3, 2, 1, 1, 2, 0, 2, 0, 1, 1,\n",
       "        2, 1, 1, 3, 1, 1, 1, 1, 1, 3, 1, 2, 1, 0, 3, 1, 3, 2, 2, 1, 1, 3,\n",
       "        2, 1, 2, 1, 3, 1, 2, 2, 1, 2, 2, 2, 1, 0, 3, 2, 1, 3, 1, 1, 2, 1,\n",
       "        2, 2, 0, 1, 2, 1, 2, 2, 3, 1, 1, 2, 2, 1, 2, 2, 0, 0, 1, 2, 1, 1,\n",
       "        2, 1, 1, 2, 1, 1, 3, 2, 3, 1, 2, 2, 3, 0, 1, 1, 2, 1, 2, 1, 1, 1,\n",
       "        1, 1, 2, 1, 3, 1, 0, 2, 1, 3, 1, 2, 2, 1, 0, 2, 3, 2, 3, 2, 1, 1,\n",
       "        1, 2, 1, 2, 1, 2, 1, 3, 2, 2, 2, 2, 2, 1, 2, 0, 1, 0, 1, 2, 2, 1,\n",
       "        2, 3, 2, 1, 2, 2, 2, 3, 1, 3, 2, 1, 2, 2, 2, 1, 3, 1, 1, 2, 2, 1,\n",
       "        2, 3, 2, 2, 0, 1, 2, 2, 2, 0, 1, 2, 1, 3, 0, 2, 3])}"
      ]
     },
     "execution_count": 32,
     "metadata": {},
     "output_type": "execute_result"
    }
   ],
   "execution_count": 32
  },
  {
   "cell_type": "markdown",
   "id": "eadf6cc0139a9d2e",
   "metadata": {},
   "source": [
    "## Distributed Data Processing"
   ]
  },
  {
   "cell_type": "markdown",
   "id": "81aabe62adea7997",
   "metadata": {},
   "source": [
    "The main issue with our approach above is that we're limited by our single machine in terms how much data our dataframe can hold and that we can preprocess. With the increasing trend in ML for larger unstructured datasets and larger models (LLMs), we can quickly outgrow our single machine constraints and will need to go distributed."
   ]
  },
  {
   "cell_type": "code",
   "id": "2676b9cb978f1ae9",
   "metadata": {
    "ExecuteTime": {
     "end_time": "2024-12-21T14:25:57.696970Z",
     "start_time": "2024-12-21T14:25:56.874397Z"
    }
   },
   "source": [
    "from scripts.data import stratify_split"
   ],
   "outputs": [],
   "execution_count": 33
  },
  {
   "cell_type": "code",
   "id": "44ad0e619281eb0d",
   "metadata": {
    "ExecuteTime": {
     "end_time": "2024-12-21T14:25:57.757726Z",
     "start_time": "2024-12-21T14:25:57.728748Z"
    }
   },
   "source": [
    "ray.data.DatasetContext.get_current().execution_options.preserve_order = True"
   ],
   "outputs": [],
   "execution_count": 34
  },
  {
   "cell_type": "code",
   "id": "3f1e11b87326c2c0",
   "metadata": {
    "ExecuteTime": {
     "end_time": "2024-12-21T14:25:59.795190Z",
     "start_time": "2024-12-21T14:25:57.826548Z"
    }
   },
   "source": [
    "# Data ingestion\n",
    "ds = ray.data.read_csv(DATASET_LOC)\n",
    "ds = ds.random_shuffle(seed=1234)\n",
    "ds.take(1)"
   ],
   "outputs": [
    {
     "name": "stderr",
     "output_type": "stream",
     "text": [
      "2024-12-21 15:25:58,227\tINFO dataset.py:2631 -- Tip: Use `take_batch()` instead of `take() / show()` to return records in pandas or numpy batch format.\n",
      "2024-12-21 15:25:58,234\tINFO streaming_executor.py:108 -- Starting execution of Dataset. Full logs are in /tmp/ray/session_2024-12-21_15-25-50_415018_4417/logs/ray-data\n",
      "2024-12-21 15:25:58,234\tINFO streaming_executor.py:109 -- Execution plan of Dataset: InputDataBuffer[Input] -> TaskPoolMapOperator[ReadCSV] -> AllToAllOperator[RandomShuffle] -> LimitOperator[limit=1]\n"
     ]
    },
    {
     "data": {
      "text/plain": [
       "Running 0: 0.00 row [00:00, ? row/s]"
      ],
      "application/vnd.jupyter.widget-view+json": {
       "version_major": 2,
       "version_minor": 0,
       "model_id": "d178f0e0a15d4da687a19761404ed016"
      }
     },
     "metadata": {},
     "output_type": "display_data"
    },
    {
     "data": {
      "text/plain": [
       "- ReadCSV->SplitBlocks(20) 1: 0.00 row [00:00, ? row/s]"
      ],
      "application/vnd.jupyter.widget-view+json": {
       "version_major": 2,
       "version_minor": 0,
       "model_id": "d514fed899d945f0a93ab0733c01813a"
      }
     },
     "metadata": {},
     "output_type": "display_data"
    },
    {
     "data": {
      "text/plain": [
       "- RandomShuffle 2: 0.00 row [00:00, ? row/s]"
      ],
      "application/vnd.jupyter.widget-view+json": {
       "version_major": 2,
       "version_minor": 0,
       "model_id": "ef92d7bb2721404bbb36d7deb33d02b5"
      }
     },
     "metadata": {},
     "output_type": "display_data"
    },
    {
     "data": {
      "text/plain": [
       "Shuffle Map 3:   0%|          | 0.00/1.00 [00:00<?, ? row/s]"
      ],
      "application/vnd.jupyter.widget-view+json": {
       "version_major": 2,
       "version_minor": 0,
       "model_id": "3fac06ccb36b46c9912e54165f23b925"
      }
     },
     "metadata": {},
     "output_type": "display_data"
    },
    {
     "data": {
      "text/plain": [
       "Shuffle Reduce 4:   0%|          | 0.00/1.00 [00:00<?, ? row/s]"
      ],
      "application/vnd.jupyter.widget-view+json": {
       "version_major": 2,
       "version_minor": 0,
       "model_id": "a4d313f5496c4388b7bf9b9f8d5aab62"
      }
     },
     "metadata": {},
     "output_type": "display_data"
    },
    {
     "data": {
      "text/plain": [
       "- limit=1 5: 0.00 row [00:00, ? row/s]"
      ],
      "application/vnd.jupyter.widget-view+json": {
       "version_major": 2,
       "version_minor": 0,
       "model_id": "c40f0e2423c14a6880bf3acc72696135"
      }
     },
     "metadata": {},
     "output_type": "display_data"
    },
    {
     "data": {
      "text/plain": [
       "[{'id': 549,\n",
       "  'created_on': datetime.datetime(2020, 4, 16, 3, 48, 35),\n",
       "  'title': '15 Best Tools for Tracking Machine Learning Experiments',\n",
       "  'description': 'A feature comparison of all the open-source and commercial options for experiment tracking.',\n",
       "  'tag': 'mlops'}]"
      ]
     },
     "execution_count": 35,
     "metadata": {},
     "output_type": "execute_result"
    }
   ],
   "execution_count": 35
  },
  {
   "cell_type": "code",
   "id": "7a02ad1705028cfe",
   "metadata": {
    "ExecuteTime": {
     "end_time": "2024-12-21T14:25:59.907342Z",
     "start_time": "2024-12-21T14:25:59.866859Z"
    }
   },
   "source": [
    "# Split dataset\n",
    "test_size = 0.2\n",
    "train_ds, val_ds = stratify_split(ds, stratify=\"tag\", test_size=test_size)"
   ],
   "outputs": [],
   "execution_count": 36
  },
  {
   "cell_type": "code",
   "id": "b2224f802323f48e",
   "metadata": {
    "ExecuteTime": {
     "end_time": "2024-12-21T14:26:01.543212Z",
     "start_time": "2024-12-21T14:26:00.037791Z"
    }
   },
   "source": [
    "# Mapping\n",
    "tags = train_ds.unique(column=\"tag\")\n",
    "class_to_index = {tag: i for i, tag in enumerate(tags)}"
   ],
   "outputs": [
    {
     "name": "stderr",
     "output_type": "stream",
     "text": [
      "2024-12-21 15:26:00,072\tINFO streaming_executor.py:108 -- Starting execution of Dataset. Full logs are in /tmp/ray/session_2024-12-21_15-25-50_415018_4417/logs/ray-data\n",
      "2024-12-21 15:26:00,073\tINFO streaming_executor.py:109 -- Execution plan of Dataset: InputDataBuffer[Input] -> TaskPoolMapOperator[ReadCSV] -> AllToAllOperator[RandomShuffle] -> AllToAllOperator[Sort] -> AllToAllOperator[MapBatches(_add_split)->MapBatches(_filter_split)->RandomShuffle] -> TaskPoolMapOperator[Project] -> AllToAllOperator[Aggregate]\n"
     ]
    },
    {
     "data": {
      "text/plain": [
       "Running 0: 0.00 row [00:00, ? row/s]"
      ],
      "application/vnd.jupyter.widget-view+json": {
       "version_major": 2,
       "version_minor": 0,
       "model_id": "3150edf61b99424893eeb4583c62f505"
      }
     },
     "metadata": {},
     "output_type": "display_data"
    },
    {
     "data": {
      "text/plain": [
       "- ReadCSV->SplitBlocks(20) 1: 0.00 row [00:00, ? row/s]"
      ],
      "application/vnd.jupyter.widget-view+json": {
       "version_major": 2,
       "version_minor": 0,
       "model_id": "2aed3ae6ba89400ea363ab1e19671bd0"
      }
     },
     "metadata": {},
     "output_type": "display_data"
    },
    {
     "data": {
      "text/plain": [
       "- RandomShuffle 2: 0.00 row [00:00, ? row/s]"
      ],
      "application/vnd.jupyter.widget-view+json": {
       "version_major": 2,
       "version_minor": 0,
       "model_id": "c89de553dc2d4e0984cadc060a322d9d"
      }
     },
     "metadata": {},
     "output_type": "display_data"
    },
    {
     "data": {
      "text/plain": [
       "Shuffle Map 3:   0%|          | 0.00/1.00 [00:00<?, ? row/s]"
      ],
      "application/vnd.jupyter.widget-view+json": {
       "version_major": 2,
       "version_minor": 0,
       "model_id": "d8cb858ea9b2426a8c2c4f3f09c5edd8"
      }
     },
     "metadata": {},
     "output_type": "display_data"
    },
    {
     "data": {
      "text/plain": [
       "Shuffle Reduce 4:   0%|          | 0.00/1.00 [00:00<?, ? row/s]"
      ],
      "application/vnd.jupyter.widget-view+json": {
       "version_major": 2,
       "version_minor": 0,
       "model_id": "55977a21d4c344cd88b89256391ac9db"
      }
     },
     "metadata": {},
     "output_type": "display_data"
    },
    {
     "data": {
      "text/plain": [
       "- Sort 5: 0.00 row [00:00, ? row/s]"
      ],
      "application/vnd.jupyter.widget-view+json": {
       "version_major": 2,
       "version_minor": 0,
       "model_id": "a19713d4e8fc42f089bea56daced875d"
      }
     },
     "metadata": {},
     "output_type": "display_data"
    },
    {
     "data": {
      "text/plain": [
       "Sort Sample 6:   0%|          | 0.00/1.00 [00:00<?, ? row/s]"
      ],
      "application/vnd.jupyter.widget-view+json": {
       "version_major": 2,
       "version_minor": 0,
       "model_id": "544351756c4940f7b8fac6675e8b041a"
      }
     },
     "metadata": {},
     "output_type": "display_data"
    },
    {
     "data": {
      "text/plain": [
       "Shuffle Map 7:   0%|          | 0.00/1.00 [00:00<?, ? row/s]"
      ],
      "application/vnd.jupyter.widget-view+json": {
       "version_major": 2,
       "version_minor": 0,
       "model_id": "353886039203469f852deef1d10fd7cb"
      }
     },
     "metadata": {},
     "output_type": "display_data"
    },
    {
     "data": {
      "text/plain": [
       "Shuffle Reduce 8:   0%|          | 0.00/1.00 [00:00<?, ? row/s]"
      ],
      "application/vnd.jupyter.widget-view+json": {
       "version_major": 2,
       "version_minor": 0,
       "model_id": "2810a468d119468985ef16dc6303cb19"
      }
     },
     "metadata": {},
     "output_type": "display_data"
    },
    {
     "data": {
      "text/plain": [
       "- MapBatches(_add_split)->MapBatches(_filter_split)->RandomShuffle 9: 0.00 row [00:00, ? row/s]"
      ],
      "application/vnd.jupyter.widget-view+json": {
       "version_major": 2,
       "version_minor": 0,
       "model_id": "71807b8bc4f844a3b507f723221376d7"
      }
     },
     "metadata": {},
     "output_type": "display_data"
    },
    {
     "data": {
      "text/plain": [
       "Shuffle Map 10:   0%|          | 0.00/1.00 [00:00<?, ? row/s]"
      ],
      "application/vnd.jupyter.widget-view+json": {
       "version_major": 2,
       "version_minor": 0,
       "model_id": "40b80e667c8e4c83bee96acc217de71c"
      }
     },
     "metadata": {},
     "output_type": "display_data"
    },
    {
     "data": {
      "text/plain": [
       "Shuffle Reduce 11:   0%|          | 0.00/1.00 [00:00<?, ? row/s]"
      ],
      "application/vnd.jupyter.widget-view+json": {
       "version_major": 2,
       "version_minor": 0,
       "model_id": "887d55accd9741f2b2c0fec343e3dc1c"
      }
     },
     "metadata": {},
     "output_type": "display_data"
    },
    {
     "data": {
      "text/plain": [
       "- Project 12: 0.00 row [00:00, ? row/s]"
      ],
      "application/vnd.jupyter.widget-view+json": {
       "version_major": 2,
       "version_minor": 0,
       "model_id": "c7d965b56a894972b357cdbba382150f"
      }
     },
     "metadata": {},
     "output_type": "display_data"
    },
    {
     "data": {
      "text/plain": [
       "- Aggregate 13: 0.00 row [00:00, ? row/s]"
      ],
      "application/vnd.jupyter.widget-view+json": {
       "version_major": 2,
       "version_minor": 0,
       "model_id": "9a236ef76b8340f8a985ad91e8872762"
      }
     },
     "metadata": {},
     "output_type": "display_data"
    },
    {
     "data": {
      "text/plain": [
       "Sort Sample 14:   0%|          | 0.00/1.00 [00:00<?, ? row/s]"
      ],
      "application/vnd.jupyter.widget-view+json": {
       "version_major": 2,
       "version_minor": 0,
       "model_id": "c504d53005bf4f3891a34806b3976aee"
      }
     },
     "metadata": {},
     "output_type": "display_data"
    },
    {
     "data": {
      "text/plain": [
       "Shuffle Map 15:   0%|          | 0.00/1.00 [00:00<?, ? row/s]"
      ],
      "application/vnd.jupyter.widget-view+json": {
       "version_major": 2,
       "version_minor": 0,
       "model_id": "e9b4a2288be643ec92675b83e808035c"
      }
     },
     "metadata": {},
     "output_type": "display_data"
    },
    {
     "data": {
      "text/plain": [
       "Shuffle Reduce 16:   0%|          | 0.00/1.00 [00:00<?, ? row/s]"
      ],
      "application/vnd.jupyter.widget-view+json": {
       "version_major": 2,
       "version_minor": 0,
       "model_id": "866ae5232b214b4d84996aaf520e0b06"
      }
     },
     "metadata": {},
     "output_type": "display_data"
    },
    {
     "name": "stderr",
     "output_type": "stream",
     "text": [
      "2024-12-21 15:26:00,160\tWARNING progress_bar.py:120 -- Truncating long operator name to 100 characters. To disable this behavior, set `ray.data.DataContext.get_current().DEFAULT_ENABLE_PROGRESS_BAR_NAME_TRUNCATION = False`.\n"
     ]
    }
   ],
   "execution_count": 37
  },
  {
   "cell_type": "code",
   "id": "3a11c729f23ef7fb",
   "metadata": {
    "ExecuteTime": {
     "end_time": "2024-12-21T14:26:04.541429Z",
     "start_time": "2024-12-21T14:26:01.864989Z"
    }
   },
   "source": [
    "# Distributed preprocessing\n",
    "sample_ds = train_ds.map_batches(\n",
    "    preprocess, fn_kwargs={\"class_to_index\": class_to_index}, batch_format=\"pandas\"\n",
    ")\n",
    "sample_ds.show(1)"
   ],
   "outputs": [
    {
     "name": "stderr",
     "output_type": "stream",
     "text": [
      "2024-12-21 15:26:01,901\tINFO streaming_executor.py:108 -- Starting execution of Dataset. Full logs are in /tmp/ray/session_2024-12-21_15-25-50_415018_4417/logs/ray-data\n",
      "2024-12-21 15:26:01,902\tINFO streaming_executor.py:109 -- Execution plan of Dataset: InputDataBuffer[Input] -> TaskPoolMapOperator[ReadCSV] -> AllToAllOperator[RandomShuffle] -> AllToAllOperator[Sort] -> AllToAllOperator[MapBatches(_add_split)->MapBatches(_filter_split)->RandomShuffle] -> TaskPoolMapOperator[MapBatches(preprocess)] -> LimitOperator[limit=1]\n"
     ]
    },
    {
     "data": {
      "text/plain": [
       "Running 0: 0.00 row [00:00, ? row/s]"
      ],
      "application/vnd.jupyter.widget-view+json": {
       "version_major": 2,
       "version_minor": 0,
       "model_id": "bb370b6f6e5647718be9c33259b82ecb"
      }
     },
     "metadata": {},
     "output_type": "display_data"
    },
    {
     "data": {
      "text/plain": [
       "- ReadCSV->SplitBlocks(20) 1: 0.00 row [00:00, ? row/s]"
      ],
      "application/vnd.jupyter.widget-view+json": {
       "version_major": 2,
       "version_minor": 0,
       "model_id": "2d1fa8b7cb6d4860b4cecb80477a9c20"
      }
     },
     "metadata": {},
     "output_type": "display_data"
    },
    {
     "data": {
      "text/plain": [
       "- RandomShuffle 2: 0.00 row [00:00, ? row/s]"
      ],
      "application/vnd.jupyter.widget-view+json": {
       "version_major": 2,
       "version_minor": 0,
       "model_id": "61a8590e804344b0aaa9ddddadb08ebc"
      }
     },
     "metadata": {},
     "output_type": "display_data"
    },
    {
     "data": {
      "text/plain": [
       "Shuffle Map 3:   0%|          | 0.00/1.00 [00:00<?, ? row/s]"
      ],
      "application/vnd.jupyter.widget-view+json": {
       "version_major": 2,
       "version_minor": 0,
       "model_id": "5fb30462adb4455780162b35bdf9fbbb"
      }
     },
     "metadata": {},
     "output_type": "display_data"
    },
    {
     "data": {
      "text/plain": [
       "Shuffle Reduce 4:   0%|          | 0.00/1.00 [00:00<?, ? row/s]"
      ],
      "application/vnd.jupyter.widget-view+json": {
       "version_major": 2,
       "version_minor": 0,
       "model_id": "159029a1367341a1b8163a4a2c8962ca"
      }
     },
     "metadata": {},
     "output_type": "display_data"
    },
    {
     "data": {
      "text/plain": [
       "- Sort 5: 0.00 row [00:00, ? row/s]"
      ],
      "application/vnd.jupyter.widget-view+json": {
       "version_major": 2,
       "version_minor": 0,
       "model_id": "c367d3c62951481f8f095ced2ca54051"
      }
     },
     "metadata": {},
     "output_type": "display_data"
    },
    {
     "data": {
      "text/plain": [
       "Sort Sample 6:   0%|          | 0.00/1.00 [00:00<?, ? row/s]"
      ],
      "application/vnd.jupyter.widget-view+json": {
       "version_major": 2,
       "version_minor": 0,
       "model_id": "0dd6f719ed094c0998698cbd30735c38"
      }
     },
     "metadata": {},
     "output_type": "display_data"
    },
    {
     "data": {
      "text/plain": [
       "Shuffle Map 7:   0%|          | 0.00/1.00 [00:00<?, ? row/s]"
      ],
      "application/vnd.jupyter.widget-view+json": {
       "version_major": 2,
       "version_minor": 0,
       "model_id": "5fbeee8d74ed43e9b9730c3db1c4c85f"
      }
     },
     "metadata": {},
     "output_type": "display_data"
    },
    {
     "data": {
      "text/plain": [
       "Shuffle Reduce 8:   0%|          | 0.00/1.00 [00:00<?, ? row/s]"
      ],
      "application/vnd.jupyter.widget-view+json": {
       "version_major": 2,
       "version_minor": 0,
       "model_id": "3d9c79b3257f4e418896daf29aeae3f5"
      }
     },
     "metadata": {},
     "output_type": "display_data"
    },
    {
     "data": {
      "text/plain": [
       "- MapBatches(_add_split)->MapBatches(_filter_split)->RandomShuffle 9: 0.00 row [00:00, ? row/s]"
      ],
      "application/vnd.jupyter.widget-view+json": {
       "version_major": 2,
       "version_minor": 0,
       "model_id": "b7c47a379eee4cf8a315f8226cad44ff"
      }
     },
     "metadata": {},
     "output_type": "display_data"
    },
    {
     "data": {
      "text/plain": [
       "Shuffle Map 10:   0%|          | 0.00/1.00 [00:00<?, ? row/s]"
      ],
      "application/vnd.jupyter.widget-view+json": {
       "version_major": 2,
       "version_minor": 0,
       "model_id": "442a0880fd54488ca11e8d6229644840"
      }
     },
     "metadata": {},
     "output_type": "display_data"
    },
    {
     "data": {
      "text/plain": [
       "Shuffle Reduce 11:   0%|          | 0.00/1.00 [00:00<?, ? row/s]"
      ],
      "application/vnd.jupyter.widget-view+json": {
       "version_major": 2,
       "version_minor": 0,
       "model_id": "03c3c8e5b4d8464ba71291edbd7b07ac"
      }
     },
     "metadata": {},
     "output_type": "display_data"
    },
    {
     "data": {
      "text/plain": [
       "- MapBatches(preprocess) 12: 0.00 row [00:00, ? row/s]"
      ],
      "application/vnd.jupyter.widget-view+json": {
       "version_major": 2,
       "version_minor": 0,
       "model_id": "3c87af7a12fe47df83c42f2e9e52189c"
      }
     },
     "metadata": {},
     "output_type": "display_data"
    },
    {
     "data": {
      "text/plain": [
       "- limit=1 13: 0.00 row [00:00, ? row/s]"
      ],
      "application/vnd.jupyter.widget-view+json": {
       "version_major": 2,
       "version_minor": 0,
       "model_id": "24b8cc405daa48d7a23a4ce85ff68ebd"
      }
     },
     "metadata": {},
     "output_type": "display_data"
    },
    {
     "name": "stdout",
     "output_type": "stream",
     "text": [
      "{'ids': array([  102,  2389, 29477,  3254,  1572,  6773,  4459,  3041,   791,\n",
      "        2389, 29477,  3350,  2389, 21591,  3254,  7398,  1572,  6773,\n",
      "        9153,  1098,  5751,  1332,   532,  1186,   103,     0,     0,\n",
      "           0,     0,     0,     0,     0]), 'masks': array([1, 1, 1, 1, 1, 1, 1, 1, 1, 1, 1, 1, 1, 1, 1, 1, 1, 1, 1, 1, 1, 1,\n",
      "       1, 1, 1, 0, 0, 0, 0, 0, 0, 0]), 'targets': 0}\n"
     ]
    }
   ],
   "execution_count": 38
  },
  {
   "cell_type": "markdown",
   "id": "83a08b8ebad744df",
   "metadata": {},
   "source": [
    "## Training"
   ]
  },
  {
   "cell_type": "markdown",
   "id": "cf77a3af46430bfb",
   "metadata": {},
   "source": [
    "When developing models, it's always a best practice to start with the simplest models and slowly motivate more complex models. For example our baseline model progression would be:\n",
    "\n",
    "* random model (predict labels randomly)\n",
    "* rule-based model (pattern match labels in input text)\n",
    "* logistic regression (td-idf vectors from text)\n",
    "* CNN (apply character filters over text)\n",
    "* Fine-tune LLM (this notebook)\n",
    "\n",
    "We cover all of these methods in our other lessons but since our focus here in on MLOps, we will skip directly to fine-tuning an LLM for our task.\n",
    "\n",
    "We'll first set up some functions that will help us achieve complete reproducibility."
   ]
  },
  {
   "cell_type": "markdown",
   "id": "5e6cded70947dbcb",
   "metadata": {},
   "source": [
    "### Setup"
   ]
  },
  {
   "cell_type": "code",
   "id": "728831c2941d8fd0",
   "metadata": {
    "ExecuteTime": {
     "end_time": "2024-12-21T14:26:04.711558Z",
     "start_time": "2024-12-21T14:26:04.682778Z"
    }
   },
   "source": [
    "import os\n",
    "import random\n",
    "\n",
    "import torch\n",
    "from ray.data.preprocessor import Preprocessor"
   ],
   "outputs": [],
   "execution_count": 39
  },
  {
   "cell_type": "code",
   "id": "69f0013d727383d4",
   "metadata": {
    "ExecuteTime": {
     "end_time": "2024-12-21T14:26:04.859332Z",
     "start_time": "2024-12-21T14:26:04.830557Z"
    }
   },
   "source": [
    "def set_seeds(seed=42):\n",
    "    \"\"\"Set seeds for reproducibility.\"\"\"\n",
    "    np.random.seed(seed)\n",
    "    random.seed(seed)\n",
    "    torch.manual_seed(seed)\n",
    "    torch.cuda.manual_seed(seed)\n",
    "    eval(\"setattr(torch.backends.cudnn, 'deterministic', True)\")\n",
    "    eval(\"setattr(torch.backends.cudnn, 'benchmark', False)\")\n",
    "    os.environ[\"PYTHONHASHSEED\"] = str(seed)"
   ],
   "outputs": [],
   "execution_count": 40
  },
  {
   "cell_type": "code",
   "id": "f3ddb4f8f41b74c6",
   "metadata": {
    "ExecuteTime": {
     "end_time": "2024-12-21T14:26:05.004600Z",
     "start_time": "2024-12-21T14:26:04.976815Z"
    }
   },
   "source": [
    "def load_data(num_samples=None):\n",
    "    ds = ray.data.read_csv(DATASET_LOC)\n",
    "    ds = ds.random_shuffle(seed=1234)\n",
    "    ds = ray.data.from_items(ds.take(num_samples)) if num_samples else ds\n",
    "    return ds"
   ],
   "outputs": [],
   "execution_count": 41
  },
  {
   "cell_type": "code",
   "id": "8a0e91c048414c8b",
   "metadata": {
    "ExecuteTime": {
     "end_time": "2024-12-21T14:26:05.156824Z",
     "start_time": "2024-12-21T14:26:05.128132Z"
    }
   },
   "source": [
    "class CustomPreprocessor:\n",
    "    \"\"\"Custom preprocessor class.\"\"\"\n",
    "\n",
    "    def __init__(self, class_to_index={}):\n",
    "        self.class_to_index = class_to_index or {}  # mutable defaults\n",
    "        self.index_to_class = {v: k for k, v in self.class_to_index.items()}\n",
    "\n",
    "    def fit(self, ds):\n",
    "        tags = ds.unique(column=\"tag\")\n",
    "        self.class_to_index = {tag: i for i, tag in enumerate(tags)}\n",
    "        self.index_to_class = {v: k for k, v in self.class_to_index.items()}\n",
    "        return self\n",
    "\n",
    "    def transform(self, ds):\n",
    "        return ds.map_batches(\n",
    "            preprocess,\n",
    "            fn_kwargs={\"class_to_index\": self.class_to_index},\n",
    "            batch_format=\"pandas\",\n",
    "        )"
   ],
   "outputs": [],
   "execution_count": 42
  },
  {
   "cell_type": "markdown",
   "id": "ad9e84efb03212c",
   "metadata": {},
   "source": [
    "## Model"
   ]
  },
  {
   "cell_type": "code",
   "id": "8cc21ab97b62120",
   "metadata": {
    "ExecuteTime": {
     "end_time": "2024-12-21T14:26:06.006614Z",
     "start_time": "2024-12-21T14:26:05.279530Z"
    }
   },
   "source": [
    "import torch.nn as nn\n",
    "import torch.nn.functional as F\n",
    "from transformers import BertModel"
   ],
   "outputs": [],
   "execution_count": 43
  },
  {
   "cell_type": "code",
   "id": "c96b8cc26bafc07",
   "metadata": {
    "ExecuteTime": {
     "end_time": "2024-12-21T14:26:06.735621Z",
     "start_time": "2024-12-21T14:26:06.141737Z"
    }
   },
   "source": [
    "# Pretrained LLM\n",
    "llm = BertModel.from_pretrained(\"allenai/scibert_scivocab_uncased\", return_dict=False)\n",
    "embedding_dim = llm.config.hidden_size"
   ],
   "outputs": [],
   "execution_count": 44
  },
  {
   "cell_type": "code",
   "id": "b0028a03e92547fb",
   "metadata": {
    "ExecuteTime": {
     "end_time": "2024-12-21T14:26:07.000848Z",
     "start_time": "2024-12-21T14:26:06.879036Z"
    }
   },
   "source": [
    "# Sample\n",
    "text = \"Transfer learning with transformers for text classification.\"\n",
    "batch = tokenizer([text], return_tensors=\"np\", padding=\"longest\")\n",
    "batch = {k: torch.tensor(v) for k, v in batch.items()}  # convert to torch tensors\n",
    "seq, pool = llm(input_ids=batch[\"input_ids\"], attention_mask=batch[\"attention_mask\"])\n",
    "np.shape(seq), np.shape(pool)"
   ],
   "outputs": [
    {
     "data": {
      "text/plain": [
       "(torch.Size([1, 10, 768]), torch.Size([1, 768]))"
      ]
     },
     "execution_count": 45,
     "metadata": {},
     "output_type": "execute_result"
    }
   ],
   "execution_count": 45
  },
  {
   "cell_type": "code",
   "id": "c038e732f8117e09",
   "metadata": {
    "ExecuteTime": {
     "end_time": "2024-12-21T14:26:07.181078Z",
     "start_time": "2024-12-21T14:26:07.144529Z"
    }
   },
   "source": [
    "class FinetunedLLM(nn.Module):\n",
    "    def __init__(self, llm, dropout_p, embedding_dim, num_classes):\n",
    "        super(FinetunedLLM, self).__init__()\n",
    "        self.llm = llm\n",
    "        self.dropout_p = dropout_p\n",
    "        self.embedding_dim = embedding_dim\n",
    "        self.num_classes = num_classes\n",
    "        self.dropout = torch.nn.Dropout(dropout_p)\n",
    "        self.fc1 = torch.nn.Linear(embedding_dim, num_classes)\n",
    "\n",
    "    def forward(self, batch):\n",
    "        ids, masks = batch[\"ids\"], batch[\"masks\"]\n",
    "        seq, pool = self.llm(input_ids=ids, attention_mask=masks)\n",
    "        z = self.dropout(pool)\n",
    "        z = self.fc1(z)\n",
    "        return z\n",
    "\n",
    "    @torch.inference_mode()\n",
    "    def predict(self, batch):\n",
    "        self.eval()\n",
    "        z = self(batch)\n",
    "        y_pred = torch.argmax(z, dim=1).cpu().numpy()\n",
    "        return y_pred\n",
    "\n",
    "    @torch.inference_mode()\n",
    "    def predict_proba(self, batch):\n",
    "        self.eval()\n",
    "        z = self(batch)\n",
    "        y_probs = F.softmax(z, dim=1).cpu().numpy()\n",
    "        return y_probs\n",
    "\n",
    "    def save(self, dp):\n",
    "        with open(Path(dp, \"args.json\"), \"w\") as fp:\n",
    "            contents = {\n",
    "                \"dropout_p\": self.dropout_p,\n",
    "                \"embedding_dim\": self.embedding_dim,\n",
    "                \"num_classes\": self.num_classes,\n",
    "            }\n",
    "            json.dump(contents, fp, indent=4, sort_keys=False)\n",
    "        torch.save(self.state_dict(), os.path.join(dp, \"model.pt\"))\n",
    "\n",
    "    @classmethod\n",
    "    def load(cls, args_fp, state_dict_fp):\n",
    "        with open(args_fp, \"r\") as fp:\n",
    "            kwargs = json.load(fp=fp)\n",
    "        llm = BertModel.from_pretrained(\n",
    "            \"allenai/scibert_scivocab_uncased\", return_dict=False\n",
    "        )\n",
    "        model = cls(llm=llm, **kwargs)\n",
    "        model.load_state_dict(\n",
    "            torch.load(state_dict_fp, map_location=torch.device(\"cpu\"))\n",
    "        )\n",
    "        return model"
   ],
   "outputs": [],
   "execution_count": 46
  },
  {
   "cell_type": "code",
   "id": "f4656c0fbaeb8bf",
   "metadata": {
    "ExecuteTime": {
     "end_time": "2024-12-21T14:26:07.344285Z",
     "start_time": "2024-12-21T14:26:07.309223Z"
    }
   },
   "source": [
    "# Initialize model\n",
    "model = FinetunedLLM(\n",
    "    llm=llm, dropout_p=0.5, embedding_dim=embedding_dim, num_classes=num_classes\n",
    ")\n",
    "print(model.named_parameters)"
   ],
   "outputs": [
    {
     "name": "stdout",
     "output_type": "stream",
     "text": [
      "<bound method Module.named_parameters of FinetunedLLM(\n",
      "  (llm): BertModel(\n",
      "    (embeddings): BertEmbeddings(\n",
      "      (word_embeddings): Embedding(31090, 768, padding_idx=0)\n",
      "      (position_embeddings): Embedding(512, 768)\n",
      "      (token_type_embeddings): Embedding(2, 768)\n",
      "      (LayerNorm): LayerNorm((768,), eps=1e-12, elementwise_affine=True)\n",
      "      (dropout): Dropout(p=0.1, inplace=False)\n",
      "    )\n",
      "    (encoder): BertEncoder(\n",
      "      (layer): ModuleList(\n",
      "        (0-11): 12 x BertLayer(\n",
      "          (attention): BertAttention(\n",
      "            (self): BertSdpaSelfAttention(\n",
      "              (query): Linear(in_features=768, out_features=768, bias=True)\n",
      "              (key): Linear(in_features=768, out_features=768, bias=True)\n",
      "              (value): Linear(in_features=768, out_features=768, bias=True)\n",
      "              (dropout): Dropout(p=0.1, inplace=False)\n",
      "            )\n",
      "            (output): BertSelfOutput(\n",
      "              (dense): Linear(in_features=768, out_features=768, bias=True)\n",
      "              (LayerNorm): LayerNorm((768,), eps=1e-12, elementwise_affine=True)\n",
      "              (dropout): Dropout(p=0.1, inplace=False)\n",
      "            )\n",
      "          )\n",
      "          (intermediate): BertIntermediate(\n",
      "            (dense): Linear(in_features=768, out_features=3072, bias=True)\n",
      "            (intermediate_act_fn): GELUActivation()\n",
      "          )\n",
      "          (output): BertOutput(\n",
      "            (dense): Linear(in_features=3072, out_features=768, bias=True)\n",
      "            (LayerNorm): LayerNorm((768,), eps=1e-12, elementwise_affine=True)\n",
      "            (dropout): Dropout(p=0.1, inplace=False)\n",
      "          )\n",
      "        )\n",
      "      )\n",
      "    )\n",
      "    (pooler): BertPooler(\n",
      "      (dense): Linear(in_features=768, out_features=768, bias=True)\n",
      "      (activation): Tanh()\n",
      "    )\n",
      "  )\n",
      "  (dropout): Dropout(p=0.5, inplace=False)\n",
      "  (fc1): Linear(in_features=768, out_features=4, bias=True)\n",
      ")>\n"
     ]
    }
   ],
   "execution_count": 47
  },
  {
   "cell_type": "markdown",
   "id": "2c7ee59971796d42",
   "metadata": {},
   "source": [
    "## Batching"
   ]
  },
  {
   "cell_type": "markdown",
   "id": "b31e19689be6e012",
   "metadata": {},
   "source": [
    "We can iterate through our dataset in batches however we may have batches of different sizes. Recall that our tokenizer padded the inputs to the longest item in the batch (padding=\"longest\"). However, our batches for training will be smaller than our large data processing batches and so our batches here may have inputs with different lengths. To address this, we're going to define a custom collate_fn to repad the items in our training batches."
   ]
  },
  {
   "cell_type": "code",
   "id": "326dbe7901379bf8",
   "metadata": {
    "ExecuteTime": {
     "end_time": "2024-12-21T14:26:07.627004Z",
     "start_time": "2024-12-21T14:26:07.475234Z"
    }
   },
   "source": [
    "from ray.train.torch import get_device"
   ],
   "outputs": [],
   "execution_count": 48
  },
  {
   "cell_type": "code",
   "id": "eef3d39840e83546",
   "metadata": {
    "ExecuteTime": {
     "end_time": "2024-12-21T14:26:07.787282Z",
     "start_time": "2024-12-21T14:26:07.753578Z"
    }
   },
   "source": [
    "def pad_array(arr, dtype=np.int32):\n",
    "    max_len = max(len(row) for row in arr)\n",
    "    padded_arr = np.zeros((arr.shape[0], max_len), dtype=dtype)\n",
    "    for i, row in enumerate(arr):\n",
    "        padded_arr[i][: len(row)] = row\n",
    "    return padded_arr"
   ],
   "outputs": [],
   "execution_count": 49
  },
  {
   "cell_type": "code",
   "id": "22608d9cb9259214",
   "metadata": {
    "ExecuteTime": {
     "end_time": "2024-12-21T14:26:07.944521Z",
     "start_time": "2024-12-21T14:26:07.910571Z"
    }
   },
   "source": [
    "def collate_fn(batch):\n",
    "    batch[\"ids\"] = pad_array(batch[\"ids\"])\n",
    "    batch[\"masks\"] = pad_array(batch[\"masks\"])\n",
    "    dtypes = {\"ids\": torch.int32, \"masks\": torch.int32, \"targets\": torch.int64}\n",
    "    tensor_batch = {}\n",
    "    for key, array in batch.items():\n",
    "        tensor_batch[key] = torch.as_tensor(\n",
    "            array, dtype=dtypes[key], device=get_device()\n",
    "        )\n",
    "    return tensor_batch"
   ],
   "outputs": [],
   "execution_count": 50
  },
  {
   "cell_type": "markdown",
   "id": "a59beeef1a06a44e",
   "metadata": {},
   "source": [
    "> pad=(0, max_len) in F.pad refers to (left_padding, right_padding) on the input. There will be no left-padding (hence the 0) and only right-padding. And the constant mode refers to each element being padded to a constant size (size of longest element in the input)."
   ]
  },
  {
   "cell_type": "code",
   "id": "bbd0766de9f9c111",
   "metadata": {
    "ExecuteTime": {
     "end_time": "2024-12-21T14:26:09.567464Z",
     "start_time": "2024-12-21T14:26:08.093557Z"
    }
   },
   "source": [
    "# Sample batch\n",
    "sample_batch = sample_ds.take_batch(batch_size=128)\n",
    "collate_fn(batch=sample_batch)"
   ],
   "outputs": [
    {
     "name": "stderr",
     "output_type": "stream",
     "text": [
      "2024-12-21 15:26:08,129\tINFO streaming_executor.py:108 -- Starting execution of Dataset. Full logs are in /tmp/ray/session_2024-12-21_15-25-50_415018_4417/logs/ray-data\n",
      "2024-12-21 15:26:08,129\tINFO streaming_executor.py:109 -- Execution plan of Dataset: InputDataBuffer[Input] -> TaskPoolMapOperator[ReadCSV] -> AllToAllOperator[RandomShuffle] -> AllToAllOperator[Sort] -> AllToAllOperator[MapBatches(_add_split)->MapBatches(_filter_split)->RandomShuffle] -> TaskPoolMapOperator[MapBatches(preprocess)] -> LimitOperator[limit=128]\n"
     ]
    },
    {
     "data": {
      "text/plain": [
       "Running 0: 0.00 row [00:00, ? row/s]"
      ],
      "application/vnd.jupyter.widget-view+json": {
       "version_major": 2,
       "version_minor": 0,
       "model_id": "73a2004380d949f8ab2c855f042b6880"
      }
     },
     "metadata": {},
     "output_type": "display_data"
    },
    {
     "data": {
      "text/plain": [
       "- ReadCSV->SplitBlocks(20) 1: 0.00 row [00:00, ? row/s]"
      ],
      "application/vnd.jupyter.widget-view+json": {
       "version_major": 2,
       "version_minor": 0,
       "model_id": "ab326dd1141d46318b6fc5efb78a3c1b"
      }
     },
     "metadata": {},
     "output_type": "display_data"
    },
    {
     "data": {
      "text/plain": [
       "- RandomShuffle 2: 0.00 row [00:00, ? row/s]"
      ],
      "application/vnd.jupyter.widget-view+json": {
       "version_major": 2,
       "version_minor": 0,
       "model_id": "bcc88ce48c2a44c79f3cc06a1640c7f6"
      }
     },
     "metadata": {},
     "output_type": "display_data"
    },
    {
     "data": {
      "text/plain": [
       "Shuffle Map 3:   0%|          | 0.00/1.00 [00:00<?, ? row/s]"
      ],
      "application/vnd.jupyter.widget-view+json": {
       "version_major": 2,
       "version_minor": 0,
       "model_id": "4f6b81c4d04d45bcb56e746589c3300d"
      }
     },
     "metadata": {},
     "output_type": "display_data"
    },
    {
     "data": {
      "text/plain": [
       "Shuffle Reduce 4:   0%|          | 0.00/1.00 [00:00<?, ? row/s]"
      ],
      "application/vnd.jupyter.widget-view+json": {
       "version_major": 2,
       "version_minor": 0,
       "model_id": "6561550fd1b4479a9cd030d87e585656"
      }
     },
     "metadata": {},
     "output_type": "display_data"
    },
    {
     "data": {
      "text/plain": [
       "- Sort 5: 0.00 row [00:00, ? row/s]"
      ],
      "application/vnd.jupyter.widget-view+json": {
       "version_major": 2,
       "version_minor": 0,
       "model_id": "f2f35b55eb724c7ab9edb86ce8a87708"
      }
     },
     "metadata": {},
     "output_type": "display_data"
    },
    {
     "data": {
      "text/plain": [
       "Sort Sample 6:   0%|          | 0.00/1.00 [00:00<?, ? row/s]"
      ],
      "application/vnd.jupyter.widget-view+json": {
       "version_major": 2,
       "version_minor": 0,
       "model_id": "5e2363a325754ab798411101b94c0f2e"
      }
     },
     "metadata": {},
     "output_type": "display_data"
    },
    {
     "data": {
      "text/plain": [
       "Shuffle Map 7:   0%|          | 0.00/1.00 [00:00<?, ? row/s]"
      ],
      "application/vnd.jupyter.widget-view+json": {
       "version_major": 2,
       "version_minor": 0,
       "model_id": "a57a31e8d63b41b6bfaf6fbe9b14b07c"
      }
     },
     "metadata": {},
     "output_type": "display_data"
    },
    {
     "data": {
      "text/plain": [
       "Shuffle Reduce 8:   0%|          | 0.00/1.00 [00:00<?, ? row/s]"
      ],
      "application/vnd.jupyter.widget-view+json": {
       "version_major": 2,
       "version_minor": 0,
       "model_id": "f057dfd541884270ba4df3c3b989fa2e"
      }
     },
     "metadata": {},
     "output_type": "display_data"
    },
    {
     "data": {
      "text/plain": [
       "- MapBatches(_add_split)->MapBatches(_filter_split)->RandomShuffle 9: 0.00 row [00:00, ? row/s]"
      ],
      "application/vnd.jupyter.widget-view+json": {
       "version_major": 2,
       "version_minor": 0,
       "model_id": "f695b253cec648e99b243ced14f427c5"
      }
     },
     "metadata": {},
     "output_type": "display_data"
    },
    {
     "data": {
      "text/plain": [
       "Shuffle Map 10:   0%|          | 0.00/1.00 [00:00<?, ? row/s]"
      ],
      "application/vnd.jupyter.widget-view+json": {
       "version_major": 2,
       "version_minor": 0,
       "model_id": "b602e74295bc48d7969e63d661289a0b"
      }
     },
     "metadata": {},
     "output_type": "display_data"
    },
    {
     "data": {
      "text/plain": [
       "Shuffle Reduce 11:   0%|          | 0.00/1.00 [00:00<?, ? row/s]"
      ],
      "application/vnd.jupyter.widget-view+json": {
       "version_major": 2,
       "version_minor": 0,
       "model_id": "154de292656c4c4689a2d0bf71a4be1e"
      }
     },
     "metadata": {},
     "output_type": "display_data"
    },
    {
     "data": {
      "text/plain": [
       "- MapBatches(preprocess) 12: 0.00 row [00:00, ? row/s]"
      ],
      "application/vnd.jupyter.widget-view+json": {
       "version_major": 2,
       "version_minor": 0,
       "model_id": "c560657fe0f04b81afda23cb8cb2f943"
      }
     },
     "metadata": {},
     "output_type": "display_data"
    },
    {
     "data": {
      "text/plain": [
       "- limit=128 13: 0.00 row [00:00, ? row/s]"
      ],
      "application/vnd.jupyter.widget-view+json": {
       "version_major": 2,
       "version_minor": 0,
       "model_id": "b2bb4b07be9e4298b73b88e9a850bcd1"
      }
     },
     "metadata": {},
     "output_type": "display_data"
    },
    {
     "data": {
      "text/plain": [
       "{'ids': tensor([[  102,  3928,   255,  ...,     0,     0,     0],\n",
       "         [  102,   423,  2647,  ...,     0,     0,     0],\n",
       "         [  102, 13288,  5923,  ...,     0,     0,     0],\n",
       "         ...,\n",
       "         [  102, 13472,  2859,  ...,     0,     0,     0],\n",
       "         [  102,   502,  1371,  ...,     0,     0,     0],\n",
       "         [  102,   287,   489,  ...,     0,     0,     0]], dtype=torch.int32),\n",
       " 'masks': tensor([[1, 1, 1,  ..., 0, 0, 0],\n",
       "         [1, 1, 1,  ..., 0, 0, 0],\n",
       "         [1, 1, 1,  ..., 0, 0, 0],\n",
       "         ...,\n",
       "         [1, 1, 1,  ..., 0, 0, 0],\n",
       "         [1, 1, 1,  ..., 0, 0, 0],\n",
       "         [1, 1, 1,  ..., 0, 0, 0]], dtype=torch.int32),\n",
       " 'targets': tensor([0, 0, 0, 0, 3, 0, 0, 2, 1, 1, 2, 3, 0, 0, 3, 2, 2, 3, 0, 2, 3, 0, 0, 2,\n",
       "         2, 2, 2, 2, 2, 1, 2, 0, 2, 0, 0, 0, 0, 3, 0, 0, 2, 1, 1, 2, 3, 0, 0, 3,\n",
       "         2, 2, 3, 0, 2, 3, 0, 0, 2, 2, 2, 2, 2, 2, 1, 2, 0, 2, 0, 0, 0, 0, 2, 0,\n",
       "         0, 2, 2, 1, 2, 3, 0, 0, 3, 2, 2, 3, 0, 2, 3, 0, 0, 2, 3, 2, 2, 1, 2, 0,\n",
       "         2, 2, 0, 2, 0, 0, 0, 2, 0, 0, 0, 0, 2, 2, 0, 2, 2, 2, 0, 0, 2, 2, 2, 2,\n",
       "         0, 2, 2, 0, 1, 0, 3, 1])}"
      ]
     },
     "execution_count": 51,
     "metadata": {},
     "output_type": "execute_result"
    }
   ],
   "execution_count": 51
  },
  {
   "cell_type": "markdown",
   "id": "30da3541fee5b094",
   "metadata": {},
   "source": [
    "## Utilities"
   ]
  },
  {
   "metadata": {},
   "cell_type": "code",
   "outputs": [],
   "execution_count": null,
   "source": [
    "import tempfile\n",
    "from pathlib import Path\n",
    "\n",
    "import ray.train as train\n",
    "import torch.nn.functional as F\n",
    "from ray.train import Checkpoint, CheckpointConfig, DataConfig, RunConfig, ScalingConfig\n",
    "from ray.train.torch import TorchCheckpoint, TorchTrainer\n",
    "from torch.nn.parallel.distributed import DistributedDataParallel"
   ],
   "id": "e3e08e4af5081d5d"
  },
  {
   "metadata": {},
   "cell_type": "code",
   "outputs": [],
   "execution_count": null,
   "source": [
    "def train_step(ds, batch_size, model, num_classes, loss_fn, optimizer):\n",
    "    \"\"\"Train step.\"\"\"\n",
    "    model.train()\n",
    "    loss = 0.0\n",
    "    ds_generator = ds.iter_torch_batches(batch_size=batch_size, collate_fn=collate_fn)\n",
    "    for i, batch in enumerate(ds_generator):\n",
    "        optimizer.zero_grad()  # reset gradients\n",
    "        z = model(batch)  # forward pass\n",
    "        targets = F.one_hot(\n",
    "            batch[\"targets\"], num_classes=num_classes\n",
    "        ).float()  # one-hot (for loss_fn)\n",
    "        J = loss_fn(z, targets)  # define loss\n",
    "        J.backward()  # backward pass\n",
    "        optimizer.step()  # update weights\n",
    "        loss += (J.detach().item() - loss) / (i + 1)  # cumulative loss\n",
    "    return loss"
   ],
   "id": "15c9ea8c217070c5"
  },
  {
   "metadata": {},
   "cell_type": "markdown",
   "source": "> Note: We're using the ray.data.iter_torch_batches method instead of torch.utils.data.DataLoader to create a generator that will yield batches of data. In fact, this is the only line that's different from a typical PyTorch training loop and the actual training workflow remains untouched. Ray supports many other ways to load/consume data for different frameworks as well.",
   "id": "848b79a64410bc14"
  },
  {
   "metadata": {},
   "cell_type": "code",
   "outputs": [],
   "execution_count": null,
   "source": [
    "def eval_step(ds, batch_size, model, num_classes, loss_fn):\n",
    "    \"\"\"Eval step.\"\"\"\n",
    "    model.eval()\n",
    "    loss = 0.0\n",
    "    y_trues, y_preds = [], []\n",
    "    ds_generator = ds.iter_torch_batches(batch_size=batch_size, collate_fn=collate_fn)\n",
    "    with torch.inference_mode():\n",
    "        for i, batch in enumerate(ds_generator):\n",
    "            z = model(batch)\n",
    "            targets = F.one_hot(\n",
    "                batch[\"targets\"], num_classes=num_classes\n",
    "            ).float()  # one-hot (for loss_fn)\n",
    "            J = loss_fn(z, targets).item()\n",
    "            loss += (J - loss) / (i + 1)\n",
    "            y_trues.extend(batch[\"targets\"].cpu().numpy())\n",
    "            y_preds.extend(torch.argmax(z, dim=1).cpu().numpy())\n",
    "    return loss, np.vstack(y_trues), np.vstack(y_preds)"
   ],
   "id": "8f6c6c9cb8e47080"
  },
  {
   "metadata": {},
   "cell_type": "markdown",
   "source": [
    "Next, we'll define the train_loop_per_worker which defines the overall training loop for each worker. It's important that we include operations like loading the datasets, models, etc. so that each worker will have its own copy of these objects. Ray takes care of combining all the workers' results at the end of each iteration, so from the user's perspective, it's the exact same as training on a single machine!\n",
    "\n",
    "The only additional lines of code we need to add compared to a typical PyTorch training loop are the following:\n",
    "\n",
    "session.get_dataset_shard(\"train\") and session.get_dataset_shard(\"val\") to load the data splits (session.get_dataset_shard).\n",
    "model = train.torch.prepare_model(model) to prepare the torch model for distributed execution (train.torch.prepare_model).\n",
    "batch_size_per_worker = batch_size // session.get_world_size() to adjust the batch size for each worker (session.get_world_size).\n",
    "session.report(metrics, checkpoint=checkpoint) to report metrics and save our model checkpoint (session.report).\n",
    "All the other lines of code are the same as a typical PyTorch training loop!"
   ],
   "id": "c83de24db1e49947"
  },
  {
   "metadata": {},
   "cell_type": "code",
   "outputs": [],
   "execution_count": null,
   "source": [
    "# Training loop\n",
    "\n",
    "\n",
    "def train_loop_per_worker(config):\n",
    "    # Hyperparameters\n",
    "    dropout_p = config[\"dropout_p\"]\n",
    "    lr = config[\"lr\"]\n",
    "    lr_factor = config[\"lr_factor\"]\n",
    "    lr_patience = config[\"lr_patience\"]\n",
    "    num_epochs = config[\"num_epochs\"]\n",
    "    batch_size = config[\"batch_size\"]\n",
    "    num_classes = config[\"num_classes\"]\n",
    "\n",
    "    # Get datasets\n",
    "    set_seeds()\n",
    "    train_ds = train.get_dataset_shard(\"train\")\n",
    "    val_ds = train.get_dataset_shard(\"val\")\n",
    "\n",
    "    # Model\n",
    "    llm = BertModel.from_pretrained(\n",
    "        \"allenai/scibert_scivocab_uncased\", return_dict=False\n",
    "    )\n",
    "    model = FinetunedLLM(\n",
    "        llm=llm,\n",
    "        dropout_p=dropout_p,\n",
    "        embedding_dim=llm.config.hidden_size,\n",
    "        num_classes=num_classes,\n",
    "    )\n",
    "    model = train.torch.prepare_model(model)\n",
    "\n",
    "    # Training components\n",
    "    loss_fn = nn.BCEWithLogitsLoss()\n",
    "    optimizer = torch.optim.Adam(model.parameters(), lr=lr)\n",
    "    scheduler = torch.optim.lr_scheduler.ReduceLROnPlateau(\n",
    "        optimizer, mode=\"min\", factor=lr_factor, patience=lr_patience\n",
    "    )\n",
    "\n",
    "    # Training\n",
    "    num_workers = train.get_context().get_world_size()\n",
    "    batch_size_per_worker = batch_size // num_workers\n",
    "    for epoch in range(num_epochs):\n",
    "        # Step\n",
    "        train_loss = train_step(\n",
    "            train_ds, batch_size_per_worker, model, num_classes, loss_fn, optimizer\n",
    "        )\n",
    "        val_loss, _, _ = eval_step(\n",
    "            val_ds, batch_size_per_worker, model, num_classes, loss_fn\n",
    "        )\n",
    "        scheduler.step(val_loss)\n",
    "\n",
    "        # Checkpoint\n",
    "        with tempfile.TemporaryDirectory() as dp:\n",
    "            if isinstance(model, DistributedDataParallel):  # cpu\n",
    "                model.module.save(dp=dp)\n",
    "            else:\n",
    "                model.save(dp=dp)\n",
    "            metrics = dict(\n",
    "                epoch=epoch,\n",
    "                lr=optimizer.param_groups[0][\"lr\"],\n",
    "                train_loss=train_loss,\n",
    "                val_loss=val_loss,\n",
    "            )\n",
    "            checkpoint = Checkpoint.from_directory(dp)\n",
    "            train.report(metrics, checkpoint=checkpoint)"
   ],
   "id": "59533e15442a9889"
  },
  {
   "metadata": {},
   "cell_type": "markdown",
   "source": [
    "Our dataset doesn't suffer from horrible class imbalance, but if it did, we could easily account for it through our loss function. There are also other strategies such as over-sampling less frequent classes and under-sampling popular classes.\n",
    "\n",
    "```python\n",
    "# Class weights\n",
    "batch_counts = []\n",
    "for batch in train_ds.iter_torch_batches(batch_size=256, collate_fn=collate_fn):\n",
    "    batch_counts.append(np.bincount(batch[\"targets\"].cpu().numpy()))\n",
    "counts = [sum(count) for count in zip(*batch_counts)]\n",
    "class_weights = np.array([1.0 / count for i, count in enumerate(counts)])\n",
    "class_weights_tensor = torch.Tensor(class_weights).to(get_device())\n",
    "\n",
    "# Training components\n",
    "loss_fn = nn.BCEWithLogitsLoss(weight=class_weights_tensor)\n",
    "...\n",
    "```"
   ],
   "id": "c1019cc0391cfb99"
  },
  {
   "metadata": {},
   "cell_type": "markdown",
   "source": "## Configurations",
   "id": "ac137fbed3c8006d"
  },
  {
   "metadata": {},
   "cell_type": "code",
   "outputs": [],
   "execution_count": null,
   "source": [
    "from scripts.config import EFS_DIR"
   ],
   "id": "51476efe7deee5ca"
  },
  {
   "metadata": {},
   "cell_type": "code",
   "outputs": [],
   "execution_count": null,
   "source": [
    "# Train loop config\n",
    "train_loop_config = {\n",
    "    \"dropout_p\": 0.5,\n",
    "    \"lr\": 1e-4,\n",
    "    \"lr_factor\": 0.8,\n",
    "    \"lr_patience\": 3,\n",
    "    \"num_epochs\": 10,\n",
    "    \"batch_size\": 256,\n",
    "    \"num_classes\": num_classes,\n",
    "}"
   ],
   "id": "371e05cdcb829103"
  },
  {
   "metadata": {},
   "cell_type": "code",
   "outputs": [],
   "execution_count": null,
   "source": [
    "# Scaling config\n",
    "scaling_config = ScalingConfig(\n",
    "    num_workers=num_workers,\n",
    "    use_gpu=bool(resources_per_worker[\"GPU\"]),\n",
    "    resources_per_worker=resources_per_worker,\n",
    ")"
   ],
   "id": "abded706291ad7ec"
  },
  {
   "metadata": {},
   "cell_type": "code",
   "outputs": [],
   "execution_count": null,
   "source": [
    "# Run config\n",
    "checkpoint_config = CheckpointConfig(\n",
    "    num_to_keep=1, checkpoint_score_attribute=\"val_loss\", checkpoint_score_order=\"min\"\n",
    ")\n",
    "run_config = RunConfig(\n",
    "    name=\"llm\", checkpoint_config=checkpoint_config, storage_path=EFS_DIR\n",
    ")"
   ],
   "id": "57928195a27fc039"
  },
  {
   "metadata": {},
   "cell_type": "markdown",
   "source": "## Training",
   "id": "f5bb1d30eb2719e4"
  },
  {
   "metadata": {},
   "cell_type": "code",
   "outputs": [],
   "execution_count": null,
   "source": [
    "# Dataset\n",
    "ds = load_data()\n",
    "train_ds, val_ds = stratify_split(ds, stratify=\"tag\", test_size=test_size)"
   ],
   "id": "81f4bb9a7a1ab43b"
  },
  {
   "metadata": {},
   "cell_type": "code",
   "outputs": [],
   "execution_count": null,
   "source": [
    "# Preprocess\n",
    "preprocessor = CustomPreprocessor()\n",
    "preprocessor = preprocessor.fit(train_ds)\n",
    "train_ds = preprocessor.transform(train_ds)\n",
    "val_ds = preprocessor.transform(val_ds)\n",
    "train_ds = train_ds.materialize()\n",
    "val_ds = val_ds.materialize()"
   ],
   "id": "1b917f30a38ef895"
  },
  {
   "metadata": {},
   "cell_type": "code",
   "outputs": [],
   "execution_count": null,
   "source": [
    "# Dataset config\n",
    "options = ray.data.ExecutionOptions(preserve_order=True)\n",
    "dataset_config = DataConfig(datasets_to_split=[\"train\"], execution_options=options)"
   ],
   "id": "d1f12480fcd653fb"
  },
  {
   "metadata": {},
   "cell_type": "code",
   "outputs": [],
   "execution_count": null,
   "source": [
    "# Trainer\n",
    "trainer = TorchTrainer(\n",
    "    train_loop_per_worker=train_loop_per_worker,\n",
    "    train_loop_config=train_loop_config,\n",
    "    scaling_config=scaling_config,\n",
    "    run_config=run_config,\n",
    "    datasets={\"train\": train_ds, \"val\": val_ds},\n",
    "    dataset_config=dataset_config,\n",
    "    metadata={\"class_to_index\": preprocessor.class_to_index},\n",
    ")"
   ],
   "id": "19bcb2f7ef0d80e1"
  },
  {
   "metadata": {},
   "cell_type": "code",
   "outputs": [],
   "execution_count": null,
   "source": [
    "%%time\n",
    "# Train\n",
    "results = trainer.fit()"
   ],
   "id": "ba3ea71d5f7abbd9"
  },
  {
   "metadata": {},
   "cell_type": "code",
   "outputs": [],
   "execution_count": null,
   "source": [
    "# Metrics per epoch\n",
    "results.metrics_dataframe"
   ],
   "id": "aa716d900c6f9c3"
  },
  {
   "metadata": {},
   "cell_type": "code",
   "outputs": [],
   "execution_count": null,
   "source": [
    "# Best checkpoints\n",
    "results.best_checkpoints"
   ],
   "id": "258a6c2d2e22b846"
  },
  {
   "metadata": {},
   "cell_type": "markdown",
   "source": "## Observability",
   "id": "1f891410319f00c0"
  },
  {
   "metadata": {},
   "cell_type": "markdown",
   "source": "While our model is training, we can inspect our Ray dashboard to observe how our compute resources are being utilized.",
   "id": "be9605f7a3b5e3db"
  },
  {
   "metadata": {},
   "cell_type": "markdown",
   "source": "We can inspect our Ray dashboard by opening http://127.0.0.1:8265 on a browser window. Click on Cluster on the top menu bar and then we will be able to see a list of our nodes (head and worker) and their utilizations.",
   "id": "e4b32a497b19a72e"
  },
  {
   "metadata": {},
   "cell_type": "markdown",
   "source": "## Evaluation",
   "id": "1cb38e9f857f8667"
  },
  {
   "metadata": {},
   "cell_type": "code",
   "outputs": [],
   "execution_count": null,
   "source": [
    "from sklearn.metrics import precision_recall_fscore_support"
   ],
   "id": "8e9b0a9e4ef9152d"
  },
  {
   "metadata": {},
   "cell_type": "code",
   "outputs": [],
   "execution_count": null,
   "source": [
    "class TorchPredictor:\n",
    "    def __init__(self, preprocessor, model):\n",
    "        self.preprocessor = preprocessor\n",
    "        self.model = model\n",
    "        self.model.eval()\n",
    "\n",
    "    def __call__(self, batch):\n",
    "        results = self.model.predict(collate_fn(batch))\n",
    "        return {\"output\": results}\n",
    "\n",
    "    def predict_proba(self, batch):\n",
    "        results = self.model.predict_proba(collate_fn(batch))\n",
    "        return {\"output\": results}\n",
    "\n",
    "    def get_preprocessor(self):\n",
    "        return self.preprocessor\n",
    "\n",
    "    @classmethod\n",
    "    def from_checkpoint(cls, checkpoint):\n",
    "        metadata = checkpoint.get_metadata()\n",
    "        preprocessor = CustomPreprocessor(class_to_index=metadata[\"class_to_index\"])\n",
    "        model = FinetunedLLM.load(\n",
    "            Path(checkpoint.path, \"args.json\"), Path(checkpoint.path, \"model.pt\")\n",
    "        )\n",
    "        return cls(preprocessor=preprocessor, model=model)"
   ],
   "id": "b9bc5aaf582abf0d"
  },
  {
   "metadata": {},
   "cell_type": "code",
   "outputs": [],
   "execution_count": null,
   "source": [
    "# Artifacts\n",
    "best_checkpoint = results.best_checkpoints[0][0]\n",
    "predictor = TorchPredictor.from_checkpoint(best_checkpoint)\n",
    "preprocessor = predictor.get_preprocessor()"
   ],
   "id": "3d8537dba18bd3e"
  },
  {
   "metadata": {},
   "cell_type": "code",
   "outputs": [],
   "execution_count": null,
   "source": [
    "# Test (holdout) dataset\n",
    "HOLDOUT_LOC = \"../datasets/holdout.csv\"\n",
    "test_ds = ray.data.read_csv(HOLDOUT_LOC)\n",
    "preprocessed_ds = preprocessor.transform(test_ds)\n",
    "preprocessed_ds.take(1)"
   ],
   "id": "6603406b77778b72"
  },
  {
   "metadata": {},
   "cell_type": "code",
   "outputs": [],
   "execution_count": null,
   "source": [
    "# y_true\n",
    "values = preprocessed_ds.select_columns(cols=[\"targets\"]).take_all()\n",
    "y_true = np.stack([item[\"targets\"] for item in values])\n",
    "print(y_true)"
   ],
   "id": "42f723d4d1fa7a59"
  },
  {
   "metadata": {},
   "cell_type": "code",
   "outputs": [],
   "execution_count": null,
   "source": [
    "# y_pred\n",
    "predictions = preprocessed_ds.map_batches(predictor).take_all()\n",
    "y_pred = np.array([d[\"output\"] for d in predictions])"
   ],
   "id": "39ebc62c2ae41922"
  },
  {
   "metadata": {},
   "cell_type": "code",
   "outputs": [],
   "execution_count": null,
   "source": [
    "# Evaluate\n",
    "metrics = precision_recall_fscore_support(y_true, y_pred, average=\"weighted\")\n",
    "{\"precision\": metrics[0], \"recall\": metrics[1], \"f1\": metrics[2]}"
   ],
   "id": "13d1f809ae4f7ec9"
  },
  {
   "metadata": {},
   "cell_type": "code",
   "outputs": [],
   "execution_count": null,
   "source": [
    "def evaluate(ds, predictor):\n",
    "    # y_true\n",
    "    preprocessor = predictor.get_preprocessor()\n",
    "    preprocessed_ds = preprocessor.transform(ds)\n",
    "    values = preprocessed_ds.select_columns(cols=[\"targets\"]).take_all()\n",
    "    y_true = np.stack([item[\"targets\"] for item in values])\n",
    "\n",
    "    # y_pred\n",
    "    predictions = preprocessed_ds.map_batches(predictor).take_all()\n",
    "    y_pred = np.array([d[\"output\"] for d in predictions])\n",
    "\n",
    "    # Evaluate\n",
    "    metrics = precision_recall_fscore_support(y_true, y_pred, average=\"weighted\")\n",
    "    performance = {\"precision\": metrics[0], \"recall\": metrics[1], \"f1\": metrics[2]}\n",
    "    return performance"
   ],
   "id": "f1d1e89c27a2761f"
  },
  {
   "metadata": {},
   "cell_type": "code",
   "outputs": [],
   "execution_count": null,
   "source": [
    "# Evaluate on test split\n",
    "performance = evaluate(ds=test_ds, predictor=predictor)\n",
    "print(json.dumps(performance, indent=2))"
   ],
   "id": "3c495a88d4566a40"
  },
  {
   "metadata": {},
   "cell_type": "markdown",
   "source": "## Inference",
   "id": "3045de9389fec353"
  },
  {
   "metadata": {},
   "cell_type": "code",
   "outputs": [],
   "execution_count": null,
   "source": [
    "import pandas as pd"
   ],
   "id": "ed6354f82629a091"
  },
  {
   "metadata": {},
   "cell_type": "code",
   "outputs": [],
   "execution_count": null,
   "source": [
    "def format_prob(prob, index_to_class):\n",
    "    d = {}\n",
    "    for i, item in enumerate(prob):\n",
    "        d[index_to_class[i]] = item\n",
    "    return d"
   ],
   "id": "cc6569c5c8e12863"
  },
  {
   "metadata": {},
   "cell_type": "code",
   "outputs": [],
   "execution_count": null,
   "source": [
    "def predict_proba(ds, predictor):\n",
    "    preprocessor = predictor.get_preprocessor()\n",
    "    preprocessed_ds = preprocessor.transform(ds)\n",
    "    outputs = preprocessed_ds.map_batches(predictor.predict_proba)\n",
    "\n",
    "    # Convert the output to a serializable array\n",
    "    y_prob = np.array([d[\"output\"] for d in outputs.take_all()])\n",
    "\n",
    "    results = []\n",
    "    for i, prob in enumerate(y_prob):\n",
    "        # Convert probabilities to Python-native types\n",
    "        prob = prob.astype(float)  # Ensure all elements are Python float\n",
    "\n",
    "        tag = preprocessor.index_to_class[prob.argmax()]\n",
    "\n",
    "        results.append(\n",
    "            {\n",
    "                \"prediction\": tag,\n",
    "                \"probabilities\": format_prob(prob, preprocessor.index_to_class),\n",
    "            }\n",
    "        )\n",
    "    return results"
   ],
   "id": "f61df80f1e9cd55a"
  },
  {
   "metadata": {},
   "cell_type": "code",
   "outputs": [],
   "execution_count": null,
   "source": [
    "# Predict on sample\n",
    "title = \"Transfer learning with transformers\"\n",
    "description = \"Using transformers for transfer learning on text classification tasks.\"\n",
    "sample_ds = ray.data.from_items(\n",
    "    [{\"title\": title, \"description\": description, \"tag\": \"other\"}]\n",
    ")\n",
    "predict_proba(ds=sample_ds, predictor=predictor)"
   ],
   "id": "12ea764b7fbcd63f"
  },
  {
   "metadata": {},
   "cell_type": "markdown",
   "source": "## Optimization",
   "id": "4d7f9064691cf127"
  },
  {
   "metadata": {},
   "cell_type": "markdown",
   "source": [
    "Distributed training strategies are great for when our data or models are too large for training but there are additional strategies to make the models itself smaller for serving. The following model compression techniques are commonly used to reduce the size of the model:\n",
    "\n",
    "* [Pruning](https://pytorch.org/tutorials/intermediate/pruning_tutorial.html): remove weights (unstructured) or entire channels (structured) to reduce the size of the network. The objective is to preserve the model’s performance while increasing its sparsity.\n",
    "* [Quantization](https://pytorch.org/docs/stable/quantization.html): reduce the memory footprint of the weights by reducing their precision (ex. 32 bit to 8 bit). We may loose some precision but it shouldn’t affect performance too much.\n",
    "* [Distillation](https://pytorch.org/tutorials/beginner/knowledge_distillation_tutorial.html): training smaller networks to “mimic” larger networks by having it reproduce the larger network’s layers’ outputs."
   ],
   "id": "ae7234b546bf8e7f"
  },
  {
   "metadata": {},
   "cell_type": "markdown",
   "source": "## Experiment tracking",
   "id": "abef94041839dc4f"
  },
  {
   "metadata": {},
   "cell_type": "markdown",
   "source": [
    "So far, we've been training our models but we don't have a way to more deeply track and compare them. We'll achieve this but defining a proper process for experiment tracking which we'll use for all future experiments (including hyperparameter optimization). Experiment tracking is the processing of managing all the different experiments and their components, such as parameters, metrics, models and other artifacts and it enables us to:\n",
    "\n",
    "Organize all the necessary components of a specific experiment. It's important to have everything in one place and know where it is so you can use them later.\n",
    "Reproduce past results (easily) using saved experiments.\n",
    "Log iterative improvements across time, data, ideas, teams, etc.\n",
    "There are many options for experiment tracking but we're going to use MLflow (100% free and open-source) because it has all the functionality we'll need (and growing integration support). There are also several popular options such as a Comet ML (Used by Google AI, HuggingFace, etc.) and Weights and Biases (Used by Open AI, Toyota Research, etc.). These are fantastic options if you want a fully managed experiment tracking solution."
   ],
   "id": "df58c0d9c720ef33"
  },
  {
   "metadata": {},
   "cell_type": "markdown",
   "source": "### Setup",
   "id": "1bab28aad9fc9513"
  },
  {
   "metadata": {},
   "cell_type": "code",
   "outputs": [],
   "execution_count": null,
   "source": [
    "import time\n",
    "from pathlib import Path\n",
    "\n",
    "import mlflow\n",
    "from ray.tune.logger.mlflow import MLflowLoggerCallback"
   ],
   "id": "1be0d0dee1579955"
  },
  {
   "metadata": {},
   "cell_type": "code",
   "outputs": [],
   "execution_count": null,
   "source": [
    "# Config MLflow\n",
    "MODEL_REGISTRY = Path(f\"{EFS_DIR}/mlflow\")\n",
    "Path(MODEL_REGISTRY).mkdir(parents=True, exist_ok=True)\n",
    "MLFLOW_TRACKING_URI = \"file://\" + str(MODEL_REGISTRY.absolute())\n",
    "mlflow.set_tracking_uri(MLFLOW_TRACKING_URI)\n",
    "print(mlflow.get_tracking_uri())"
   ],
   "id": "31dec51c63d55312"
  },
  {
   "metadata": {},
   "cell_type": "markdown",
   "source": "### Integration",
   "id": "f98916de8765bce9"
  },
  {
   "metadata": {},
   "cell_type": "code",
   "outputs": [],
   "execution_count": null,
   "source": [
    "# MLflow callback\n",
    "experiment_name = f\"llm-{int(time.time())}\"\n",
    "mlflow_callback = MLflowLoggerCallback(\n",
    "    tracking_uri=MLFLOW_TRACKING_URI,\n",
    "    experiment_name=experiment_name,\n",
    "    save_artifact=True,\n",
    ")"
   ],
   "id": "fb6bd7ec3889f1c4"
  },
  {
   "metadata": {},
   "cell_type": "code",
   "outputs": [],
   "execution_count": null,
   "source": [
    "# Run configuration with MLflow callback\n",
    "run_config = RunConfig(\n",
    "    callbacks=[mlflow_callback],\n",
    "    checkpoint_config=checkpoint_config,\n",
    "    storage_path=EFS_DIR,\n",
    ")"
   ],
   "id": "e93125ad00e879e6"
  },
  {
   "metadata": {},
   "cell_type": "markdown",
   "source": "### Training",
   "id": "a5b0335355580e9e"
  },
  {
   "metadata": {},
   "cell_type": "code",
   "outputs": [],
   "execution_count": null,
   "source": [
    "# Dataset\n",
    "ds = load_data()\n",
    "train_ds, val_ds = stratify_split(ds, stratify=\"tag\", test_size=test_size)"
   ],
   "id": "ab6a3fba5abd3875"
  },
  {
   "metadata": {},
   "cell_type": "code",
   "outputs": [],
   "execution_count": null,
   "source": [
    "# Preprocess\n",
    "preprocessor = CustomPreprocessor()\n",
    "preprocessor = preprocessor.fit(train_ds)\n",
    "train_ds = preprocessor.transform(train_ds)\n",
    "val_ds = preprocessor.transform(val_ds)\n",
    "train_ds = train_ds.materialize()\n",
    "val_ds = val_ds.materialize()"
   ],
   "id": "b92e0a2186568027"
  },
  {
   "metadata": {},
   "cell_type": "code",
   "outputs": [],
   "execution_count": null,
   "source": [
    "# Trainer\n",
    "trainer = TorchTrainer(\n",
    "    train_loop_per_worker=train_loop_per_worker,\n",
    "    train_loop_config=train_loop_config,\n",
    "    scaling_config=scaling_config,\n",
    "    run_config=run_config,  # uses RunConfig with MLflow callback\n",
    "    datasets={\"train\": train_ds, \"val\": val_ds},\n",
    "    dataset_config=dataset_config,\n",
    "    metadata={\"class_to_index\": preprocessor.class_to_index},\n",
    ")"
   ],
   "id": "51032a6701bc6571"
  },
  {
   "metadata": {},
   "cell_type": "code",
   "outputs": [],
   "execution_count": null,
   "source": [
    "%%time\n",
    "# Train\n",
    "results = trainer.fit()"
   ],
   "id": "74bd06d49a666e00"
  },
  {
   "metadata": {},
   "cell_type": "code",
   "outputs": [],
   "execution_count": null,
   "source": [
    "results.metrics_dataframe"
   ],
   "id": "bdbff234ff5c36d0"
  },
  {
   "metadata": {},
   "cell_type": "code",
   "outputs": [],
   "execution_count": null,
   "source": [
    "# Sorted runs\n",
    "sorted_runs = mlflow.search_runs(\n",
    "    experiment_names=[experiment_name], order_by=[\"metrics.val_loss ASC\"]\n",
    ")\n",
    "sorted_runs"
   ],
   "id": "b17bf42be3bea4c6"
  },
  {
   "metadata": {},
   "cell_type": "code",
   "outputs": [],
   "execution_count": null,
   "source": [
    "# Best run\n",
    "best_run = sorted_runs.iloc[0]\n",
    "best_run"
   ],
   "id": "ca4a2f426b27e841"
  },
  {
   "metadata": {},
   "cell_type": "markdown",
   "source": "### Dashboard",
   "id": "b30e6d2652310e44"
  },
  {
   "metadata": {},
   "cell_type": "markdown",
   "source": [
    "Let's view what we've tracked from our experiment. MLFlow serves a dashboard for us to view and explore our experiments on a localhost port:\n",
    "`mlflow server -h 0.0.0.0 -p 8080 --backend-store-uri $EFS_DIR/mlflow`\n",
    "\n",
    "MLFlow creates a main dashboard with all your experiments and their respective runs. We can sort runs by clicking on the column headers."
   ],
   "id": "73b47e24487bb115"
  },
  {
   "metadata": {},
   "cell_type": "markdown",
   "source": "### Loading",
   "id": "b25ac2ac4cb14b3f"
  },
  {
   "metadata": {},
   "cell_type": "code",
   "outputs": [],
   "execution_count": null,
   "source": [
    "from urllib.parse import urlparse\n",
    "\n",
    "from ray.train import Result"
   ],
   "id": "6e5e965f2eb1c385"
  },
  {
   "metadata": {},
   "cell_type": "code",
   "outputs": [],
   "execution_count": null,
   "source": [
    "def get_best_checkpoint(run_id):\n",
    "    artifact_dir = urlparse(\n",
    "        mlflow.get_run(run_id).info.artifact_uri\n",
    "    ).path  # get path from mlflow\n",
    "    results = Result.from_path(artifact_dir)\n",
    "    return results.best_checkpoints[0][0]"
   ],
   "id": "2ab2e6db0a7df15c"
  },
  {
   "metadata": {},
   "cell_type": "code",
   "outputs": [],
   "execution_count": null,
   "source": [
    "print(results.best_checkpoints)"
   ],
   "id": "91dd058b91a5ed12"
  },
  {
   "metadata": {},
   "cell_type": "code",
   "outputs": [],
   "execution_count": null,
   "source": [
    "# Artifacts\n",
    "# best_checkpoint = get_best_checkpoint(run_id=best_run.run_id)\n",
    "predictor = TorchPredictor.from_checkpoint(results.best_checkpoints[0][0])\n",
    "preprocessor = predictor.get_preprocessor()"
   ],
   "id": "b8ff510069a2f134"
  },
  {
   "metadata": {},
   "cell_type": "code",
   "outputs": [],
   "execution_count": null,
   "source": [
    "# Evaluate on test split\n",
    "performance = evaluate(ds=test_ds, predictor=predictor)\n",
    "print(json.dumps(performance, indent=2))"
   ],
   "id": "572ee2175b6eb08c"
  },
  {
   "metadata": {},
   "cell_type": "code",
   "outputs": [],
   "execution_count": null,
   "source": [
    "# Predict on sample\n",
    "title = \"Transfer learning with transformers\"\n",
    "description = \"Using transformers for transfer learning on text classification tasks.\"\n",
    "sample_ds = ray.data.from_items(\n",
    "    [{\"title\": title, \"description\": description, \"tag\": \"other\"}]\n",
    ")\n",
    "predict_proba(ds=sample_ds, predictor=predictor)"
   ],
   "id": "a48048522bdaf224"
  },
  {
   "metadata": {},
   "cell_type": "markdown",
   "source": "##  Hyperparameter tuning",
   "id": "285d9873973a8d09"
  },
  {
   "metadata": {},
   "cell_type": "code",
   "outputs": [],
   "execution_count": null,
   "source": [
    "from ray import tune\n",
    "from ray.tune import Tuner\n",
    "from ray.tune.schedulers import AsyncHyperBandScheduler\n",
    "from ray.tune.search import ConcurrencyLimiter\n",
    "from ray.tune.search.hyperopt import HyperOptSearch"
   ],
   "id": "e55fe1be008c4c91"
  },
  {
   "metadata": {},
   "cell_type": "code",
   "outputs": [],
   "execution_count": null,
   "source": [
    "# Number of trials (small sample)\n",
    "num_runs = 2"
   ],
   "id": "3e1a7e7c6b88ad53"
  },
  {
   "metadata": {},
   "cell_type": "code",
   "outputs": [],
   "execution_count": null,
   "source": [
    "# Set up\n",
    "set_seeds()"
   ],
   "id": "26cf4095a1654270"
  },
  {
   "metadata": {},
   "cell_type": "code",
   "outputs": [],
   "execution_count": null,
   "source": [
    "# Dataset\n",
    "ds = load_data()\n",
    "train_ds, val_ds = stratify_split(ds, stratify=\"tag\", test_size=test_size)"
   ],
   "id": "e0a203abc00e3496"
  },
  {
   "metadata": {},
   "cell_type": "code",
   "outputs": [],
   "execution_count": null,
   "source": [
    "# Preprocess\n",
    "preprocessor = CustomPreprocessor()\n",
    "preprocessor = preprocessor.fit(train_ds)\n",
    "train_ds = preprocessor.transform(train_ds)\n",
    "val_ds = preprocessor.transform(val_ds)\n",
    "train_ds = train_ds.materialize()\n",
    "val_ds = val_ds.materialize()"
   ],
   "id": "1182c1335691b18c"
  },
  {
   "metadata": {},
   "cell_type": "code",
   "outputs": [],
   "execution_count": null,
   "source": [
    "# Trainer\n",
    "trainer = TorchTrainer(\n",
    "    train_loop_per_worker=train_loop_per_worker,\n",
    "    train_loop_config=train_loop_config,\n",
    "    scaling_config=scaling_config,\n",
    "    datasets={\"train\": train_ds, \"val\": val_ds},\n",
    "    dataset_config=dataset_config,\n",
    "    metadata={\"class_to_index\": preprocessor.class_to_index},\n",
    ")"
   ],
   "id": "3960fa12d791838f"
  },
  {
   "metadata": {},
   "cell_type": "code",
   "outputs": [],
   "execution_count": null,
   "source": [
    "# MLflow callback\n",
    "mlflow_callback = MLflowLoggerCallback(\n",
    "    tracking_uri=MLFLOW_TRACKING_URI,\n",
    "    experiment_name=experiment_name,\n",
    "    save_artifact=True,\n",
    ")"
   ],
   "id": "fe760528d2205edf"
  },
  {
   "metadata": {},
   "cell_type": "code",
   "outputs": [],
   "execution_count": null,
   "source": [
    "# Run configuration\n",
    "checkpoint_config = CheckpointConfig(\n",
    "    num_to_keep=1, checkpoint_score_attribute=\"val_loss\", checkpoint_score_order=\"min\"\n",
    ")\n",
    "run_config = RunConfig(\n",
    "    callbacks=[mlflow_callback],\n",
    "    checkpoint_config=checkpoint_config,\n",
    "    storage_path=EFS_DIR,\n",
    ")"
   ],
   "id": "1530c498664b5c46"
  },
  {
   "metadata": {},
   "cell_type": "code",
   "outputs": [],
   "execution_count": null,
   "source": [
    "# Hyperparameters to start with\n",
    "initial_params = [\n",
    "    {\n",
    "        \"train_loop_config\": {\n",
    "            \"dropout_p\": 0.5,\n",
    "            \"lr\": 1e-4,\n",
    "            \"lr_factor\": 0.8,\n",
    "            \"lr_patience\": 3,\n",
    "        }\n",
    "    }\n",
    "]\n",
    "search_alg = HyperOptSearch(points_to_evaluate=initial_params)\n",
    "search_alg = ConcurrencyLimiter(\n",
    "    search_alg, max_concurrent=2\n",
    ")  # trade off b/w optimization and search space"
   ],
   "id": "8f1ecb58d06ac251"
  },
  {
   "metadata": {},
   "cell_type": "code",
   "outputs": [],
   "execution_count": null,
   "source": [
    "# Parameter space\n",
    "param_space = {\n",
    "    \"train_loop_config\": {\n",
    "        \"dropout_p\": tune.uniform(0.3, 0.9),\n",
    "        \"lr\": tune.loguniform(1e-5, 5e-4),\n",
    "        \"lr_factor\": tune.uniform(0.1, 0.9),\n",
    "        \"lr_patience\": tune.uniform(1, 10),\n",
    "    }\n",
    "}"
   ],
   "id": "b12351427a9cfbf4"
  },
  {
   "metadata": {},
   "cell_type": "code",
   "outputs": [],
   "execution_count": null,
   "source": [
    "# Scheduler\n",
    "scheduler = AsyncHyperBandScheduler(\n",
    "    max_t=train_loop_config[\"num_epochs\"],  # max epoch (<time_attr>) per trial\n",
    "    grace_period=5,  # min epoch (<time_attr>) per trial\n",
    ")"
   ],
   "id": "76d07ec4e8526dd1"
  },
  {
   "metadata": {},
   "cell_type": "code",
   "outputs": [],
   "execution_count": null,
   "source": [
    "# Tune config\n",
    "tune_config = tune.TuneConfig(\n",
    "    metric=\"val_loss\",\n",
    "    mode=\"min\",\n",
    "    search_alg=search_alg,\n",
    "    scheduler=scheduler,\n",
    "    num_samples=num_runs,\n",
    ")"
   ],
   "id": "d3bfa2654501f19b"
  },
  {
   "metadata": {},
   "cell_type": "code",
   "outputs": [],
   "execution_count": null,
   "source": [
    "# Tuner\n",
    "tuner = Tuner(\n",
    "    trainable=trainer,\n",
    "    run_config=run_config,\n",
    "    param_space=param_space,\n",
    "    tune_config=tune_config,\n",
    ")"
   ],
   "id": "cc009c8a26c127ad"
  },
  {
   "metadata": {},
   "cell_type": "code",
   "outputs": [],
   "execution_count": null,
   "source": [
    "%%time\n",
    "# Tune\n",
    "results = tuner.fit()"
   ],
   "id": "572d8b5fa7cebcdd"
  },
  {
   "metadata": {},
   "cell_type": "code",
   "outputs": [],
   "execution_count": null,
   "source": [
    "# All trials in experiment\n",
    "results.get_dataframe()"
   ],
   "id": "43888445f699c528"
  },
  {
   "metadata": {},
   "cell_type": "code",
   "outputs": [],
   "execution_count": null,
   "source": [
    "# Best trial's epochs\n",
    "best_trial = results.get_best_result(metric=\"val_loss\", mode=\"min\")\n",
    "best_trial.metrics_dataframe"
   ],
   "id": "3c5c57858ef74fcd"
  },
  {
   "metadata": {},
   "cell_type": "code",
   "outputs": [],
   "execution_count": null,
   "source": [
    "# Best trial's hyperparameters\n",
    "best_trial.config[\"train_loop_config\"]"
   ],
   "id": "788cc2f5725444c1"
  },
  {
   "metadata": {},
   "cell_type": "code",
   "outputs": [],
   "execution_count": null,
   "source": [
    "# Sorted runs\n",
    "sorted_runs = mlflow.search_runs(\n",
    "    experiment_names=[experiment_name], order_by=[\"metrics.val_loss ASC\"]\n",
    ")\n",
    "sorted_runs"
   ],
   "id": "b0a07dd54691c301"
  },
  {
   "metadata": {},
   "cell_type": "code",
   "outputs": [],
   "execution_count": null,
   "source": [
    "# Artifacts\n",
    "# best_checkpoint = get_best_checkpoint(run_id=best_run.run_id)\n",
    "predictor = TorchPredictor.from_checkpoint(\n",
    "    results.get_best_result(metric=\"val_loss\", mode=\"min\").best_checkpoints[0][0]\n",
    ")\n",
    "preprocessor = predictor.get_preprocessor()"
   ],
   "id": "1e534ddbed202b1d"
  },
  {
   "metadata": {},
   "cell_type": "code",
   "outputs": [],
   "execution_count": null,
   "source": [
    "# Evaluate on test split\n",
    "performance = evaluate(ds=test_ds, predictor=predictor)\n",
    "print(json.dumps(performance, indent=2))"
   ],
   "id": "d763c80551906526"
  },
  {
   "metadata": {},
   "cell_type": "code",
   "outputs": [],
   "execution_count": null,
   "source": [
    "# Predict on sample\n",
    "title = \"Transfer learning with transformers\"\n",
    "description = \"Using transformers for transfer learning on text classification tasks.\"\n",
    "sample_ds = ray.data.from_items(\n",
    "    [{\"title\": title, \"description\": description, \"tag\": \"other\"}]\n",
    ")\n",
    "predict_proba(ds=sample_ds, predictor=predictor)"
   ],
   "id": "24f1c4362838c87e"
  },
  {
   "metadata": {},
   "cell_type": "markdown",
   "source": "## Evaluation",
   "id": "1e3dc71fd1a2d4cc"
  },
  {
   "metadata": {},
   "cell_type": "markdown",
   "source": [
    "So far we've been evaluating our models by determing the overall precision, recall and f1 scores. But since performance is one of the key decision making factors when comparing different models, we should have even more nuanced evaluation strategies.\n",
    "* Coarse-grained metrics\n",
    "* Fine-grained metrics\n",
    "* Confusion matrix\n",
    "* Confidence learning\n",
    "* Slice metrics"
   ],
   "id": "2ed095eaba955069"
  },
  {
   "metadata": {},
   "cell_type": "code",
   "outputs": [],
   "execution_count": null,
   "source": [
    "# Metrics\n",
    "metrics = {\"overall\": {}, \"class\": {}}"
   ],
   "id": "d995bce36f1e10ad"
  },
  {
   "metadata": {},
   "cell_type": "code",
   "outputs": [],
   "execution_count": null,
   "source": [
    "# Artifacts\n",
    "predictor = TorchPredictor.from_checkpoint(best_checkpoint)\n",
    "preprocessor = predictor.get_preprocessor()"
   ],
   "id": "d7209b944164c81e"
  },
  {
   "metadata": {},
   "cell_type": "code",
   "outputs": [],
   "execution_count": null,
   "source": [
    "# y_test\n",
    "preprocessed_ds = preprocessor.transform(test_ds)\n",
    "values = preprocessed_ds.select_columns(cols=[\"targets\"]).take_all()\n",
    "y_test = np.stack([item[\"targets\"] for item in values])"
   ],
   "id": "db41ca649afcac9f"
  },
  {
   "metadata": {},
   "cell_type": "code",
   "outputs": [],
   "execution_count": null,
   "source": [
    "# y_prob\n",
    "outputs = preprocessed_ds.map_batches(predictor.predict_proba)\n",
    "y_prob = np.array([d[\"output\"] for d in outputs.take_all()])"
   ],
   "id": "9ffffcd0108909ef"
  },
  {
   "metadata": {},
   "cell_type": "code",
   "outputs": [],
   "execution_count": null,
   "source": [
    "# y_prob\n",
    "print(np.shape(y_test))\n",
    "print(np.shape(y_prob))"
   ],
   "id": "b627cb5a5934b623"
  },
  {
   "metadata": {},
   "cell_type": "code",
   "outputs": [],
   "execution_count": null,
   "source": [
    "# Add columns (for convenience)\n",
    "test_df = test_ds.to_pandas()\n",
    "test_df[\"text\"] = test_df[\"title\"] + \" \" + test_df[\"description\"]\n",
    "test_df[\"prediction\"] = test_df.index.map(\n",
    "    lambda i: preprocessor.index_to_class[y_pred[i]]\n",
    ")\n",
    "test_df.head()"
   ],
   "id": "73388af2a5b35dbe"
  },
  {
   "metadata": {},
   "cell_type": "markdown",
   "source": "### Coarse-grained metrics",
   "id": "500d4b0252f9c2de"
  },
  {
   "metadata": {},
   "cell_type": "markdown",
   "source": [
    "While we were developing our models, our evaluation process involved computing the coarse-grained metrics such as overall precision, recall and f1 metrics.\n",
    "* True positives (TP): we correctly predicted class X.\n",
    "* False positives (FP): we incorrectly predicted class X but it was another class.\n",
    "* True negatives (TN): we correctly predicted that it's wasn't the class X.\n",
    "* False negatives (FN): we incorrectly predicted that it wasn't the class X but it was."
   ],
   "id": "96b103ee730d2889"
  },
  {
   "metadata": {},
   "cell_type": "markdown",
   "source": [
    "<math xmlns=\"http://www.w3.org/1998/Math/MathML\" display=\"block\">\n",
    "  <mtext>precision</mtext>\n",
    "  <mo>=</mo>\n",
    "  <mfrac>\n",
    "    <mrow>\n",
    "      <mi>T</mi>\n",
    "      <mi>P</mi>\n",
    "    </mrow>\n",
    "    <mrow>\n",
    "      <mi>T</mi>\n",
    "      <mi>P</mi>\n",
    "      <mo>+</mo>\n",
    "      <mi>F</mi>\n",
    "      <mi>P</mi>\n",
    "    </mrow>\n",
    "  </mfrac>\n",
    "</math>\n",
    "<br>\n",
    "<math xmlns=\"http://www.w3.org/1998/Math/MathML\" display=\"block\">\n",
    "  <mtext>recall</mtext>\n",
    "  <mo>=</mo>\n",
    "  <mfrac>\n",
    "    <mrow>\n",
    "      <mi>T</mi>\n",
    "      <mi>P</mi>\n",
    "    </mrow>\n",
    "    <mrow>\n",
    "      <mi>T</mi>\n",
    "      <mi>P</mi>\n",
    "      <mo>+</mo>\n",
    "      <mi>F</mi>\n",
    "      <mi>N</mi>\n",
    "    </mrow>\n",
    "  </mfrac>\n",
    "</math>\n",
    "<br>\n",
    "<math xmlns=\"http://www.w3.org/1998/Math/MathML\" display=\"block\">\n",
    "  <mtext>f1</mtext>\n",
    "  <mo>=</mo>\n",
    "  <mfrac>\n",
    "    <mrow>\n",
    "      <mn>2</mn>\n",
    "      <mo>&#x2217;</mo>\n",
    "      <mi>p</mi>\n",
    "      <mi>r</mi>\n",
    "      <mi>e</mi>\n",
    "      <mi>c</mi>\n",
    "      <mi>i</mi>\n",
    "      <mi>s</mi>\n",
    "      <mi>i</mi>\n",
    "      <mi>o</mi>\n",
    "      <mi>n</mi>\n",
    "      <mo>&#x2217;</mo>\n",
    "      <mi>r</mi>\n",
    "      <mi>e</mi>\n",
    "      <mi>c</mi>\n",
    "      <mi>a</mi>\n",
    "      <mi>l</mi>\n",
    "      <mi>l</mi>\n",
    "    </mrow>\n",
    "    <mrow>\n",
    "      <mi>p</mi>\n",
    "      <mi>r</mi>\n",
    "      <mi>e</mi>\n",
    "      <mi>c</mi>\n",
    "      <mi>i</mi>\n",
    "      <mi>s</mi>\n",
    "      <mi>i</mi>\n",
    "      <mi>o</mi>\n",
    "      <mi>n</mi>\n",
    "      <mo>+</mo>\n",
    "      <mi>r</mi>\n",
    "      <mi>e</mi>\n",
    "      <mi>c</mi>\n",
    "      <mi>a</mi>\n",
    "      <mi>l</mi>\n",
    "      <mi>l</mi>\n",
    "    </mrow>\n",
    "  </mfrac>\n",
    "</math>"
   ],
   "id": "a8b5729bc97eedfd"
  },
  {
   "metadata": {},
   "cell_type": "code",
   "outputs": [],
   "execution_count": null,
   "source": [
    "from sklearn.metrics import precision_recall_fscore_support"
   ],
   "id": "f20b0129925613e1"
  },
  {
   "metadata": {},
   "cell_type": "code",
   "outputs": [],
   "execution_count": null,
   "source": [
    "# Overall metrics\n",
    "overall_metrics = precision_recall_fscore_support(y_test, y_pred, average=\"weighted\")\n",
    "metrics[\"overall\"][\"precision\"] = overall_metrics[0]\n",
    "metrics[\"overall\"][\"recall\"] = overall_metrics[1]\n",
    "metrics[\"overall\"][\"f1\"] = overall_metrics[2]\n",
    "metrics[\"overall\"][\"num_samples\"] = np.float64(len(y_test))\n",
    "print(json.dumps(metrics[\"overall\"], indent=4))"
   ],
   "id": "886654fcd728090a"
  },
  {
   "metadata": {},
   "cell_type": "markdown",
   "source": "### Fine-grained metrics",
   "id": "a476a7e75ee5b7fc"
  },
  {
   "metadata": {},
   "cell_type": "code",
   "outputs": [],
   "execution_count": null,
   "source": [
    "from collections import OrderedDict"
   ],
   "id": "7fcd334525de77ce"
  },
  {
   "metadata": {},
   "cell_type": "code",
   "outputs": [],
   "execution_count": null,
   "source": [
    "# Per-class metrics\n",
    "class_metrics = precision_recall_fscore_support(y_test, y_pred, average=None)\n",
    "for i, _class in enumerate(preprocessor.class_to_index):\n",
    "    metrics[\"class\"][_class] = {\n",
    "        \"precision\": class_metrics[0][i],\n",
    "        \"recall\": class_metrics[1][i],\n",
    "        \"f1\": class_metrics[2][i],\n",
    "        \"num_samples\": np.float64(class_metrics[3][i]),\n",
    "    }"
   ],
   "id": "924af1ce25d1dbe6"
  },
  {
   "metadata": {},
   "cell_type": "code",
   "outputs": [],
   "execution_count": null,
   "source": [
    "# Metrics for a specific class\n",
    "tag = \"natural-language-processing\"\n",
    "print(json.dumps(metrics[\"class\"][tag], indent=2))"
   ],
   "id": "d57d203409fba91c"
  },
  {
   "metadata": {},
   "cell_type": "code",
   "outputs": [],
   "execution_count": null,
   "source": [
    "# Sorted tags\n",
    "sorted_tags_by_f1 = OrderedDict(\n",
    "    sorted(metrics[\"class\"].items(), key=lambda tag: tag[1][\"f1\"], reverse=True)\n",
    ")\n",
    "for item in sorted_tags_by_f1.items():\n",
    "    print(json.dumps(item, indent=2))"
   ],
   "id": "1ef274dacfdd5d76"
  },
  {
   "metadata": {},
   "cell_type": "markdown",
   "source": "### Confusion matrix",
   "id": "8e258ffa30573f17"
  },
  {
   "metadata": {},
   "cell_type": "markdown",
   "source": [
    "* True positives (TP): learn about where our model performs well.\n",
    "* False positives (FP): potentially identify samples which may need to be relabeled.\n",
    "* False negatives (FN): identify the model's less performant areas to oversample later.\n",
    "\n",
    "> It's a good to have our FP/FN samples feed back into our annotation pipelines in the event we want to fix their labels and have those changes be reflected everywhere."
   ],
   "id": "bbc3739a419d3de0"
  },
  {
   "metadata": {},
   "cell_type": "code",
   "outputs": [],
   "execution_count": null,
   "source": [
    "# TP, FP, FN samples\n",
    "tag = \"natural-language-processing\"\n",
    "index = preprocessor.class_to_index[tag]\n",
    "tp, fp, fn = [], [], []\n",
    "for i, true in enumerate(y_test):\n",
    "    pred = y_pred[i]\n",
    "    if index == true == pred:\n",
    "        tp.append(i)\n",
    "    elif index != true and index == pred:\n",
    "        fp.append(i)\n",
    "    elif index == true and index != pred:\n",
    "        fn.append(i)"
   ],
   "id": "dbd817f0f13572dd"
  },
  {
   "metadata": {},
   "cell_type": "code",
   "outputs": [],
   "execution_count": null,
   "source": [
    "print(tp)\n",
    "print(fp)\n",
    "print(fn)"
   ],
   "id": "bdd07667ffcc7537"
  },
  {
   "metadata": {},
   "cell_type": "code",
   "outputs": [],
   "execution_count": null,
   "source": [
    "# Samples\n",
    "num_samples = 3\n",
    "cm = [(tp, \"True positives\"), (fp, \"False positives\"), (fn, \"False negatives\")]\n",
    "for item in cm:\n",
    "    if len(item[0]):\n",
    "        print(f\"\\n=== {item[1]} ===\")\n",
    "        for index in item[0][:num_samples]:\n",
    "            print(f\"{test_df.iloc[index].text}\")\n",
    "            print(f\"    true: {test_df.tag[index]}\")\n",
    "            print(f\"    pred: {test_df.prediction[index]}\\n\")"
   ],
   "id": "a9f1242405452725"
  },
  {
   "metadata": {},
   "cell_type": "markdown",
   "source": "## Confidence learning",
   "id": "b7936824fb01c234"
  },
  {
   "metadata": {},
   "cell_type": "markdown",
   "source": [
    "While the confusion-matrix sample analysis was a coarse-grained process, we can also use fine-grained confidence based approaches to identify potentially mislabeled samples. Here we’re going to focus on the specific labeling quality as opposed to the final model predictions.\n",
    "\n",
    "Simple confidence based techniques include identifying samples whose:\n",
    "\n",
    "**Categorical**\n",
    "* prediction is incorrect (also indicate TN, FP, FN)\n",
    "* confidence score for the correct class is below a threshold\n",
    "* confidence score for an incorrect class is above a threshold\n",
    "* standard deviation of confidence scores over top N samples is low\n",
    "* different predictions from same model using different parameters\n",
    "\n",
    "**Continuous**\n",
    "* difference between predicted and ground-truth values is above some %\n",
    "\n",
    "> The operations in this section can be applied to entire labeled dataset to discover labeling errors via confidence learning."
   ],
   "id": "be9cd8e91d4225c4"
  },
  {
   "metadata": {},
   "cell_type": "code",
   "outputs": [],
   "execution_count": null,
   "source": [
    "# Tag to inspect\n",
    "tag = \"natural-language-processing\"\n",
    "index = class_to_index[tag]\n",
    "indices = np.where(y_test == index)[0]"
   ],
   "id": "35aa57fd1e2dac3f"
  },
  {
   "metadata": {},
   "cell_type": "code",
   "outputs": [],
   "execution_count": null,
   "source": [
    "# Confidence score for the correct class is below a threshold\n",
    "low_confidence = []\n",
    "min_threshold = 0.5\n",
    "for i in indices:\n",
    "    prob = y_prob[i][index]\n",
    "    if prob <= 0.5:\n",
    "        low_confidence.append(\n",
    "            {\n",
    "                \"text\": f\"{test_df.iloc[i].text}\",\n",
    "                \"true\": test_df.tag[i],\n",
    "                \"pred\": test_df.prediction[i],\n",
    "                \"prob\": prob,\n",
    "            }\n",
    "        )"
   ],
   "id": "6b116d9c29f77dc2"
  },
  {
   "metadata": {},
   "cell_type": "code",
   "outputs": [],
   "execution_count": null,
   "source": [
    "low_confidence[0:3]"
   ],
   "id": "5d9b570172a442"
  },
  {
   "metadata": {},
   "cell_type": "code",
   "outputs": [],
   "execution_count": null,
   "source": [
    "import cleanlab\n",
    "from cleanlab.filter import find_label_issues"
   ],
   "id": "dcc5183a28d55315"
  },
  {
   "metadata": {},
   "cell_type": "code",
   "outputs": [],
   "execution_count": null,
   "source": [
    "# Find label issues\n",
    "label_issues = find_label_issues(\n",
    "    labels=y_test, pred_probs=y_prob, return_indices_ranked_by=\"self_confidence\"\n",
    ")\n",
    "test_df.iloc[label_issues].drop(columns=[\"text\"]).head()"
   ],
   "id": "5537e2422e1dcdf1"
  },
  {
   "metadata": {},
   "cell_type": "markdown",
   "source": "### Slice metrics",
   "id": "d5bc10c165c9f379"
  },
  {
   "metadata": {},
   "cell_type": "markdown",
   "source": [
    "Just inspecting the overall and class metrics isn't enough to deploy our new version to production. There may be key slices of our dataset that we need to do really well on:\n",
    "* Target / predicted classes (+ combinations)\n",
    "* Features (explicit and implicit)\n",
    "* Metadata (timestamps, sources, etc.)\n",
    "* Priority slices / experience (minority groups, large customers, etc.)\n",
    "\n",
    "An easy way to create and evaluate slices is to define slicing functions."
   ],
   "id": "9f42be4abd2c0d51"
  },
  {
   "metadata": {},
   "cell_type": "code",
   "outputs": [],
   "execution_count": null,
   "source": [
    "from snorkel.slicing import PandasSFApplier, slice_dataframe, slicing_function"
   ],
   "id": "862eeb23af8eb909"
  },
  {
   "metadata": {},
   "cell_type": "code",
   "outputs": [],
   "execution_count": null,
   "source": [
    "@slicing_function()\n",
    "def nlp_llm(x):\n",
    "    \"\"\"NLP projects that use LLMs.\"\"\"\n",
    "    nlp_project = \"natural-language-processing\" in x.tag\n",
    "    llm_terms = [\"transformer\", \"llm\", \"bert\"]\n",
    "    llm_project = any(s.lower() in x.text.lower() for s in llm_terms)\n",
    "    return nlp_project and llm_project"
   ],
   "id": "8c61c80147783130"
  },
  {
   "metadata": {},
   "cell_type": "code",
   "outputs": [],
   "execution_count": null,
   "source": [
    "@slicing_function()\n",
    "def short_text(x):\n",
    "    \"\"\"Projects with short titles and descriptions.\"\"\"\n",
    "    return len(x.text.split()) < 8  # less than 8 words"
   ],
   "id": "fcd2176cfef8cfc1"
  },
  {
   "metadata": {},
   "cell_type": "markdown",
   "source": "Here we're using Snorkel's slicing_function to create our different slices. We can visualize our slices by applying this slicing function to a relevant DataFrame using slice_dataframe.",
   "id": "b1bb0e47c0d9f67e"
  },
  {
   "metadata": {},
   "cell_type": "code",
   "outputs": [],
   "execution_count": null,
   "source": [
    "nlp_llm_df = slice_dataframe(test_df, nlp_llm)\n",
    "nlp_llm_df[[\"text\", \"tag\"]].head()"
   ],
   "id": "5c7e58d52a3de3a1"
  },
  {
   "metadata": {},
   "cell_type": "code",
   "outputs": [],
   "execution_count": null,
   "source": [
    "short_text_df = slice_dataframe(test_df, short_text)\n",
    "short_text_df[[\"text\", \"tag\"]].head()"
   ],
   "id": "aa547d01b4b95f9"
  },
  {
   "metadata": {},
   "cell_type": "markdown",
   "source": "We can define even more slicing functions and create a slices record array using the PandasSFApplier. The slices array has N (# of data points) items and each item has S (# of slicing functions) items, indicating whether that data point is part of that slice. Think of this record array as a masking layer for each slicing function on our data.",
   "id": "6392eb4acd5db619"
  },
  {
   "metadata": {},
   "cell_type": "code",
   "outputs": [],
   "execution_count": null,
   "source": [
    "# Slices\n",
    "slicing_functions = [nlp_llm, short_text]\n",
    "applier = PandasSFApplier(slicing_functions)\n",
    "slices = applier.apply(test_df)\n",
    "slices"
   ],
   "id": "c90fe440ac198fb9"
  },
  {
   "metadata": {},
   "cell_type": "code",
   "outputs": [],
   "execution_count": null,
   "source": [
    "# Score slices\n",
    "metrics[\"slices\"] = {}\n",
    "for slice_name in slices.dtype.names:\n",
    "    mask = slices[slice_name].astype(bool)\n",
    "    if sum(mask):\n",
    "        slice_metrics = precision_recall_fscore_support(\n",
    "            y_test[mask], y_pred[mask], average=\"micro\"\n",
    "        )\n",
    "        metrics[\"slices\"][slice_name] = {}\n",
    "        metrics[\"slices\"][slice_name][\"precision\"] = slice_metrics[0]\n",
    "        metrics[\"slices\"][slice_name][\"recall\"] = slice_metrics[1]\n",
    "        metrics[\"slices\"][slice_name][\"f1\"] = slice_metrics[2]\n",
    "        metrics[\"slices\"][slice_name][\"num_samples\"] = len(y_test[mask])"
   ],
   "id": "bf7f573eeaa5d597"
  },
  {
   "metadata": {},
   "cell_type": "code",
   "outputs": [],
   "execution_count": null,
   "source": [
    "print(json.dumps(metrics[\"slices\"], indent=2))"
   ],
   "id": "bc606788a2d3b8bf"
  },
  {
   "metadata": {},
   "cell_type": "markdown",
   "source": "## Interpretability",
   "id": "5d1eff0838a71a71"
  },
  {
   "metadata": {},
   "cell_type": "markdown",
   "source": "Besides just comparing predicted outputs with ground truth values, we can also inspect the inputs to our models. What aspects of the input are more influential towards the prediction? If the focus is not on the relevant features of our input, then we need to explore if there is a hidden pattern we're missing or if our model has learned to overfit on the incorrect features. We can use techniques such as SHAP (SHapley Additive exPlanations) or LIME (Local Interpretable Model-agnostic Explanations) to inspect feature importance. On a high level, these techniques learn which features have the most signal by assessing the performance in their absence. These inspections can be performed on a global level (ex. per-class) or on a local level (ex. single prediction).",
   "id": "1cabbbee1151c28c"
  },
  {
   "metadata": {},
   "cell_type": "code",
   "outputs": [],
   "execution_count": null,
   "source": [
    "from lime.lime_text import LimeTextExplainer\n",
    "from sklearn.pipeline import make_pipeline"
   ],
   "id": "f89d3632ad4fe147"
  },
  {
   "metadata": {},
   "cell_type": "markdown",
   "source": "LimeTextExplainer.explain_instance function requires a classifier_fn that takes in a list of strings and outputs the predicted probabilities.",
   "id": "cec02273499dacd5"
  },
  {
   "metadata": {},
   "cell_type": "code",
   "outputs": [],
   "execution_count": null,
   "source": [
    "def classifier_fn(texts):\n",
    "    ds = ray.data.from_items(\n",
    "        [{\"title\": text, \"description\": \"\", \"tag\": \"other\"} for text in texts]\n",
    "    )\n",
    "    preprocessed_ds = preprocessor.transform(ds)\n",
    "    outputs = preprocessed_ds.map_batches(predictor.predict_proba)\n",
    "    y_prob = np.array([d[\"output\"] for d in outputs.take_all()])\n",
    "    return y_prob"
   ],
   "id": "81db0f3a05fa2c06"
  },
  {
   "metadata": {},
   "cell_type": "code",
   "outputs": [],
   "execution_count": null,
   "source": [
    "# Explain instance\n",
    "text = \"Using pretrained convolutional neural networks for object detection.\"\n",
    "explainer = LimeTextExplainer(class_names=list(class_to_index.keys()))\n",
    "explainer.explain_instance(\n",
    "    text, classifier_fn=classifier_fn, top_labels=1\n",
    ").show_in_notebook(text=True)"
   ],
   "id": "cb06d36b98f81326"
  },
  {
   "metadata": {},
   "cell_type": "markdown",
   "source": "## Behavioral testing",
   "id": "d6894810d76414a0"
  },
  {
   "metadata": {},
   "cell_type": "markdown",
   "source": "Besides just looking at metrics, we also want to conduct some behavioral sanity tests. Behavioral testing is the process of testing input data and expected outputs while treating the model as a black box. They don't necessarily have to be adversarial in nature but more along the types of perturbations we'll see in the real world once our model is deployed. A landmark paper on this topic is Beyond Accuracy: Behavioral Testing of NLP Models with CheckList which breaks down behavioral testing into three types of tests:",
   "id": "eb689d0eac6dbc7d"
  },
  {
   "metadata": {},
   "cell_type": "markdown",
   "source": "* `invariance`: Changes should not affect outputs.",
   "id": "ccb79aa60f87d791"
  },
  {
   "metadata": {},
   "cell_type": "code",
   "outputs": [],
   "execution_count": null,
   "source": [
    "# Invariance via verb injection (changes should not affect outputs)\n",
    "tokens = [\"revolutionized\", \"disrupted\"]\n",
    "texts = [f\"Transformers applied to NLP have {token} the ML field.\" for token in tokens]\n",
    "[preprocessor.index_to_class[y_prob.argmax()] for y_prob in classifier_fn(texts=texts)]"
   ],
   "id": "87c8049deaef7be2"
  },
  {
   "metadata": {},
   "cell_type": "markdown",
   "source": "* `directional`: Change should affect outputs.",
   "id": "75c77202bd6b50e4"
  },
  {
   "metadata": {},
   "cell_type": "code",
   "outputs": [],
   "execution_count": null,
   "source": [
    "# Directional expectations (changes with known outputs)\n",
    "tokens = [\"text classification\", \"image classification\"]\n",
    "texts = [f\"ML applied to {token}.\" for token in tokens]\n",
    "[preprocessor.index_to_class[y_prob.argmax()] for y_prob in classifier_fn(texts=texts)]"
   ],
   "id": "9932623793726416"
  },
  {
   "metadata": {},
   "cell_type": "markdown",
   "source": "* `minimum functionality`: Simple combination of inputs and expected outputs.",
   "id": "6dfaee7f769da542"
  },
  {
   "metadata": {},
   "cell_type": "code",
   "outputs": [],
   "execution_count": null,
   "source": [
    "# Minimum Functionality Tests (simple input/output pairs)\n",
    "tokens = [\"natural language processing\", \"mlops\"]\n",
    "texts = [f\"{token} is the next big wave in machine learning.\" for token in tokens]\n",
    "[preprocessor.index_to_class[y_prob.argmax()] for y_prob in classifier_fn(texts=texts)]"
   ],
   "id": "babc17b59f5d10f8"
  },
  {
   "metadata": {},
   "cell_type": "markdown",
   "source": "## Online evaluation",
   "id": "185ab13411870762"
  },
  {
   "metadata": {},
   "cell_type": "markdown",
   "source": [
    "Once we've evaluated our model's ability to perform on a static dataset we can run several types of online evaluation techniques to determine performance on actual production data. It can be performed using labels or, in the event we don't readily have labels, proxy signals.\n",
    "* manually label a subset of incoming data to evaluate periodically.\n",
    "* asking the initial set of users viewing a newly categorized content if it's correctly classified.\n",
    "* allow users to report misclassified content by our model.\n"
   ],
   "id": "fa0a41d85671ea28"
  },
  {
   "metadata": {},
   "cell_type": "markdown",
   "source": "## AB tests",
   "id": "e63884fa608fae1c"
  },
  {
   "metadata": {},
   "cell_type": "markdown",
   "source": [
    "AB testing involves sending production traffic to our current system (control group) and the new version (treatment group) and measuring if there is a statistical difference between the values for two metrics. There are several common issues with AB testing such as accounting for different sources of bias, such as the novelty effect of showing some users the new system. We also need to ensure that the same users continue to interact with the same systems so we can compare the results without contamination.\n",
    "![title](img/ab.png)"
   ],
   "id": "a7ce1345306b989b"
  },
  {
   "metadata": {},
   "cell_type": "markdown",
   "source": "## Canary tests",
   "id": "23e8854f36737db2"
  },
  {
   "metadata": {},
   "cell_type": "markdown",
   "source": [
    "Canary tests involve sending most of the production traffic to the currently deployed system but sending traffic from a small cohort of users to the new system we're trying to evaluate. Again we need to make sure that the same users continue to interact with the same system as we gradually roll out the new system.\n",
    "![title](img/canary.png)\n"
   ],
   "id": "3c2c37edfd257003"
  },
  {
   "metadata": {},
   "cell_type": "markdown",
   "source": "## Shadow tests",
   "id": "c82f9726295e3ba4"
  },
  {
   "metadata": {},
   "cell_type": "markdown",
   "source": [
    "Shadow testing involves sending the same production traffic to the different systems. We don't have to worry about system contamination and it's very safe compared to the previous approaches since the new system's results are not served. However, we do need to ensure that we're replicating as much of the production system as possible so we can catch issues that are unique to production early on. But overall, shadow testing is easy to monitor, validate operational consistency, etc.\n",
    "![title](img/shadow.png)"
   ],
   "id": "43ad3b76879f1411"
  },
  {
   "metadata": {},
   "cell_type": "markdown",
   "source": "## Capability vs. alignment",
   "id": "b87a567bf99f468e"
  },
  {
   "metadata": {},
   "cell_type": "markdown",
   "source": [
    "We've seen the many different metrics that we'll want to calculate when it comes to evaluating our model but not all metrics mean the same thing. And this becomes very important when it comes to choosing the \"best\" model(s).\n",
    "\n",
    "- **capability**: the ability of our model to perform a task, measured by the objective function we optimize for (ex. log loss)\n",
    "- **alignment**: desired behavior of our model, measured by metrics that are not differentiable or don't account for misclassifications and probability differences (ex. accuracy, precision, recall, etc.)\n",
    "\n",
    "While capability (ex. loss) and alignment (ex. accuracy) metrics may seem to be aligned, their differences can indicate issues in our data:\n",
    "\n",
    "- ↓ accuracy, ↑ loss = large errors on lots of data (worst case)\n",
    "- ↓ accuracy, ↓ loss = small errors on lots of data, distributions are close but tipped towards misclassifications (misaligned)\n",
    "- ↑ accuracy, ↑ loss = large errors on some data (incorrect predictions have very skewed distributions)\n",
    "- ↑ accuracy, ↓ loss = no/few errors on some data (best case)"
   ],
   "id": "defc382b2473e611"
  },
  {
   "metadata": {},
   "cell_type": "markdown",
   "source": "## Serving",
   "id": "93b601f2edb161fc"
  },
  {
   "metadata": {
    "ExecuteTime": {
     "end_time": "2024-12-21T17:44:43.828337Z",
     "start_time": "2024-12-21T17:44:43.623339Z"
    }
   },
   "cell_type": "code",
   "source": [
    "from scripts.config import EFS_DIR"
   ],
   "id": "2e2e5280325ef70c",
   "outputs": [],
   "execution_count": 216
  },
  {
   "metadata": {
    "ExecuteTime": {
     "end_time": "2024-12-21T17:44:43.888655Z",
     "start_time": "2024-12-21T17:44:43.841974Z"
    }
   },
   "cell_type": "code",
   "source": [
    "# Train loop config\n",
    "train_loop_config = {\n",
    "    \"dropout_p\": 0.5,\n",
    "    \"lr\": 1e-4,\n",
    "    \"lr_factor\": 0.8,\n",
    "    \"lr_patience\": 3,\n",
    "    \"num_epochs\": 10,\n",
    "    \"batch_size\": 256,\n",
    "    \"num_classes\": num_classes,\n",
    "}"
   ],
   "id": "c0a25ba5678ff5aa",
   "outputs": [],
   "execution_count": 217
  },
  {
   "metadata": {
    "ExecuteTime": {
     "end_time": "2024-12-21T17:44:44.166997Z",
     "start_time": "2024-12-21T17:44:44.105987Z"
    }
   },
   "cell_type": "code",
   "source": [
    "# Scaling config\n",
    "scaling_config = ScalingConfig(\n",
    "    num_workers=num_workers,\n",
    "    use_gpu=bool(resources_per_worker[\"GPU\"]),\n",
    "    resources_per_worker=resources_per_worker,\n",
    ")"
   ],
   "id": "d5c5664e017c80d3",
   "outputs": [],
   "execution_count": 218
  },
  {
   "metadata": {
    "ExecuteTime": {
     "end_time": "2024-12-21T17:44:44.474975Z",
     "start_time": "2024-12-21T17:44:44.434201Z"
    }
   },
   "cell_type": "code",
   "source": [
    "# Run config\n",
    "checkpoint_config = CheckpointConfig(\n",
    "    num_to_keep=1, checkpoint_score_attribute=\"val_loss\", checkpoint_score_order=\"min\"\n",
    ")\n",
    "run_config = RunConfig(\n",
    "    name=\"llm\", checkpoint_config=checkpoint_config, storage_path=EFS_DIR\n",
    ")"
   ],
   "id": "a04282feb9760bb3",
   "outputs": [],
   "execution_count": 219
  },
  {
   "metadata": {
    "ExecuteTime": {
     "end_time": "2024-12-21T17:28:57.863592Z",
     "start_time": "2024-12-21T17:28:57.717854Z"
    }
   },
   "cell_type": "code",
   "source": [
    "# Dataset\n",
    "ds = load_data()\n",
    "train_ds, val_ds = stratify_split(ds, stratify=\"tag\", test_size=test_size)"
   ],
   "id": "b799e54851f48ea4",
   "outputs": [],
   "execution_count": 209
  },
  {
   "metadata": {
    "ExecuteTime": {
     "end_time": "2024-12-21T17:29:13.468759Z",
     "start_time": "2024-12-21T17:28:58.997901Z"
    }
   },
   "cell_type": "code",
   "source": [
    "# Preprocess\n",
    "preprocessor = CustomPreprocessor()\n",
    "preprocessor = preprocessor.fit(train_ds)\n",
    "train_ds = preprocessor.transform(train_ds)\n",
    "val_ds = preprocessor.transform(val_ds)\n",
    "train_ds = train_ds.materialize()\n",
    "val_ds = val_ds.materialize()"
   ],
   "id": "e8cee4fe09bdc1e",
   "outputs": [
    {
     "name": "stderr",
     "output_type": "stream",
     "text": [
      "2024-12-21 18:28:59,040\tINFO streaming_executor.py:108 -- Starting execution of Dataset. Full logs are in /tmp/ray/session_2024-12-21_15-25-50_415018_4417/logs/ray-data\n",
      "2024-12-21 18:28:59,041\tINFO streaming_executor.py:109 -- Execution plan of Dataset: InputDataBuffer[Input] -> TaskPoolMapOperator[ReadCSV] -> AllToAllOperator[RandomShuffle] -> AllToAllOperator[Sort] -> AllToAllOperator[MapBatches(_add_split)->MapBatches(_filter_split)->RandomShuffle] -> TaskPoolMapOperator[Project] -> AllToAllOperator[Aggregate]\n"
     ]
    },
    {
     "data": {
      "text/plain": [
       "Running 0: 0.00 row [00:00, ? row/s]"
      ],
      "application/vnd.jupyter.widget-view+json": {
       "version_major": 2,
       "version_minor": 0,
       "model_id": "4b2bfec33e9a45e3a24caa198449626f"
      }
     },
     "metadata": {},
     "output_type": "display_data"
    },
    {
     "data": {
      "text/plain": [
       "- ReadCSV->SplitBlocks(20) 1: 0.00 row [00:00, ? row/s]"
      ],
      "application/vnd.jupyter.widget-view+json": {
       "version_major": 2,
       "version_minor": 0,
       "model_id": "2536a62d9ed2499c8ef2aaa448e216b7"
      }
     },
     "metadata": {},
     "output_type": "display_data"
    },
    {
     "data": {
      "text/plain": [
       "- RandomShuffle 2: 0.00 row [00:00, ? row/s]"
      ],
      "application/vnd.jupyter.widget-view+json": {
       "version_major": 2,
       "version_minor": 0,
       "model_id": "7e747ad6ff1d4a9f87b84b410147187e"
      }
     },
     "metadata": {},
     "output_type": "display_data"
    },
    {
     "data": {
      "text/plain": [
       "Shuffle Map 3:   0%|          | 0.00/1.00 [00:00<?, ? row/s]"
      ],
      "application/vnd.jupyter.widget-view+json": {
       "version_major": 2,
       "version_minor": 0,
       "model_id": "b8d78e2ee90b4cb7adc973c9a170ebcf"
      }
     },
     "metadata": {},
     "output_type": "display_data"
    },
    {
     "data": {
      "text/plain": [
       "Shuffle Reduce 4:   0%|          | 0.00/1.00 [00:00<?, ? row/s]"
      ],
      "application/vnd.jupyter.widget-view+json": {
       "version_major": 2,
       "version_minor": 0,
       "model_id": "5c9a56410fc94492beb97e3f929de5e7"
      }
     },
     "metadata": {},
     "output_type": "display_data"
    },
    {
     "data": {
      "text/plain": [
       "- Sort 5: 0.00 row [00:00, ? row/s]"
      ],
      "application/vnd.jupyter.widget-view+json": {
       "version_major": 2,
       "version_minor": 0,
       "model_id": "753b0d57133a4d39a1c8873ec4eebe66"
      }
     },
     "metadata": {},
     "output_type": "display_data"
    },
    {
     "data": {
      "text/plain": [
       "Sort Sample 6:   0%|          | 0.00/1.00 [00:00<?, ? row/s]"
      ],
      "application/vnd.jupyter.widget-view+json": {
       "version_major": 2,
       "version_minor": 0,
       "model_id": "e7cdf965f11c467d9464cc1f09b98eb7"
      }
     },
     "metadata": {},
     "output_type": "display_data"
    },
    {
     "data": {
      "text/plain": [
       "Shuffle Map 7:   0%|          | 0.00/1.00 [00:00<?, ? row/s]"
      ],
      "application/vnd.jupyter.widget-view+json": {
       "version_major": 2,
       "version_minor": 0,
       "model_id": "99ec2642012b40d7849550cc57e0c934"
      }
     },
     "metadata": {},
     "output_type": "display_data"
    },
    {
     "data": {
      "text/plain": [
       "Shuffle Reduce 8:   0%|          | 0.00/1.00 [00:00<?, ? row/s]"
      ],
      "application/vnd.jupyter.widget-view+json": {
       "version_major": 2,
       "version_minor": 0,
       "model_id": "53b7fb4f465c4aafb89b82fae6e78b31"
      }
     },
     "metadata": {},
     "output_type": "display_data"
    },
    {
     "data": {
      "text/plain": [
       "- MapBatches(_add_split)->MapBatches(_filter_split)->RandomShuffle 9: 0.00 row [00:00, ? row/s]"
      ],
      "application/vnd.jupyter.widget-view+json": {
       "version_major": 2,
       "version_minor": 0,
       "model_id": "85ce445bfb77469bb9e4cc8a6d00a53b"
      }
     },
     "metadata": {},
     "output_type": "display_data"
    },
    {
     "data": {
      "text/plain": [
       "Shuffle Map 10:   0%|          | 0.00/1.00 [00:00<?, ? row/s]"
      ],
      "application/vnd.jupyter.widget-view+json": {
       "version_major": 2,
       "version_minor": 0,
       "model_id": "d034c08753e3457ea438e7b33aabf2ea"
      }
     },
     "metadata": {},
     "output_type": "display_data"
    },
    {
     "data": {
      "text/plain": [
       "Shuffle Reduce 11:   0%|          | 0.00/1.00 [00:00<?, ? row/s]"
      ],
      "application/vnd.jupyter.widget-view+json": {
       "version_major": 2,
       "version_minor": 0,
       "model_id": "c75ae79317f54f85a2e52ae28f083409"
      }
     },
     "metadata": {},
     "output_type": "display_data"
    },
    {
     "data": {
      "text/plain": [
       "- Project 12: 0.00 row [00:00, ? row/s]"
      ],
      "application/vnd.jupyter.widget-view+json": {
       "version_major": 2,
       "version_minor": 0,
       "model_id": "58b15bf14349448fa7c0b84d9eb3abb7"
      }
     },
     "metadata": {},
     "output_type": "display_data"
    },
    {
     "data": {
      "text/plain": [
       "- Aggregate 13: 0.00 row [00:00, ? row/s]"
      ],
      "application/vnd.jupyter.widget-view+json": {
       "version_major": 2,
       "version_minor": 0,
       "model_id": "db27e31b38984fd7824b6749629f577d"
      }
     },
     "metadata": {},
     "output_type": "display_data"
    },
    {
     "data": {
      "text/plain": [
       "Sort Sample 14:   0%|          | 0.00/1.00 [00:00<?, ? row/s]"
      ],
      "application/vnd.jupyter.widget-view+json": {
       "version_major": 2,
       "version_minor": 0,
       "model_id": "bf3ee149ecd34c43816916d4ee4e4efe"
      }
     },
     "metadata": {},
     "output_type": "display_data"
    },
    {
     "data": {
      "text/plain": [
       "Shuffle Map 15:   0%|          | 0.00/1.00 [00:00<?, ? row/s]"
      ],
      "application/vnd.jupyter.widget-view+json": {
       "version_major": 2,
       "version_minor": 0,
       "model_id": "f691735ce862470b9daf2918a7715dfc"
      }
     },
     "metadata": {},
     "output_type": "display_data"
    },
    {
     "data": {
      "text/plain": [
       "Shuffle Reduce 16:   0%|          | 0.00/1.00 [00:00<?, ? row/s]"
      ],
      "application/vnd.jupyter.widget-view+json": {
       "version_major": 2,
       "version_minor": 0,
       "model_id": "90080a2c631b40719e8ae42504f02592"
      }
     },
     "metadata": {},
     "output_type": "display_data"
    },
    {
     "name": "stderr",
     "output_type": "stream",
     "text": [
      "2024-12-21 18:29:01,809\tINFO streaming_executor.py:108 -- Starting execution of Dataset. Full logs are in /tmp/ray/session_2024-12-21_15-25-50_415018_4417/logs/ray-data\n",
      "2024-12-21 18:29:01,809\tINFO streaming_executor.py:109 -- Execution plan of Dataset: InputDataBuffer[Input] -> TaskPoolMapOperator[ReadCSV] -> AllToAllOperator[RandomShuffle] -> AllToAllOperator[Sort] -> AllToAllOperator[MapBatches(_add_split)->MapBatches(_filter_split)->RandomShuffle] -> TaskPoolMapOperator[MapBatches(preprocess)]\n"
     ]
    },
    {
     "data": {
      "text/plain": [
       "Running 0: 0.00 row [00:00, ? row/s]"
      ],
      "application/vnd.jupyter.widget-view+json": {
       "version_major": 2,
       "version_minor": 0,
       "model_id": "dc5dd9b8078c435aa7673911a92e990a"
      }
     },
     "metadata": {},
     "output_type": "display_data"
    },
    {
     "data": {
      "text/plain": [
       "- ReadCSV->SplitBlocks(20) 1: 0.00 row [00:00, ? row/s]"
      ],
      "application/vnd.jupyter.widget-view+json": {
       "version_major": 2,
       "version_minor": 0,
       "model_id": "ee40e16ee08c4d33b9f0e7478aee08b7"
      }
     },
     "metadata": {},
     "output_type": "display_data"
    },
    {
     "data": {
      "text/plain": [
       "- RandomShuffle 2: 0.00 row [00:00, ? row/s]"
      ],
      "application/vnd.jupyter.widget-view+json": {
       "version_major": 2,
       "version_minor": 0,
       "model_id": "387afa02e93747c0a7c7d6c0103ea544"
      }
     },
     "metadata": {},
     "output_type": "display_data"
    },
    {
     "data": {
      "text/plain": [
       "Shuffle Map 3:   0%|          | 0.00/1.00 [00:00<?, ? row/s]"
      ],
      "application/vnd.jupyter.widget-view+json": {
       "version_major": 2,
       "version_minor": 0,
       "model_id": "f813eb0154934a6fbdf331aba803a1ee"
      }
     },
     "metadata": {},
     "output_type": "display_data"
    },
    {
     "data": {
      "text/plain": [
       "Shuffle Reduce 4:   0%|          | 0.00/1.00 [00:00<?, ? row/s]"
      ],
      "application/vnd.jupyter.widget-view+json": {
       "version_major": 2,
       "version_minor": 0,
       "model_id": "10357d0281c64d229113653292d5f829"
      }
     },
     "metadata": {},
     "output_type": "display_data"
    },
    {
     "data": {
      "text/plain": [
       "- Sort 5: 0.00 row [00:00, ? row/s]"
      ],
      "application/vnd.jupyter.widget-view+json": {
       "version_major": 2,
       "version_minor": 0,
       "model_id": "c81df4e1ead3458fa5287ad7e70886f7"
      }
     },
     "metadata": {},
     "output_type": "display_data"
    },
    {
     "data": {
      "text/plain": [
       "Sort Sample 6:   0%|          | 0.00/1.00 [00:00<?, ? row/s]"
      ],
      "application/vnd.jupyter.widget-view+json": {
       "version_major": 2,
       "version_minor": 0,
       "model_id": "7619b342e51445c49f02db7f266b2616"
      }
     },
     "metadata": {},
     "output_type": "display_data"
    },
    {
     "data": {
      "text/plain": [
       "Shuffle Map 7:   0%|          | 0.00/1.00 [00:00<?, ? row/s]"
      ],
      "application/vnd.jupyter.widget-view+json": {
       "version_major": 2,
       "version_minor": 0,
       "model_id": "e2576e61ad094b20878ef11329ed7fd8"
      }
     },
     "metadata": {},
     "output_type": "display_data"
    },
    {
     "data": {
      "text/plain": [
       "Shuffle Reduce 8:   0%|          | 0.00/1.00 [00:00<?, ? row/s]"
      ],
      "application/vnd.jupyter.widget-view+json": {
       "version_major": 2,
       "version_minor": 0,
       "model_id": "92bf1f66f1fa42fa84485cd87e4057bd"
      }
     },
     "metadata": {},
     "output_type": "display_data"
    },
    {
     "data": {
      "text/plain": [
       "- MapBatches(_add_split)->MapBatches(_filter_split)->RandomShuffle 9: 0.00 row [00:00, ? row/s]"
      ],
      "application/vnd.jupyter.widget-view+json": {
       "version_major": 2,
       "version_minor": 0,
       "model_id": "ebc599e0e82c4cc091951fa2ee12799f"
      }
     },
     "metadata": {},
     "output_type": "display_data"
    },
    {
     "data": {
      "text/plain": [
       "Shuffle Map 10:   0%|          | 0.00/1.00 [00:00<?, ? row/s]"
      ],
      "application/vnd.jupyter.widget-view+json": {
       "version_major": 2,
       "version_minor": 0,
       "model_id": "2eb061dcbbfd4c2a8de9b3656966e6a0"
      }
     },
     "metadata": {},
     "output_type": "display_data"
    },
    {
     "data": {
      "text/plain": [
       "Shuffle Reduce 11:   0%|          | 0.00/1.00 [00:00<?, ? row/s]"
      ],
      "application/vnd.jupyter.widget-view+json": {
       "version_major": 2,
       "version_minor": 0,
       "model_id": "0aac47f4383a4d9b8e348c03b8f26d9c"
      }
     },
     "metadata": {},
     "output_type": "display_data"
    },
    {
     "data": {
      "text/plain": [
       "- MapBatches(preprocess) 12: 0.00 row [00:00, ? row/s]"
      ],
      "application/vnd.jupyter.widget-view+json": {
       "version_major": 2,
       "version_minor": 0,
       "model_id": "c6a9391138bc4cfd976b1bef6efe9c97"
      }
     },
     "metadata": {},
     "output_type": "display_data"
    },
    {
     "name": "stderr",
     "output_type": "stream",
     "text": [
      "2024-12-21 18:29:11,904\tINFO streaming_executor.py:108 -- Starting execution of Dataset. Full logs are in /tmp/ray/session_2024-12-21_15-25-50_415018_4417/logs/ray-data\n",
      "2024-12-21 18:29:11,904\tINFO streaming_executor.py:109 -- Execution plan of Dataset: InputDataBuffer[Input] -> TaskPoolMapOperator[ReadCSV] -> AllToAllOperator[RandomShuffle] -> AllToAllOperator[Sort] -> AllToAllOperator[MapBatches(_add_split)->MapBatches(_filter_split)->RandomShuffle] -> TaskPoolMapOperator[MapBatches(preprocess)]\n"
     ]
    },
    {
     "data": {
      "text/plain": [
       "Running 0: 0.00 row [00:00, ? row/s]"
      ],
      "application/vnd.jupyter.widget-view+json": {
       "version_major": 2,
       "version_minor": 0,
       "model_id": "cc5935e7c37a4cdaa78d22be5f5a2bb6"
      }
     },
     "metadata": {},
     "output_type": "display_data"
    },
    {
     "data": {
      "text/plain": [
       "- ReadCSV->SplitBlocks(20) 1: 0.00 row [00:00, ? row/s]"
      ],
      "application/vnd.jupyter.widget-view+json": {
       "version_major": 2,
       "version_minor": 0,
       "model_id": "64403d93fa87407abce3ad72cd0fe522"
      }
     },
     "metadata": {},
     "output_type": "display_data"
    },
    {
     "data": {
      "text/plain": [
       "- RandomShuffle 2: 0.00 row [00:00, ? row/s]"
      ],
      "application/vnd.jupyter.widget-view+json": {
       "version_major": 2,
       "version_minor": 0,
       "model_id": "4f35245b8d0f407290c032c254f6416f"
      }
     },
     "metadata": {},
     "output_type": "display_data"
    },
    {
     "data": {
      "text/plain": [
       "Shuffle Map 3:   0%|          | 0.00/1.00 [00:00<?, ? row/s]"
      ],
      "application/vnd.jupyter.widget-view+json": {
       "version_major": 2,
       "version_minor": 0,
       "model_id": "c1aa517a2d9c44b89332f43974e7e08f"
      }
     },
     "metadata": {},
     "output_type": "display_data"
    },
    {
     "data": {
      "text/plain": [
       "Shuffle Reduce 4:   0%|          | 0.00/1.00 [00:00<?, ? row/s]"
      ],
      "application/vnd.jupyter.widget-view+json": {
       "version_major": 2,
       "version_minor": 0,
       "model_id": "5b4056638c29449baf3f78881a89b0e7"
      }
     },
     "metadata": {},
     "output_type": "display_data"
    },
    {
     "data": {
      "text/plain": [
       "- Sort 5: 0.00 row [00:00, ? row/s]"
      ],
      "application/vnd.jupyter.widget-view+json": {
       "version_major": 2,
       "version_minor": 0,
       "model_id": "6eac8a5271274507b42ba79351747312"
      }
     },
     "metadata": {},
     "output_type": "display_data"
    },
    {
     "data": {
      "text/plain": [
       "Sort Sample 6:   0%|          | 0.00/1.00 [00:00<?, ? row/s]"
      ],
      "application/vnd.jupyter.widget-view+json": {
       "version_major": 2,
       "version_minor": 0,
       "model_id": "194c9e37a2ad40d2b4e5a68a952713d8"
      }
     },
     "metadata": {},
     "output_type": "display_data"
    },
    {
     "data": {
      "text/plain": [
       "Shuffle Map 7:   0%|          | 0.00/1.00 [00:00<?, ? row/s]"
      ],
      "application/vnd.jupyter.widget-view+json": {
       "version_major": 2,
       "version_minor": 0,
       "model_id": "db3417b8435142b3b3261da31b4bd700"
      }
     },
     "metadata": {},
     "output_type": "display_data"
    },
    {
     "data": {
      "text/plain": [
       "Shuffle Reduce 8:   0%|          | 0.00/1.00 [00:00<?, ? row/s]"
      ],
      "application/vnd.jupyter.widget-view+json": {
       "version_major": 2,
       "version_minor": 0,
       "model_id": "10ef021fc70b4e43bcd65a9c419b4f39"
      }
     },
     "metadata": {},
     "output_type": "display_data"
    },
    {
     "data": {
      "text/plain": [
       "- MapBatches(_add_split)->MapBatches(_filter_split)->RandomShuffle 9: 0.00 row [00:00, ? row/s]"
      ],
      "application/vnd.jupyter.widget-view+json": {
       "version_major": 2,
       "version_minor": 0,
       "model_id": "40799136b5604646af451bcdfc35ff9e"
      }
     },
     "metadata": {},
     "output_type": "display_data"
    },
    {
     "data": {
      "text/plain": [
       "Shuffle Map 10:   0%|          | 0.00/1.00 [00:00<?, ? row/s]"
      ],
      "application/vnd.jupyter.widget-view+json": {
       "version_major": 2,
       "version_minor": 0,
       "model_id": "fc28ce01707d4ecc81022641a2a316b6"
      }
     },
     "metadata": {},
     "output_type": "display_data"
    },
    {
     "data": {
      "text/plain": [
       "Shuffle Reduce 11:   0%|          | 0.00/1.00 [00:00<?, ? row/s]"
      ],
      "application/vnd.jupyter.widget-view+json": {
       "version_major": 2,
       "version_minor": 0,
       "model_id": "d7101401b2d94a07a891b3c8c9729fe9"
      }
     },
     "metadata": {},
     "output_type": "display_data"
    },
    {
     "data": {
      "text/plain": [
       "- MapBatches(preprocess) 12: 0.00 row [00:00, ? row/s]"
      ],
      "application/vnd.jupyter.widget-view+json": {
       "version_major": 2,
       "version_minor": 0,
       "model_id": "2c82b529d7da44ff9859cda75d422f57"
      }
     },
     "metadata": {},
     "output_type": "display_data"
    }
   ],
   "execution_count": 210
  },
  {
   "metadata": {
    "ExecuteTime": {
     "end_time": "2024-12-21T17:29:17.010763Z",
     "start_time": "2024-12-21T17:29:16.972130Z"
    }
   },
   "cell_type": "code",
   "source": [
    "# Dataset config\n",
    "options = ray.data.ExecutionOptions(preserve_order=True)\n",
    "dataset_config = DataConfig(datasets_to_split=[\"train\"], execution_options=options)"
   ],
   "id": "796b68bac681e641",
   "outputs": [],
   "execution_count": 211
  },
  {
   "metadata": {
    "ExecuteTime": {
     "end_time": "2024-12-21T17:29:18.788372Z",
     "start_time": "2024-12-21T17:29:18.749993Z"
    }
   },
   "cell_type": "code",
   "source": [
    "# Trainer\n",
    "trainer = TorchTrainer(\n",
    "    train_loop_per_worker=train_loop_per_worker,\n",
    "    train_loop_config=train_loop_config,\n",
    "    scaling_config=scaling_config,\n",
    "    run_config=run_config,\n",
    "    datasets={\"train\": train_ds, \"val\": val_ds},\n",
    "    dataset_config=dataset_config,\n",
    "    metadata={\"class_to_index\": preprocessor.class_to_index},\n",
    ")"
   ],
   "id": "6b8de662eabdf7a2",
   "outputs": [],
   "execution_count": 212
  },
  {
   "metadata": {
    "ExecuteTime": {
     "end_time": "2024-12-21T17:44:43.225782Z",
     "start_time": "2024-12-21T17:36:18.645594Z"
    }
   },
   "cell_type": "code",
   "source": [
    "%%time\n",
    "# Train\n",
    "results = trainer.fit()"
   ],
   "id": "71bee3d14be29661",
   "outputs": [
    {
     "name": "stderr",
     "output_type": "stream",
     "text": [
      "2024-12-21 18:36:18,731\tINFO tune.py:616 -- [output] This uses the legacy output and progress reporter, as Jupyter notebooks are not supported by the new engine, yet. For more information, please see https://github.com/ray-project/ray/issues/36949\n",
      "2024-12-21 18:36:18,735\tWARNING callback.py:136 -- The TensorboardX logger cannot be instantiated because either TensorboardX or one of it's dependencies is not installed. Please make sure you have the latest version of TensorboardX installed: `pip install -U tensorboardx`\n"
     ]
    },
    {
     "name": "stdout",
     "output_type": "stream",
     "text": [
      "== Status ==\n",
      "Current time: 2024-12-21 18:36:18 (running for 00:00:00.11)\n",
      "Using FIFO scheduling algorithm.\n",
      "Logical resource usage: 7.0/10 CPUs, 0/0 GPUs\n",
      "Result logdir: /tmp/ray/session_2024-12-21_15-25-50_415018_4417/artifacts/2024-12-21_18-36-18/TorchTrainer_2024-12-21_18-29-20/driver_artifacts\n",
      "Number of trials: 1/1 (1 PENDING)\n",
      "\n",
      "\n",
      "== Status ==\n",
      "Current time: 2024-12-21 18:36:23 (running for 00:00:05.13)\n",
      "Using FIFO scheduling algorithm.\n",
      "Logical resource usage: 7.0/10 CPUs, 0/0 GPUs\n",
      "Result logdir: /tmp/ray/session_2024-12-21_15-25-50_415018_4417/artifacts/2024-12-21_18-36-18/TorchTrainer_2024-12-21_18-29-20/driver_artifacts\n",
      "Number of trials: 1/1 (1 RUNNING)\n",
      "\n",
      "\n"
     ]
    },
    {
     "data": {
      "text/plain": [
       "(pid=9181) Running 0: 0.00 row [00:00, ? row/s]"
      ],
      "application/vnd.jupyter.widget-view+json": {
       "version_major": 2,
       "version_minor": 0,
       "model_id": "d594fc8fac5c4680b737e769c75c189a"
      }
     },
     "metadata": {},
     "output_type": "display_data"
    },
    {
     "data": {
      "text/plain": [
       "(pid=9181) - split(6, equal=True) 1: 0.00 row [00:00, ? row/s]"
      ],
      "application/vnd.jupyter.widget-view+json": {
       "version_major": 2,
       "version_minor": 0,
       "model_id": "ca3ec0f619544e37b280ad5f4fb28e0e"
      }
     },
     "metadata": {},
     "output_type": "display_data"
    },
    {
     "name": "stdout",
     "output_type": "stream",
     "text": [
      "== Status ==\n",
      "Current time: 2024-12-21 18:36:28 (running for 00:00:10.13)\n",
      "Using FIFO scheduling algorithm.\n",
      "Logical resource usage: 7.0/10 CPUs, 0/0 GPUs\n",
      "Result logdir: /tmp/ray/session_2024-12-21_15-25-50_415018_4417/artifacts/2024-12-21_18-36-18/TorchTrainer_2024-12-21_18-29-20/driver_artifacts\n",
      "Number of trials: 1/1 (1 RUNNING)\n",
      "\n",
      "\n",
      "== Status ==\n",
      "Current time: 2024-12-21 18:36:33 (running for 00:00:15.23)\n",
      "Using FIFO scheduling algorithm.\n",
      "Logical resource usage: 7.0/10 CPUs, 0/0 GPUs\n",
      "Result logdir: /tmp/ray/session_2024-12-21_15-25-50_415018_4417/artifacts/2024-12-21_18-36-18/TorchTrainer_2024-12-21_18-29-20/driver_artifacts\n",
      "Number of trials: 1/1 (1 RUNNING)\n",
      "\n",
      "\n",
      "== Status ==\n",
      "Current time: 2024-12-21 18:36:39 (running for 00:00:20.32)\n",
      "Using FIFO scheduling algorithm.\n",
      "Logical resource usage: 7.0/10 CPUs, 0/0 GPUs\n",
      "Result logdir: /tmp/ray/session_2024-12-21_15-25-50_415018_4417/artifacts/2024-12-21_18-36-18/TorchTrainer_2024-12-21_18-29-20/driver_artifacts\n",
      "Number of trials: 1/1 (1 RUNNING)\n",
      "\n",
      "\n",
      "== Status ==\n",
      "Current time: 2024-12-21 18:36:44 (running for 00:00:25.42)\n",
      "Using FIFO scheduling algorithm.\n",
      "Logical resource usage: 7.0/10 CPUs, 0/0 GPUs\n",
      "Result logdir: /tmp/ray/session_2024-12-21_15-25-50_415018_4417/artifacts/2024-12-21_18-36-18/TorchTrainer_2024-12-21_18-29-20/driver_artifacts\n",
      "Number of trials: 1/1 (1 RUNNING)\n",
      "\n",
      "\n",
      "== Status ==\n",
      "Current time: 2024-12-21 18:36:49 (running for 00:00:30.43)\n",
      "Using FIFO scheduling algorithm.\n",
      "Logical resource usage: 7.0/10 CPUs, 0/0 GPUs\n",
      "Result logdir: /tmp/ray/session_2024-12-21_15-25-50_415018_4417/artifacts/2024-12-21_18-36-18/TorchTrainer_2024-12-21_18-29-20/driver_artifacts\n",
      "Number of trials: 1/1 (1 RUNNING)\n",
      "\n",
      "\n",
      "== Status ==\n",
      "Current time: 2024-12-21 18:36:54 (running for 00:00:35.51)\n",
      "Using FIFO scheduling algorithm.\n",
      "Logical resource usage: 7.0/10 CPUs, 0/0 GPUs\n",
      "Result logdir: /tmp/ray/session_2024-12-21_15-25-50_415018_4417/artifacts/2024-12-21_18-36-18/TorchTrainer_2024-12-21_18-29-20/driver_artifacts\n",
      "Number of trials: 1/1 (1 RUNNING)\n",
      "\n",
      "\n",
      "== Status ==\n",
      "Current time: 2024-12-21 18:36:59 (running for 00:00:40.61)\n",
      "Using FIFO scheduling algorithm.\n",
      "Logical resource usage: 7.0/10 CPUs, 0/0 GPUs\n",
      "Result logdir: /tmp/ray/session_2024-12-21_15-25-50_415018_4417/artifacts/2024-12-21_18-36-18/TorchTrainer_2024-12-21_18-29-20/driver_artifacts\n",
      "Number of trials: 1/1 (1 RUNNING)\n",
      "\n",
      "\n",
      "== Status ==\n",
      "Current time: 2024-12-21 18:37:04 (running for 00:00:45.70)\n",
      "Using FIFO scheduling algorithm.\n",
      "Logical resource usage: 7.0/10 CPUs, 0/0 GPUs\n",
      "Result logdir: /tmp/ray/session_2024-12-21_15-25-50_415018_4417/artifacts/2024-12-21_18-36-18/TorchTrainer_2024-12-21_18-29-20/driver_artifacts\n",
      "Number of trials: 1/1 (1 RUNNING)\n",
      "\n",
      "\n",
      "== Status ==\n",
      "Current time: 2024-12-21 18:37:09 (running for 00:00:50.79)\n",
      "Using FIFO scheduling algorithm.\n",
      "Logical resource usage: 7.0/10 CPUs, 0/0 GPUs\n",
      "Result logdir: /tmp/ray/session_2024-12-21_15-25-50_415018_4417/artifacts/2024-12-21_18-36-18/TorchTrainer_2024-12-21_18-29-20/driver_artifacts\n",
      "Number of trials: 1/1 (1 RUNNING)\n",
      "\n",
      "\n",
      "== Status ==\n",
      "Current time: 2024-12-21 18:37:14 (running for 00:00:55.87)\n",
      "Using FIFO scheduling algorithm.\n",
      "Logical resource usage: 7.0/10 CPUs, 0/0 GPUs\n",
      "Result logdir: /tmp/ray/session_2024-12-21_15-25-50_415018_4417/artifacts/2024-12-21_18-36-18/TorchTrainer_2024-12-21_18-29-20/driver_artifacts\n",
      "Number of trials: 1/1 (1 RUNNING)\n",
      "\n",
      "\n"
     ]
    },
    {
     "data": {
      "text/plain": [
       "(pid=9181) Running 0: 0.00 row [00:00, ? row/s]"
      ],
      "application/vnd.jupyter.widget-view+json": {
       "version_major": 2,
       "version_minor": 0,
       "model_id": "95d539465cd546abbd94101251156110"
      }
     },
     "metadata": {},
     "output_type": "display_data"
    },
    {
     "data": {
      "text/plain": [
       "(pid=9181) - split(6, equal=True) 1: 0.00 row [00:00, ? row/s]"
      ],
      "application/vnd.jupyter.widget-view+json": {
       "version_major": 2,
       "version_minor": 0,
       "model_id": "bcb2d34d9d064473a55c1a6403b76d57"
      }
     },
     "metadata": {},
     "output_type": "display_data"
    },
    {
     "name": "stdout",
     "output_type": "stream",
     "text": [
      "== Status ==\n",
      "Current time: 2024-12-21 18:37:19 (running for 00:01:00.95)\n",
      "Using FIFO scheduling algorithm.\n",
      "Logical resource usage: 7.0/10 CPUs, 0/0 GPUs\n",
      "Result logdir: /tmp/ray/session_2024-12-21_15-25-50_415018_4417/artifacts/2024-12-21_18-36-18/TorchTrainer_2024-12-21_18-29-20/driver_artifacts\n",
      "Number of trials: 1/1 (1 RUNNING)\n",
      "\n",
      "\n",
      "== Status ==\n",
      "Current time: 2024-12-21 18:37:24 (running for 00:01:05.96)\n",
      "Using FIFO scheduling algorithm.\n",
      "Logical resource usage: 7.0/10 CPUs, 0/0 GPUs\n",
      "Result logdir: /tmp/ray/session_2024-12-21_15-25-50_415018_4417/artifacts/2024-12-21_18-36-18/TorchTrainer_2024-12-21_18-29-20/driver_artifacts\n",
      "Number of trials: 1/1 (1 RUNNING)\n",
      "\n",
      "\n",
      "== Status ==\n",
      "Current time: 2024-12-21 18:37:29 (running for 00:01:11.05)\n",
      "Using FIFO scheduling algorithm.\n",
      "Logical resource usage: 7.0/10 CPUs, 0/0 GPUs\n",
      "Result logdir: /tmp/ray/session_2024-12-21_15-25-50_415018_4417/artifacts/2024-12-21_18-36-18/TorchTrainer_2024-12-21_18-29-20/driver_artifacts\n",
      "Number of trials: 1/1 (1 RUNNING)\n",
      "\n",
      "\n",
      "== Status ==\n",
      "Current time: 2024-12-21 18:37:34 (running for 00:01:16.14)\n",
      "Using FIFO scheduling algorithm.\n",
      "Logical resource usage: 7.0/10 CPUs, 0/0 GPUs\n",
      "Result logdir: /tmp/ray/session_2024-12-21_15-25-50_415018_4417/artifacts/2024-12-21_18-36-18/TorchTrainer_2024-12-21_18-29-20/driver_artifacts\n",
      "Number of trials: 1/1 (1 RUNNING)\n",
      "\n",
      "\n",
      "== Status ==\n",
      "Current time: 2024-12-21 18:37:39 (running for 00:01:21.15)\n",
      "Using FIFO scheduling algorithm.\n",
      "Logical resource usage: 7.0/10 CPUs, 0/0 GPUs\n",
      "Result logdir: /tmp/ray/session_2024-12-21_15-25-50_415018_4417/artifacts/2024-12-21_18-36-18/TorchTrainer_2024-12-21_18-29-20/driver_artifacts\n",
      "Number of trials: 1/1 (1 RUNNING)\n",
      "\n",
      "\n",
      "== Status ==\n",
      "Current time: 2024-12-21 18:37:44 (running for 00:01:26.24)\n",
      "Using FIFO scheduling algorithm.\n",
      "Logical resource usage: 7.0/10 CPUs, 0/0 GPUs\n",
      "Result logdir: /tmp/ray/session_2024-12-21_15-25-50_415018_4417/artifacts/2024-12-21_18-36-18/TorchTrainer_2024-12-21_18-29-20/driver_artifacts\n",
      "Number of trials: 1/1 (1 RUNNING)\n",
      "\n",
      "\n",
      "== Status ==\n",
      "Current time: 2024-12-21 18:37:50 (running for 00:01:31.33)\n",
      "Using FIFO scheduling algorithm.\n",
      "Logical resource usage: 7.0/10 CPUs, 0/0 GPUs\n",
      "Result logdir: /tmp/ray/session_2024-12-21_15-25-50_415018_4417/artifacts/2024-12-21_18-36-18/TorchTrainer_2024-12-21_18-29-20/driver_artifacts\n",
      "Number of trials: 1/1 (1 RUNNING)\n",
      "\n",
      "\n",
      "== Status ==\n",
      "Current time: 2024-12-21 18:37:55 (running for 00:01:36.42)\n",
      "Using FIFO scheduling algorithm.\n",
      "Logical resource usage: 7.0/10 CPUs, 0/0 GPUs\n",
      "Result logdir: /tmp/ray/session_2024-12-21_15-25-50_415018_4417/artifacts/2024-12-21_18-36-18/TorchTrainer_2024-12-21_18-29-20/driver_artifacts\n",
      "Number of trials: 1/1 (1 RUNNING)\n",
      "\n",
      "\n",
      "== Status ==\n",
      "Current time: 2024-12-21 18:38:00 (running for 00:01:41.44)\n",
      "Using FIFO scheduling algorithm.\n",
      "Logical resource usage: 7.0/10 CPUs, 0/0 GPUs\n",
      "Result logdir: /tmp/ray/session_2024-12-21_15-25-50_415018_4417/artifacts/2024-12-21_18-36-18/TorchTrainer_2024-12-21_18-29-20/driver_artifacts\n",
      "Number of trials: 1/1 (1 RUNNING)\n",
      "\n",
      "\n",
      "== Status ==\n",
      "Current time: 2024-12-21 18:38:05 (running for 00:01:46.53)\n",
      "Using FIFO scheduling algorithm.\n",
      "Logical resource usage: 7.0/10 CPUs, 0/0 GPUs\n",
      "Result logdir: /tmp/ray/session_2024-12-21_15-25-50_415018_4417/artifacts/2024-12-21_18-36-18/TorchTrainer_2024-12-21_18-29-20/driver_artifacts\n",
      "Number of trials: 1/1 (1 RUNNING)\n",
      "\n",
      "\n",
      "== Status ==\n",
      "Current time: 2024-12-21 18:38:10 (running for 00:01:51.60)\n",
      "Using FIFO scheduling algorithm.\n",
      "Logical resource usage: 7.0/10 CPUs, 0/0 GPUs\n",
      "Result logdir: /tmp/ray/session_2024-12-21_15-25-50_415018_4417/artifacts/2024-12-21_18-36-18/TorchTrainer_2024-12-21_18-29-20/driver_artifacts\n",
      "Number of trials: 1/1 (1 RUNNING)\n",
      "\n",
      "\n"
     ]
    },
    {
     "name": "stderr",
     "output_type": "stream",
     "text": [
      "2024-12-21 18:38:10,806\tWARNING experiment_state.py:206 -- Experiment state snapshotting has been triggered multiple times in the last 5.0 seconds and may become a bottleneck. A snapshot is forced if `CheckpointConfig(num_to_keep)` is set, and a trial has checkpointed >= `num_to_keep` times since the last snapshot.\n",
      "You may want to consider increasing the `CheckpointConfig(num_to_keep)` or decreasing the frequency of saving checkpoints.\n",
      "You can suppress this warning by setting the environment variable TUNE_WARN_EXCESSIVE_EXPERIMENT_CHECKPOINT_SYNC_THRESHOLD_S to a smaller value than the current threshold (5.0). Set it to 0 to completely suppress this warning.\n"
     ]
    },
    {
     "data": {
      "text/plain": [
       "(pid=9181) Running 0: 0.00 row [00:00, ? row/s]"
      ],
      "application/vnd.jupyter.widget-view+json": {
       "version_major": 2,
       "version_minor": 0,
       "model_id": "a4fc599e92e74ebf8daeef9d8c47494a"
      }
     },
     "metadata": {},
     "output_type": "display_data"
    },
    {
     "data": {
      "text/plain": [
       "(pid=9181) - split(6, equal=True) 1: 0.00 row [00:00, ? row/s]"
      ],
      "application/vnd.jupyter.widget-view+json": {
       "version_major": 2,
       "version_minor": 0,
       "model_id": "19f34401abb041809166bf6ce5542e4b"
      }
     },
     "metadata": {},
     "output_type": "display_data"
    },
    {
     "name": "stdout",
     "output_type": "stream",
     "text": [
      "== Status ==\n",
      "Current time: 2024-12-21 18:38:15 (running for 00:01:56.62)\n",
      "Using FIFO scheduling algorithm.\n",
      "Logical resource usage: 7.0/10 CPUs, 0/0 GPUs\n",
      "Result logdir: /tmp/ray/session_2024-12-21_15-25-50_415018_4417/artifacts/2024-12-21_18-36-18/TorchTrainer_2024-12-21_18-29-20/driver_artifacts\n",
      "Number of trials: 1/1 (1 RUNNING)\n",
      "\n",
      "\n",
      "== Status ==\n",
      "Current time: 2024-12-21 18:38:20 (running for 00:02:01.71)\n",
      "Using FIFO scheduling algorithm.\n",
      "Logical resource usage: 7.0/10 CPUs, 0/0 GPUs\n",
      "Result logdir: /tmp/ray/session_2024-12-21_15-25-50_415018_4417/artifacts/2024-12-21_18-36-18/TorchTrainer_2024-12-21_18-29-20/driver_artifacts\n",
      "Number of trials: 1/1 (1 RUNNING)\n",
      "\n",
      "\n",
      "== Status ==\n",
      "Current time: 2024-12-21 18:38:25 (running for 00:02:06.80)\n",
      "Using FIFO scheduling algorithm.\n",
      "Logical resource usage: 7.0/10 CPUs, 0/0 GPUs\n",
      "Result logdir: /tmp/ray/session_2024-12-21_15-25-50_415018_4417/artifacts/2024-12-21_18-36-18/TorchTrainer_2024-12-21_18-29-20/driver_artifacts\n",
      "Number of trials: 1/1 (1 RUNNING)\n",
      "\n",
      "\n",
      "== Status ==\n",
      "Current time: 2024-12-21 18:38:30 (running for 00:02:11.88)\n",
      "Using FIFO scheduling algorithm.\n",
      "Logical resource usage: 7.0/10 CPUs, 0/0 GPUs\n",
      "Result logdir: /tmp/ray/session_2024-12-21_15-25-50_415018_4417/artifacts/2024-12-21_18-36-18/TorchTrainer_2024-12-21_18-29-20/driver_artifacts\n",
      "Number of trials: 1/1 (1 RUNNING)\n",
      "\n",
      "\n",
      "== Status ==\n",
      "Current time: 2024-12-21 18:38:35 (running for 00:02:16.96)\n",
      "Using FIFO scheduling algorithm.\n",
      "Logical resource usage: 7.0/10 CPUs, 0/0 GPUs\n",
      "Result logdir: /tmp/ray/session_2024-12-21_15-25-50_415018_4417/artifacts/2024-12-21_18-36-18/TorchTrainer_2024-12-21_18-29-20/driver_artifacts\n",
      "Number of trials: 1/1 (1 RUNNING)\n",
      "\n",
      "\n",
      "== Status ==\n",
      "Current time: 2024-12-21 18:38:40 (running for 00:02:22.03)\n",
      "Using FIFO scheduling algorithm.\n",
      "Logical resource usage: 7.0/10 CPUs, 0/0 GPUs\n",
      "Result logdir: /tmp/ray/session_2024-12-21_15-25-50_415018_4417/artifacts/2024-12-21_18-36-18/TorchTrainer_2024-12-21_18-29-20/driver_artifacts\n",
      "Number of trials: 1/1 (1 RUNNING)\n",
      "\n",
      "\n",
      "== Status ==\n",
      "Current time: 2024-12-21 18:38:45 (running for 00:02:27.04)\n",
      "Using FIFO scheduling algorithm.\n",
      "Logical resource usage: 7.0/10 CPUs, 0/0 GPUs\n",
      "Result logdir: /tmp/ray/session_2024-12-21_15-25-50_415018_4417/artifacts/2024-12-21_18-36-18/TorchTrainer_2024-12-21_18-29-20/driver_artifacts\n",
      "Number of trials: 1/1 (1 RUNNING)\n",
      "\n",
      "\n",
      "== Status ==\n",
      "Current time: 2024-12-21 18:38:50 (running for 00:02:32.12)\n",
      "Using FIFO scheduling algorithm.\n",
      "Logical resource usage: 7.0/10 CPUs, 0/0 GPUs\n",
      "Result logdir: /tmp/ray/session_2024-12-21_15-25-50_415018_4417/artifacts/2024-12-21_18-36-18/TorchTrainer_2024-12-21_18-29-20/driver_artifacts\n",
      "Number of trials: 1/1 (1 RUNNING)\n",
      "\n",
      "\n",
      "== Status ==\n",
      "Current time: 2024-12-21 18:38:55 (running for 00:02:37.22)\n",
      "Using FIFO scheduling algorithm.\n",
      "Logical resource usage: 7.0/10 CPUs, 0/0 GPUs\n",
      "Result logdir: /tmp/ray/session_2024-12-21_15-25-50_415018_4417/artifacts/2024-12-21_18-36-18/TorchTrainer_2024-12-21_18-29-20/driver_artifacts\n",
      "Number of trials: 1/1 (1 RUNNING)\n",
      "\n",
      "\n"
     ]
    },
    {
     "data": {
      "text/plain": [
       "(pid=9181) Running 0: 0.00 row [00:00, ? row/s]"
      ],
      "application/vnd.jupyter.widget-view+json": {
       "version_major": 2,
       "version_minor": 0,
       "model_id": "712126e438eb49a6a0cbf4b9f7df4e57"
      }
     },
     "metadata": {},
     "output_type": "display_data"
    },
    {
     "data": {
      "text/plain": [
       "(pid=9181) - split(6, equal=True) 1: 0.00 row [00:00, ? row/s]"
      ],
      "application/vnd.jupyter.widget-view+json": {
       "version_major": 2,
       "version_minor": 0,
       "model_id": "19b7e9f151b34e83b264352b5a9d162f"
      }
     },
     "metadata": {},
     "output_type": "display_data"
    },
    {
     "name": "stdout",
     "output_type": "stream",
     "text": [
      "== Status ==\n",
      "Current time: 2024-12-21 18:39:00 (running for 00:02:42.22)\n",
      "Using FIFO scheduling algorithm.\n",
      "Logical resource usage: 7.0/10 CPUs, 0/0 GPUs\n",
      "Result logdir: /tmp/ray/session_2024-12-21_15-25-50_415018_4417/artifacts/2024-12-21_18-36-18/TorchTrainer_2024-12-21_18-29-20/driver_artifacts\n",
      "Number of trials: 1/1 (1 RUNNING)\n",
      "\n",
      "\n",
      "== Status ==\n",
      "Current time: 2024-12-21 18:39:05 (running for 00:02:47.23)\n",
      "Using FIFO scheduling algorithm.\n",
      "Logical resource usage: 7.0/10 CPUs, 0/0 GPUs\n",
      "Result logdir: /tmp/ray/session_2024-12-21_15-25-50_415018_4417/artifacts/2024-12-21_18-36-18/TorchTrainer_2024-12-21_18-29-20/driver_artifacts\n",
      "Number of trials: 1/1 (1 RUNNING)\n",
      "\n",
      "\n",
      "== Status ==\n",
      "Current time: 2024-12-21 18:39:11 (running for 00:02:52.32)\n",
      "Using FIFO scheduling algorithm.\n",
      "Logical resource usage: 7.0/10 CPUs, 0/0 GPUs\n",
      "Result logdir: /tmp/ray/session_2024-12-21_15-25-50_415018_4417/artifacts/2024-12-21_18-36-18/TorchTrainer_2024-12-21_18-29-20/driver_artifacts\n",
      "Number of trials: 1/1 (1 RUNNING)\n",
      "\n",
      "\n",
      "== Status ==\n",
      "Current time: 2024-12-21 18:39:16 (running for 00:02:57.33)\n",
      "Using FIFO scheduling algorithm.\n",
      "Logical resource usage: 7.0/10 CPUs, 0/0 GPUs\n",
      "Result logdir: /tmp/ray/session_2024-12-21_15-25-50_415018_4417/artifacts/2024-12-21_18-36-18/TorchTrainer_2024-12-21_18-29-20/driver_artifacts\n",
      "Number of trials: 1/1 (1 RUNNING)\n",
      "\n",
      "\n",
      "== Status ==\n",
      "Current time: 2024-12-21 18:39:21 (running for 00:03:02.34)\n",
      "Using FIFO scheduling algorithm.\n",
      "Logical resource usage: 7.0/10 CPUs, 0/0 GPUs\n",
      "Result logdir: /tmp/ray/session_2024-12-21_15-25-50_415018_4417/artifacts/2024-12-21_18-36-18/TorchTrainer_2024-12-21_18-29-20/driver_artifacts\n",
      "Number of trials: 1/1 (1 RUNNING)\n",
      "\n",
      "\n",
      "== Status ==\n",
      "Current time: 2024-12-21 18:39:26 (running for 00:03:07.40)\n",
      "Using FIFO scheduling algorithm.\n",
      "Logical resource usage: 7.0/10 CPUs, 0/0 GPUs\n",
      "Result logdir: /tmp/ray/session_2024-12-21_15-25-50_415018_4417/artifacts/2024-12-21_18-36-18/TorchTrainer_2024-12-21_18-29-20/driver_artifacts\n",
      "Number of trials: 1/1 (1 RUNNING)\n",
      "\n",
      "\n",
      "== Status ==\n",
      "Current time: 2024-12-21 18:39:31 (running for 00:03:12.41)\n",
      "Using FIFO scheduling algorithm.\n",
      "Logical resource usage: 7.0/10 CPUs, 0/0 GPUs\n",
      "Result logdir: /tmp/ray/session_2024-12-21_15-25-50_415018_4417/artifacts/2024-12-21_18-36-18/TorchTrainer_2024-12-21_18-29-20/driver_artifacts\n",
      "Number of trials: 1/1 (1 RUNNING)\n",
      "\n",
      "\n",
      "== Status ==\n",
      "Current time: 2024-12-21 18:39:36 (running for 00:03:17.41)\n",
      "Using FIFO scheduling algorithm.\n",
      "Logical resource usage: 7.0/10 CPUs, 0/0 GPUs\n",
      "Result logdir: /tmp/ray/session_2024-12-21_15-25-50_415018_4417/artifacts/2024-12-21_18-36-18/TorchTrainer_2024-12-21_18-29-20/driver_artifacts\n",
      "Number of trials: 1/1 (1 RUNNING)\n",
      "\n",
      "\n",
      "== Status ==\n",
      "Current time: 2024-12-21 18:39:41 (running for 00:03:22.49)\n",
      "Using FIFO scheduling algorithm.\n",
      "Logical resource usage: 7.0/10 CPUs, 0/0 GPUs\n",
      "Result logdir: /tmp/ray/session_2024-12-21_15-25-50_415018_4417/artifacts/2024-12-21_18-36-18/TorchTrainer_2024-12-21_18-29-20/driver_artifacts\n",
      "Number of trials: 1/1 (1 RUNNING)\n",
      "\n",
      "\n"
     ]
    },
    {
     "data": {
      "text/plain": [
       "(pid=9181) Running 0: 0.00 row [00:00, ? row/s]"
      ],
      "application/vnd.jupyter.widget-view+json": {
       "version_major": 2,
       "version_minor": 0,
       "model_id": "39de403e1bfe493a8eb3d9e9eb8b0a91"
      }
     },
     "metadata": {},
     "output_type": "display_data"
    },
    {
     "data": {
      "text/plain": [
       "(pid=9181) - split(6, equal=True) 1: 0.00 row [00:00, ? row/s]"
      ],
      "application/vnd.jupyter.widget-view+json": {
       "version_major": 2,
       "version_minor": 0,
       "model_id": "1b20dba4beac4ea2835a0176b5f7779e"
      }
     },
     "metadata": {},
     "output_type": "display_data"
    },
    {
     "name": "stdout",
     "output_type": "stream",
     "text": [
      "== Status ==\n",
      "Current time: 2024-12-21 18:39:46 (running for 00:03:27.53)\n",
      "Using FIFO scheduling algorithm.\n",
      "Logical resource usage: 7.0/10 CPUs, 0/0 GPUs\n",
      "Result logdir: /tmp/ray/session_2024-12-21_15-25-50_415018_4417/artifacts/2024-12-21_18-36-18/TorchTrainer_2024-12-21_18-29-20/driver_artifacts\n",
      "Number of trials: 1/1 (1 RUNNING)\n",
      "\n",
      "\n",
      "== Status ==\n",
      "Current time: 2024-12-21 18:39:51 (running for 00:03:32.62)\n",
      "Using FIFO scheduling algorithm.\n",
      "Logical resource usage: 7.0/10 CPUs, 0/0 GPUs\n",
      "Result logdir: /tmp/ray/session_2024-12-21_15-25-50_415018_4417/artifacts/2024-12-21_18-36-18/TorchTrainer_2024-12-21_18-29-20/driver_artifacts\n",
      "Number of trials: 1/1 (1 RUNNING)\n",
      "\n",
      "\n",
      "== Status ==\n",
      "Current time: 2024-12-21 18:39:56 (running for 00:03:37.70)\n",
      "Using FIFO scheduling algorithm.\n",
      "Logical resource usage: 7.0/10 CPUs, 0/0 GPUs\n",
      "Result logdir: /tmp/ray/session_2024-12-21_15-25-50_415018_4417/artifacts/2024-12-21_18-36-18/TorchTrainer_2024-12-21_18-29-20/driver_artifacts\n",
      "Number of trials: 1/1 (1 RUNNING)\n",
      "\n",
      "\n",
      "== Status ==\n",
      "Current time: 2024-12-21 18:40:01 (running for 00:03:42.79)\n",
      "Using FIFO scheduling algorithm.\n",
      "Logical resource usage: 7.0/10 CPUs, 0/0 GPUs\n",
      "Result logdir: /tmp/ray/session_2024-12-21_15-25-50_415018_4417/artifacts/2024-12-21_18-36-18/TorchTrainer_2024-12-21_18-29-20/driver_artifacts\n",
      "Number of trials: 1/1 (1 RUNNING)\n",
      "\n",
      "\n",
      "== Status ==\n",
      "Current time: 2024-12-21 18:40:06 (running for 00:03:47.80)\n",
      "Using FIFO scheduling algorithm.\n",
      "Logical resource usage: 7.0/10 CPUs, 0/0 GPUs\n",
      "Result logdir: /tmp/ray/session_2024-12-21_15-25-50_415018_4417/artifacts/2024-12-21_18-36-18/TorchTrainer_2024-12-21_18-29-20/driver_artifacts\n",
      "Number of trials: 1/1 (1 RUNNING)\n",
      "\n",
      "\n",
      "== Status ==\n",
      "Current time: 2024-12-21 18:40:11 (running for 00:03:52.87)\n",
      "Using FIFO scheduling algorithm.\n",
      "Logical resource usage: 7.0/10 CPUs, 0/0 GPUs\n",
      "Result logdir: /tmp/ray/session_2024-12-21_15-25-50_415018_4417/artifacts/2024-12-21_18-36-18/TorchTrainer_2024-12-21_18-29-20/driver_artifacts\n",
      "Number of trials: 1/1 (1 RUNNING)\n",
      "\n",
      "\n",
      "== Status ==\n",
      "Current time: 2024-12-21 18:40:16 (running for 00:03:57.97)\n",
      "Using FIFO scheduling algorithm.\n",
      "Logical resource usage: 7.0/10 CPUs, 0/0 GPUs\n",
      "Result logdir: /tmp/ray/session_2024-12-21_15-25-50_415018_4417/artifacts/2024-12-21_18-36-18/TorchTrainer_2024-12-21_18-29-20/driver_artifacts\n",
      "Number of trials: 1/1 (1 RUNNING)\n",
      "\n",
      "\n",
      "== Status ==\n",
      "Current time: 2024-12-21 18:40:21 (running for 00:04:02.97)\n",
      "Using FIFO scheduling algorithm.\n",
      "Logical resource usage: 7.0/10 CPUs, 0/0 GPUs\n",
      "Result logdir: /tmp/ray/session_2024-12-21_15-25-50_415018_4417/artifacts/2024-12-21_18-36-18/TorchTrainer_2024-12-21_18-29-20/driver_artifacts\n",
      "Number of trials: 1/1 (1 RUNNING)\n",
      "\n",
      "\n",
      "== Status ==\n",
      "Current time: 2024-12-21 18:40:26 (running for 00:04:08.05)\n",
      "Using FIFO scheduling algorithm.\n",
      "Logical resource usage: 7.0/10 CPUs, 0/0 GPUs\n",
      "Result logdir: /tmp/ray/session_2024-12-21_15-25-50_415018_4417/artifacts/2024-12-21_18-36-18/TorchTrainer_2024-12-21_18-29-20/driver_artifacts\n",
      "Number of trials: 1/1 (1 RUNNING)\n",
      "\n",
      "\n"
     ]
    },
    {
     "data": {
      "text/plain": [
       "(pid=9181) Running 0: 0.00 row [00:00, ? row/s]"
      ],
      "application/vnd.jupyter.widget-view+json": {
       "version_major": 2,
       "version_minor": 0,
       "model_id": "9436d67cea864942a6f1d88716232518"
      }
     },
     "metadata": {},
     "output_type": "display_data"
    },
    {
     "data": {
      "text/plain": [
       "(pid=9181) - split(6, equal=True) 1: 0.00 row [00:00, ? row/s]"
      ],
      "application/vnd.jupyter.widget-view+json": {
       "version_major": 2,
       "version_minor": 0,
       "model_id": "de270de799ac4ede9f9079b014ec7950"
      }
     },
     "metadata": {},
     "output_type": "display_data"
    },
    {
     "name": "stdout",
     "output_type": "stream",
     "text": [
      "== Status ==\n",
      "Current time: 2024-12-21 18:40:31 (running for 00:04:13.15)\n",
      "Using FIFO scheduling algorithm.\n",
      "Logical resource usage: 7.0/10 CPUs, 0/0 GPUs\n",
      "Result logdir: /tmp/ray/session_2024-12-21_15-25-50_415018_4417/artifacts/2024-12-21_18-36-18/TorchTrainer_2024-12-21_18-29-20/driver_artifacts\n",
      "Number of trials: 1/1 (1 RUNNING)\n",
      "\n",
      "\n",
      "== Status ==\n",
      "Current time: 2024-12-21 18:40:36 (running for 00:04:18.16)\n",
      "Using FIFO scheduling algorithm.\n",
      "Logical resource usage: 7.0/10 CPUs, 0/0 GPUs\n",
      "Result logdir: /tmp/ray/session_2024-12-21_15-25-50_415018_4417/artifacts/2024-12-21_18-36-18/TorchTrainer_2024-12-21_18-29-20/driver_artifacts\n",
      "Number of trials: 1/1 (1 RUNNING)\n",
      "\n",
      "\n",
      "== Status ==\n",
      "Current time: 2024-12-21 18:40:41 (running for 00:04:23.24)\n",
      "Using FIFO scheduling algorithm.\n",
      "Logical resource usage: 7.0/10 CPUs, 0/0 GPUs\n",
      "Result logdir: /tmp/ray/session_2024-12-21_15-25-50_415018_4417/artifacts/2024-12-21_18-36-18/TorchTrainer_2024-12-21_18-29-20/driver_artifacts\n",
      "Number of trials: 1/1 (1 RUNNING)\n",
      "\n",
      "\n",
      "== Status ==\n",
      "Current time: 2024-12-21 18:40:47 (running for 00:04:28.32)\n",
      "Using FIFO scheduling algorithm.\n",
      "Logical resource usage: 7.0/10 CPUs, 0/0 GPUs\n",
      "Result logdir: /tmp/ray/session_2024-12-21_15-25-50_415018_4417/artifacts/2024-12-21_18-36-18/TorchTrainer_2024-12-21_18-29-20/driver_artifacts\n",
      "Number of trials: 1/1 (1 RUNNING)\n",
      "\n",
      "\n",
      "== Status ==\n",
      "Current time: 2024-12-21 18:40:52 (running for 00:04:33.41)\n",
      "Using FIFO scheduling algorithm.\n",
      "Logical resource usage: 7.0/10 CPUs, 0/0 GPUs\n",
      "Result logdir: /tmp/ray/session_2024-12-21_15-25-50_415018_4417/artifacts/2024-12-21_18-36-18/TorchTrainer_2024-12-21_18-29-20/driver_artifacts\n",
      "Number of trials: 1/1 (1 RUNNING)\n",
      "\n",
      "\n",
      "== Status ==\n",
      "Current time: 2024-12-21 18:40:57 (running for 00:04:38.51)\n",
      "Using FIFO scheduling algorithm.\n",
      "Logical resource usage: 7.0/10 CPUs, 0/0 GPUs\n",
      "Result logdir: /tmp/ray/session_2024-12-21_15-25-50_415018_4417/artifacts/2024-12-21_18-36-18/TorchTrainer_2024-12-21_18-29-20/driver_artifacts\n",
      "Number of trials: 1/1 (1 RUNNING)\n",
      "\n",
      "\n",
      "== Status ==\n",
      "Current time: 2024-12-21 18:41:02 (running for 00:04:43.60)\n",
      "Using FIFO scheduling algorithm.\n",
      "Logical resource usage: 7.0/10 CPUs, 0/0 GPUs\n",
      "Result logdir: /tmp/ray/session_2024-12-21_15-25-50_415018_4417/artifacts/2024-12-21_18-36-18/TorchTrainer_2024-12-21_18-29-20/driver_artifacts\n",
      "Number of trials: 1/1 (1 RUNNING)\n",
      "\n",
      "\n",
      "== Status ==\n",
      "Current time: 2024-12-21 18:41:07 (running for 00:04:48.62)\n",
      "Using FIFO scheduling algorithm.\n",
      "Logical resource usage: 7.0/10 CPUs, 0/0 GPUs\n",
      "Result logdir: /tmp/ray/session_2024-12-21_15-25-50_415018_4417/artifacts/2024-12-21_18-36-18/TorchTrainer_2024-12-21_18-29-20/driver_artifacts\n",
      "Number of trials: 1/1 (1 RUNNING)\n",
      "\n",
      "\n",
      "== Status ==\n",
      "Current time: 2024-12-21 18:41:12 (running for 00:04:53.63)\n",
      "Using FIFO scheduling algorithm.\n",
      "Logical resource usage: 7.0/10 CPUs, 0/0 GPUs\n",
      "Result logdir: /tmp/ray/session_2024-12-21_15-25-50_415018_4417/artifacts/2024-12-21_18-36-18/TorchTrainer_2024-12-21_18-29-20/driver_artifacts\n",
      "Number of trials: 1/1 (1 RUNNING)\n",
      "\n",
      "\n",
      "== Status ==\n",
      "Current time: 2024-12-21 18:41:17 (running for 00:04:58.71)\n",
      "Using FIFO scheduling algorithm.\n",
      "Logical resource usage: 7.0/10 CPUs, 0/0 GPUs\n",
      "Result logdir: /tmp/ray/session_2024-12-21_15-25-50_415018_4417/artifacts/2024-12-21_18-36-18/TorchTrainer_2024-12-21_18-29-20/driver_artifacts\n",
      "Number of trials: 1/1 (1 RUNNING)\n",
      "\n",
      "\n"
     ]
    },
    {
     "name": "stderr",
     "output_type": "stream",
     "text": [
      "2024-12-21 18:41:20,048\tWARNING experiment_state.py:206 -- Experiment state snapshotting has been triggered multiple times in the last 5.0 seconds and may become a bottleneck. A snapshot is forced if `CheckpointConfig(num_to_keep)` is set, and a trial has checkpointed >= `num_to_keep` times since the last snapshot.\n",
      "You may want to consider increasing the `CheckpointConfig(num_to_keep)` or decreasing the frequency of saving checkpoints.\n",
      "You can suppress this warning by setting the environment variable TUNE_WARN_EXCESSIVE_EXPERIMENT_CHECKPOINT_SYNC_THRESHOLD_S to a smaller value than the current threshold (5.0). Set it to 0 to completely suppress this warning.\n"
     ]
    },
    {
     "data": {
      "text/plain": [
       "(pid=9181) Running 0: 0.00 row [00:00, ? row/s]"
      ],
      "application/vnd.jupyter.widget-view+json": {
       "version_major": 2,
       "version_minor": 0,
       "model_id": "165463ae662c46748b48310bdd98cbdb"
      }
     },
     "metadata": {},
     "output_type": "display_data"
    },
    {
     "data": {
      "text/plain": [
       "(pid=9181) - split(6, equal=True) 1: 0.00 row [00:00, ? row/s]"
      ],
      "application/vnd.jupyter.widget-view+json": {
       "version_major": 2,
       "version_minor": 0,
       "model_id": "3aa2de34f0f64b89a13bbcaa7d17f19c"
      }
     },
     "metadata": {},
     "output_type": "display_data"
    },
    {
     "name": "stdout",
     "output_type": "stream",
     "text": [
      "== Status ==\n",
      "Current time: 2024-12-21 18:41:22 (running for 00:05:03.81)\n",
      "Using FIFO scheduling algorithm.\n",
      "Logical resource usage: 7.0/10 CPUs, 0/0 GPUs\n",
      "Result logdir: /tmp/ray/session_2024-12-21_15-25-50_415018_4417/artifacts/2024-12-21_18-36-18/TorchTrainer_2024-12-21_18-29-20/driver_artifacts\n",
      "Number of trials: 1/1 (1 RUNNING)\n",
      "\n",
      "\n",
      "== Status ==\n",
      "Current time: 2024-12-21 18:41:27 (running for 00:05:08.90)\n",
      "Using FIFO scheduling algorithm.\n",
      "Logical resource usage: 7.0/10 CPUs, 0/0 GPUs\n",
      "Result logdir: /tmp/ray/session_2024-12-21_15-25-50_415018_4417/artifacts/2024-12-21_18-36-18/TorchTrainer_2024-12-21_18-29-20/driver_artifacts\n",
      "Number of trials: 1/1 (1 RUNNING)\n",
      "\n",
      "\n",
      "== Status ==\n",
      "Current time: 2024-12-21 18:41:32 (running for 00:05:13.93)\n",
      "Using FIFO scheduling algorithm.\n",
      "Logical resource usage: 7.0/10 CPUs, 0/0 GPUs\n",
      "Result logdir: /tmp/ray/session_2024-12-21_15-25-50_415018_4417/artifacts/2024-12-21_18-36-18/TorchTrainer_2024-12-21_18-29-20/driver_artifacts\n",
      "Number of trials: 1/1 (1 RUNNING)\n",
      "\n",
      "\n",
      "== Status ==\n",
      "Current time: 2024-12-21 18:41:37 (running for 00:05:18.94)\n",
      "Using FIFO scheduling algorithm.\n",
      "Logical resource usage: 7.0/10 CPUs, 0/0 GPUs\n",
      "Result logdir: /tmp/ray/session_2024-12-21_15-25-50_415018_4417/artifacts/2024-12-21_18-36-18/TorchTrainer_2024-12-21_18-29-20/driver_artifacts\n",
      "Number of trials: 1/1 (1 RUNNING)\n",
      "\n",
      "\n",
      "== Status ==\n",
      "Current time: 2024-12-21 18:41:42 (running for 00:05:23.96)\n",
      "Using FIFO scheduling algorithm.\n",
      "Logical resource usage: 7.0/10 CPUs, 0/0 GPUs\n",
      "Result logdir: /tmp/ray/session_2024-12-21_15-25-50_415018_4417/artifacts/2024-12-21_18-36-18/TorchTrainer_2024-12-21_18-29-20/driver_artifacts\n",
      "Number of trials: 1/1 (1 RUNNING)\n",
      "\n",
      "\n",
      "== Status ==\n",
      "Current time: 2024-12-21 18:41:47 (running for 00:05:29.06)\n",
      "Using FIFO scheduling algorithm.\n",
      "Logical resource usage: 7.0/10 CPUs, 0/0 GPUs\n",
      "Result logdir: /tmp/ray/session_2024-12-21_15-25-50_415018_4417/artifacts/2024-12-21_18-36-18/TorchTrainer_2024-12-21_18-29-20/driver_artifacts\n",
      "Number of trials: 1/1 (1 RUNNING)\n",
      "\n",
      "\n",
      "== Status ==\n",
      "Current time: 2024-12-21 18:41:52 (running for 00:05:34.10)\n",
      "Using FIFO scheduling algorithm.\n",
      "Logical resource usage: 7.0/10 CPUs, 0/0 GPUs\n",
      "Result logdir: /tmp/ray/session_2024-12-21_15-25-50_415018_4417/artifacts/2024-12-21_18-36-18/TorchTrainer_2024-12-21_18-29-20/driver_artifacts\n",
      "Number of trials: 1/1 (1 RUNNING)\n",
      "\n",
      "\n",
      "== Status ==\n",
      "Current time: 2024-12-21 18:41:57 (running for 00:05:39.19)\n",
      "Using FIFO scheduling algorithm.\n",
      "Logical resource usage: 7.0/10 CPUs, 0/0 GPUs\n",
      "Result logdir: /tmp/ray/session_2024-12-21_15-25-50_415018_4417/artifacts/2024-12-21_18-36-18/TorchTrainer_2024-12-21_18-29-20/driver_artifacts\n",
      "Number of trials: 1/1 (1 RUNNING)\n",
      "\n",
      "\n",
      "== Status ==\n",
      "Current time: 2024-12-21 18:42:03 (running for 00:05:44.28)\n",
      "Using FIFO scheduling algorithm.\n",
      "Logical resource usage: 7.0/10 CPUs, 0/0 GPUs\n",
      "Result logdir: /tmp/ray/session_2024-12-21_15-25-50_415018_4417/artifacts/2024-12-21_18-36-18/TorchTrainer_2024-12-21_18-29-20/driver_artifacts\n",
      "Number of trials: 1/1 (1 RUNNING)\n",
      "\n",
      "\n",
      "== Status ==\n",
      "Current time: 2024-12-21 18:42:08 (running for 00:05:49.36)\n",
      "Using FIFO scheduling algorithm.\n",
      "Logical resource usage: 7.0/10 CPUs, 0/0 GPUs\n",
      "Result logdir: /tmp/ray/session_2024-12-21_15-25-50_415018_4417/artifacts/2024-12-21_18-36-18/TorchTrainer_2024-12-21_18-29-20/driver_artifacts\n",
      "Number of trials: 1/1 (1 RUNNING)\n",
      "\n",
      "\n",
      "== Status ==\n",
      "Current time: 2024-12-21 18:42:13 (running for 00:05:54.43)\n",
      "Using FIFO scheduling algorithm.\n",
      "Logical resource usage: 7.0/10 CPUs, 0/0 GPUs\n",
      "Result logdir: /tmp/ray/session_2024-12-21_15-25-50_415018_4417/artifacts/2024-12-21_18-36-18/TorchTrainer_2024-12-21_18-29-20/driver_artifacts\n",
      "Number of trials: 1/1 (1 RUNNING)\n",
      "\n",
      "\n"
     ]
    },
    {
     "data": {
      "text/plain": [
       "(pid=9181) Running 0: 0.00 row [00:00, ? row/s]"
      ],
      "application/vnd.jupyter.widget-view+json": {
       "version_major": 2,
       "version_minor": 0,
       "model_id": "db496d8aa56b499198b7c39415087d04"
      }
     },
     "metadata": {},
     "output_type": "display_data"
    },
    {
     "data": {
      "text/plain": [
       "(pid=9181) - split(6, equal=True) 1: 0.00 row [00:00, ? row/s]"
      ],
      "application/vnd.jupyter.widget-view+json": {
       "version_major": 2,
       "version_minor": 0,
       "model_id": "e71e477315494ec5acca574402c4c231"
      }
     },
     "metadata": {},
     "output_type": "display_data"
    },
    {
     "name": "stderr",
     "output_type": "stream",
     "text": [
      "2024-12-21 18:42:14,918\tWARNING experiment_state.py:206 -- Experiment state snapshotting has been triggered multiple times in the last 5.0 seconds and may become a bottleneck. A snapshot is forced if `CheckpointConfig(num_to_keep)` is set, and a trial has checkpointed >= `num_to_keep` times since the last snapshot.\n",
      "You may want to consider increasing the `CheckpointConfig(num_to_keep)` or decreasing the frequency of saving checkpoints.\n",
      "You can suppress this warning by setting the environment variable TUNE_WARN_EXCESSIVE_EXPERIMENT_CHECKPOINT_SYNC_THRESHOLD_S to a smaller value than the current threshold (5.0). Set it to 0 to completely suppress this warning.\n"
     ]
    },
    {
     "name": "stdout",
     "output_type": "stream",
     "text": [
      "== Status ==\n",
      "Current time: 2024-12-21 18:42:18 (running for 00:05:59.50)\n",
      "Using FIFO scheduling algorithm.\n",
      "Logical resource usage: 7.0/10 CPUs, 0/0 GPUs\n",
      "Result logdir: /tmp/ray/session_2024-12-21_15-25-50_415018_4417/artifacts/2024-12-21_18-36-18/TorchTrainer_2024-12-21_18-29-20/driver_artifacts\n",
      "Number of trials: 1/1 (1 RUNNING)\n",
      "\n",
      "\n",
      "== Status ==\n",
      "Current time: 2024-12-21 18:42:23 (running for 00:06:04.59)\n",
      "Using FIFO scheduling algorithm.\n",
      "Logical resource usage: 7.0/10 CPUs, 0/0 GPUs\n",
      "Result logdir: /tmp/ray/session_2024-12-21_15-25-50_415018_4417/artifacts/2024-12-21_18-36-18/TorchTrainer_2024-12-21_18-29-20/driver_artifacts\n",
      "Number of trials: 1/1 (1 RUNNING)\n",
      "\n",
      "\n",
      "== Status ==\n",
      "Current time: 2024-12-21 18:42:28 (running for 00:06:09.67)\n",
      "Using FIFO scheduling algorithm.\n",
      "Logical resource usage: 7.0/10 CPUs, 0/0 GPUs\n",
      "Result logdir: /tmp/ray/session_2024-12-21_15-25-50_415018_4417/artifacts/2024-12-21_18-36-18/TorchTrainer_2024-12-21_18-29-20/driver_artifacts\n",
      "Number of trials: 1/1 (1 RUNNING)\n",
      "\n",
      "\n",
      "== Status ==\n",
      "Current time: 2024-12-21 18:42:33 (running for 00:06:14.69)\n",
      "Using FIFO scheduling algorithm.\n",
      "Logical resource usage: 7.0/10 CPUs, 0/0 GPUs\n",
      "Result logdir: /tmp/ray/session_2024-12-21_15-25-50_415018_4417/artifacts/2024-12-21_18-36-18/TorchTrainer_2024-12-21_18-29-20/driver_artifacts\n",
      "Number of trials: 1/1 (1 RUNNING)\n",
      "\n",
      "\n",
      "== Status ==\n",
      "Current time: 2024-12-21 18:42:38 (running for 00:06:19.71)\n",
      "Using FIFO scheduling algorithm.\n",
      "Logical resource usage: 7.0/10 CPUs, 0/0 GPUs\n",
      "Result logdir: /tmp/ray/session_2024-12-21_15-25-50_415018_4417/artifacts/2024-12-21_18-36-18/TorchTrainer_2024-12-21_18-29-20/driver_artifacts\n",
      "Number of trials: 1/1 (1 RUNNING)\n",
      "\n",
      "\n",
      "== Status ==\n",
      "Current time: 2024-12-21 18:42:43 (running for 00:06:24.72)\n",
      "Using FIFO scheduling algorithm.\n",
      "Logical resource usage: 7.0/10 CPUs, 0/0 GPUs\n",
      "Result logdir: /tmp/ray/session_2024-12-21_15-25-50_415018_4417/artifacts/2024-12-21_18-36-18/TorchTrainer_2024-12-21_18-29-20/driver_artifacts\n",
      "Number of trials: 1/1 (1 RUNNING)\n",
      "\n",
      "\n",
      "== Status ==\n",
      "Current time: 2024-12-21 18:42:48 (running for 00:06:29.82)\n",
      "Using FIFO scheduling algorithm.\n",
      "Logical resource usage: 7.0/10 CPUs, 0/0 GPUs\n",
      "Result logdir: /tmp/ray/session_2024-12-21_15-25-50_415018_4417/artifacts/2024-12-21_18-36-18/TorchTrainer_2024-12-21_18-29-20/driver_artifacts\n",
      "Number of trials: 1/1 (1 RUNNING)\n",
      "\n",
      "\n",
      "== Status ==\n",
      "Current time: 2024-12-21 18:42:53 (running for 00:06:34.82)\n",
      "Using FIFO scheduling algorithm.\n",
      "Logical resource usage: 7.0/10 CPUs, 0/0 GPUs\n",
      "Result logdir: /tmp/ray/session_2024-12-21_15-25-50_415018_4417/artifacts/2024-12-21_18-36-18/TorchTrainer_2024-12-21_18-29-20/driver_artifacts\n",
      "Number of trials: 1/1 (1 RUNNING)\n",
      "\n",
      "\n",
      "== Status ==\n",
      "Current time: 2024-12-21 18:42:58 (running for 00:06:39.92)\n",
      "Using FIFO scheduling algorithm.\n",
      "Logical resource usage: 7.0/10 CPUs, 0/0 GPUs\n",
      "Result logdir: /tmp/ray/session_2024-12-21_15-25-50_415018_4417/artifacts/2024-12-21_18-36-18/TorchTrainer_2024-12-21_18-29-20/driver_artifacts\n",
      "Number of trials: 1/1 (1 RUNNING)\n",
      "\n",
      "\n"
     ]
    },
    {
     "data": {
      "text/plain": [
       "(pid=9181) Running 0: 0.00 row [00:00, ? row/s]"
      ],
      "application/vnd.jupyter.widget-view+json": {
       "version_major": 2,
       "version_minor": 0,
       "model_id": "eb858b2bbb7d47c6b0517ad90aadaded"
      }
     },
     "metadata": {},
     "output_type": "display_data"
    },
    {
     "data": {
      "text/plain": [
       "(pid=9181) - split(6, equal=True) 1: 0.00 row [00:00, ? row/s]"
      ],
      "application/vnd.jupyter.widget-view+json": {
       "version_major": 2,
       "version_minor": 0,
       "model_id": "2a6fd43fe1e846e7aeb6fbc006f774b3"
      }
     },
     "metadata": {},
     "output_type": "display_data"
    },
    {
     "name": "stdout",
     "output_type": "stream",
     "text": [
      "== Status ==\n",
      "Current time: 2024-12-21 18:43:03 (running for 00:06:44.93)\n",
      "Using FIFO scheduling algorithm.\n",
      "Logical resource usage: 7.0/10 CPUs, 0/0 GPUs\n",
      "Result logdir: /tmp/ray/session_2024-12-21_15-25-50_415018_4417/artifacts/2024-12-21_18-36-18/TorchTrainer_2024-12-21_18-29-20/driver_artifacts\n",
      "Number of trials: 1/1 (1 RUNNING)\n",
      "\n",
      "\n",
      "== Status ==\n",
      "Current time: 2024-12-21 18:43:08 (running for 00:06:50.03)\n",
      "Using FIFO scheduling algorithm.\n",
      "Logical resource usage: 7.0/10 CPUs, 0/0 GPUs\n",
      "Result logdir: /tmp/ray/session_2024-12-21_15-25-50_415018_4417/artifacts/2024-12-21_18-36-18/TorchTrainer_2024-12-21_18-29-20/driver_artifacts\n",
      "Number of trials: 1/1 (1 RUNNING)\n",
      "\n",
      "\n",
      "== Status ==\n",
      "Current time: 2024-12-21 18:43:13 (running for 00:06:55.12)\n",
      "Using FIFO scheduling algorithm.\n",
      "Logical resource usage: 7.0/10 CPUs, 0/0 GPUs\n",
      "Result logdir: /tmp/ray/session_2024-12-21_15-25-50_415018_4417/artifacts/2024-12-21_18-36-18/TorchTrainer_2024-12-21_18-29-20/driver_artifacts\n",
      "Number of trials: 1/1 (1 RUNNING)\n",
      "\n",
      "\n",
      "== Status ==\n",
      "Current time: 2024-12-21 18:43:18 (running for 00:07:00.19)\n",
      "Using FIFO scheduling algorithm.\n",
      "Logical resource usage: 7.0/10 CPUs, 0/0 GPUs\n",
      "Result logdir: /tmp/ray/session_2024-12-21_15-25-50_415018_4417/artifacts/2024-12-21_18-36-18/TorchTrainer_2024-12-21_18-29-20/driver_artifacts\n",
      "Number of trials: 1/1 (1 RUNNING)\n",
      "\n",
      "\n",
      "== Status ==\n",
      "Current time: 2024-12-21 18:43:23 (running for 00:07:05.19)\n",
      "Using FIFO scheduling algorithm.\n",
      "Logical resource usage: 7.0/10 CPUs, 0/0 GPUs\n",
      "Result logdir: /tmp/ray/session_2024-12-21_15-25-50_415018_4417/artifacts/2024-12-21_18-36-18/TorchTrainer_2024-12-21_18-29-20/driver_artifacts\n",
      "Number of trials: 1/1 (1 RUNNING)\n",
      "\n",
      "\n",
      "== Status ==\n",
      "Current time: 2024-12-21 18:43:28 (running for 00:07:10.21)\n",
      "Using FIFO scheduling algorithm.\n",
      "Logical resource usage: 7.0/10 CPUs, 0/0 GPUs\n",
      "Result logdir: /tmp/ray/session_2024-12-21_15-25-50_415018_4417/artifacts/2024-12-21_18-36-18/TorchTrainer_2024-12-21_18-29-20/driver_artifacts\n",
      "Number of trials: 1/1 (1 RUNNING)\n",
      "\n",
      "\n",
      "== Status ==\n",
      "Current time: 2024-12-21 18:43:33 (running for 00:07:15.23)\n",
      "Using FIFO scheduling algorithm.\n",
      "Logical resource usage: 7.0/10 CPUs, 0/0 GPUs\n",
      "Result logdir: /tmp/ray/session_2024-12-21_15-25-50_415018_4417/artifacts/2024-12-21_18-36-18/TorchTrainer_2024-12-21_18-29-20/driver_artifacts\n",
      "Number of trials: 1/1 (1 RUNNING)\n",
      "\n",
      "\n",
      "== Status ==\n",
      "Current time: 2024-12-21 18:43:39 (running for 00:07:20.30)\n",
      "Using FIFO scheduling algorithm.\n",
      "Logical resource usage: 7.0/10 CPUs, 0/0 GPUs\n",
      "Result logdir: /tmp/ray/session_2024-12-21_15-25-50_415018_4417/artifacts/2024-12-21_18-36-18/TorchTrainer_2024-12-21_18-29-20/driver_artifacts\n",
      "Number of trials: 1/1 (1 RUNNING)\n",
      "\n",
      "\n",
      "== Status ==\n",
      "Current time: 2024-12-21 18:43:44 (running for 00:07:25.31)\n",
      "Using FIFO scheduling algorithm.\n",
      "Logical resource usage: 7.0/10 CPUs, 0/0 GPUs\n",
      "Result logdir: /tmp/ray/session_2024-12-21_15-25-50_415018_4417/artifacts/2024-12-21_18-36-18/TorchTrainer_2024-12-21_18-29-20/driver_artifacts\n",
      "Number of trials: 1/1 (1 RUNNING)\n",
      "\n",
      "\n",
      "== Status ==\n",
      "Current time: 2024-12-21 18:43:49 (running for 00:07:30.40)\n",
      "Using FIFO scheduling algorithm.\n",
      "Logical resource usage: 7.0/10 CPUs, 0/0 GPUs\n",
      "Result logdir: /tmp/ray/session_2024-12-21_15-25-50_415018_4417/artifacts/2024-12-21_18-36-18/TorchTrainer_2024-12-21_18-29-20/driver_artifacts\n",
      "Number of trials: 1/1 (1 RUNNING)\n",
      "\n",
      "\n"
     ]
    },
    {
     "data": {
      "text/plain": [
       "(pid=9181) Running 0: 0.00 row [00:00, ? row/s]"
      ],
      "application/vnd.jupyter.widget-view+json": {
       "version_major": 2,
       "version_minor": 0,
       "model_id": "f52a760b54f44cefb3053d8e3cb657d7"
      }
     },
     "metadata": {},
     "output_type": "display_data"
    },
    {
     "data": {
      "text/plain": [
       "(pid=9181) - split(6, equal=True) 1: 0.00 row [00:00, ? row/s]"
      ],
      "application/vnd.jupyter.widget-view+json": {
       "version_major": 2,
       "version_minor": 0,
       "model_id": "e5d2e3e2c8f9413d9714abc83dba05fa"
      }
     },
     "metadata": {},
     "output_type": "display_data"
    },
    {
     "name": "stdout",
     "output_type": "stream",
     "text": [
      "== Status ==\n",
      "Current time: 2024-12-21 18:43:54 (running for 00:07:35.50)\n",
      "Using FIFO scheduling algorithm.\n",
      "Logical resource usage: 7.0/10 CPUs, 0/0 GPUs\n",
      "Result logdir: /tmp/ray/session_2024-12-21_15-25-50_415018_4417/artifacts/2024-12-21_18-36-18/TorchTrainer_2024-12-21_18-29-20/driver_artifacts\n",
      "Number of trials: 1/1 (1 RUNNING)\n",
      "\n",
      "\n",
      "== Status ==\n",
      "Current time: 2024-12-21 18:43:59 (running for 00:07:40.53)\n",
      "Using FIFO scheduling algorithm.\n",
      "Logical resource usage: 7.0/10 CPUs, 0/0 GPUs\n",
      "Result logdir: /tmp/ray/session_2024-12-21_15-25-50_415018_4417/artifacts/2024-12-21_18-36-18/TorchTrainer_2024-12-21_18-29-20/driver_artifacts\n",
      "Number of trials: 1/1 (1 RUNNING)\n",
      "\n",
      "\n",
      "== Status ==\n",
      "Current time: 2024-12-21 18:44:04 (running for 00:07:45.59)\n",
      "Using FIFO scheduling algorithm.\n",
      "Logical resource usage: 7.0/10 CPUs, 0/0 GPUs\n",
      "Result logdir: /tmp/ray/session_2024-12-21_15-25-50_415018_4417/artifacts/2024-12-21_18-36-18/TorchTrainer_2024-12-21_18-29-20/driver_artifacts\n",
      "Number of trials: 1/1 (1 RUNNING)\n",
      "\n",
      "\n",
      "== Status ==\n",
      "Current time: 2024-12-21 18:44:09 (running for 00:07:50.66)\n",
      "Using FIFO scheduling algorithm.\n",
      "Logical resource usage: 7.0/10 CPUs, 0/0 GPUs\n",
      "Result logdir: /tmp/ray/session_2024-12-21_15-25-50_415018_4417/artifacts/2024-12-21_18-36-18/TorchTrainer_2024-12-21_18-29-20/driver_artifacts\n",
      "Number of trials: 1/1 (1 RUNNING)\n",
      "\n",
      "\n",
      "== Status ==\n",
      "Current time: 2024-12-21 18:44:14 (running for 00:07:55.76)\n",
      "Using FIFO scheduling algorithm.\n",
      "Logical resource usage: 7.0/10 CPUs, 0/0 GPUs\n",
      "Result logdir: /tmp/ray/session_2024-12-21_15-25-50_415018_4417/artifacts/2024-12-21_18-36-18/TorchTrainer_2024-12-21_18-29-20/driver_artifacts\n",
      "Number of trials: 1/1 (1 RUNNING)\n",
      "\n",
      "\n",
      "== Status ==\n",
      "Current time: 2024-12-21 18:44:19 (running for 00:08:00.84)\n",
      "Using FIFO scheduling algorithm.\n",
      "Logical resource usage: 7.0/10 CPUs, 0/0 GPUs\n",
      "Result logdir: /tmp/ray/session_2024-12-21_15-25-50_415018_4417/artifacts/2024-12-21_18-36-18/TorchTrainer_2024-12-21_18-29-20/driver_artifacts\n",
      "Number of trials: 1/1 (1 RUNNING)\n",
      "\n",
      "\n",
      "== Status ==\n",
      "Current time: 2024-12-21 18:44:24 (running for 00:08:05.94)\n",
      "Using FIFO scheduling algorithm.\n",
      "Logical resource usage: 7.0/10 CPUs, 0/0 GPUs\n",
      "Result logdir: /tmp/ray/session_2024-12-21_15-25-50_415018_4417/artifacts/2024-12-21_18-36-18/TorchTrainer_2024-12-21_18-29-20/driver_artifacts\n",
      "Number of trials: 1/1 (1 RUNNING)\n",
      "\n",
      "\n",
      "== Status ==\n",
      "Current time: 2024-12-21 18:44:29 (running for 00:08:11.02)\n",
      "Using FIFO scheduling algorithm.\n",
      "Logical resource usage: 7.0/10 CPUs, 0/0 GPUs\n",
      "Result logdir: /tmp/ray/session_2024-12-21_15-25-50_415018_4417/artifacts/2024-12-21_18-36-18/TorchTrainer_2024-12-21_18-29-20/driver_artifacts\n",
      "Number of trials: 1/1 (1 RUNNING)\n",
      "\n",
      "\n",
      "== Status ==\n",
      "Current time: 2024-12-21 18:44:34 (running for 00:08:16.02)\n",
      "Using FIFO scheduling algorithm.\n",
      "Logical resource usage: 7.0/10 CPUs, 0/0 GPUs\n",
      "Result logdir: /tmp/ray/session_2024-12-21_15-25-50_415018_4417/artifacts/2024-12-21_18-36-18/TorchTrainer_2024-12-21_18-29-20/driver_artifacts\n",
      "Number of trials: 1/1 (1 RUNNING)\n",
      "\n",
      "\n",
      "== Status ==\n",
      "Current time: 2024-12-21 18:44:39 (running for 00:08:21.11)\n",
      "Using FIFO scheduling algorithm.\n",
      "Logical resource usage: 7.0/10 CPUs, 0/0 GPUs\n",
      "Result logdir: /tmp/ray/session_2024-12-21_15-25-50_415018_4417/artifacts/2024-12-21_18-36-18/TorchTrainer_2024-12-21_18-29-20/driver_artifacts\n",
      "Number of trials: 1/1 (1 RUNNING)\n",
      "\n",
      "\n"
     ]
    },
    {
     "name": "stderr",
     "output_type": "stream",
     "text": [
      "2024-12-21 18:44:43,193\tINFO tune.py:1009 -- Wrote the latest version of all result files and experiment state to '/Users/monkey/ray_results/e2e-machine-learning/TorchTrainer_2024-12-21_18-29-20' in 0.0018s.\n",
      "2024-12-21 18:44:43,197\tINFO tune.py:1041 -- Total run time: 504.47 seconds (504.45 seconds for the tuning loop).\n"
     ]
    },
    {
     "name": "stdout",
     "output_type": "stream",
     "text": [
      "== Status ==\n",
      "Current time: 2024-12-21 18:44:43 (running for 00:08:24.45)\n",
      "Using FIFO scheduling algorithm.\n",
      "Logical resource usage: 7.0/10 CPUs, 0/0 GPUs\n",
      "Result logdir: /tmp/ray/session_2024-12-21_15-25-50_415018_4417/artifacts/2024-12-21_18-36-18/TorchTrainer_2024-12-21_18-29-20/driver_artifacts\n",
      "Number of trials: 1/1 (1 TERMINATED)\n",
      "\n",
      "\n",
      "CPU times: user 2.89 s, sys: 1.69 s, total: 4.58 s\n",
      "Wall time: 8min 24s\n"
     ]
    }
   ],
   "execution_count": 215
  },
  {
   "metadata": {
    "ExecuteTime": {
     "end_time": "2024-12-21T17:44:44.526565Z",
     "start_time": "2024-12-21T17:44:44.478381Z"
    }
   },
   "cell_type": "code",
   "source": [
    "results.metrics_dataframe"
   ],
   "id": "28157e1800577a9b",
   "outputs": [
    {
     "data": {
      "text/plain": [
       "   epoch      lr  train_loss  val_loss   timestamp checkpoint_dir_name  \\\n",
       "0      0  0.0001    0.660469  0.514205  1734802636   checkpoint_000000   \n",
       "1      1  0.0001    0.531281  0.505555  1734802690   checkpoint_000001   \n",
       "2      2  0.0001    0.508899  0.487009  1734802736   checkpoint_000002   \n",
       "3      3  0.0001    0.470771  0.419946  1734802782   checkpoint_000003   \n",
       "4      4  0.0001    0.395963  0.325149  1734802828   checkpoint_000004   \n",
       "5      5  0.0001    0.290222  0.266169  1734802879   checkpoint_000005   \n",
       "6      6  0.0001    0.204977  0.226912  1734802934   checkpoint_000006   \n",
       "7      7  0.0001    0.140408  0.193863  1734802981   checkpoint_000007   \n",
       "8      8  0.0001    0.104156  0.179313  1734803031   checkpoint_000008   \n",
       "9      9  0.0001    0.055891  0.161486  1734803081   checkpoint_000009   \n",
       "\n",
       "   should_checkpoint   done  training_iteration     trial_id  ...    node_ip  \\\n",
       "0               True  False                   1  161d3_00000  ...  127.0.0.1   \n",
       "1               True  False                   2  161d3_00000  ...  127.0.0.1   \n",
       "2               True  False                   3  161d3_00000  ...  127.0.0.1   \n",
       "3               True  False                   4  161d3_00000  ...  127.0.0.1   \n",
       "4               True  False                   5  161d3_00000  ...  127.0.0.1   \n",
       "5               True  False                   6  161d3_00000  ...  127.0.0.1   \n",
       "6               True  False                   7  161d3_00000  ...  127.0.0.1   \n",
       "7               True  False                   8  161d3_00000  ...  127.0.0.1   \n",
       "8               True  False                   9  161d3_00000  ...  127.0.0.1   \n",
       "9               True  False                  10  161d3_00000  ...  127.0.0.1   \n",
       "\n",
       "   time_since_restore  iterations_since_restore  \\\n",
       "0           54.636222                         1   \n",
       "1          108.037311                         2   \n",
       "2          154.606993                         3   \n",
       "3          200.529807                         4   \n",
       "4          246.516669                         5   \n",
       "5          296.916332                         6   \n",
       "6          351.601074                         7   \n",
       "7          399.725081                         8   \n",
       "8          448.800185                         9   \n",
       "9          498.388219                        10   \n",
       "\n",
       "   config/train_loop_config/dropout_p config/train_loop_config/lr  \\\n",
       "0                                 0.5                      0.0001   \n",
       "1                                 0.5                      0.0001   \n",
       "2                                 0.5                      0.0001   \n",
       "3                                 0.5                      0.0001   \n",
       "4                                 0.5                      0.0001   \n",
       "5                                 0.5                      0.0001   \n",
       "6                                 0.5                      0.0001   \n",
       "7                                 0.5                      0.0001   \n",
       "8                                 0.5                      0.0001   \n",
       "9                                 0.5                      0.0001   \n",
       "\n",
       "  config/train_loop_config/lr_factor  config/train_loop_config/lr_patience  \\\n",
       "0                                0.8                                     3   \n",
       "1                                0.8                                     3   \n",
       "2                                0.8                                     3   \n",
       "3                                0.8                                     3   \n",
       "4                                0.8                                     3   \n",
       "5                                0.8                                     3   \n",
       "6                                0.8                                     3   \n",
       "7                                0.8                                     3   \n",
       "8                                0.8                                     3   \n",
       "9                                0.8                                     3   \n",
       "\n",
       "   config/train_loop_config/num_epochs  config/train_loop_config/batch_size  \\\n",
       "0                                   10                                  256   \n",
       "1                                   10                                  256   \n",
       "2                                   10                                  256   \n",
       "3                                   10                                  256   \n",
       "4                                   10                                  256   \n",
       "5                                   10                                  256   \n",
       "6                                   10                                  256   \n",
       "7                                   10                                  256   \n",
       "8                                   10                                  256   \n",
       "9                                   10                                  256   \n",
       "\n",
       "   config/train_loop_config/num_classes  \n",
       "0                                     4  \n",
       "1                                     4  \n",
       "2                                     4  \n",
       "3                                     4  \n",
       "4                                     4  \n",
       "5                                     4  \n",
       "6                                     4  \n",
       "7                                     4  \n",
       "8                                     4  \n",
       "9                                     4  \n",
       "\n",
       "[10 rows x 25 columns]"
      ],
      "text/html": [
       "<div>\n",
       "<style scoped>\n",
       "    .dataframe tbody tr th:only-of-type {\n",
       "        vertical-align: middle;\n",
       "    }\n",
       "\n",
       "    .dataframe tbody tr th {\n",
       "        vertical-align: top;\n",
       "    }\n",
       "\n",
       "    .dataframe thead th {\n",
       "        text-align: right;\n",
       "    }\n",
       "</style>\n",
       "<table border=\"1\" class=\"dataframe\">\n",
       "  <thead>\n",
       "    <tr style=\"text-align: right;\">\n",
       "      <th></th>\n",
       "      <th>epoch</th>\n",
       "      <th>lr</th>\n",
       "      <th>train_loss</th>\n",
       "      <th>val_loss</th>\n",
       "      <th>timestamp</th>\n",
       "      <th>checkpoint_dir_name</th>\n",
       "      <th>should_checkpoint</th>\n",
       "      <th>done</th>\n",
       "      <th>training_iteration</th>\n",
       "      <th>trial_id</th>\n",
       "      <th>...</th>\n",
       "      <th>node_ip</th>\n",
       "      <th>time_since_restore</th>\n",
       "      <th>iterations_since_restore</th>\n",
       "      <th>config/train_loop_config/dropout_p</th>\n",
       "      <th>config/train_loop_config/lr</th>\n",
       "      <th>config/train_loop_config/lr_factor</th>\n",
       "      <th>config/train_loop_config/lr_patience</th>\n",
       "      <th>config/train_loop_config/num_epochs</th>\n",
       "      <th>config/train_loop_config/batch_size</th>\n",
       "      <th>config/train_loop_config/num_classes</th>\n",
       "    </tr>\n",
       "  </thead>\n",
       "  <tbody>\n",
       "    <tr>\n",
       "      <th>0</th>\n",
       "      <td>0</td>\n",
       "      <td>0.0001</td>\n",
       "      <td>0.660469</td>\n",
       "      <td>0.514205</td>\n",
       "      <td>1734802636</td>\n",
       "      <td>checkpoint_000000</td>\n",
       "      <td>True</td>\n",
       "      <td>False</td>\n",
       "      <td>1</td>\n",
       "      <td>161d3_00000</td>\n",
       "      <td>...</td>\n",
       "      <td>127.0.0.1</td>\n",
       "      <td>54.636222</td>\n",
       "      <td>1</td>\n",
       "      <td>0.5</td>\n",
       "      <td>0.0001</td>\n",
       "      <td>0.8</td>\n",
       "      <td>3</td>\n",
       "      <td>10</td>\n",
       "      <td>256</td>\n",
       "      <td>4</td>\n",
       "    </tr>\n",
       "    <tr>\n",
       "      <th>1</th>\n",
       "      <td>1</td>\n",
       "      <td>0.0001</td>\n",
       "      <td>0.531281</td>\n",
       "      <td>0.505555</td>\n",
       "      <td>1734802690</td>\n",
       "      <td>checkpoint_000001</td>\n",
       "      <td>True</td>\n",
       "      <td>False</td>\n",
       "      <td>2</td>\n",
       "      <td>161d3_00000</td>\n",
       "      <td>...</td>\n",
       "      <td>127.0.0.1</td>\n",
       "      <td>108.037311</td>\n",
       "      <td>2</td>\n",
       "      <td>0.5</td>\n",
       "      <td>0.0001</td>\n",
       "      <td>0.8</td>\n",
       "      <td>3</td>\n",
       "      <td>10</td>\n",
       "      <td>256</td>\n",
       "      <td>4</td>\n",
       "    </tr>\n",
       "    <tr>\n",
       "      <th>2</th>\n",
       "      <td>2</td>\n",
       "      <td>0.0001</td>\n",
       "      <td>0.508899</td>\n",
       "      <td>0.487009</td>\n",
       "      <td>1734802736</td>\n",
       "      <td>checkpoint_000002</td>\n",
       "      <td>True</td>\n",
       "      <td>False</td>\n",
       "      <td>3</td>\n",
       "      <td>161d3_00000</td>\n",
       "      <td>...</td>\n",
       "      <td>127.0.0.1</td>\n",
       "      <td>154.606993</td>\n",
       "      <td>3</td>\n",
       "      <td>0.5</td>\n",
       "      <td>0.0001</td>\n",
       "      <td>0.8</td>\n",
       "      <td>3</td>\n",
       "      <td>10</td>\n",
       "      <td>256</td>\n",
       "      <td>4</td>\n",
       "    </tr>\n",
       "    <tr>\n",
       "      <th>3</th>\n",
       "      <td>3</td>\n",
       "      <td>0.0001</td>\n",
       "      <td>0.470771</td>\n",
       "      <td>0.419946</td>\n",
       "      <td>1734802782</td>\n",
       "      <td>checkpoint_000003</td>\n",
       "      <td>True</td>\n",
       "      <td>False</td>\n",
       "      <td>4</td>\n",
       "      <td>161d3_00000</td>\n",
       "      <td>...</td>\n",
       "      <td>127.0.0.1</td>\n",
       "      <td>200.529807</td>\n",
       "      <td>4</td>\n",
       "      <td>0.5</td>\n",
       "      <td>0.0001</td>\n",
       "      <td>0.8</td>\n",
       "      <td>3</td>\n",
       "      <td>10</td>\n",
       "      <td>256</td>\n",
       "      <td>4</td>\n",
       "    </tr>\n",
       "    <tr>\n",
       "      <th>4</th>\n",
       "      <td>4</td>\n",
       "      <td>0.0001</td>\n",
       "      <td>0.395963</td>\n",
       "      <td>0.325149</td>\n",
       "      <td>1734802828</td>\n",
       "      <td>checkpoint_000004</td>\n",
       "      <td>True</td>\n",
       "      <td>False</td>\n",
       "      <td>5</td>\n",
       "      <td>161d3_00000</td>\n",
       "      <td>...</td>\n",
       "      <td>127.0.0.1</td>\n",
       "      <td>246.516669</td>\n",
       "      <td>5</td>\n",
       "      <td>0.5</td>\n",
       "      <td>0.0001</td>\n",
       "      <td>0.8</td>\n",
       "      <td>3</td>\n",
       "      <td>10</td>\n",
       "      <td>256</td>\n",
       "      <td>4</td>\n",
       "    </tr>\n",
       "    <tr>\n",
       "      <th>5</th>\n",
       "      <td>5</td>\n",
       "      <td>0.0001</td>\n",
       "      <td>0.290222</td>\n",
       "      <td>0.266169</td>\n",
       "      <td>1734802879</td>\n",
       "      <td>checkpoint_000005</td>\n",
       "      <td>True</td>\n",
       "      <td>False</td>\n",
       "      <td>6</td>\n",
       "      <td>161d3_00000</td>\n",
       "      <td>...</td>\n",
       "      <td>127.0.0.1</td>\n",
       "      <td>296.916332</td>\n",
       "      <td>6</td>\n",
       "      <td>0.5</td>\n",
       "      <td>0.0001</td>\n",
       "      <td>0.8</td>\n",
       "      <td>3</td>\n",
       "      <td>10</td>\n",
       "      <td>256</td>\n",
       "      <td>4</td>\n",
       "    </tr>\n",
       "    <tr>\n",
       "      <th>6</th>\n",
       "      <td>6</td>\n",
       "      <td>0.0001</td>\n",
       "      <td>0.204977</td>\n",
       "      <td>0.226912</td>\n",
       "      <td>1734802934</td>\n",
       "      <td>checkpoint_000006</td>\n",
       "      <td>True</td>\n",
       "      <td>False</td>\n",
       "      <td>7</td>\n",
       "      <td>161d3_00000</td>\n",
       "      <td>...</td>\n",
       "      <td>127.0.0.1</td>\n",
       "      <td>351.601074</td>\n",
       "      <td>7</td>\n",
       "      <td>0.5</td>\n",
       "      <td>0.0001</td>\n",
       "      <td>0.8</td>\n",
       "      <td>3</td>\n",
       "      <td>10</td>\n",
       "      <td>256</td>\n",
       "      <td>4</td>\n",
       "    </tr>\n",
       "    <tr>\n",
       "      <th>7</th>\n",
       "      <td>7</td>\n",
       "      <td>0.0001</td>\n",
       "      <td>0.140408</td>\n",
       "      <td>0.193863</td>\n",
       "      <td>1734802981</td>\n",
       "      <td>checkpoint_000007</td>\n",
       "      <td>True</td>\n",
       "      <td>False</td>\n",
       "      <td>8</td>\n",
       "      <td>161d3_00000</td>\n",
       "      <td>...</td>\n",
       "      <td>127.0.0.1</td>\n",
       "      <td>399.725081</td>\n",
       "      <td>8</td>\n",
       "      <td>0.5</td>\n",
       "      <td>0.0001</td>\n",
       "      <td>0.8</td>\n",
       "      <td>3</td>\n",
       "      <td>10</td>\n",
       "      <td>256</td>\n",
       "      <td>4</td>\n",
       "    </tr>\n",
       "    <tr>\n",
       "      <th>8</th>\n",
       "      <td>8</td>\n",
       "      <td>0.0001</td>\n",
       "      <td>0.104156</td>\n",
       "      <td>0.179313</td>\n",
       "      <td>1734803031</td>\n",
       "      <td>checkpoint_000008</td>\n",
       "      <td>True</td>\n",
       "      <td>False</td>\n",
       "      <td>9</td>\n",
       "      <td>161d3_00000</td>\n",
       "      <td>...</td>\n",
       "      <td>127.0.0.1</td>\n",
       "      <td>448.800185</td>\n",
       "      <td>9</td>\n",
       "      <td>0.5</td>\n",
       "      <td>0.0001</td>\n",
       "      <td>0.8</td>\n",
       "      <td>3</td>\n",
       "      <td>10</td>\n",
       "      <td>256</td>\n",
       "      <td>4</td>\n",
       "    </tr>\n",
       "    <tr>\n",
       "      <th>9</th>\n",
       "      <td>9</td>\n",
       "      <td>0.0001</td>\n",
       "      <td>0.055891</td>\n",
       "      <td>0.161486</td>\n",
       "      <td>1734803081</td>\n",
       "      <td>checkpoint_000009</td>\n",
       "      <td>True</td>\n",
       "      <td>False</td>\n",
       "      <td>10</td>\n",
       "      <td>161d3_00000</td>\n",
       "      <td>...</td>\n",
       "      <td>127.0.0.1</td>\n",
       "      <td>498.388219</td>\n",
       "      <td>10</td>\n",
       "      <td>0.5</td>\n",
       "      <td>0.0001</td>\n",
       "      <td>0.8</td>\n",
       "      <td>3</td>\n",
       "      <td>10</td>\n",
       "      <td>256</td>\n",
       "      <td>4</td>\n",
       "    </tr>\n",
       "  </tbody>\n",
       "</table>\n",
       "<p>10 rows × 25 columns</p>\n",
       "</div>"
      ]
     },
     "execution_count": 220,
     "metadata": {},
     "output_type": "execute_result"
    }
   ],
   "execution_count": 220
  },
  {
   "metadata": {},
   "cell_type": "markdown",
   "source": "### Batch inference (offline)",
   "id": "cc8f4bfc3ddacdbf"
  },
  {
   "metadata": {},
   "cell_type": "code",
   "outputs": [],
   "execution_count": null,
   "source": [
    "import ray.data\n",
    "\n",
    "# from ray.data import ActorPoolStrategy"
   ],
   "id": "c61816c339affb25"
  },
  {
   "metadata": {},
   "cell_type": "code",
   "outputs": [],
   "execution_count": null,
   "source": [
    "# Artifacts\n",
    "# run_id = sorted_runs.iloc[0].run_id\n",
    "# best_checkpoint = get_best_checkpoint(run_id=run_id)\n",
    "best_checkpoint = results.best_checkpoints[0][0]\n",
    "predictor = TorchPredictor.from_checkpoint(best_checkpoint)\n",
    "preprocessor = predictor.get_preprocessor()"
   ],
   "id": "491d05a4cb92fb9a"
  },
  {
   "metadata": {},
   "cell_type": "code",
   "outputs": [],
   "execution_count": null,
   "source": [
    "# Batch inference\n",
    "preprocessed_ds = preprocessor.transform(test_ds)\n",
    "# compute = ActorPoolStrategy(min_size=1, max_size=2)\n",
    "outputs = preprocessed_ds.map_batches(predictor, batch_size=128, concurrency=2)\n",
    "np.array([d[\"output\"] for d in outputs.take_all()])"
   ],
   "id": "7da339d19a4f78"
  },
  {
   "metadata": {},
   "cell_type": "markdown",
   "source": "### Online inference (real-time)",
   "id": "6508a2d48250869e"
  },
  {
   "metadata": {},
   "cell_type": "markdown",
   "source": "While we can achieve batch inference at scale, many models will need to be served in an real-time manner where we may need to deliver predictions for many incoming requests (high throughput) with low latency.",
   "id": "4c4d3b4153445450"
  },
  {
   "metadata": {},
   "cell_type": "code",
   "outputs": [],
   "execution_count": null,
   "source": [
    "import requests\n",
    "from fastapi import FastAPI\n",
    "from ray import serve\n",
    "from starlette.requests import Request"
   ],
   "id": "d7300031961771d6"
  },
  {
   "metadata": {},
   "cell_type": "code",
   "outputs": [],
   "execution_count": null,
   "source": [
    "# Define application\n",
    "app = FastAPI(\n",
    "    title=\"Made With ML\",\n",
    "    description=\"Classify machine learning projects.\",\n",
    "    version=\"0.1\",\n",
    ")"
   ],
   "id": "68631ca254c78fc3"
  },
  {
   "metadata": {},
   "cell_type": "markdown",
   "source": "We'll start by defining our FastAPI application which involves initializing a predictor (and preprocessor) from the best checkpoint for a particular run (specified by run_id). We'll also define a predict function that will be used to make predictions on our input data.",
   "id": "b641fcbd65950472"
  },
  {
   "metadata": {},
   "cell_type": "code",
   "outputs": [],
   "execution_count": null,
   "source": [
    "@serve.deployment(num_replicas=\"1\", ray_actor_options={\"num_cpus\": 8, \"num_gpus\": 0})\n",
    "@serve.ingress(app)\n",
    "class ModelDeployment:\n",
    "    # def __init__(self, run_id):\n",
    "    #     \"\"\"Initialize the model.\"\"\"\n",
    "    #     self.run_id = run_id\n",
    "    #     mlflow.set_tracking_uri(MLFLOW_TRACKING_URI)  # so workers have access to model registry\n",
    "    #     best_checkpoint = get_best_checkpoint(run_id=run_id)\n",
    "    #     self.predictor = TorchPredictor.from_checkpoint(best_checkpoint)\n",
    "\n",
    "    def __init__(self, best_checkpoint):\n",
    "        \"\"\"Initialize the model.\"\"\"\n",
    "        self.best_checkpoint = best_checkpoint\n",
    "        self.predictor = TorchPredictor.from_checkpoint(best_checkpoint)\n",
    "\n",
    "    @app.post(\"/predict/\")\n",
    "    async def _predict(self, request: Request):\n",
    "        try:\n",
    "            data = await request.json()\n",
    "            sample_ds = ray.data.from_items(\n",
    "                [\n",
    "                    {\n",
    "                        \"title\": data.get(\"title\", \"\"),\n",
    "                        \"description\": data.get(\"description\", \"\"),\n",
    "                        \"tag\": \"\",\n",
    "                    }\n",
    "                ]\n",
    "            )\n",
    "            results = predict_proba(ds=sample_ds, predictor=self.predictor)\n",
    "            print(results)\n",
    "\n",
    "            # Ensure all outputs are JSON serializable\n",
    "            serialized_results = [\n",
    "                {\n",
    "                    k: (float(v) if isinstance(v, np.float32) else v)\n",
    "                    for k, v in d.items()\n",
    "                }\n",
    "                for d in results\n",
    "            ]\n",
    "\n",
    "            return {\"results\": serialized_results}\n",
    "        except Exception as e:\n",
    "            print(f\"Error during prediction: {e}\")\n",
    "            return {\"error\": str(e)}"
   ],
   "id": "119fd03c6d9946c2"
  },
  {
   "metadata": {},
   "cell_type": "markdown",
   "source": "async def refers to an asynchronous function (when we call the function we don't have to wait for the function to complete executing). The await keyword is used inside an asynchronous function to wait for the completion of the request.json() operation.",
   "id": "d70babd469b15a27"
  },
  {
   "metadata": {},
   "cell_type": "code",
   "outputs": [],
   "execution_count": null,
   "source": [
    "# Run service\n",
    "serve.run(ModelDeployment.bind(best_checkpoint=best_checkpoint), route_prefix=\"/\")"
   ],
   "id": "f461cb70fdc14fe9"
  },
  {
   "metadata": {},
   "cell_type": "code",
   "outputs": [],
   "execution_count": null,
   "source": [
    "# Query\n",
    "title = \"Transfer learning with transformers\"\n",
    "description = \"Using transformers for transfer learning on text classification tasks.\"\n",
    "json_data = json.dumps({\"title\": title, \"description\": description})\n",
    "requests.post(\"http://127.0.0.1:8000/predict/\", data=json_data).text"
   ],
   "id": "36fe555d6b616518"
  },
  {
   "metadata": {},
   "cell_type": "markdown",
   "source": "The issue with neural networks (and especially LLMs) is that they are notoriously overconfident. For every input, they will always make some prediction. And to account for this, we have an other class but that class only has projects that are not in our accepted tags but are still machine learning related nonetheless. Here's what happens when we input complete noise as our input:",
   "id": "5df6aff1a76126df"
  },
  {
   "metadata": {},
   "cell_type": "code",
   "outputs": [],
   "execution_count": null,
   "source": [
    "# Query (noise)\n",
    "title = \"this is random noise\"  # random noise\n",
    "json_data = json.dumps({\"title\": title, \"description\": \"\"})\n",
    "requests.post(\"http://127.0.0.1:8000/predict/\", data=json_data).json()"
   ],
   "id": "480be96ddfac42d9"
  },
  {
   "metadata": {},
   "cell_type": "code",
   "outputs": [],
   "execution_count": null,
   "source": [
    "# Shutdown\n",
    "serve.shutdown()"
   ],
   "id": "9cbe66b215fd008d"
  },
  {
   "metadata": {},
   "cell_type": "markdown",
   "source": "### Custom logic",
   "id": "e1d28a82dbfe8a81"
  },
  {
   "metadata": {},
   "cell_type": "markdown",
   "source": "To make our service a bit more robust, let's add some custom logic to predict the other class if the probability of the predicted class is below a certain threshold probability.",
   "id": "e9b931dfb063732"
  },
  {
   "metadata": {
    "ExecuteTime": {
     "end_time": "2024-12-21T16:46:32.245976Z",
     "start_time": "2024-12-21T16:46:32.155644Z"
    }
   },
   "cell_type": "code",
   "source": [
    "@serve.deployment(num_replicas=\"1\", ray_actor_options={\"num_cpus\": 8, \"num_gpus\": 0})\n",
    "@serve.ingress(app)\n",
    "class ModelDeploymentRobust:\n",
    "    def __init__(self, best_checkpoint, threshold=0.9):\n",
    "        \"\"\"Initialize the model.\"\"\"\n",
    "        self.threshold = threshold\n",
    "        self.best_checkpoint = best_checkpoint\n",
    "        self.predictor = TorchPredictor.from_checkpoint(best_checkpoint)\n",
    "\n",
    "    @app.post(\"/predict/\")\n",
    "    async def _predict(self, request: Request):\n",
    "        data = await request.json()\n",
    "        sample_ds = ray.data.from_items(\n",
    "            [\n",
    "                {\n",
    "                    \"title\": data.get(\"title\", \"\"),\n",
    "                    \"description\": data.get(\"description\", \"\"),\n",
    "                    \"tag\": \"\",\n",
    "                }\n",
    "            ]\n",
    "        )\n",
    "        results = predict_proba(ds=sample_ds, predictor=self.predictor)\n",
    "\n",
    "        # Apply custom logic\n",
    "        for i, result in enumerate(results):\n",
    "            pred = result[\"prediction\"]\n",
    "            prob = result[\"probabilities\"]\n",
    "            if prob[pred] < self.threshold:\n",
    "                results[i][\"prediction\"] = \"other\"\n",
    "\n",
    "        return {\"results\": results}"
   ],
   "id": "b49eacdb953f6e42",
   "outputs": [],
   "execution_count": 205
  },
  {
   "metadata": {
    "ExecuteTime": {
     "end_time": "2024-12-21T16:46:39.939810Z",
     "start_time": "2024-12-21T16:46:34.039601Z"
    }
   },
   "cell_type": "code",
   "source": [
    "# Run service\n",
    "serve.run(\n",
    "    ModelDeploymentRobust.bind(best_checkpoint=best_checkpoint, threshold=0.9),\n",
    "    route_prefix=\"/\",\n",
    ")"
   ],
   "id": "8d7685616818d4e1",
   "outputs": [
    {
     "name": "stderr",
     "output_type": "stream",
     "text": [
      "INFO 2024-12-21 17:46:35,774 serve 4417 -- Started Serve in namespace \"serve\".\n",
      "INFO 2024-12-21 17:46:39,934 serve 4417 -- Application 'default' is ready at http://127.0.0.1:8000/.\n",
      "INFO 2024-12-21 17:46:39,935 serve 4417 -- Deployed app 'default' successfully.\n"
     ]
    },
    {
     "data": {
      "text/plain": [
       "DeploymentHandle(deployment='ModelDeploymentRobust')"
      ]
     },
     "execution_count": 206,
     "metadata": {},
     "output_type": "execute_result"
    }
   ],
   "execution_count": 206
  },
  {
   "metadata": {
    "ExecuteTime": {
     "end_time": "2024-12-21T16:46:44.133706Z",
     "start_time": "2024-12-21T16:46:43.199315Z"
    }
   },
   "cell_type": "code",
   "source": [
    "# Query (noise)\n",
    "title = \"this is random noise\"  # random noise\n",
    "json_data = json.dumps({\"title\": title, \"description\": \"\"})\n",
    "requests.post(\"http://127.0.0.1:8000/predict/\", data=json_data).json()"
   ],
   "id": "f411976bbe4abef",
   "outputs": [
    {
     "data": {
      "text/plain": [
       "(pid=8199) Running 0: 0.00 row [00:00, ? row/s]"
      ],
      "application/vnd.jupyter.widget-view+json": {
       "version_major": 2,
       "version_minor": 0,
       "model_id": "deaa262b740e47fe88d0a27018b90cf9"
      }
     },
     "metadata": {},
     "output_type": "display_data"
    },
    {
     "data": {
      "text/plain": [
       "{'results': [{'prediction': 'other',\n",
       "   'probabilities': {'computer-vision': 0.05322418361902237,\n",
       "    'mlops': 0.07271185517311096,\n",
       "    'natural-language-processing': 0.2947300970554352,\n",
       "    'other': 0.5793338418006897}}]}"
      ]
     },
     "execution_count": 207,
     "metadata": {},
     "output_type": "execute_result"
    }
   ],
   "execution_count": 207
  },
  {
   "metadata": {
    "ExecuteTime": {
     "end_time": "2024-12-21T16:46:57.134651Z",
     "start_time": "2024-12-21T16:46:54.014097Z"
    }
   },
   "cell_type": "code",
   "source": [
    "# Shutdown\n",
    "serve.shutdown()"
   ],
   "id": "3dfabf49a2b6f276",
   "outputs": [],
   "execution_count": 208
  }
 ],
 "metadata": {
  "kernelspec": {
   "display_name": "Python 3 (ipykernel)",
   "language": "python",
   "name": "python3"
  },
  "language_info": {
   "codemirror_mode": {
    "name": "ipython",
    "version": 3
   },
   "file_extension": ".py",
   "mimetype": "text/x-python",
   "name": "python",
   "nbconvert_exporter": "python",
   "pygments_lexer": "ipython3",
   "version": "3.11.11"
  }
 },
 "nbformat": 4,
 "nbformat_minor": 5
}
