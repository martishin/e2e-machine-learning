{
 "cells": [
  {
   "cell_type": "markdown",
   "id": "dae3857cb37f0a95",
   "metadata": {},
   "source": [
    "## Setup"
   ]
  },
  {
   "cell_type": "code",
   "execution_count": 1,
   "id": "d9de1326501792c3",
   "metadata": {
    "ExecuteTime": {
     "end_time": "2024-12-20T20:41:27.308120Z",
     "start_time": "2024-12-20T20:41:27.102376Z"
    }
   },
   "outputs": [],
   "source": [
    "import os\n",
    "\n",
    "import ray"
   ]
  },
  {
   "cell_type": "code",
   "execution_count": 2,
   "id": "170aaa8bdebafe48",
   "metadata": {
    "ExecuteTime": {
     "end_time": "2024-12-20T20:41:29.073353Z",
     "start_time": "2024-12-20T20:41:29.042689Z"
    }
   },
   "outputs": [],
   "source": [
    "import sys\n",
    "\n",
    "sys.path.append(\"..\")\n",
    "import warnings\n",
    "\n",
    "warnings.filterwarnings(\"ignore\")\n",
    "from dotenv import load_dotenv\n",
    "\n",
    "load_dotenv()\n",
    "%load_ext autoreload\n",
    "%autoreload 2"
   ]
  },
  {
   "cell_type": "code",
   "execution_count": 3,
   "id": "8e3c2d1a381ab7af",
   "metadata": {
    "ExecuteTime": {
     "end_time": "2024-12-20T20:41:31.591802Z",
     "start_time": "2024-12-20T20:41:30.006546Z"
    }
   },
   "outputs": [
    {
     "name": "stderr",
     "output_type": "stream",
     "text": [
      "2024-12-20 21:41:30,932\tINFO worker.py:1812 -- Started a local Ray instance. View the dashboard at \u001B[1m\u001B[32mhttp://127.0.0.1:8271 \u001B[39m\u001B[22m\n"
     ]
    },
    {
     "data": {
      "application/vnd.jupyter.widget-view+json": {
       "model_id": "c26c654f4fd2450fa8419815794f5a78",
       "version_major": 2,
       "version_minor": 0
      },
      "text/html": [
       "<div class=\"lm-Widget p-Widget lm-Panel p-Panel jp-Cell-outputWrapper\">\n",
       "    <div style=\"margin-left: 50px;display: flex;flex-direction: row;align-items: center\">\n",
       "        <div class=\"jp-RenderedHTMLCommon\" style=\"display: flex; flex-direction: row;\">\n",
       "  <svg viewBox=\"0 0 567 224\" fill=\"none\" xmlns=\"http://www.w3.org/2000/svg\" style=\"height: 3em;\">\n",
       "    <g clip-path=\"url(#clip0_4338_178347)\">\n",
       "        <path d=\"M341.29 165.561H355.29L330.13 129.051C345.63 123.991 354.21 112.051 354.21 94.2307C354.21 71.3707 338.72 58.1807 311.88 58.1807H271V165.561H283.27V131.661H311.8C314.25 131.661 316.71 131.501 319.01 131.351L341.25 165.561H341.29ZM283.29 119.851V70.0007H311.82C331.3 70.0007 342.34 78.2907 342.34 94.5507C342.34 111.271 331.34 119.861 311.82 119.861L283.29 119.851ZM451.4 138.411L463.4 165.561H476.74L428.74 58.1807H416L367.83 165.561H380.83L392.83 138.411H451.4ZM446.19 126.601H398L422 72.1407L446.24 126.601H446.19ZM526.11 128.741L566.91 58.1807H554.35L519.99 114.181L485.17 58.1807H472.44L514.01 129.181V165.541H526.13V128.741H526.11Z\" fill=\"var(--jp-ui-font-color0)\"/>\n",
       "        <path d=\"M82.35 104.44C84.0187 97.8827 87.8248 92.0678 93.1671 87.9146C98.5094 83.7614 105.083 81.5067 111.85 81.5067C118.617 81.5067 125.191 83.7614 130.533 87.9146C135.875 92.0678 139.681 97.8827 141.35 104.44H163.75C164.476 101.562 165.622 98.8057 167.15 96.2605L127.45 56.5605C121.071 60.3522 113.526 61.6823 106.235 60.3005C98.9443 58.9187 92.4094 54.9203 87.8602 49.0574C83.3109 43.1946 81.0609 35.8714 81.5332 28.4656C82.0056 21.0599 85.1679 14.0819 90.4252 8.8446C95.6824 3.60726 102.672 0.471508 110.08 0.0272655C117.487 -0.416977 124.802 1.86091 130.647 6.4324C136.493 11.0039 140.467 17.5539 141.821 24.8501C143.175 32.1463 141.816 39.6859 138 46.0505L177.69 85.7505C182.31 82.9877 187.58 81.4995 192.962 81.4375C198.345 81.3755 203.648 82.742 208.33 85.3976C213.012 88.0532 216.907 91.9029 219.616 96.5544C222.326 101.206 223.753 106.492 223.753 111.875C223.753 117.258 222.326 122.545 219.616 127.197C216.907 131.848 213.012 135.698 208.33 138.353C203.648 141.009 198.345 142.375 192.962 142.313C187.58 142.251 182.31 140.763 177.69 138L138 177.7C141.808 184.071 143.155 191.614 141.79 198.91C140.424 206.205 136.44 212.75 130.585 217.313C124.731 221.875 117.412 224.141 110.004 223.683C102.596 223.226 95.6103 220.077 90.3621 214.828C85.1139 209.58 81.9647 202.595 81.5072 195.187C81.0497 187.779 83.3154 180.459 87.878 174.605C92.4405 168.751 98.9853 164.766 106.281 163.401C113.576 162.035 121.119 163.383 127.49 167.19L167.19 127.49C165.664 124.941 164.518 122.182 163.79 119.3H141.39C139.721 125.858 135.915 131.673 130.573 135.826C125.231 139.98 118.657 142.234 111.89 142.234C105.123 142.234 98.5494 139.98 93.2071 135.826C87.8648 131.673 84.0587 125.858 82.39 119.3H60C58.1878 126.495 53.8086 132.78 47.6863 136.971C41.5641 141.163 34.1211 142.972 26.7579 142.059C19.3947 141.146 12.6191 137.574 7.70605 132.014C2.79302 126.454 0.0813599 119.29 0.0813599 111.87C0.0813599 104.451 2.79302 97.2871 7.70605 91.7272C12.6191 86.1673 19.3947 82.5947 26.7579 81.6817C34.1211 80.7686 41.5641 82.5781 47.6863 86.7696C53.8086 90.9611 58.1878 97.2456 60 104.44H82.35ZM100.86 204.32C103.407 206.868 106.759 208.453 110.345 208.806C113.93 209.159 117.527 208.258 120.522 206.256C123.517 204.254 125.725 201.276 126.771 197.828C127.816 194.38 127.633 190.677 126.253 187.349C124.874 184.021 122.383 181.274 119.205 179.577C116.027 177.88 112.359 177.337 108.826 178.042C105.293 178.746 102.113 180.654 99.8291 183.44C97.5451 186.226 96.2979 189.718 96.3 193.32C96.2985 195.364 96.7006 197.388 97.4831 199.275C98.2656 201.163 99.4132 202.877 100.86 204.32ZM204.32 122.88C206.868 120.333 208.453 116.981 208.806 113.396C209.159 109.811 208.258 106.214 206.256 103.219C204.254 100.223 201.275 98.0151 197.827 96.97C194.38 95.9249 190.676 96.1077 187.348 97.4873C184.02 98.8669 181.274 101.358 179.577 104.536C177.879 107.714 177.337 111.382 178.041 114.915C178.746 118.448 180.653 121.627 183.439 123.911C186.226 126.195 189.717 127.443 193.32 127.44C195.364 127.443 197.388 127.042 199.275 126.259C201.163 125.476 202.878 124.328 204.32 122.88ZM122.88 19.4205C120.333 16.8729 116.981 15.2876 113.395 14.9347C109.81 14.5817 106.213 15.483 103.218 17.4849C100.223 19.4868 98.0146 22.4654 96.9696 25.9131C95.9245 29.3608 96.1073 33.0642 97.4869 36.3922C98.8665 39.7202 101.358 42.4668 104.535 44.1639C107.713 45.861 111.381 46.4036 114.914 45.6992C118.447 44.9949 121.627 43.0871 123.911 40.301C126.195 37.515 127.442 34.0231 127.44 30.4205C127.44 28.3772 127.038 26.3539 126.255 24.4664C125.473 22.5788 124.326 20.8642 122.88 19.4205ZM19.42 100.86C16.8725 103.408 15.2872 106.76 14.9342 110.345C14.5813 113.93 15.4826 117.527 17.4844 120.522C19.4863 123.518 22.4649 125.726 25.9127 126.771C29.3604 127.816 33.0638 127.633 36.3918 126.254C39.7198 124.874 42.4664 122.383 44.1635 119.205C45.8606 116.027 46.4032 112.359 45.6988 108.826C44.9944 105.293 43.0866 102.114 40.3006 99.8296C37.5145 97.5455 34.0227 96.2983 30.42 96.3005C26.2938 96.3018 22.337 97.9421 19.42 100.86ZM100.86 100.86C98.3125 103.408 96.7272 106.76 96.3742 110.345C96.0213 113.93 96.9226 117.527 98.9244 120.522C100.926 123.518 103.905 125.726 107.353 126.771C110.8 127.816 114.504 127.633 117.832 126.254C121.16 124.874 123.906 122.383 125.604 119.205C127.301 116.027 127.843 112.359 127.139 108.826C126.434 105.293 124.527 102.114 121.741 99.8296C118.955 97.5455 115.463 96.2983 111.86 96.3005C109.817 96.299 107.793 96.701 105.905 97.4835C104.018 98.2661 102.303 99.4136 100.86 100.86Z\" fill=\"#00AEEF\"/>\n",
       "    </g>\n",
       "    <defs>\n",
       "        <clipPath id=\"clip0_4338_178347\">\n",
       "            <rect width=\"566.93\" height=\"223.75\" fill=\"white\"/>\n",
       "        </clipPath>\n",
       "    </defs>\n",
       "  </svg>\n",
       "</div>\n",
       "\n",
       "        <table class=\"jp-RenderedHTMLCommon\" style=\"border-collapse: collapse;color: var(--jp-ui-font-color1);font-size: var(--jp-ui-font-size1);\">\n",
       "    <tr>\n",
       "        <td style=\"text-align: left\"><b>Python version:</b></td>\n",
       "        <td style=\"text-align: left\"><b>3.11.11</b></td>\n",
       "    </tr>\n",
       "    <tr>\n",
       "        <td style=\"text-align: left\"><b>Ray version:</b></td>\n",
       "        <td style=\"text-align: left\"><b>2.40.0</b></td>\n",
       "    </tr>\n",
       "    <tr>\n",
       "    <td style=\"text-align: left\"><b>Dashboard:</b></td>\n",
       "    <td style=\"text-align: left\"><b><a href=\"http://127.0.0.1:8271\" target=\"_blank\">http://127.0.0.1:8271</a></b></td>\n",
       "</tr>\n",
       "\n",
       "</table>\n",
       "\n",
       "    </div>\n",
       "</div>\n"
      ],
      "text/plain": [
       "RayContext(dashboard_url='127.0.0.1:8271', python_version='3.11.11', ray_version='2.40.0', ray_commit='{{RAY_COMMIT_SHA}}')"
      ]
     },
     "execution_count": 3,
     "metadata": {},
     "output_type": "execute_result"
    }
   ],
   "source": [
    "if ray.is_initialized():\n",
    "    ray.shutdown()\n",
    "ray.init()"
   ]
  },
  {
   "cell_type": "code",
   "execution_count": 4,
   "id": "7ac0dc138cf7e0f0",
   "metadata": {
    "ExecuteTime": {
     "end_time": "2024-12-20T20:41:32.708107Z",
     "start_time": "2024-12-20T20:41:32.685979Z"
    }
   },
   "outputs": [
    {
     "data": {
      "text/plain": [
       "{'CPU': 10.0,\n",
       " 'object_store_memory': 2147483648.0,\n",
       " 'node:127.0.0.1': 1.0,\n",
       " 'memory': 18278888244.0,\n",
       " 'node:__internal_head__': 1.0}"
      ]
     },
     "execution_count": 4,
     "metadata": {},
     "output_type": "execute_result"
    }
   ],
   "source": [
    "ray.cluster_resources()"
   ]
  },
  {
   "cell_type": "code",
   "execution_count": 5,
   "id": "31e5851221c3279b",
   "metadata": {
    "ExecuteTime": {
     "end_time": "2024-12-20T20:41:33.953018Z",
     "start_time": "2024-12-20T20:41:33.933025Z"
    }
   },
   "outputs": [],
   "source": [
    "num_workers = 6\n",
    "resources_per_worker = {\"CPU\": 1, \"GPU\": 0}"
   ]
  },
  {
   "cell_type": "markdown",
   "id": "3f4e98b492a89f59",
   "metadata": {},
   "source": [
    "## Data Preparation"
   ]
  },
  {
   "cell_type": "markdown",
   "id": "8b081c1dae19f199",
   "metadata": {},
   "source": [
    "### Data ingestion"
   ]
  },
  {
   "cell_type": "code",
   "execution_count": 6,
   "id": "f9c9ddf59a4dc1f2",
   "metadata": {
    "ExecuteTime": {
     "end_time": "2024-12-20T20:41:44.122316Z",
     "start_time": "2024-12-20T20:41:44.104434Z"
    }
   },
   "outputs": [],
   "source": [
    "import pandas as pd"
   ]
  },
  {
   "cell_type": "code",
   "execution_count": 7,
   "id": "b883d9ea53412407",
   "metadata": {
    "ExecuteTime": {
     "end_time": "2024-12-20T20:41:46.906670Z",
     "start_time": "2024-12-20T20:41:46.884925Z"
    }
   },
   "outputs": [
    {
     "data": {
      "text/html": [
       "<div>\n",
       "<style scoped>\n",
       "    .dataframe tbody tr th:only-of-type {\n",
       "        vertical-align: middle;\n",
       "    }\n",
       "\n",
       "    .dataframe tbody tr th {\n",
       "        vertical-align: top;\n",
       "    }\n",
       "\n",
       "    .dataframe thead th {\n",
       "        text-align: right;\n",
       "    }\n",
       "</style>\n",
       "<table border=\"1\" class=\"dataframe\">\n",
       "  <thead>\n",
       "    <tr style=\"text-align: right;\">\n",
       "      <th></th>\n",
       "      <th>id</th>\n",
       "      <th>created_on</th>\n",
       "      <th>title</th>\n",
       "      <th>description</th>\n",
       "      <th>tag</th>\n",
       "    </tr>\n",
       "  </thead>\n",
       "  <tbody>\n",
       "    <tr>\n",
       "      <th>0</th>\n",
       "      <td>6</td>\n",
       "      <td>2020-02-20 06:43:18</td>\n",
       "      <td>Comparison between YOLO and RCNN on real world...</td>\n",
       "      <td>Bringing theory to experiment is cool. We can ...</td>\n",
       "      <td>computer-vision</td>\n",
       "    </tr>\n",
       "    <tr>\n",
       "      <th>1</th>\n",
       "      <td>7</td>\n",
       "      <td>2020-02-20 06:47:21</td>\n",
       "      <td>Show, Infer &amp; Tell: Contextual Inference for C...</td>\n",
       "      <td>The beauty of the work lies in the way it arch...</td>\n",
       "      <td>computer-vision</td>\n",
       "    </tr>\n",
       "    <tr>\n",
       "      <th>2</th>\n",
       "      <td>9</td>\n",
       "      <td>2020-02-24 16:24:45</td>\n",
       "      <td>Awesome Graph Classification</td>\n",
       "      <td>A collection of important graph embedding, cla...</td>\n",
       "      <td>other</td>\n",
       "    </tr>\n",
       "    <tr>\n",
       "      <th>3</th>\n",
       "      <td>15</td>\n",
       "      <td>2020-02-28 23:55:26</td>\n",
       "      <td>Awesome Monte Carlo Tree Search</td>\n",
       "      <td>A curated list of Monte Carlo tree search pape...</td>\n",
       "      <td>other</td>\n",
       "    </tr>\n",
       "    <tr>\n",
       "      <th>4</th>\n",
       "      <td>25</td>\n",
       "      <td>2020-03-07 23:04:31</td>\n",
       "      <td>AttentionWalk</td>\n",
       "      <td>A PyTorch Implementation of \"Watch Your Step: ...</td>\n",
       "      <td>other</td>\n",
       "    </tr>\n",
       "  </tbody>\n",
       "</table>\n",
       "</div>"
      ],
      "text/plain": [
       "   id           created_on                                              title  \\\n",
       "0   6  2020-02-20 06:43:18  Comparison between YOLO and RCNN on real world...   \n",
       "1   7  2020-02-20 06:47:21  Show, Infer & Tell: Contextual Inference for C...   \n",
       "2   9  2020-02-24 16:24:45                       Awesome Graph Classification   \n",
       "3  15  2020-02-28 23:55:26                    Awesome Monte Carlo Tree Search   \n",
       "4  25  2020-03-07 23:04:31                                      AttentionWalk   \n",
       "\n",
       "                                         description              tag  \n",
       "0  Bringing theory to experiment is cool. We can ...  computer-vision  \n",
       "1  The beauty of the work lies in the way it arch...  computer-vision  \n",
       "2  A collection of important graph embedding, cla...            other  \n",
       "3  A curated list of Monte Carlo tree search pape...            other  \n",
       "4  A PyTorch Implementation of \"Watch Your Step: ...            other  "
      ]
     },
     "execution_count": 7,
     "metadata": {},
     "output_type": "execute_result"
    }
   ],
   "source": [
    "# Data ingestion\n",
    "DATASET_LOC = \"../datasets/dataset.csv\"\n",
    "df = pd.read_csv(DATASET_LOC)\n",
    "df.head()"
   ]
  },
  {
   "cell_type": "markdown",
   "id": "18a092cb2807c46a",
   "metadata": {},
   "source": [
    "### Data Splitting"
   ]
  },
  {
   "cell_type": "code",
   "execution_count": 11,
   "id": "21065628a9ebf0fc",
   "metadata": {
    "ExecuteTime": {
     "end_time": "2024-12-20T20:42:33.056673Z",
     "start_time": "2024-12-20T20:42:33.040672Z"
    }
   },
   "outputs": [],
   "source": [
    "from sklearn.model_selection import train_test_split"
   ]
  },
  {
   "cell_type": "code",
   "execution_count": 10,
   "id": "92a44527aff512e3",
   "metadata": {
    "ExecuteTime": {
     "end_time": "2024-12-20T20:42:31.845938Z",
     "start_time": "2024-12-20T20:42:31.823713Z"
    }
   },
   "outputs": [
    {
     "data": {
      "text/plain": [
       "tag\n",
       "natural-language-processing    310\n",
       "computer-vision                285\n",
       "other                          106\n",
       "mlops                           63\n",
       "Name: count, dtype: int64"
      ]
     },
     "execution_count": 10,
     "metadata": {},
     "output_type": "execute_result"
    }
   ],
   "source": [
    "# Value counts\n",
    "df.tag.value_counts()"
   ]
  },
  {
   "cell_type": "code",
   "execution_count": 12,
   "id": "246d74e3323b29aa",
   "metadata": {
    "ExecuteTime": {
     "end_time": "2024-12-20T20:42:36.781610Z",
     "start_time": "2024-12-20T20:42:36.760246Z"
    }
   },
   "outputs": [],
   "source": [
    "# Split dataset\n",
    "test_size = 0.2\n",
    "train_df, val_df = train_test_split(\n",
    "    df, stratify=df.tag, test_size=test_size, random_state=1234\n",
    ")"
   ]
  },
  {
   "cell_type": "code",
   "execution_count": 13,
   "id": "99cd0972fdd687ab",
   "metadata": {
    "ExecuteTime": {
     "end_time": "2024-12-20T20:42:40.420933Z",
     "start_time": "2024-12-20T20:42:40.401080Z"
    }
   },
   "outputs": [
    {
     "data": {
      "text/plain": [
       "tag\n",
       "natural-language-processing    248\n",
       "computer-vision                228\n",
       "other                           85\n",
       "mlops                           50\n",
       "Name: count, dtype: int64"
      ]
     },
     "execution_count": 13,
     "metadata": {},
     "output_type": "execute_result"
    }
   ],
   "source": [
    "# Train value counts\n",
    "train_df.tag.value_counts()"
   ]
  },
  {
   "cell_type": "code",
   "execution_count": 14,
   "id": "1e98eaa9ab00b09e",
   "metadata": {
    "ExecuteTime": {
     "end_time": "2024-12-20T20:42:44.637311Z",
     "start_time": "2024-12-20T20:42:44.612358Z"
    }
   },
   "outputs": [
    {
     "data": {
      "text/plain": [
       "tag\n",
       "natural-language-processing    248\n",
       "computer-vision                228\n",
       "other                           84\n",
       "mlops                           52\n",
       "Name: count, dtype: int64"
      ]
     },
     "execution_count": 14,
     "metadata": {},
     "output_type": "execute_result"
    }
   ],
   "source": [
    "# Validation (adjusted) value counts\n",
    "val_df.tag.value_counts() * int((1 - test_size) / test_size)"
   ]
  },
  {
   "cell_type": "markdown",
   "id": "4713d42a4e0388f9",
   "metadata": {},
   "source": [
    "## Exploratory Data Analysis (EDA)"
   ]
  },
  {
   "cell_type": "markdown",
   "id": "f8e21b632bfdde41",
   "metadata": {},
   "source": [
    "Exploratory data analysis helps us understand the signals and nuances of our dataset. It's a cyclical process that can be done at various points of our development process (before/after labeling, preprocessing, etc.) depending on how well the problem is defined."
   ]
  },
  {
   "cell_type": "code",
   "execution_count": 15,
   "id": "f8fce3c08fbf8a58",
   "metadata": {
    "ExecuteTime": {
     "end_time": "2024-12-20T20:43:01.554827Z",
     "start_time": "2024-12-20T20:43:01.515770Z"
    }
   },
   "outputs": [],
   "source": [
    "from collections import Counter\n",
    "\n",
    "import matplotlib.pyplot as plt\n",
    "import seaborn as sns\n",
    "\n",
    "sns.set_theme()\n",
    "import warnings\n",
    "\n",
    "warnings.filterwarnings(\"ignore\")\n",
    "from wordcloud import STOPWORDS, WordCloud"
   ]
  },
  {
   "cell_type": "code",
   "execution_count": 16,
   "id": "d254cc42801268f5",
   "metadata": {
    "ExecuteTime": {
     "end_time": "2024-12-20T20:43:04.068326Z",
     "start_time": "2024-12-20T20:43:04.047730Z"
    }
   },
   "outputs": [
    {
     "data": {
      "text/plain": [
       "[('natural-language-processing', 310),\n",
       " ('computer-vision', 285),\n",
       " ('other', 106),\n",
       " ('mlops', 63)]"
      ]
     },
     "execution_count": 16,
     "metadata": {},
     "output_type": "execute_result"
    }
   ],
   "source": [
    "# Most common tags\n",
    "all_tags = Counter(df.tag)\n",
    "all_tags.most_common()"
   ]
  },
  {
   "cell_type": "code",
   "execution_count": 17,
   "id": "7ec7738d9889b9f5",
   "metadata": {
    "ExecuteTime": {
     "end_time": "2024-12-20T20:43:11.337136Z",
     "start_time": "2024-12-20T20:43:11.242791Z"
    }
   },
   "outputs": [
    {
     "data": {
      "image/png": "[encoded data removed]",
      "text/plain": [
       "<Figure size 1000x300 with 1 Axes>"
      ]
     },
     "metadata": {},
     "output_type": "display_data"
    }
   ],
   "source": [
    "# Plot tag frequencies\n",
    "tags, tag_counts = zip(*all_tags.most_common())\n",
    "plt.figure(figsize=(10, 3))\n",
    "ax = sns.barplot(x=list(tags), y=list(tag_counts))\n",
    "ax.set_xticklabels(tags, rotation=0, fontsize=8)\n",
    "plt.title(\"Tag distribution\", fontsize=14)\n",
    "plt.ylabel(\"# of projects\", fontsize=12)\n",
    "plt.show()"
   ]
  },
  {
   "cell_type": "code",
   "execution_count": 18,
   "id": "dba190bda56ae1c7",
   "metadata": {
    "ExecuteTime": {
     "end_time": "2024-12-20T20:43:16.675168Z",
     "start_time": "2024-12-20T20:43:16.305747Z"
    }
   },
   "outputs": [
    {
     "data": {
      "text/plain": [
       "<matplotlib.image.AxesImage at 0x168c9f910>"
      ]
     },
     "execution_count": 18,
     "metadata": {},
     "output_type": "execute_result"
    },
    {
     "data": {
      "image/png": "[encoded data removed]",
      "text/plain": [
       "<Figure size 1000x300 with 1 Axes>"
      ]
     },
     "metadata": {},
     "output_type": "display_data"
    }
   ],
   "source": [
    "# Most frequent tokens for each tag\n",
    "tag = \"natural-language-processing\"\n",
    "plt.figure(figsize=(10, 3))\n",
    "subset = df[df.tag == tag]\n",
    "text = subset.title.values\n",
    "cloud = WordCloud(\n",
    "    stopwords=STOPWORDS,\n",
    "    background_color=\"black\",\n",
    "    collocations=False,\n",
    "    width=500,\n",
    "    height=300,\n",
    ").generate(\" \".join(text))\n",
    "plt.axis(\"off\")\n",
    "plt.imshow(cloud)"
   ]
  },
  {
   "cell_type": "markdown",
   "id": "2ec5a875f0ef2119",
   "metadata": {},
   "source": [
    "Looks like the title text feature has some good signal for the respective classes and matches our intuition. We can repeat this for the description text feature as well. This information will become useful when we decide how to use our features for modeling."
   ]
  },
  {
   "cell_type": "markdown",
   "id": "8e7bc93588d5cc2c",
   "metadata": {},
   "source": [
    "##  Data Preprocessing"
   ]
  },
  {
   "cell_type": "markdown",
   "id": "72205a7bc7d4cc8c",
   "metadata": {},
   "source": [
    "Preprocessing the data via feature engineering, filtering and cleaning. Certain preprocessing steps are global (don't depend on our dataset, ex. lower casing text, removing stop words, etc.) and others are local (constructs are learned only from the training split, ex. vocabulary, standardization, etc.). For the local, dataset-dependent preprocessing steps, we want to ensure that we split the data first before preprocessing to avoid data leaks."
   ]
  },
  {
   "cell_type": "code",
   "execution_count": 19,
   "id": "44d7649557b34247",
   "metadata": {
    "ExecuteTime": {
     "end_time": "2024-12-20T20:43:29.027949Z",
     "start_time": "2024-12-20T20:43:28.832612Z"
    }
   },
   "outputs": [],
   "source": [
    "import json\n",
    "import re\n",
    "\n",
    "import nltk\n",
    "from nltk.corpus import stopwords\n",
    "from nltk.stem import PorterStemmer"
   ]
  },
  {
   "cell_type": "markdown",
   "id": "1db558650fe652f4",
   "metadata": {},
   "source": [
    "### Feature engineering"
   ]
  },
  {
   "cell_type": "markdown",
   "id": "a0dda6838facee90",
   "metadata": {},
   "source": [
    "We can combine existing input features to create new meaningful signal (helping the model learn)."
   ]
  },
  {
   "cell_type": "code",
   "execution_count": 21,
   "id": "34f9a220423b6eb3",
   "metadata": {
    "ExecuteTime": {
     "end_time": "2024-12-20T20:43:42.798243Z",
     "start_time": "2024-12-20T20:43:42.772190Z"
    }
   },
   "outputs": [
    {
     "data": {
      "text/html": [
       "<div>\n",
       "<style scoped>\n",
       "    .dataframe tbody tr th:only-of-type {\n",
       "        vertical-align: middle;\n",
       "    }\n",
       "\n",
       "    .dataframe tbody tr th {\n",
       "        vertical-align: top;\n",
       "    }\n",
       "\n",
       "    .dataframe thead th {\n",
       "        text-align: right;\n",
       "    }\n",
       "</style>\n",
       "<table border=\"1\" class=\"dataframe\">\n",
       "  <thead>\n",
       "    <tr style=\"text-align: right;\">\n",
       "      <th></th>\n",
       "      <th>id</th>\n",
       "      <th>created_on</th>\n",
       "      <th>title</th>\n",
       "      <th>description</th>\n",
       "      <th>tag</th>\n",
       "      <th>text</th>\n",
       "    </tr>\n",
       "  </thead>\n",
       "  <tbody>\n",
       "    <tr>\n",
       "      <th>0</th>\n",
       "      <td>6</td>\n",
       "      <td>2020-02-20 06:43:18</td>\n",
       "      <td>Comparison between YOLO and RCNN on real world...</td>\n",
       "      <td>Bringing theory to experiment is cool. We can ...</td>\n",
       "      <td>computer-vision</td>\n",
       "      <td>Comparison between YOLO and RCNN on real world...</td>\n",
       "    </tr>\n",
       "    <tr>\n",
       "      <th>1</th>\n",
       "      <td>7</td>\n",
       "      <td>2020-02-20 06:47:21</td>\n",
       "      <td>Show, Infer &amp; Tell: Contextual Inference for C...</td>\n",
       "      <td>The beauty of the work lies in the way it arch...</td>\n",
       "      <td>computer-vision</td>\n",
       "      <td>Show, Infer &amp; Tell: Contextual Inference for C...</td>\n",
       "    </tr>\n",
       "    <tr>\n",
       "      <th>2</th>\n",
       "      <td>9</td>\n",
       "      <td>2020-02-24 16:24:45</td>\n",
       "      <td>Awesome Graph Classification</td>\n",
       "      <td>A collection of important graph embedding, cla...</td>\n",
       "      <td>other</td>\n",
       "      <td>Awesome Graph Classification A collection of i...</td>\n",
       "    </tr>\n",
       "    <tr>\n",
       "      <th>3</th>\n",
       "      <td>15</td>\n",
       "      <td>2020-02-28 23:55:26</td>\n",
       "      <td>Awesome Monte Carlo Tree Search</td>\n",
       "      <td>A curated list of Monte Carlo tree search pape...</td>\n",
       "      <td>other</td>\n",
       "      <td>Awesome Monte Carlo Tree Search A curated list...</td>\n",
       "    </tr>\n",
       "    <tr>\n",
       "      <th>4</th>\n",
       "      <td>25</td>\n",
       "      <td>2020-03-07 23:04:31</td>\n",
       "      <td>AttentionWalk</td>\n",
       "      <td>A PyTorch Implementation of \"Watch Your Step: ...</td>\n",
       "      <td>other</td>\n",
       "      <td>AttentionWalk A PyTorch Implementation of \"Wat...</td>\n",
       "    </tr>\n",
       "  </tbody>\n",
       "</table>\n",
       "</div>"
      ],
      "text/plain": [
       "   id           created_on                                              title  \\\n",
       "0   6  2020-02-20 06:43:18  Comparison between YOLO and RCNN on real world...   \n",
       "1   7  2020-02-20 06:47:21  Show, Infer & Tell: Contextual Inference for C...   \n",
       "2   9  2020-02-24 16:24:45                       Awesome Graph Classification   \n",
       "3  15  2020-02-28 23:55:26                    Awesome Monte Carlo Tree Search   \n",
       "4  25  2020-03-07 23:04:31                                      AttentionWalk   \n",
       "\n",
       "                                         description              tag  \\\n",
       "0  Bringing theory to experiment is cool. We can ...  computer-vision   \n",
       "1  The beauty of the work lies in the way it arch...  computer-vision   \n",
       "2  A collection of important graph embedding, cla...            other   \n",
       "3  A curated list of Monte Carlo tree search pape...            other   \n",
       "4  A PyTorch Implementation of \"Watch Your Step: ...            other   \n",
       "\n",
       "                                                text  \n",
       "0  Comparison between YOLO and RCNN on real world...  \n",
       "1  Show, Infer & Tell: Contextual Inference for C...  \n",
       "2  Awesome Graph Classification A collection of i...  \n",
       "3  Awesome Monte Carlo Tree Search A curated list...  \n",
       "4  AttentionWalk A PyTorch Implementation of \"Wat...  "
      ]
     },
     "execution_count": 21,
     "metadata": {},
     "output_type": "execute_result"
    }
   ],
   "source": [
    "df[\"text\"] = df.title + \" \" + df.description\n",
    "df.head(5)"
   ]
  },
  {
   "cell_type": "markdown",
   "id": "554c1b71f7a27273",
   "metadata": {},
   "source": [
    "### Cleaning"
   ]
  },
  {
   "cell_type": "code",
   "execution_count": 22,
   "id": "ad74deba445dbbcd",
   "metadata": {
    "ExecuteTime": {
     "end_time": "2024-12-20T20:43:53.984180Z",
     "start_time": "2024-12-20T20:43:53.860928Z"
    }
   },
   "outputs": [
    {
     "name": "stderr",
     "output_type": "stream",
     "text": [
      "[nltk_data] Downloading package stopwords to\n",
      "[nltk_data]     /Users/monkey/nltk_data...\n",
      "[nltk_data]   Package stopwords is already up-to-date!\n"
     ]
    }
   ],
   "source": [
    "nltk.download(\"stopwords\")\n",
    "STOPWORDS = stopwords.words(\"english\")"
   ]
  },
  {
   "cell_type": "code",
   "execution_count": 23,
   "id": "b361cbe9a4824eda",
   "metadata": {
    "ExecuteTime": {
     "end_time": "2024-12-20T20:44:04.581592Z",
     "start_time": "2024-12-20T20:44:04.559811Z"
    }
   },
   "outputs": [],
   "source": [
    "def clean_text(text, stopwords=STOPWORDS):\n",
    "    \"\"\"Clean raw text string\"\"\"\n",
    "    # Lower\n",
    "    text = text.lower()\n",
    "\n",
    "    # Remove stopwords\n",
    "    pattern = re.compile(r\"\\b(\" + r\"|\".join(stopwords) + r\")\\b\\s*\")\n",
    "    text = pattern.sub(\"\", text)\n",
    "\n",
    "    # Spacing and filters\n",
    "    text = re.sub(\n",
    "        r\"([!\\\"'#$%&()*\\+,-./:;<=>?@\\\\\\[\\]^_`{|}~])\", r\" \\1 \", text\n",
    "    )  # add spacing\n",
    "    text = re.sub(\"[^A-Za-z0-9]+\", \" \", text)  # remove non alphanumeric chars\n",
    "    text = re.sub(\" +\", \" \", text)  # remove multiple spaces\n",
    "    text = text.strip()  # strip white space at the ends\n",
    "    text = re.sub(r\"http\\S+\", \"\", text)  #  remove links\n",
    "\n",
    "    return text"
   ]
  },
  {
   "cell_type": "code",
   "execution_count": 24,
   "id": "30b12e7556e616d5",
   "metadata": {
    "ExecuteTime": {
     "end_time": "2024-12-20T20:44:08.330863Z",
     "start_time": "2024-12-20T20:44:08.284633Z"
    }
   },
   "outputs": [
    {
     "name": "stdout",
     "output_type": "stream",
     "text": [
      "Comparison between YOLO and RCNN on real world videos Bringing theory to experiment is cool. We can easily train models in colab and find the results in minutes.\n",
      "comparison yolo rcnn real world videos bringing theory experiment cool easily train models colab find results minutes\n"
     ]
    }
   ],
   "source": [
    "# Apply to dataframe\n",
    "original_df = df.copy()\n",
    "df.text = df.text.apply(clean_text)\n",
    "print(f\"{original_df.text.values[0]}\\n{df.text.values[0]}\")"
   ]
  },
  {
   "cell_type": "code",
   "execution_count": 25,
   "id": "976caeb34b9c6a0a",
   "metadata": {
    "ExecuteTime": {
     "end_time": "2024-12-20T20:44:12.033303Z",
     "start_time": "2024-12-20T20:44:12.004767Z"
    }
   },
   "outputs": [
    {
     "data": {
      "text/html": [
       "<div>\n",
       "<style scoped>\n",
       "    .dataframe tbody tr th:only-of-type {\n",
       "        vertical-align: middle;\n",
       "    }\n",
       "\n",
       "    .dataframe tbody tr th {\n",
       "        vertical-align: top;\n",
       "    }\n",
       "\n",
       "    .dataframe thead th {\n",
       "        text-align: right;\n",
       "    }\n",
       "</style>\n",
       "<table border=\"1\" class=\"dataframe\">\n",
       "  <thead>\n",
       "    <tr style=\"text-align: right;\">\n",
       "      <th></th>\n",
       "      <th>text</th>\n",
       "      <th>tag</th>\n",
       "    </tr>\n",
       "  </thead>\n",
       "  <tbody>\n",
       "    <tr>\n",
       "      <th>0</th>\n",
       "      <td>comparison yolo rcnn real world videos bringin...</td>\n",
       "      <td>computer-vision</td>\n",
       "    </tr>\n",
       "    <tr>\n",
       "      <th>1</th>\n",
       "      <td>show infer tell contextual inference creative ...</td>\n",
       "      <td>computer-vision</td>\n",
       "    </tr>\n",
       "    <tr>\n",
       "      <th>2</th>\n",
       "      <td>awesome graph classification collection import...</td>\n",
       "      <td>other</td>\n",
       "    </tr>\n",
       "    <tr>\n",
       "      <th>3</th>\n",
       "      <td>awesome monte carlo tree search curated list m...</td>\n",
       "      <td>other</td>\n",
       "    </tr>\n",
       "    <tr>\n",
       "      <th>4</th>\n",
       "      <td>attentionwalk pytorch implementation watch ste...</td>\n",
       "      <td>other</td>\n",
       "    </tr>\n",
       "  </tbody>\n",
       "</table>\n",
       "</div>"
      ],
      "text/plain": [
       "                                                text              tag\n",
       "0  comparison yolo rcnn real world videos bringin...  computer-vision\n",
       "1  show infer tell contextual inference creative ...  computer-vision\n",
       "2  awesome graph classification collection import...            other\n",
       "3  awesome monte carlo tree search curated list m...            other\n",
       "4  attentionwalk pytorch implementation watch ste...            other"
      ]
     },
     "execution_count": 25,
     "metadata": {},
     "output_type": "execute_result"
    }
   ],
   "source": [
    "# DataFrame cleanup\n",
    "df = df.drop(\n",
    "    columns=[\"id\", \"created_on\", \"title\", \"description\"], errors=\"ignore\"\n",
    ")  # drop cols\n",
    "df = df.dropna(subset=[\"tag\"])  # drop nulls\n",
    "df = df[[\"text\", \"tag\"]]  # rearrange cols\n",
    "df.head()"
   ]
  },
  {
   "cell_type": "markdown",
   "id": "d91f5e748dc1f263",
   "metadata": {},
   "source": [
    "### Encoding"
   ]
  },
  {
   "cell_type": "markdown",
   "id": "380596b9b98c4f92",
   "metadata": {},
   "source": [
    "We need to encode our data into numerical values so that our models can process them. We'll start by encoding our text labels into unique indices."
   ]
  },
  {
   "cell_type": "code",
   "execution_count": 26,
   "id": "ee58befa2f5827f5",
   "metadata": {
    "ExecuteTime": {
     "end_time": "2024-12-20T20:44:19.054892Z",
     "start_time": "2024-12-20T20:44:19.027299Z"
    }
   },
   "outputs": [
    {
     "data": {
      "text/plain": [
       "{'mlops': 0,\n",
       " 'natural-language-processing': 1,\n",
       " 'computer-vision': 2,\n",
       " 'other': 3}"
      ]
     },
     "execution_count": 26,
     "metadata": {},
     "output_type": "execute_result"
    }
   ],
   "source": [
    "# Label to index\n",
    "tags = train_df.tag.unique().tolist()\n",
    "num_classes = len(tags)\n",
    "class_to_index = {tag: i for i, tag in enumerate(tags)}\n",
    "class_to_index"
   ]
  },
  {
   "cell_type": "code",
   "execution_count": 27,
   "id": "36317b38c6667660",
   "metadata": {
    "ExecuteTime": {
     "end_time": "2024-12-20T20:44:23.944783Z",
     "start_time": "2024-12-20T20:44:23.923252Z"
    }
   },
   "outputs": [
    {
     "data": {
      "text/html": [
       "<div>\n",
       "<style scoped>\n",
       "    .dataframe tbody tr th:only-of-type {\n",
       "        vertical-align: middle;\n",
       "    }\n",
       "\n",
       "    .dataframe tbody tr th {\n",
       "        vertical-align: top;\n",
       "    }\n",
       "\n",
       "    .dataframe thead th {\n",
       "        text-align: right;\n",
       "    }\n",
       "</style>\n",
       "<table border=\"1\" class=\"dataframe\">\n",
       "  <thead>\n",
       "    <tr style=\"text-align: right;\">\n",
       "      <th></th>\n",
       "      <th>text</th>\n",
       "      <th>tag</th>\n",
       "    </tr>\n",
       "  </thead>\n",
       "  <tbody>\n",
       "    <tr>\n",
       "      <th>0</th>\n",
       "      <td>comparison yolo rcnn real world videos bringin...</td>\n",
       "      <td>2</td>\n",
       "    </tr>\n",
       "    <tr>\n",
       "      <th>1</th>\n",
       "      <td>show infer tell contextual inference creative ...</td>\n",
       "      <td>2</td>\n",
       "    </tr>\n",
       "    <tr>\n",
       "      <th>2</th>\n",
       "      <td>awesome graph classification collection import...</td>\n",
       "      <td>3</td>\n",
       "    </tr>\n",
       "    <tr>\n",
       "      <th>3</th>\n",
       "      <td>awesome monte carlo tree search curated list m...</td>\n",
       "      <td>3</td>\n",
       "    </tr>\n",
       "    <tr>\n",
       "      <th>4</th>\n",
       "      <td>attentionwalk pytorch implementation watch ste...</td>\n",
       "      <td>3</td>\n",
       "    </tr>\n",
       "  </tbody>\n",
       "</table>\n",
       "</div>"
      ],
      "text/plain": [
       "                                                text  tag\n",
       "0  comparison yolo rcnn real world videos bringin...    2\n",
       "1  show infer tell contextual inference creative ...    2\n",
       "2  awesome graph classification collection import...    3\n",
       "3  awesome monte carlo tree search curated list m...    3\n",
       "4  attentionwalk pytorch implementation watch ste...    3"
      ]
     },
     "execution_count": 27,
     "metadata": {},
     "output_type": "execute_result"
    }
   ],
   "source": [
    "# Encode labels\n",
    "df[\"tag\"] = df[\"tag\"].map(class_to_index)\n",
    "df.head()"
   ]
  },
  {
   "cell_type": "code",
   "execution_count": 28,
   "id": "155fa52c9bc90b4c",
   "metadata": {
    "ExecuteTime": {
     "end_time": "2024-12-20T20:44:27.950460Z",
     "start_time": "2024-12-20T20:44:27.924132Z"
    }
   },
   "outputs": [],
   "source": [
    "def decode(indices, index_to_class):\n",
    "    return [index_to_class[index] for index in indices]"
   ]
  },
  {
   "cell_type": "code",
   "execution_count": 29,
   "id": "81f139f01ba9a81e",
   "metadata": {
    "ExecuteTime": {
     "end_time": "2024-12-20T20:44:32.733111Z",
     "start_time": "2024-12-20T20:44:32.711050Z"
    }
   },
   "outputs": [
    {
     "data": {
      "text/plain": [
       "['computer-vision', 'computer-vision', 'other', 'other', 'other']"
      ]
     },
     "execution_count": 29,
     "metadata": {},
     "output_type": "execute_result"
    }
   ],
   "source": [
    "index_to_class = {v: k for k, v in class_to_index.items()}\n",
    "decode(df.head()[\"tag\"].values, index_to_class=index_to_class)"
   ]
  },
  {
   "cell_type": "markdown",
   "id": "25286702f262e506",
   "metadata": {},
   "source": [
    "### Tokenize"
   ]
  },
  {
   "cell_type": "markdown",
   "id": "821240635e447f11",
   "metadata": {},
   "source": [
    "Next we'll encode our text as well. Instead of using a random dictionary, we'll use a tokenizer that was used for a pretrained LLM (scibert) to tokenize our text. We'll be fine-tuning this exact model later when we train our model."
   ]
  },
  {
   "cell_type": "code",
   "execution_count": 30,
   "id": "45587b2bbb204e5c",
   "metadata": {
    "ExecuteTime": {
     "end_time": "2024-12-20T20:44:38.471888Z",
     "start_time": "2024-12-20T20:44:37.442279Z"
    }
   },
   "outputs": [],
   "source": [
    "import numpy as np\n",
    "from transformers import BertTokenizer"
   ]
  },
  {
   "cell_type": "code",
   "execution_count": 31,
   "id": "f2d70a938f41495",
   "metadata": {
    "ExecuteTime": {
     "end_time": "2024-12-20T20:44:46.335493Z",
     "start_time": "2024-12-20T20:44:45.939335Z"
    }
   },
   "outputs": [
    {
     "name": "stdout",
     "output_type": "stream",
     "text": [
      "input_ids: [[  102  2268  1904   190 29155   168  3267  2998   205   103]]\n",
      "attention_mask: [[1 1 1 1 1 1 1 1 1 1]]\n",
      "[CLS] transfer learning with transformers for text classification. [SEP]\n"
     ]
    }
   ],
   "source": [
    "# Bert tokenizer\n",
    "tokenizer = BertTokenizer.from_pretrained(\n",
    "    \"allenai/scibert_scivocab_uncased\", return_dict=False\n",
    ")\n",
    "text = \"Transfer learning with transformers for text classification.\"\n",
    "encoded_inputs = tokenizer(\n",
    "    [text], return_tensors=\"np\", padding=\"longest\"\n",
    ")  # pad to longest item in batch\n",
    "print(\"input_ids:\", encoded_inputs[\"input_ids\"])\n",
    "print(\"attention_mask:\", encoded_inputs[\"attention_mask\"])\n",
    "print(tokenizer.decode(encoded_inputs[\"input_ids\"][0]))"
   ]
  },
  {
   "cell_type": "code",
   "execution_count": 32,
   "id": "ea7ea85a916d166d",
   "metadata": {
    "ExecuteTime": {
     "end_time": "2024-12-20T20:45:01.897257Z",
     "start_time": "2024-12-20T20:45:01.858677Z"
    }
   },
   "outputs": [],
   "source": [
    "def tokenize(batch):\n",
    "    tokenizer = BertTokenizer.from_pretrained(\n",
    "        \"allenai/scibert_scivocab_uncased\", return_dict=False\n",
    "    )\n",
    "    encoded_inputs = tokenizer(\n",
    "        batch[\"text\"].tolist(), return_tensors=\"np\", padding=\"longest\"\n",
    "    )\n",
    "    return dict(\n",
    "        ids=encoded_inputs[\"input_ids\"],\n",
    "        masks=encoded_inputs[\"attention_mask\"],\n",
    "        targets=np.array(batch[\"tag\"]),\n",
    "    )"
   ]
  },
  {
   "cell_type": "code",
   "execution_count": 33,
   "id": "a6a228498512277d",
   "metadata": {
    "ExecuteTime": {
     "end_time": "2024-12-20T20:45:04.325371Z",
     "start_time": "2024-12-20T20:45:04.045817Z"
    }
   },
   "outputs": [
    {
     "data": {
      "text/plain": [
       "{'ids': array([[  102,  2029,  1778,   609,  6446,  4857,  1332,  2399, 13572,\n",
       "         19125,  1983,  1954,  6240,  3717,  7434,  1262,   537,   201,\n",
       "          1040,   545,  4714,   103]]),\n",
       " 'masks': array([[1, 1, 1, 1, 1, 1, 1, 1, 1, 1, 1, 1, 1, 1, 1, 1, 1, 1, 1, 1, 1, 1]]),\n",
       " 'targets': array([2])}"
      ]
     },
     "execution_count": 33,
     "metadata": {},
     "output_type": "execute_result"
    }
   ],
   "source": [
    "# Tokenization\n",
    "tokenize(df.head(1))"
   ]
  },
  {
   "cell_type": "markdown",
   "id": "46bdc561448a757b",
   "metadata": {},
   "source": [
    "We'll combine all of our preprocessing steps into function:"
   ]
  },
  {
   "cell_type": "code",
   "execution_count": 34,
   "id": "fa39fcbe4d864579",
   "metadata": {
    "ExecuteTime": {
     "end_time": "2024-12-20T20:45:13.972991Z",
     "start_time": "2024-12-20T20:45:13.948825Z"
    }
   },
   "outputs": [],
   "source": [
    "def preprocess(df, class_to_index):\n",
    "    \"\"\"Preprocess the data.\"\"\"\n",
    "    df[\"text\"] = df.title + \" \" + df.description  # feature engineering\n",
    "    df[\"text\"] = df.text.apply(clean_text)  # clean text\n",
    "    df = df.drop(\n",
    "        columns=[\"id\", \"created_on\", \"title\", \"description\"], errors=\"ignore\"\n",
    "    )  # clean dataframe\n",
    "    df = df[[\"text\", \"tag\"]]  # rearrange columns\n",
    "    df[\"tag\"] = df[\"tag\"].map(class_to_index)  # label encoding\n",
    "    outputs = tokenize(df)\n",
    "    return outputs"
   ]
  },
  {
   "cell_type": "code",
   "execution_count": 35,
   "id": "177fbf834ad7eac7",
   "metadata": {
    "ExecuteTime": {
     "end_time": "2024-12-20T20:45:16.822867Z",
     "start_time": "2024-12-20T20:45:16.385871Z"
    }
   },
   "outputs": [
    {
     "data": {
      "text/plain": [
       "{'ids': array([[  102,   856,   532, ...,     0,     0,     0],\n",
       "        [  102,  2177, 29155, ...,     0,     0,     0],\n",
       "        [  102,  2180,  3241, ...,     0,     0,     0],\n",
       "        ...,\n",
       "        [  102,   453,  2068, ...,  5730,   432,   103],\n",
       "        [  102, 11268,  1782, ...,     0,     0,     0],\n",
       "        [  102,  1596,   122, ...,     0,     0,     0]]),\n",
       " 'masks': array([[1, 1, 1, ..., 0, 0, 0],\n",
       "        [1, 1, 1, ..., 0, 0, 0],\n",
       "        [1, 1, 1, ..., 0, 0, 0],\n",
       "        ...,\n",
       "        [1, 1, 1, ..., 1, 1, 1],\n",
       "        [1, 1, 1, ..., 0, 0, 0],\n",
       "        [1, 1, 1, ..., 0, 0, 0]]),\n",
       " 'targets': array([0, 1, 1, 1, 1, 2, 1, 2, 3, 1, 2, 2, 1, 1, 2, 2, 2, 2, 1, 2, 0, 1,\n",
       "        1, 1, 1, 1, 2, 1, 2, 0, 3, 2, 0, 1, 1, 1, 1, 2, 1, 1, 0, 2, 3, 3,\n",
       "        3, 0, 2, 1, 3, 3, 1, 1, 1, 1, 2, 1, 2, 2, 2, 3, 2, 1, 1, 3, 1, 0,\n",
       "        1, 2, 2, 2, 3, 2, 3, 2, 3, 2, 1, 1, 3, 3, 3, 1, 1, 2, 3, 0, 1, 1,\n",
       "        1, 1, 3, 3, 0, 2, 3, 2, 2, 1, 1, 3, 2, 3, 1, 1, 1, 1, 2, 0, 0, 2,\n",
       "        1, 1, 2, 2, 1, 1, 0, 3, 1, 2, 2, 1, 0, 2, 3, 1, 3, 1, 2, 3, 1, 1,\n",
       "        3, 3, 2, 1, 1, 0, 1, 3, 1, 1, 2, 2, 0, 0, 2, 1, 1, 1, 2, 3, 2, 1,\n",
       "        1, 2, 0, 1, 1, 3, 2, 1, 1, 2, 1, 2, 3, 1, 2, 2, 1, 2, 1, 2, 1, 3,\n",
       "        2, 2, 0, 1, 2, 2, 1, 2, 2, 1, 3, 2, 2, 1, 2, 2, 3, 2, 1, 1, 1, 1,\n",
       "        2, 2, 2, 0, 2, 1, 0, 2, 1, 3, 1, 1, 1, 1, 2, 1, 3, 3, 2, 1, 0, 1,\n",
       "        2, 0, 2, 2, 3, 1, 1, 2, 1, 1, 1, 1, 1, 2, 1, 1, 2, 1, 2, 2, 1, 2,\n",
       "        0, 2, 2, 1, 1, 2, 2, 2, 2, 2, 1, 1, 2, 3, 2, 1, 0, 2, 1, 2, 2, 1,\n",
       "        1, 2, 1, 2, 2, 1, 1, 2, 1, 2, 2, 2, 3, 2, 1, 2, 0, 2, 2, 1, 2, 3,\n",
       "        2, 1, 1, 1, 1, 1, 2, 1, 1, 2, 1, 2, 3, 2, 1, 2, 2, 2, 1, 2, 2, 2,\n",
       "        2, 1, 1, 2, 2, 1, 2, 2, 2, 2, 1, 1, 2, 1, 2, 2, 1, 3, 3, 0, 1, 3,\n",
       "        0, 2, 1, 1, 1, 1, 1, 0, 2, 1, 3, 2, 1, 2, 2, 1, 1, 3, 0, 3, 3, 2,\n",
       "        1, 1, 3, 3, 2, 3, 1, 1, 3, 1, 0, 1, 1, 1, 3, 0, 2, 2, 2, 1, 1, 2,\n",
       "        2, 1, 3, 2, 0, 1, 1, 1, 2, 1, 1, 1, 2, 1, 1, 2, 0, 3, 0, 1, 2, 1,\n",
       "        3, 2, 3, 2, 2, 0, 2, 3, 2, 2, 2, 1, 2, 1, 1, 1, 2, 1, 1, 1, 1, 1,\n",
       "        2, 2, 1, 2, 1, 1, 2, 2, 3, 1, 2, 2, 3, 2, 1, 1, 2, 0, 2, 0, 1, 1,\n",
       "        2, 1, 1, 3, 1, 1, 1, 1, 1, 3, 1, 2, 1, 0, 3, 1, 3, 2, 2, 1, 1, 3,\n",
       "        2, 1, 2, 1, 3, 1, 2, 2, 1, 2, 2, 2, 1, 0, 3, 2, 1, 3, 1, 1, 2, 1,\n",
       "        2, 2, 0, 1, 2, 1, 2, 2, 3, 1, 1, 2, 2, 1, 2, 2, 0, 0, 1, 2, 1, 1,\n",
       "        2, 1, 1, 2, 1, 1, 3, 2, 3, 1, 2, 2, 3, 0, 1, 1, 2, 1, 2, 1, 1, 1,\n",
       "        1, 1, 2, 1, 3, 1, 0, 2, 1, 3, 1, 2, 2, 1, 0, 2, 3, 2, 3, 2, 1, 1,\n",
       "        1, 2, 1, 2, 1, 2, 1, 3, 2, 2, 2, 2, 2, 1, 2, 0, 1, 0, 1, 2, 2, 1,\n",
       "        2, 3, 2, 1, 2, 2, 2, 3, 1, 3, 2, 1, 2, 2, 2, 1, 3, 1, 1, 2, 2, 1,\n",
       "        2, 3, 2, 2, 0, 1, 2, 2, 2, 0, 1, 2, 1, 3, 0, 2, 3])}"
      ]
     },
     "execution_count": 35,
     "metadata": {},
     "output_type": "execute_result"
    }
   ],
   "source": [
    "# Apply\n",
    "preprocess(df=train_df, class_to_index=class_to_index)"
   ]
  },
  {
   "cell_type": "markdown",
   "id": "eadf6cc0139a9d2e",
   "metadata": {},
   "source": [
    "## Distributed Data Processing"
   ]
  },
  {
   "cell_type": "markdown",
   "id": "81aabe62adea7997",
   "metadata": {},
   "source": [
    "The main issue with our approach above is that we're limited by our single machine in terms how much data our dataframe can hold and that we can preprocess. With the increasing trend in ML for larger unstructured datasets and larger models (LLMs), we can quickly outgrow our single machine constraints and will need to go distributed."
   ]
  },
  {
   "cell_type": "code",
   "execution_count": 36,
   "id": "2676b9cb978f1ae9",
   "metadata": {
    "ExecuteTime": {
     "end_time": "2024-12-20T20:45:34.018144Z",
     "start_time": "2024-12-20T20:45:33.227652Z"
    }
   },
   "outputs": [],
   "source": [
    "from scripts.data import stratify_split"
   ]
  },
  {
   "cell_type": "code",
   "execution_count": 37,
   "id": "44ad0e619281eb0d",
   "metadata": {
    "ExecuteTime": {
     "end_time": "2024-12-20T20:45:34.722248Z",
     "start_time": "2024-12-20T20:45:34.684618Z"
    }
   },
   "outputs": [],
   "source": [
    "ray.data.DatasetContext.get_current().execution_options.preserve_order = True"
   ]
  },
  {
   "cell_type": "code",
   "execution_count": 38,
   "id": "3f1e11b87326c2c0",
   "metadata": {
    "ExecuteTime": {
     "end_time": "2024-12-20T20:45:39.626961Z",
     "start_time": "2024-12-20T20:45:37.733429Z"
    }
   },
   "outputs": [
    {
     "name": "stderr",
     "output_type": "stream",
     "text": [
      "2024-12-20 21:45:38,128\tINFO dataset.py:2631 -- Tip: Use `take_batch()` instead of `take() / show()` to return records in pandas or numpy batch format.\n",
      "2024-12-20 21:45:38,133\tINFO streaming_executor.py:108 -- Starting execution of Dataset. Full logs are in /tmp/ray/session_2024-12-20_21-41-30_038316_36280/logs/ray-data\n",
      "2024-12-20 21:45:38,134\tINFO streaming_executor.py:109 -- Execution plan of Dataset: InputDataBuffer[Input] -> TaskPoolMapOperator[ReadCSV] -> AllToAllOperator[RandomShuffle] -> LimitOperator[limit=1]\n"
     ]
    },
    {
     "data": {
      "application/vnd.jupyter.widget-view+json": {
       "model_id": "777d5a1e32954e6a98f7618c1a0fa80f",
       "version_major": 2,
       "version_minor": 0
      },
      "text/plain": [
       "Running 0: 0.00 row [00:00, ? row/s]"
      ]
     },
     "metadata": {},
     "output_type": "display_data"
    },
    {
     "data": {
      "application/vnd.jupyter.widget-view+json": {
       "model_id": "306dbf7fc46543648d44c3b5a7f43456",
       "version_major": 2,
       "version_minor": 0
      },
      "text/plain": [
       "- ReadCSV->SplitBlocks(20) 1: 0.00 row [00:00, ? row/s]"
      ]
     },
     "metadata": {},
     "output_type": "display_data"
    },
    {
     "data": {
      "application/vnd.jupyter.widget-view+json": {
       "model_id": "7b53c64c840245459293be41b1561391",
       "version_major": 2,
       "version_minor": 0
      },
      "text/plain": [
       "- RandomShuffle 2: 0.00 row [00:00, ? row/s]"
      ]
     },
     "metadata": {},
     "output_type": "display_data"
    },
    {
     "data": {
      "application/vnd.jupyter.widget-view+json": {
       "model_id": "3d040a4a6faf4dbaa740841a2a6a3c96",
       "version_major": 2,
       "version_minor": 0
      },
      "text/plain": [
       "Shuffle Map 3:   0%|          | 0.00/1.00 [00:00<?, ? row/s]"
      ]
     },
     "metadata": {},
     "output_type": "display_data"
    },
    {
     "data": {
      "application/vnd.jupyter.widget-view+json": {
       "model_id": "66a5e16227b04667b2e4422db4f1fb1b",
       "version_major": 2,
       "version_minor": 0
      },
      "text/plain": [
       "Shuffle Reduce 4:   0%|          | 0.00/1.00 [00:00<?, ? row/s]"
      ]
     },
     "metadata": {},
     "output_type": "display_data"
    },
    {
     "data": {
      "application/vnd.jupyter.widget-view+json": {
       "model_id": "9b221e9ba7f444a5b6bf9fb93abf7e1f",
       "version_major": 2,
       "version_minor": 0
      },
      "text/plain": [
       "- limit=1 5: 0.00 row [00:00, ? row/s]"
      ]
     },
     "metadata": {},
     "output_type": "display_data"
    },
    {
     "data": {
      "text/plain": [
       "[{'id': 549,\n",
       "  'created_on': datetime.datetime(2020, 4, 16, 3, 48, 35),\n",
       "  'title': '15 Best Tools for Tracking Machine Learning Experiments',\n",
       "  'description': 'A feature comparison of all the open-source and commercial options for experiment tracking.',\n",
       "  'tag': 'mlops'}]"
      ]
     },
     "execution_count": 38,
     "metadata": {},
     "output_type": "execute_result"
    }
   ],
   "source": [
    "# Data ingestion\n",
    "ds = ray.data.read_csv(DATASET_LOC)\n",
    "ds = ds.random_shuffle(seed=1234)\n",
    "ds.take(1)"
   ]
  },
  {
   "cell_type": "code",
   "execution_count": 39,
   "id": "7a02ad1705028cfe",
   "metadata": {
    "ExecuteTime": {
     "end_time": "2024-12-20T20:45:43.810983Z",
     "start_time": "2024-12-20T20:45:43.759382Z"
    }
   },
   "outputs": [],
   "source": [
    "# Split dataset\n",
    "test_size = 0.2\n",
    "train_ds, val_ds = stratify_split(ds, stratify=\"tag\", test_size=test_size)"
   ]
  },
  {
   "cell_type": "code",
   "execution_count": 40,
   "id": "b2224f802323f48e",
   "metadata": {
    "ExecuteTime": {
     "end_time": "2024-12-20T20:45:48.472862Z",
     "start_time": "2024-12-20T20:45:46.353794Z"
    }
   },
   "outputs": [
    {
     "name": "stderr",
     "output_type": "stream",
     "text": [
      "2024-12-20 21:45:46,406\tINFO streaming_executor.py:108 -- Starting execution of Dataset. Full logs are in /tmp/ray/session_2024-12-20_21-41-30_038316_36280/logs/ray-data\n",
      "2024-12-20 21:45:46,407\tINFO streaming_executor.py:109 -- Execution plan of Dataset: InputDataBuffer[Input] -> TaskPoolMapOperator[ReadCSV] -> AllToAllOperator[RandomShuffle] -> AllToAllOperator[Sort] -> AllToAllOperator[MapBatches(_add_split)->MapBatches(_filter_split)->RandomShuffle] -> TaskPoolMapOperator[Project] -> AllToAllOperator[Aggregate]\n"
     ]
    },
    {
     "data": {
      "application/vnd.jupyter.widget-view+json": {
       "model_id": "c8ef7b940f854dfe8d45aff7e8f8ab86",
       "version_major": 2,
       "version_minor": 0
      },
      "text/plain": [
       "Running 0: 0.00 row [00:00, ? row/s]"
      ]
     },
     "metadata": {},
     "output_type": "display_data"
    },
    {
     "data": {
      "application/vnd.jupyter.widget-view+json": {
       "model_id": "df1f98af87bc4e83a25b6569ead4713f",
       "version_major": 2,
       "version_minor": 0
      },
      "text/plain": [
       "- ReadCSV->SplitBlocks(20) 1: 0.00 row [00:00, ? row/s]"
      ]
     },
     "metadata": {},
     "output_type": "display_data"
    },
    {
     "data": {
      "application/vnd.jupyter.widget-view+json": {
       "model_id": "f9b1c58eb2b04f6da2b3a8d50cfd6c40",
       "version_major": 2,
       "version_minor": 0
      },
      "text/plain": [
       "- RandomShuffle 2: 0.00 row [00:00, ? row/s]"
      ]
     },
     "metadata": {},
     "output_type": "display_data"
    },
    {
     "data": {
      "application/vnd.jupyter.widget-view+json": {
       "model_id": "9287880aedd14b55b2dfb49b8848acc0",
       "version_major": 2,
       "version_minor": 0
      },
      "text/plain": [
       "Shuffle Map 3:   0%|          | 0.00/1.00 [00:00<?, ? row/s]"
      ]
     },
     "metadata": {},
     "output_type": "display_data"
    },
    {
     "data": {
      "application/vnd.jupyter.widget-view+json": {
       "model_id": "7895eafd4af146e68261a86a15e61af7",
       "version_major": 2,
       "version_minor": 0
      },
      "text/plain": [
       "Shuffle Reduce 4:   0%|          | 0.00/1.00 [00:00<?, ? row/s]"
      ]
     },
     "metadata": {},
     "output_type": "display_data"
    },
    {
     "data": {
      "application/vnd.jupyter.widget-view+json": {
       "model_id": "d7694cdfa1f343c7a699fc29704afdc2",
       "version_major": 2,
       "version_minor": 0
      },
      "text/plain": [
       "- Sort 5: 0.00 row [00:00, ? row/s]"
      ]
     },
     "metadata": {},
     "output_type": "display_data"
    },
    {
     "data": {
      "application/vnd.jupyter.widget-view+json": {
       "model_id": "abe3b7f755f94ca784a69a935eb9ef5e",
       "version_major": 2,
       "version_minor": 0
      },
      "text/plain": [
       "Sort Sample 6:   0%|          | 0.00/1.00 [00:00<?, ? row/s]"
      ]
     },
     "metadata": {},
     "output_type": "display_data"
    },
    {
     "data": {
      "application/vnd.jupyter.widget-view+json": {
       "model_id": "62c3119bc7f24aa3a55e4c777ae7a8c2",
       "version_major": 2,
       "version_minor": 0
      },
      "text/plain": [
       "Shuffle Map 7:   0%|          | 0.00/1.00 [00:00<?, ? row/s]"
      ]
     },
     "metadata": {},
     "output_type": "display_data"
    },
    {
     "data": {
      "application/vnd.jupyter.widget-view+json": {
       "model_id": "1a9e498a33b64d498874e6a5cc10936e",
       "version_major": 2,
       "version_minor": 0
      },
      "text/plain": [
       "Shuffle Reduce 8:   0%|          | 0.00/1.00 [00:00<?, ? row/s]"
      ]
     },
     "metadata": {},
     "output_type": "display_data"
    },
    {
     "data": {
      "application/vnd.jupyter.widget-view+json": {
       "model_id": "1d44c28976454956bcfde1de3648ae18",
       "version_major": 2,
       "version_minor": 0
      },
      "text/plain": [
       "- MapBatches(_add_split)->MapBatches(_filter_split)->RandomShuffle 9: 0.00 row [00:00, ? row/s]"
      ]
     },
     "metadata": {},
     "output_type": "display_data"
    },
    {
     "data": {
      "application/vnd.jupyter.widget-view+json": {
       "model_id": "3d7b5c3f86ba4828af370adf855088e8",
       "version_major": 2,
       "version_minor": 0
      },
      "text/plain": [
       "Shuffle Map 10:   0%|          | 0.00/1.00 [00:00<?, ? row/s]"
      ]
     },
     "metadata": {},
     "output_type": "display_data"
    },
    {
     "data": {
      "application/vnd.jupyter.widget-view+json": {
       "model_id": "05696e56edcc41a8845a84860be857b9",
       "version_major": 2,
       "version_minor": 0
      },
      "text/plain": [
       "Shuffle Reduce 11:   0%|          | 0.00/1.00 [00:00<?, ? row/s]"
      ]
     },
     "metadata": {},
     "output_type": "display_data"
    },
    {
     "data": {
      "application/vnd.jupyter.widget-view+json": {
       "model_id": "8afc09f21d19491fac5b2eb68d818286",
       "version_major": 2,
       "version_minor": 0
      },
      "text/plain": [
       "- Project 12: 0.00 row [00:00, ? row/s]"
      ]
     },
     "metadata": {},
     "output_type": "display_data"
    },
    {
     "data": {
      "application/vnd.jupyter.widget-view+json": {
       "model_id": "8e539250f0c341ec9ef454660fb89e38",
       "version_major": 2,
       "version_minor": 0
      },
      "text/plain": [
       "- Aggregate 13: 0.00 row [00:00, ? row/s]"
      ]
     },
     "metadata": {},
     "output_type": "display_data"
    },
    {
     "data": {
      "application/vnd.jupyter.widget-view+json": {
       "model_id": "72ecd2fb362e4e67908bbad6d7b220ec",
       "version_major": 2,
       "version_minor": 0
      },
      "text/plain": [
       "Sort Sample 14:   0%|          | 0.00/1.00 [00:00<?, ? row/s]"
      ]
     },
     "metadata": {},
     "output_type": "display_data"
    },
    {
     "data": {
      "application/vnd.jupyter.widget-view+json": {
       "model_id": "2d09db0af52349cdbb6c305a18b4d3dd",
       "version_major": 2,
       "version_minor": 0
      },
      "text/plain": [
       "Shuffle Map 15:   0%|          | 0.00/1.00 [00:00<?, ? row/s]"
      ]
     },
     "metadata": {},
     "output_type": "display_data"
    },
    {
     "data": {
      "application/vnd.jupyter.widget-view+json": {
       "model_id": "6cb78e0c20e24a669613cb1db0876884",
       "version_major": 2,
       "version_minor": 0
      },
      "text/plain": [
       "Shuffle Reduce 16:   0%|          | 0.00/1.00 [00:00<?, ? row/s]"
      ]
     },
     "metadata": {},
     "output_type": "display_data"
    },
    {
     "name": "stderr",
     "output_type": "stream",
     "text": [
      "2024-12-20 21:45:46,479\tWARNING progress_bar.py:120 -- Truncating long operator name to 100 characters. To disable this behavior, set `ray.data.DataContext.get_current().DEFAULT_ENABLE_PROGRESS_BAR_NAME_TRUNCATION = False`.\n"
     ]
    }
   ],
   "source": [
    "# Mapping\n",
    "tags = train_ds.unique(column=\"tag\")\n",
    "class_to_index = {tag: i for i, tag in enumerate(tags)}"
   ]
  },
  {
   "cell_type": "code",
   "execution_count": 41,
   "id": "3a11c729f23ef7fb",
   "metadata": {
    "ExecuteTime": {
     "end_time": "2024-12-20T20:46:11.920879Z",
     "start_time": "2024-12-20T20:46:08.998276Z"
    }
   },
   "outputs": [
    {
     "name": "stderr",
     "output_type": "stream",
     "text": [
      "2024-12-20 21:46:09,031\tINFO streaming_executor.py:108 -- Starting execution of Dataset. Full logs are in /tmp/ray/session_2024-12-20_21-41-30_038316_36280/logs/ray-data\n",
      "2024-12-20 21:46:09,032\tINFO streaming_executor.py:109 -- Execution plan of Dataset: InputDataBuffer[Input] -> TaskPoolMapOperator[ReadCSV] -> AllToAllOperator[RandomShuffle] -> AllToAllOperator[Sort] -> AllToAllOperator[MapBatches(_add_split)->MapBatches(_filter_split)->RandomShuffle] -> TaskPoolMapOperator[MapBatches(preprocess)] -> LimitOperator[limit=1]\n"
     ]
    },
    {
     "data": {
      "application/vnd.jupyter.widget-view+json": {
       "model_id": "fde6ca1d169641c691de9ad89505664d",
       "version_major": 2,
       "version_minor": 0
      },
      "text/plain": [
       "Running 0: 0.00 row [00:00, ? row/s]"
      ]
     },
     "metadata": {},
     "output_type": "display_data"
    },
    {
     "data": {
      "application/vnd.jupyter.widget-view+json": {
       "model_id": "c51f0ce4353a43d18c978b3da5203193",
       "version_major": 2,
       "version_minor": 0
      },
      "text/plain": [
       "- ReadCSV->SplitBlocks(20) 1: 0.00 row [00:00, ? row/s]"
      ]
     },
     "metadata": {},
     "output_type": "display_data"
    },
    {
     "data": {
      "application/vnd.jupyter.widget-view+json": {
       "model_id": "b208d9c049e845b6bb542b2079db1990",
       "version_major": 2,
       "version_minor": 0
      },
      "text/plain": [
       "- RandomShuffle 2: 0.00 row [00:00, ? row/s]"
      ]
     },
     "metadata": {},
     "output_type": "display_data"
    },
    {
     "data": {
      "application/vnd.jupyter.widget-view+json": {
       "model_id": "7c25c37d6ff74329a972867500cd3474",
       "version_major": 2,
       "version_minor": 0
      },
      "text/plain": [
       "Shuffle Map 3:   0%|          | 0.00/1.00 [00:00<?, ? row/s]"
      ]
     },
     "metadata": {},
     "output_type": "display_data"
    },
    {
     "data": {
      "application/vnd.jupyter.widget-view+json": {
       "model_id": "593668468279400c9e18f13b8effe003",
       "version_major": 2,
       "version_minor": 0
      },
      "text/plain": [
       "Shuffle Reduce 4:   0%|          | 0.00/1.00 [00:00<?, ? row/s]"
      ]
     },
     "metadata": {},
     "output_type": "display_data"
    },
    {
     "data": {
      "application/vnd.jupyter.widget-view+json": {
       "model_id": "0f5914df490945309da88ee458dfef78",
       "version_major": 2,
       "version_minor": 0
      },
      "text/plain": [
       "- Sort 5: 0.00 row [00:00, ? row/s]"
      ]
     },
     "metadata": {},
     "output_type": "display_data"
    },
    {
     "data": {
      "application/vnd.jupyter.widget-view+json": {
       "model_id": "0c49f35873e74e0bb0de80df4b54cabf",
       "version_major": 2,
       "version_minor": 0
      },
      "text/plain": [
       "Sort Sample 6:   0%|          | 0.00/1.00 [00:00<?, ? row/s]"
      ]
     },
     "metadata": {},
     "output_type": "display_data"
    },
    {
     "data": {
      "application/vnd.jupyter.widget-view+json": {
       "model_id": "7a022e17a033475dac2c9f78473540a2",
       "version_major": 2,
       "version_minor": 0
      },
      "text/plain": [
       "Shuffle Map 7:   0%|          | 0.00/1.00 [00:00<?, ? row/s]"
      ]
     },
     "metadata": {},
     "output_type": "display_data"
    },
    {
     "data": {
      "application/vnd.jupyter.widget-view+json": {
       "model_id": "afca0045baf5437098eae3c01eb8f684",
       "version_major": 2,
       "version_minor": 0
      },
      "text/plain": [
       "Shuffle Reduce 8:   0%|          | 0.00/1.00 [00:00<?, ? row/s]"
      ]
     },
     "metadata": {},
     "output_type": "display_data"
    },
    {
     "data": {
      "application/vnd.jupyter.widget-view+json": {
       "model_id": "99250f37cbd44509920253ec76c1e179",
       "version_major": 2,
       "version_minor": 0
      },
      "text/plain": [
       "- MapBatches(_add_split)->MapBatches(_filter_split)->RandomShuffle 9: 0.00 row [00:00, ? row/s]"
      ]
     },
     "metadata": {},
     "output_type": "display_data"
    },
    {
     "data": {
      "application/vnd.jupyter.widget-view+json": {
       "model_id": "d2a0126abde549738725aefbcd666f05",
       "version_major": 2,
       "version_minor": 0
      },
      "text/plain": [
       "Shuffle Map 10:   0%|          | 0.00/1.00 [00:00<?, ? row/s]"
      ]
     },
     "metadata": {},
     "output_type": "display_data"
    },
    {
     "data": {
      "application/vnd.jupyter.widget-view+json": {
       "model_id": "508ec5157b95474a902ddc73983b5375",
       "version_major": 2,
       "version_minor": 0
      },
      "text/plain": [
       "Shuffle Reduce 11:   0%|          | 0.00/1.00 [00:00<?, ? row/s]"
      ]
     },
     "metadata": {},
     "output_type": "display_data"
    },
    {
     "data": {
      "application/vnd.jupyter.widget-view+json": {
       "model_id": "ce1ad77d459d43d3b2ed57b2f7db14e4",
       "version_major": 2,
       "version_minor": 0
      },
      "text/plain": [
       "- MapBatches(preprocess) 12: 0.00 row [00:00, ? row/s]"
      ]
     },
     "metadata": {},
     "output_type": "display_data"
    },
    {
     "data": {
      "application/vnd.jupyter.widget-view+json": {
       "model_id": "f32b526911974cd99752b2d9cbcb4849",
       "version_major": 2,
       "version_minor": 0
      },
      "text/plain": [
       "- limit=1 13: 0.00 row [00:00, ? row/s]"
      ]
     },
     "metadata": {},
     "output_type": "display_data"
    },
    {
     "name": "stdout",
     "output_type": "stream",
     "text": [
      "{'ids': array([  102,  2389, 29477,  3254,  1572,  6773,  4459,  3041,   791,\n",
      "        2389, 29477,  3350,  2389, 21591,  3254,  7398,  1572,  6773,\n",
      "        9153,  1098,  5751,  1332,   532,  1186,   103,     0,     0,\n",
      "           0,     0,     0,     0,     0]), 'masks': array([1, 1, 1, 1, 1, 1, 1, 1, 1, 1, 1, 1, 1, 1, 1, 1, 1, 1, 1, 1, 1, 1,\n",
      "       1, 1, 1, 0, 0, 0, 0, 0, 0, 0]), 'targets': 0}\n"
     ]
    }
   ],
   "source": [
    "# Distributed preprocessing\n",
    "sample_ds = train_ds.map_batches(\n",
    "    preprocess, fn_kwargs={\"class_to_index\": class_to_index}, batch_format=\"pandas\"\n",
    ")\n",
    "sample_ds.show(1)"
   ]
  },
  {
   "cell_type": "markdown",
   "id": "83a08b8ebad744df",
   "metadata": {},
   "source": [
    "## Training"
   ]
  },
  {
   "cell_type": "markdown",
   "id": "cf77a3af46430bfb",
   "metadata": {},
   "source": [
    "When developing models, it's always a best practice to start with the simplest models and slowly motivate more complex models. For example our baseline model progression would be:\n",
    "\n",
    "* random model (predict labels randomly)\n",
    "* rule-based model (pattern match labels in input text)\n",
    "* logistic regression (td-idf vectors from text)\n",
    "* CNN (apply character filters over text)\n",
    "* Fine-tune LLM (this notebook)\n",
    "\n",
    "We cover all of these methods in our other lessons but since our focus here in on MLOps, we will skip directly to fine-tuning an LLM for our task.\n",
    "\n",
    "We'll first set up some functions that will help us achieve complete reproducibility."
   ]
  },
  {
   "cell_type": "markdown",
   "id": "5e6cded70947dbcb",
   "metadata": {},
   "source": [
    "### Setup"
   ]
  },
  {
   "cell_type": "code",
   "execution_count": 42,
   "id": "728831c2941d8fd0",
   "metadata": {
    "ExecuteTime": {
     "end_time": "2024-12-20T20:46:19.064057Z",
     "start_time": "2024-12-20T20:46:19.029215Z"
    }
   },
   "outputs": [],
   "source": [
    "import os\n",
    "import random\n",
    "\n",
    "import torch\n",
    "from ray.data.preprocessor import Preprocessor"
   ]
  },
  {
   "cell_type": "code",
   "execution_count": 43,
   "id": "69f0013d727383d4",
   "metadata": {
    "ExecuteTime": {
     "end_time": "2024-12-20T20:46:27.085090Z",
     "start_time": "2024-12-20T20:46:27.047461Z"
    }
   },
   "outputs": [],
   "source": [
    "def set_seeds(seed=42):\n",
    "    \"\"\"Set seeds for reproducibility.\"\"\"\n",
    "    np.random.seed(seed)\n",
    "    random.seed(seed)\n",
    "    torch.manual_seed(seed)\n",
    "    torch.cuda.manual_seed(seed)\n",
    "    eval(\"setattr(torch.backends.cudnn, 'deterministic', True)\")\n",
    "    eval(\"setattr(torch.backends.cudnn, 'benchmark', False)\")\n",
    "    os.environ[\"PYTHONHASHSEED\"] = str(seed)"
   ]
  },
  {
   "cell_type": "code",
   "execution_count": 44,
   "id": "f3ddb4f8f41b74c6",
   "metadata": {
    "ExecuteTime": {
     "end_time": "2024-12-20T20:46:32.298003Z",
     "start_time": "2024-12-20T20:46:32.264280Z"
    }
   },
   "outputs": [],
   "source": [
    "def load_data(num_samples=None):\n",
    "    ds = ray.data.read_csv(DATASET_LOC)\n",
    "    ds = ds.random_shuffle(seed=1234)\n",
    "    ds = ray.data.from_items(ds.take(num_samples)) if num_samples else ds\n",
    "    return ds"
   ]
  },
  {
   "cell_type": "code",
   "execution_count": 45,
   "id": "8a0e91c048414c8b",
   "metadata": {
    "ExecuteTime": {
     "end_time": "2024-12-20T20:46:37.929474Z",
     "start_time": "2024-12-20T20:46:37.895517Z"
    }
   },
   "outputs": [],
   "source": [
    "class CustomPreprocessor:\n",
    "    \"\"\"Custom preprocessor class.\"\"\"\n",
    "\n",
    "    def __init__(self, class_to_index={}):\n",
    "        self.class_to_index = class_to_index or {}  # mutable defaults\n",
    "        self.index_to_class = {v: k for k, v in self.class_to_index.items()}\n",
    "\n",
    "    def fit(self, ds):\n",
    "        tags = ds.unique(column=\"tag\")\n",
    "        self.class_to_index = {tag: i for i, tag in enumerate(tags)}\n",
    "        self.index_to_class = {v: k for k, v in self.class_to_index.items()}\n",
    "        return self\n",
    "\n",
    "    def transform(self, ds):\n",
    "        return ds.map_batches(\n",
    "            preprocess,\n",
    "            fn_kwargs={\"class_to_index\": self.class_to_index},\n",
    "            batch_format=\"pandas\",\n",
    "        )"
   ]
  },
  {
   "cell_type": "markdown",
   "id": "ad9e84efb03212c",
   "metadata": {},
   "source": [
    "## Model"
   ]
  },
  {
   "cell_type": "code",
   "execution_count": 46,
   "id": "8cc21ab97b62120",
   "metadata": {
    "ExecuteTime": {
     "end_time": "2024-12-20T20:46:48.603123Z",
     "start_time": "2024-12-20T20:46:47.960576Z"
    }
   },
   "outputs": [],
   "source": [
    "import torch.nn as nn\n",
    "import torch.nn.functional as F\n",
    "from transformers import BertModel"
   ]
  },
  {
   "cell_type": "code",
   "execution_count": 47,
   "id": "c96b8cc26bafc07",
   "metadata": {
    "ExecuteTime": {
     "end_time": "2024-12-20T20:46:53.083173Z",
     "start_time": "2024-12-20T20:46:52.494181Z"
    }
   },
   "outputs": [],
   "source": [
    "# Pretrained LLM\n",
    "llm = BertModel.from_pretrained(\"allenai/scibert_scivocab_uncased\", return_dict=False)\n",
    "embedding_dim = llm.config.hidden_size"
   ]
  },
  {
   "cell_type": "code",
   "execution_count": 48,
   "id": "b0028a03e92547fb",
   "metadata": {
    "ExecuteTime": {
     "end_time": "2024-12-20T20:47:03.246735Z",
     "start_time": "2024-12-20T20:47:03.126545Z"
    }
   },
   "outputs": [
    {
     "data": {
      "text/plain": [
       "(torch.Size([1, 10, 768]), torch.Size([1, 768]))"
      ]
     },
     "execution_count": 48,
     "metadata": {},
     "output_type": "execute_result"
    }
   ],
   "source": [
    "# Sample\n",
    "text = \"Transfer learning with transformers for text classification.\"\n",
    "batch = tokenizer([text], return_tensors=\"np\", padding=\"longest\")\n",
    "batch = {k: torch.tensor(v) for k, v in batch.items()}  # convert to torch tensors\n",
    "seq, pool = llm(input_ids=batch[\"input_ids\"], attention_mask=batch[\"attention_mask\"])\n",
    "np.shape(seq), np.shape(pool)"
   ]
  },
  {
   "cell_type": "code",
   "execution_count": 49,
   "id": "c038e732f8117e09",
   "metadata": {
    "ExecuteTime": {
     "end_time": "2024-12-20T20:47:19.064543Z",
     "start_time": "2024-12-20T20:47:19.017706Z"
    }
   },
   "outputs": [],
   "source": [
    "class FinetunedLLM(nn.Module):\n",
    "    def __init__(self, llm, dropout_p, embedding_dim, num_classes):\n",
    "        super(FinetunedLLM, self).__init__()\n",
    "        self.llm = llm\n",
    "        self.dropout_p = dropout_p\n",
    "        self.embedding_dim = embedding_dim\n",
    "        self.num_classes = num_classes\n",
    "        self.dropout = torch.nn.Dropout(dropout_p)\n",
    "        self.fc1 = torch.nn.Linear(embedding_dim, num_classes)\n",
    "\n",
    "    def forward(self, batch):\n",
    "        ids, masks = batch[\"ids\"], batch[\"masks\"]\n",
    "        seq, pool = self.llm(input_ids=ids, attention_mask=masks)\n",
    "        z = self.dropout(pool)\n",
    "        z = self.fc1(z)\n",
    "        return z\n",
    "\n",
    "    @torch.inference_mode()\n",
    "    def predict(self, batch):\n",
    "        self.eval()\n",
    "        z = self(batch)\n",
    "        y_pred = torch.argmax(z, dim=1).cpu().numpy()\n",
    "        return y_pred\n",
    "\n",
    "    @torch.inference_mode()\n",
    "    def predict_proba(self, batch):\n",
    "        self.eval()\n",
    "        z = self(batch)\n",
    "        y_probs = F.softmax(z, dim=1).cpu().numpy()\n",
    "        return y_probs\n",
    "\n",
    "    def save(self, dp):\n",
    "        with open(Path(dp, \"args.json\"), \"w\") as fp:\n",
    "            contents = {\n",
    "                \"dropout_p\": self.dropout_p,\n",
    "                \"embedding_dim\": self.embedding_dim,\n",
    "                \"num_classes\": self.num_classes,\n",
    "            }\n",
    "            json.dump(contents, fp, indent=4, sort_keys=False)\n",
    "        torch.save(self.state_dict(), os.path.join(dp, \"model.pt\"))\n",
    "\n",
    "    @classmethod\n",
    "    def load(cls, args_fp, state_dict_fp):\n",
    "        with open(args_fp, \"r\") as fp:\n",
    "            kwargs = json.load(fp=fp)\n",
    "        llm = BertModel.from_pretrained(\n",
    "            \"allenai/scibert_scivocab_uncased\", return_dict=False\n",
    "        )\n",
    "        model = cls(llm=llm, **kwargs)\n",
    "        model.load_state_dict(\n",
    "            torch.load(state_dict_fp, map_location=torch.device(\"cpu\"))\n",
    "        )\n",
    "        return model"
   ]
  },
  {
   "cell_type": "code",
   "execution_count": 50,
   "id": "f4656c0fbaeb8bf",
   "metadata": {
    "ExecuteTime": {
     "end_time": "2024-12-20T20:47:25.865932Z",
     "start_time": "2024-12-20T20:47:25.831083Z"
    }
   },
   "outputs": [
    {
     "name": "stdout",
     "output_type": "stream",
     "text": [
      "<bound method Module.named_parameters of FinetunedLLM(\n",
      "  (llm): BertModel(\n",
      "    (embeddings): BertEmbeddings(\n",
      "      (word_embeddings): Embedding(31090, 768, padding_idx=0)\n",
      "      (position_embeddings): Embedding(512, 768)\n",
      "      (token_type_embeddings): Embedding(2, 768)\n",
      "      (LayerNorm): LayerNorm((768,), eps=1e-12, elementwise_affine=True)\n",
      "      (dropout): Dropout(p=0.1, inplace=False)\n",
      "    )\n",
      "    (encoder): BertEncoder(\n",
      "      (layer): ModuleList(\n",
      "        (0-11): 12 x BertLayer(\n",
      "          (attention): BertAttention(\n",
      "            (self): BertSdpaSelfAttention(\n",
      "              (query): Linear(in_features=768, out_features=768, bias=True)\n",
      "              (key): Linear(in_features=768, out_features=768, bias=True)\n",
      "              (value): Linear(in_features=768, out_features=768, bias=True)\n",
      "              (dropout): Dropout(p=0.1, inplace=False)\n",
      "            )\n",
      "            (output): BertSelfOutput(\n",
      "              (dense): Linear(in_features=768, out_features=768, bias=True)\n",
      "              (LayerNorm): LayerNorm((768,), eps=1e-12, elementwise_affine=True)\n",
      "              (dropout): Dropout(p=0.1, inplace=False)\n",
      "            )\n",
      "          )\n",
      "          (intermediate): BertIntermediate(\n",
      "            (dense): Linear(in_features=768, out_features=3072, bias=True)\n",
      "            (intermediate_act_fn): GELUActivation()\n",
      "          )\n",
      "          (output): BertOutput(\n",
      "            (dense): Linear(in_features=3072, out_features=768, bias=True)\n",
      "            (LayerNorm): LayerNorm((768,), eps=1e-12, elementwise_affine=True)\n",
      "            (dropout): Dropout(p=0.1, inplace=False)\n",
      "          )\n",
      "        )\n",
      "      )\n",
      "    )\n",
      "    (pooler): BertPooler(\n",
      "      (dense): Linear(in_features=768, out_features=768, bias=True)\n",
      "      (activation): Tanh()\n",
      "    )\n",
      "  )\n",
      "  (dropout): Dropout(p=0.5, inplace=False)\n",
      "  (fc1): Linear(in_features=768, out_features=4, bias=True)\n",
      ")>\n"
     ]
    }
   ],
   "source": [
    "# Initialize model\n",
    "model = FinetunedLLM(\n",
    "    llm=llm, dropout_p=0.5, embedding_dim=embedding_dim, num_classes=num_classes\n",
    ")\n",
    "print(model.named_parameters)"
   ]
  },
  {
   "cell_type": "markdown",
   "id": "2c7ee59971796d42",
   "metadata": {},
   "source": [
    "## Batching"
   ]
  },
  {
   "cell_type": "markdown",
   "id": "b31e19689be6e012",
   "metadata": {},
   "source": [
    "We can iterate through our dataset in batches however we may have batches of different sizes. Recall that our tokenizer padded the inputs to the longest item in the batch (padding=\"longest\"). However, our batches for training will be smaller than our large data processing batches and so our batches here may have inputs with different lengths. To address this, we're going to define a custom collate_fn to repad the items in our training batches."
   ]
  },
  {
   "cell_type": "code",
   "execution_count": 51,
   "id": "326dbe7901379bf8",
   "metadata": {
    "ExecuteTime": {
     "end_time": "2024-12-20T20:47:35.749082Z",
     "start_time": "2024-12-20T20:47:35.599935Z"
    }
   },
   "outputs": [],
   "source": [
    "from ray.train.torch import get_device"
   ]
  },
  {
   "cell_type": "code",
   "execution_count": 52,
   "id": "eef3d39840e83546",
   "metadata": {
    "ExecuteTime": {
     "end_time": "2024-12-20T20:47:43.574190Z",
     "start_time": "2024-12-20T20:47:43.540786Z"
    }
   },
   "outputs": [],
   "source": [
    "def pad_array(arr, dtype=np.int32):\n",
    "    max_len = max(len(row) for row in arr)\n",
    "    padded_arr = np.zeros((arr.shape[0], max_len), dtype=dtype)\n",
    "    for i, row in enumerate(arr):\n",
    "        padded_arr[i][: len(row)] = row\n",
    "    return padded_arr"
   ]
  },
  {
   "cell_type": "code",
   "execution_count": 53,
   "id": "22608d9cb9259214",
   "metadata": {
    "ExecuteTime": {
     "end_time": "2024-12-20T20:47:48.999738Z",
     "start_time": "2024-12-20T20:47:48.965893Z"
    }
   },
   "outputs": [],
   "source": [
    "def collate_fn(batch):\n",
    "    batch[\"ids\"] = pad_array(batch[\"ids\"])\n",
    "    batch[\"masks\"] = pad_array(batch[\"masks\"])\n",
    "    dtypes = {\"ids\": torch.int32, \"masks\": torch.int32, \"targets\": torch.int64}\n",
    "    tensor_batch = {}\n",
    "    for key, array in batch.items():\n",
    "        tensor_batch[key] = torch.as_tensor(\n",
    "            array, dtype=dtypes[key], device=get_device()\n",
    "        )\n",
    "    return tensor_batch"
   ]
  },
  {
   "cell_type": "markdown",
   "id": "a59beeef1a06a44e",
   "metadata": {},
   "source": [
    "> pad=(0, max_len) in F.pad refers to (left_padding, right_padding) on the input. There will be no left-padding (hence the 0) and only right-padding. And the constant mode refers to each element being padded to a constant size (size of longest element in the input)."
   ]
  },
  {
   "cell_type": "code",
   "execution_count": 54,
   "id": "bbd0766de9f9c111",
   "metadata": {
    "ExecuteTime": {
     "end_time": "2024-12-20T20:47:55.724437Z",
     "start_time": "2024-12-20T20:47:53.575911Z"
    }
   },
   "outputs": [
    {
     "name": "stderr",
     "output_type": "stream",
     "text": [
      "2024-12-20 21:47:53,624\tINFO streaming_executor.py:108 -- Starting execution of Dataset. Full logs are in /tmp/ray/session_2024-12-20_21-41-30_038316_36280/logs/ray-data\n",
      "2024-12-20 21:47:53,625\tINFO streaming_executor.py:109 -- Execution plan of Dataset: InputDataBuffer[Input] -> TaskPoolMapOperator[ReadCSV] -> AllToAllOperator[RandomShuffle] -> AllToAllOperator[Sort] -> AllToAllOperator[MapBatches(_add_split)->MapBatches(_filter_split)->RandomShuffle] -> TaskPoolMapOperator[MapBatches(preprocess)] -> LimitOperator[limit=128]\n"
     ]
    },
    {
     "data": {
      "application/vnd.jupyter.widget-view+json": {
       "model_id": "b55a7e53bbc94db3b863c5e2ef7d8519",
       "version_major": 2,
       "version_minor": 0
      },
      "text/plain": [
       "Running 0: 0.00 row [00:00, ? row/s]"
      ]
     },
     "metadata": {},
     "output_type": "display_data"
    },
    {
     "data": {
      "application/vnd.jupyter.widget-view+json": {
       "model_id": "dc83f4c357c049509fddaf7712f34439",
       "version_major": 2,
       "version_minor": 0
      },
      "text/plain": [
       "- ReadCSV->SplitBlocks(20) 1: 0.00 row [00:00, ? row/s]"
      ]
     },
     "metadata": {},
     "output_type": "display_data"
    },
    {
     "data": {
      "application/vnd.jupyter.widget-view+json": {
       "model_id": "9e6981cea2c84e87b96847a542855abf",
       "version_major": 2,
       "version_minor": 0
      },
      "text/plain": [
       "- RandomShuffle 2: 0.00 row [00:00, ? row/s]"
      ]
     },
     "metadata": {},
     "output_type": "display_data"
    },
    {
     "data": {
      "application/vnd.jupyter.widget-view+json": {
       "model_id": "b768dba3d1704a0f9dde810d5cc29955",
       "version_major": 2,
       "version_minor": 0
      },
      "text/plain": [
       "Shuffle Map 3:   0%|          | 0.00/1.00 [00:00<?, ? row/s]"
      ]
     },
     "metadata": {},
     "output_type": "display_data"
    },
    {
     "data": {
      "application/vnd.jupyter.widget-view+json": {
       "model_id": "02316df859a649d89b1d406beb530deb",
       "version_major": 2,
       "version_minor": 0
      },
      "text/plain": [
       "Shuffle Reduce 4:   0%|          | 0.00/1.00 [00:00<?, ? row/s]"
      ]
     },
     "metadata": {},
     "output_type": "display_data"
    },
    {
     "data": {
      "application/vnd.jupyter.widget-view+json": {
       "model_id": "58a375cc38ce4079af6be64ae66966f1",
       "version_major": 2,
       "version_minor": 0
      },
      "text/plain": [
       "- Sort 5: 0.00 row [00:00, ? row/s]"
      ]
     },
     "metadata": {},
     "output_type": "display_data"
    },
    {
     "data": {
      "application/vnd.jupyter.widget-view+json": {
       "model_id": "14e015c7d246428a909b87a9a8578d6a",
       "version_major": 2,
       "version_minor": 0
      },
      "text/plain": [
       "Sort Sample 6:   0%|          | 0.00/1.00 [00:00<?, ? row/s]"
      ]
     },
     "metadata": {},
     "output_type": "display_data"
    },
    {
     "data": {
      "application/vnd.jupyter.widget-view+json": {
       "model_id": "619a90e70549428abf6e0630b6159bdf",
       "version_major": 2,
       "version_minor": 0
      },
      "text/plain": [
       "Shuffle Map 7:   0%|          | 0.00/1.00 [00:00<?, ? row/s]"
      ]
     },
     "metadata": {},
     "output_type": "display_data"
    },
    {
     "data": {
      "application/vnd.jupyter.widget-view+json": {
       "model_id": "e566d2a1f1b5490ba81377a259aefa16",
       "version_major": 2,
       "version_minor": 0
      },
      "text/plain": [
       "Shuffle Reduce 8:   0%|          | 0.00/1.00 [00:00<?, ? row/s]"
      ]
     },
     "metadata": {},
     "output_type": "display_data"
    },
    {
     "data": {
      "application/vnd.jupyter.widget-view+json": {
       "model_id": "90bf699c9fd54b83a2e46f6ad13ad78e",
       "version_major": 2,
       "version_minor": 0
      },
      "text/plain": [
       "- MapBatches(_add_split)->MapBatches(_filter_split)->RandomShuffle 9: 0.00 row [00:00, ? row/s]"
      ]
     },
     "metadata": {},
     "output_type": "display_data"
    },
    {
     "data": {
      "application/vnd.jupyter.widget-view+json": {
       "model_id": "c271342ced6048c1bce73490658093df",
       "version_major": 2,
       "version_minor": 0
      },
      "text/plain": [
       "Shuffle Map 10:   0%|          | 0.00/1.00 [00:00<?, ? row/s]"
      ]
     },
     "metadata": {},
     "output_type": "display_data"
    },
    {
     "data": {
      "application/vnd.jupyter.widget-view+json": {
       "model_id": "6fb23c421ffb456bbc8f01a97b58088c",
       "version_major": 2,
       "version_minor": 0
      },
      "text/plain": [
       "Shuffle Reduce 11:   0%|          | 0.00/1.00 [00:00<?, ? row/s]"
      ]
     },
     "metadata": {},
     "output_type": "display_data"
    },
    {
     "data": {
      "application/vnd.jupyter.widget-view+json": {
       "model_id": "ae3972f8c3c94ca1952eb96540617881",
       "version_major": 2,
       "version_minor": 0
      },
      "text/plain": [
       "- MapBatches(preprocess) 12: 0.00 row [00:00, ? row/s]"
      ]
     },
     "metadata": {},
     "output_type": "display_data"
    },
    {
     "data": {
      "application/vnd.jupyter.widget-view+json": {
       "model_id": "daa7d859e159435d849e60dd51dd8fcb",
       "version_major": 2,
       "version_minor": 0
      },
      "text/plain": [
       "- limit=128 13: 0.00 row [00:00, ? row/s]"
      ]
     },
     "metadata": {},
     "output_type": "display_data"
    },
    {
     "data": {
      "text/plain": [
       "{'ids': tensor([[  102,  2389, 29477,  ...,     0,     0,     0],\n",
       "         [  102, 20439,  4681,  ...,     0,     0,     0],\n",
       "         [  102,   864,   864,  ...,     0,     0,     0],\n",
       "         ...,\n",
       "         [  102,  3267,  4576,  ...,     0,     0,     0],\n",
       "         [  102,  4686,  5329,  ...,     0,     0,     0],\n",
       "         [  102,  2567,  1995,  ...,     0,     0,     0]], dtype=torch.int32),\n",
       " 'masks': tensor([[1, 1, 1,  ..., 0, 0, 0],\n",
       "         [1, 1, 1,  ..., 0, 0, 0],\n",
       "         [1, 1, 1,  ..., 0, 0, 0],\n",
       "         ...,\n",
       "         [1, 1, 1,  ..., 0, 0, 0],\n",
       "         [1, 1, 1,  ..., 0, 0, 0],\n",
       "         [1, 1, 1,  ..., 0, 0, 0]], dtype=torch.int32),\n",
       " 'targets': tensor([0, 0, 0, 0, 3, 0, 0, 2, 1, 1, 2, 3, 0, 0, 3, 2, 2, 3, 0, 2, 3, 0, 0, 2,\n",
       "         2, 2, 2, 2, 2, 1, 2, 0, 2, 0, 0, 0, 0, 3, 0, 0, 2, 1, 1, 2, 3, 0, 0, 3,\n",
       "         2, 2, 3, 0, 2, 3, 0, 0, 2, 2, 2, 2, 2, 2, 1, 2, 0, 2, 0, 0, 0, 0, 3, 0,\n",
       "         0, 2, 1, 1, 2, 3, 0, 0, 3, 2, 2, 3, 0, 2, 3, 0, 0, 2, 2, 2, 2, 2, 2, 1,\n",
       "         2, 0, 2, 0, 0, 2, 0, 0, 0, 2, 0, 1, 1, 0, 2, 2, 0, 0, 2, 2, 2, 0, 0, 2,\n",
       "         2, 2, 1, 2, 0, 2, 2, 0])}"
      ]
     },
     "execution_count": 54,
     "metadata": {},
     "output_type": "execute_result"
    }
   ],
   "source": [
    "# Sample batch\n",
    "sample_batch = sample_ds.take_batch(batch_size=128)\n",
    "collate_fn(batch=sample_batch)"
   ]
  },
  {
   "cell_type": "markdown",
   "id": "30da3541fee5b094",
   "metadata": {},
   "source": [
    "## Utilities"
   ]
  },
  {
   "cell_type": "code",
   "execution_count": 55,
   "id": "6b6a2abcb90085fb",
   "metadata": {
    "ExecuteTime": {
     "end_time": "2024-12-20T20:48:05.043707Z",
     "start_time": "2024-12-20T20:48:05.003408Z"
    }
   },
   "outputs": [],
   "source": [
    "import tempfile\n",
    "from pathlib import Path\n",
    "\n",
    "import ray.train as train\n",
    "import torch.nn.functional as F\n",
    "from ray.train import Checkpoint, CheckpointConfig, DataConfig, RunConfig, ScalingConfig\n",
    "from ray.train.torch import TorchCheckpoint, TorchTrainer\n",
    "from torch.nn.parallel.distributed import DistributedDataParallel"
   ]
  },
  {
   "cell_type": "code",
   "execution_count": 56,
   "id": "9fd79c2e216e6cfb",
   "metadata": {
    "ExecuteTime": {
     "end_time": "2024-12-20T20:48:10.970028Z",
     "start_time": "2024-12-20T20:48:10.932514Z"
    }
   },
   "outputs": [],
   "source": [
    "def train_step(ds, batch_size, model, num_classes, loss_fn, optimizer):\n",
    "    \"\"\"Train step.\"\"\"\n",
    "    model.train()\n",
    "    loss = 0.0\n",
    "    ds_generator = ds.iter_torch_batches(batch_size=batch_size, collate_fn=collate_fn)\n",
    "    for i, batch in enumerate(ds_generator):\n",
    "        optimizer.zero_grad()  # reset gradients\n",
    "        z = model(batch)  # forward pass\n",
    "        targets = F.one_hot(\n",
    "            batch[\"targets\"], num_classes=num_classes\n",
    "        ).float()  # one-hot (for loss_fn)\n",
    "        J = loss_fn(z, targets)  # define loss\n",
    "        J.backward()  # backward pass\n",
    "        optimizer.step()  # update weights\n",
    "        loss += (J.detach().item() - loss) / (i + 1)  # cumulative loss\n",
    "    return loss"
   ]
  },
  {
   "cell_type": "markdown",
   "id": "56f0ac10b759beb3",
   "metadata": {},
   "source": [
    "> Note: We're using the ray.data.iter_torch_batches method instead of torch.utils.data.DataLoader to create a generator that will yield batches of data. In fact, this is the only line that's different from a typical PyTorch training loop and the actual training workflow remains untouched. Ray supports many other ways to load/consume data for different frameworks as well."
   ]
  },
  {
   "cell_type": "code",
   "execution_count": 57,
   "id": "89f5791123bd5529",
   "metadata": {
    "ExecuteTime": {
     "end_time": "2024-12-20T20:48:18.149355Z",
     "start_time": "2024-12-20T20:48:18.114685Z"
    }
   },
   "outputs": [],
   "source": [
    "def eval_step(ds, batch_size, model, num_classes, loss_fn):\n",
    "    \"\"\"Eval step.\"\"\"\n",
    "    model.eval()\n",
    "    loss = 0.0\n",
    "    y_trues, y_preds = [], []\n",
    "    ds_generator = ds.iter_torch_batches(batch_size=batch_size, collate_fn=collate_fn)\n",
    "    with torch.inference_mode():\n",
    "        for i, batch in enumerate(ds_generator):\n",
    "            z = model(batch)\n",
    "            targets = F.one_hot(\n",
    "                batch[\"targets\"], num_classes=num_classes\n",
    "            ).float()  # one-hot (for loss_fn)\n",
    "            J = loss_fn(z, targets).item()\n",
    "            loss += (J - loss) / (i + 1)\n",
    "            y_trues.extend(batch[\"targets\"].cpu().numpy())\n",
    "            y_preds.extend(torch.argmax(z, dim=1).cpu().numpy())\n",
    "    return loss, np.vstack(y_trues), np.vstack(y_preds)"
   ]
  },
  {
   "cell_type": "markdown",
   "id": "b23757e64d17d1eb",
   "metadata": {},
   "source": [
    "Next, we'll define the train_loop_per_worker which defines the overall training loop for each worker. It's important that we include operations like loading the datasets, models, etc. so that each worker will have its own copy of these objects. Ray takes care of combining all the workers' results at the end of each iteration, so from the user's perspective, it's the exact same as training on a single machine!\n",
    "\n",
    "The only additional lines of code we need to add compared to a typical PyTorch training loop are the following:\n",
    "\n",
    "session.get_dataset_shard(\"train\") and session.get_dataset_shard(\"val\") to load the data splits (session.get_dataset_shard).\n",
    "model = train.torch.prepare_model(model) to prepare the torch model for distributed execution (train.torch.prepare_model).\n",
    "batch_size_per_worker = batch_size // session.get_world_size() to adjust the batch size for each worker (session.get_world_size).\n",
    "session.report(metrics, checkpoint=checkpoint) to report metrics and save our model checkpoint (session.report).\n",
    "All the other lines of code are the same as a typical PyTorch training loop!"
   ]
  },
  {
   "cell_type": "code",
   "execution_count": 58,
   "id": "baaa0e55c6cafd59",
   "metadata": {
    "ExecuteTime": {
     "end_time": "2024-12-20T20:48:33.507737Z",
     "start_time": "2024-12-20T20:48:33.463715Z"
    }
   },
   "outputs": [],
   "source": [
    "# Training loop\n",
    "\n",
    "\n",
    "def train_loop_per_worker(config):\n",
    "    # Hyperparameters\n",
    "    dropout_p = config[\"dropout_p\"]\n",
    "    lr = config[\"lr\"]\n",
    "    lr_factor = config[\"lr_factor\"]\n",
    "    lr_patience = config[\"lr_patience\"]\n",
    "    num_epochs = config[\"num_epochs\"]\n",
    "    batch_size = config[\"batch_size\"]\n",
    "    num_classes = config[\"num_classes\"]\n",
    "\n",
    "    # Get datasets\n",
    "    set_seeds()\n",
    "    train_ds = train.get_dataset_shard(\"train\")\n",
    "    val_ds = train.get_dataset_shard(\"val\")\n",
    "\n",
    "    # Model\n",
    "    llm = BertModel.from_pretrained(\n",
    "        \"allenai/scibert_scivocab_uncased\", return_dict=False\n",
    "    )\n",
    "    model = FinetunedLLM(\n",
    "        llm=llm,\n",
    "        dropout_p=dropout_p,\n",
    "        embedding_dim=llm.config.hidden_size,\n",
    "        num_classes=num_classes,\n",
    "    )\n",
    "    model = train.torch.prepare_model(model)\n",
    "\n",
    "    # Training components\n",
    "    loss_fn = nn.BCEWithLogitsLoss()\n",
    "    optimizer = torch.optim.Adam(model.parameters(), lr=lr)\n",
    "    scheduler = torch.optim.lr_scheduler.ReduceLROnPlateau(\n",
    "        optimizer, mode=\"min\", factor=lr_factor, patience=lr_patience\n",
    "    )\n",
    "\n",
    "    # Training\n",
    "    num_workers = train.get_context().get_world_size()\n",
    "    batch_size_per_worker = batch_size // num_workers\n",
    "    for epoch in range(num_epochs):\n",
    "        # Step\n",
    "        train_loss = train_step(\n",
    "            train_ds, batch_size_per_worker, model, num_classes, loss_fn, optimizer\n",
    "        )\n",
    "        val_loss, _, _ = eval_step(\n",
    "            val_ds, batch_size_per_worker, model, num_classes, loss_fn\n",
    "        )\n",
    "        scheduler.step(val_loss)\n",
    "\n",
    "        # Checkpoint\n",
    "        with tempfile.TemporaryDirectory() as dp:\n",
    "            if isinstance(model, DistributedDataParallel):  # cpu\n",
    "                model.module.save(dp=dp)\n",
    "            else:\n",
    "                model.save(dp=dp)\n",
    "            metrics = dict(\n",
    "                epoch=epoch,\n",
    "                lr=optimizer.param_groups[0][\"lr\"],\n",
    "                train_loss=train_loss,\n",
    "                val_loss=val_loss,\n",
    "            )\n",
    "            checkpoint = Checkpoint.from_directory(dp)\n",
    "            train.report(metrics, checkpoint=checkpoint)"
   ]
  },
  {
   "cell_type": "markdown",
   "id": "935328eb49cb1463",
   "metadata": {},
   "source": [
    "Our dataset doesn't suffer from horrible class imbalance, but if it did, we could easily account for it through our loss function. There are also other strategies such as over-sampling less frequent classes and under-sampling popular classes.\n",
    "\n",
    "```python\n",
    "# Class weights\n",
    "batch_counts = []\n",
    "for batch in train_ds.iter_torch_batches(batch_size=256, collate_fn=collate_fn):\n",
    "    batch_counts.append(np.bincount(batch[\"targets\"].cpu().numpy()))\n",
    "counts = [sum(count) for count in zip(*batch_counts)]\n",
    "class_weights = np.array([1.0 / count for i, count in enumerate(counts)])\n",
    "class_weights_tensor = torch.Tensor(class_weights).to(get_device())\n",
    "\n",
    "# Training components\n",
    "loss_fn = nn.BCEWithLogitsLoss(weight=class_weights_tensor)\n",
    "...\n",
    "```"
   ]
  },
  {
   "cell_type": "markdown",
   "id": "eebfe6e318d984e7",
   "metadata": {},
   "source": [
    "## Configurations"
   ]
  },
  {
   "cell_type": "code",
   "execution_count": 88,
   "id": "ceb3f4be186af45b",
   "metadata": {
    "ExecuteTime": {
     "end_time": "2024-12-20T21:38:35.749214Z",
     "start_time": "2024-12-20T21:38:35.710486Z"
    }
   },
   "outputs": [],
   "source": [
    "from scripts.config import EFS_DIR"
   ]
  },
  {
   "cell_type": "code",
   "execution_count": 60,
   "id": "c6783a044a8d5af3",
   "metadata": {
    "ExecuteTime": {
     "end_time": "2024-12-20T20:48:47.410428Z",
     "start_time": "2024-12-20T20:48:47.363067Z"
    }
   },
   "outputs": [],
   "source": [
    "# Train loop config\n",
    "train_loop_config = {\n",
    "    \"dropout_p\": 0.5,\n",
    "    \"lr\": 1e-4,\n",
    "    \"lr_factor\": 0.8,\n",
    "    \"lr_patience\": 3,\n",
    "    \"num_epochs\": 10,\n",
    "    \"batch_size\": 256,\n",
    "    \"num_classes\": num_classes,\n",
    "}"
   ]
  },
  {
   "cell_type": "code",
   "execution_count": 61,
   "id": "26d020f4981bca01",
   "metadata": {
    "ExecuteTime": {
     "end_time": "2024-12-20T20:48:53.291636Z",
     "start_time": "2024-12-20T20:48:53.248513Z"
    }
   },
   "outputs": [],
   "source": [
    "# Scaling config\n",
    "scaling_config = ScalingConfig(\n",
    "    num_workers=num_workers,\n",
    "    use_gpu=bool(resources_per_worker[\"GPU\"]),\n",
    "    resources_per_worker=resources_per_worker,\n",
    ")"
   ]
  },
  {
   "cell_type": "code",
   "execution_count": 62,
   "id": "b1d4f81ecf65a93d",
   "metadata": {
    "ExecuteTime": {
     "end_time": "2024-12-20T20:49:01.589135Z",
     "start_time": "2024-12-20T20:49:01.488670Z"
    }
   },
   "outputs": [],
   "source": [
    "# Run config\n",
    "checkpoint_config = CheckpointConfig(\n",
    "    num_to_keep=1, checkpoint_score_attribute=\"val_loss\", checkpoint_score_order=\"min\"\n",
    ")\n",
    "run_config = RunConfig(\n",
    "    name=\"llm\", checkpoint_config=checkpoint_config, storage_path=EFS_DIR\n",
    ")"
   ]
  },
  {
   "cell_type": "markdown",
   "id": "e5fd2c7e7f09696e",
   "metadata": {},
   "source": [
    "## Training"
   ]
  },
  {
   "cell_type": "code",
   "execution_count": 63,
   "id": "52f95229b5439755",
   "metadata": {
    "ExecuteTime": {
     "end_time": "2024-12-20T20:49:09.363650Z",
     "start_time": "2024-12-20T20:49:09.300684Z"
    }
   },
   "outputs": [],
   "source": [
    "# Dataset\n",
    "ds = load_data()\n",
    "train_ds, val_ds = stratify_split(ds, stratify=\"tag\", test_size=test_size)"
   ]
  },
  {
   "cell_type": "code",
   "execution_count": 64,
   "id": "b81b73c5e81f273c",
   "metadata": {
    "ExecuteTime": {
     "end_time": "2024-12-20T20:49:19.760128Z",
     "start_time": "2024-12-20T20:49:14.877981Z"
    }
   },
   "outputs": [
    {
     "name": "stderr",
     "output_type": "stream",
     "text": [
      "2024-12-20 21:49:14,920\tINFO streaming_executor.py:108 -- Starting execution of Dataset. Full logs are in /tmp/ray/session_2024-12-20_21-41-30_038316_36280/logs/ray-data\n",
      "2024-12-20 21:49:14,920\tINFO streaming_executor.py:109 -- Execution plan of Dataset: InputDataBuffer[Input] -> TaskPoolMapOperator[ReadCSV] -> AllToAllOperator[RandomShuffle] -> AllToAllOperator[Sort] -> AllToAllOperator[MapBatches(_add_split)->MapBatches(_filter_split)->RandomShuffle] -> TaskPoolMapOperator[Project] -> AllToAllOperator[Aggregate]\n"
     ]
    },
    {
     "data": {
      "application/vnd.jupyter.widget-view+json": {
       "model_id": "5025ce4f631a412a9019730e34a502ff",
       "version_major": 2,
       "version_minor": 0
      },
      "text/plain": [
       "Running 0: 0.00 row [00:00, ? row/s]"
      ]
     },
     "metadata": {},
     "output_type": "display_data"
    },
    {
     "data": {
      "application/vnd.jupyter.widget-view+json": {
       "model_id": "b151d358c61b4632a5250ebcb9dfa4f7",
       "version_major": 2,
       "version_minor": 0
      },
      "text/plain": [
       "- ReadCSV->SplitBlocks(20) 1: 0.00 row [00:00, ? row/s]"
      ]
     },
     "metadata": {},
     "output_type": "display_data"
    },
    {
     "data": {
      "application/vnd.jupyter.widget-view+json": {
       "model_id": "31148ed17c5743b98f53e2298a30b9a6",
       "version_major": 2,
       "version_minor": 0
      },
      "text/plain": [
       "- RandomShuffle 2: 0.00 row [00:00, ? row/s]"
      ]
     },
     "metadata": {},
     "output_type": "display_data"
    },
    {
     "data": {
      "application/vnd.jupyter.widget-view+json": {
       "model_id": "b592851f3dd6474a92ee4196ce90087f",
       "version_major": 2,
       "version_minor": 0
      },
      "text/plain": [
       "Shuffle Map 3:   0%|          | 0.00/1.00 [00:00<?, ? row/s]"
      ]
     },
     "metadata": {},
     "output_type": "display_data"
    },
    {
     "data": {
      "application/vnd.jupyter.widget-view+json": {
       "model_id": "3af6a94848b64c83836dfc5db6698e87",
       "version_major": 2,
       "version_minor": 0
      },
      "text/plain": [
       "Shuffle Reduce 4:   0%|          | 0.00/1.00 [00:00<?, ? row/s]"
      ]
     },
     "metadata": {},
     "output_type": "display_data"
    },
    {
     "data": {
      "application/vnd.jupyter.widget-view+json": {
       "model_id": "2c6178124453425eb9157f78a0a81c91",
       "version_major": 2,
       "version_minor": 0
      },
      "text/plain": [
       "- Sort 5: 0.00 row [00:00, ? row/s]"
      ]
     },
     "metadata": {},
     "output_type": "display_data"
    },
    {
     "data": {
      "application/vnd.jupyter.widget-view+json": {
       "model_id": "0bdee106c245408898457ec97c19ce8d",
       "version_major": 2,
       "version_minor": 0
      },
      "text/plain": [
       "Sort Sample 6:   0%|          | 0.00/1.00 [00:00<?, ? row/s]"
      ]
     },
     "metadata": {},
     "output_type": "display_data"
    },
    {
     "data": {
      "application/vnd.jupyter.widget-view+json": {
       "model_id": "439e7282c9b141bfbca22093d1f08a46",
       "version_major": 2,
       "version_minor": 0
      },
      "text/plain": [
       "Shuffle Map 7:   0%|          | 0.00/1.00 [00:00<?, ? row/s]"
      ]
     },
     "metadata": {},
     "output_type": "display_data"
    },
    {
     "data": {
      "application/vnd.jupyter.widget-view+json": {
       "model_id": "2d2284022522426d9f752e550e0ca11a",
       "version_major": 2,
       "version_minor": 0
      },
      "text/plain": [
       "Shuffle Reduce 8:   0%|          | 0.00/1.00 [00:00<?, ? row/s]"
      ]
     },
     "metadata": {},
     "output_type": "display_data"
    },
    {
     "data": {
      "application/vnd.jupyter.widget-view+json": {
       "model_id": "7b56b6e53e634194a1fd11e66d7f379e",
       "version_major": 2,
       "version_minor": 0
      },
      "text/plain": [
       "- MapBatches(_add_split)->MapBatches(_filter_split)->RandomShuffle 9: 0.00 row [00:00, ? row/s]"
      ]
     },
     "metadata": {},
     "output_type": "display_data"
    },
    {
     "data": {
      "application/vnd.jupyter.widget-view+json": {
       "model_id": "31e83fdee44246098d336512d2994ca3",
       "version_major": 2,
       "version_minor": 0
      },
      "text/plain": [
       "Shuffle Map 10:   0%|          | 0.00/1.00 [00:00<?, ? row/s]"
      ]
     },
     "metadata": {},
     "output_type": "display_data"
    },
    {
     "data": {
      "application/vnd.jupyter.widget-view+json": {
       "model_id": "a49c3922ef31417b85bf6ba60e7a5e8e",
       "version_major": 2,
       "version_minor": 0
      },
      "text/plain": [
       "Shuffle Reduce 11:   0%|          | 0.00/1.00 [00:00<?, ? row/s]"
      ]
     },
     "metadata": {},
     "output_type": "display_data"
    },
    {
     "data": {
      "application/vnd.jupyter.widget-view+json": {
       "model_id": "d1833d34588849579fedef9ebb34161d",
       "version_major": 2,
       "version_minor": 0
      },
      "text/plain": [
       "- Project 12: 0.00 row [00:00, ? row/s]"
      ]
     },
     "metadata": {},
     "output_type": "display_data"
    },
    {
     "data": {
      "application/vnd.jupyter.widget-view+json": {
       "model_id": "b8526fa0ca244ba5a28edeb76bc88db2",
       "version_major": 2,
       "version_minor": 0
      },
      "text/plain": [
       "- Aggregate 13: 0.00 row [00:00, ? row/s]"
      ]
     },
     "metadata": {},
     "output_type": "display_data"
    },
    {
     "data": {
      "application/vnd.jupyter.widget-view+json": {
       "model_id": "e92807c433884952b7818b7244fc214d",
       "version_major": 2,
       "version_minor": 0
      },
      "text/plain": [
       "Sort Sample 14:   0%|          | 0.00/1.00 [00:00<?, ? row/s]"
      ]
     },
     "metadata": {},
     "output_type": "display_data"
    },
    {
     "data": {
      "application/vnd.jupyter.widget-view+json": {
       "model_id": "805bfe8c516e4cd38b74c01961440c98",
       "version_major": 2,
       "version_minor": 0
      },
      "text/plain": [
       "Shuffle Map 15:   0%|          | 0.00/1.00 [00:00<?, ? row/s]"
      ]
     },
     "metadata": {},
     "output_type": "display_data"
    },
    {
     "data": {
      "application/vnd.jupyter.widget-view+json": {
       "model_id": "f49f3e3f7cc44266a7d2508a1130bd0d",
       "version_major": 2,
       "version_minor": 0
      },
      "text/plain": [
       "Shuffle Reduce 16:   0%|          | 0.00/1.00 [00:00<?, ? row/s]"
      ]
     },
     "metadata": {},
     "output_type": "display_data"
    },
    {
     "name": "stderr",
     "output_type": "stream",
     "text": [
      "2024-12-20 21:49:15,883\tINFO streaming_executor.py:108 -- Starting execution of Dataset. Full logs are in /tmp/ray/session_2024-12-20_21-41-30_038316_36280/logs/ray-data\n",
      "2024-12-20 21:49:15,883\tINFO streaming_executor.py:109 -- Execution plan of Dataset: InputDataBuffer[Input] -> TaskPoolMapOperator[ReadCSV] -> AllToAllOperator[RandomShuffle] -> AllToAllOperator[Sort] -> AllToAllOperator[MapBatches(_add_split)->MapBatches(_filter_split)->RandomShuffle] -> TaskPoolMapOperator[MapBatches(preprocess)]\n"
     ]
    },
    {
     "data": {
      "application/vnd.jupyter.widget-view+json": {
       "model_id": "90e5d9ec064841aa828a288afd1ce51e",
       "version_major": 2,
       "version_minor": 0
      },
      "text/plain": [
       "Running 0: 0.00 row [00:00, ? row/s]"
      ]
     },
     "metadata": {},
     "output_type": "display_data"
    },
    {
     "data": {
      "application/vnd.jupyter.widget-view+json": {
       "model_id": "4c1331b7717c4188b556c41d49f8ba40",
       "version_major": 2,
       "version_minor": 0
      },
      "text/plain": [
       "- ReadCSV->SplitBlocks(20) 1: 0.00 row [00:00, ? row/s]"
      ]
     },
     "metadata": {},
     "output_type": "display_data"
    },
    {
     "data": {
      "application/vnd.jupyter.widget-view+json": {
       "model_id": "ab439e1444e54b3d948ebd97c35cccb3",
       "version_major": 2,
       "version_minor": 0
      },
      "text/plain": [
       "- RandomShuffle 2: 0.00 row [00:00, ? row/s]"
      ]
     },
     "metadata": {},
     "output_type": "display_data"
    },
    {
     "data": {
      "application/vnd.jupyter.widget-view+json": {
       "model_id": "0fc0fba022f645019bb1aaa7889898b1",
       "version_major": 2,
       "version_minor": 0
      },
      "text/plain": [
       "Shuffle Map 3:   0%|          | 0.00/1.00 [00:00<?, ? row/s]"
      ]
     },
     "metadata": {},
     "output_type": "display_data"
    },
    {
     "data": {
      "application/vnd.jupyter.widget-view+json": {
       "model_id": "f7336c81c0244cc9bb7342a9574e4e95",
       "version_major": 2,
       "version_minor": 0
      },
      "text/plain": [
       "Shuffle Reduce 4:   0%|          | 0.00/1.00 [00:00<?, ? row/s]"
      ]
     },
     "metadata": {},
     "output_type": "display_data"
    },
    {
     "data": {
      "application/vnd.jupyter.widget-view+json": {
       "model_id": "995be3912fb64b398373b712f104c8be",
       "version_major": 2,
       "version_minor": 0
      },
      "text/plain": [
       "- Sort 5: 0.00 row [00:00, ? row/s]"
      ]
     },
     "metadata": {},
     "output_type": "display_data"
    },
    {
     "data": {
      "application/vnd.jupyter.widget-view+json": {
       "model_id": "1088cb81f4d24e81aaddf9ceb2479a7f",
       "version_major": 2,
       "version_minor": 0
      },
      "text/plain": [
       "Sort Sample 6:   0%|          | 0.00/1.00 [00:00<?, ? row/s]"
      ]
     },
     "metadata": {},
     "output_type": "display_data"
    },
    {
     "data": {
      "application/vnd.jupyter.widget-view+json": {
       "model_id": "95c7a06bfb354128a9e05202eab4f388",
       "version_major": 2,
       "version_minor": 0
      },
      "text/plain": [
       "Shuffle Map 7:   0%|          | 0.00/1.00 [00:00<?, ? row/s]"
      ]
     },
     "metadata": {},
     "output_type": "display_data"
    },
    {
     "data": {
      "application/vnd.jupyter.widget-view+json": {
       "model_id": "e2499c56b59c4f2aa23d3518c186e757",
       "version_major": 2,
       "version_minor": 0
      },
      "text/plain": [
       "Shuffle Reduce 8:   0%|          | 0.00/1.00 [00:00<?, ? row/s]"
      ]
     },
     "metadata": {},
     "output_type": "display_data"
    },
    {
     "data": {
      "application/vnd.jupyter.widget-view+json": {
       "model_id": "91107fc5586046cfa77d546a463b6e10",
       "version_major": 2,
       "version_minor": 0
      },
      "text/plain": [
       "- MapBatches(_add_split)->MapBatches(_filter_split)->RandomShuffle 9: 0.00 row [00:00, ? row/s]"
      ]
     },
     "metadata": {},
     "output_type": "display_data"
    },
    {
     "data": {
      "application/vnd.jupyter.widget-view+json": {
       "model_id": "801e580203bc4b348a0c68884e333f73",
       "version_major": 2,
       "version_minor": 0
      },
      "text/plain": [
       "Shuffle Map 10:   0%|          | 0.00/1.00 [00:00<?, ? row/s]"
      ]
     },
     "metadata": {},
     "output_type": "display_data"
    },
    {
     "data": {
      "application/vnd.jupyter.widget-view+json": {
       "model_id": "797c04fcd1a44d758c4ec6ff07659d07",
       "version_major": 2,
       "version_minor": 0
      },
      "text/plain": [
       "Shuffle Reduce 11:   0%|          | 0.00/1.00 [00:00<?, ? row/s]"
      ]
     },
     "metadata": {},
     "output_type": "display_data"
    },
    {
     "data": {
      "application/vnd.jupyter.widget-view+json": {
       "model_id": "ccb0a5475bc44228b0edec5d6d60ab07",
       "version_major": 2,
       "version_minor": 0
      },
      "text/plain": [
       "- MapBatches(preprocess) 12: 0.00 row [00:00, ? row/s]"
      ]
     },
     "metadata": {},
     "output_type": "display_data"
    },
    {
     "name": "stderr",
     "output_type": "stream",
     "text": [
      "2024-12-20 21:49:17,478\tINFO streaming_executor.py:108 -- Starting execution of Dataset. Full logs are in /tmp/ray/session_2024-12-20_21-41-30_038316_36280/logs/ray-data\n",
      "2024-12-20 21:49:17,479\tINFO streaming_executor.py:109 -- Execution plan of Dataset: InputDataBuffer[Input] -> TaskPoolMapOperator[ReadCSV] -> AllToAllOperator[RandomShuffle] -> AllToAllOperator[Sort] -> AllToAllOperator[MapBatches(_add_split)->MapBatches(_filter_split)->RandomShuffle] -> TaskPoolMapOperator[MapBatches(preprocess)]\n"
     ]
    },
    {
     "data": {
      "application/vnd.jupyter.widget-view+json": {
       "model_id": "9fa0a17036314575938852ceedfb54b9",
       "version_major": 2,
       "version_minor": 0
      },
      "text/plain": [
       "Running 0: 0.00 row [00:00, ? row/s]"
      ]
     },
     "metadata": {},
     "output_type": "display_data"
    },
    {
     "data": {
      "application/vnd.jupyter.widget-view+json": {
       "model_id": "fbd4846dfa5b4bfe8e829ae92a4c2e74",
       "version_major": 2,
       "version_minor": 0
      },
      "text/plain": [
       "- ReadCSV->SplitBlocks(20) 1: 0.00 row [00:00, ? row/s]"
      ]
     },
     "metadata": {},
     "output_type": "display_data"
    },
    {
     "data": {
      "application/vnd.jupyter.widget-view+json": {
       "model_id": "7d9e0af56dbc47c89e86db295271b1c2",
       "version_major": 2,
       "version_minor": 0
      },
      "text/plain": [
       "- RandomShuffle 2: 0.00 row [00:00, ? row/s]"
      ]
     },
     "metadata": {},
     "output_type": "display_data"
    },
    {
     "data": {
      "application/vnd.jupyter.widget-view+json": {
       "model_id": "5abc5f38ad0540398920cb3fe811c3cc",
       "version_major": 2,
       "version_minor": 0
      },
      "text/plain": [
       "Shuffle Map 3:   0%|          | 0.00/1.00 [00:00<?, ? row/s]"
      ]
     },
     "metadata": {},
     "output_type": "display_data"
    },
    {
     "data": {
      "application/vnd.jupyter.widget-view+json": {
       "model_id": "90e2e7bcafdc4a8983fef238fad05b7f",
       "version_major": 2,
       "version_minor": 0
      },
      "text/plain": [
       "Shuffle Reduce 4:   0%|          | 0.00/1.00 [00:00<?, ? row/s]"
      ]
     },
     "metadata": {},
     "output_type": "display_data"
    },
    {
     "data": {
      "application/vnd.jupyter.widget-view+json": {
       "model_id": "72c2724ebbbf457bb242a2b02d0785c4",
       "version_major": 2,
       "version_minor": 0
      },
      "text/plain": [
       "- Sort 5: 0.00 row [00:00, ? row/s]"
      ]
     },
     "metadata": {},
     "output_type": "display_data"
    },
    {
     "data": {
      "application/vnd.jupyter.widget-view+json": {
       "model_id": "4036625e3e4a4fe6bbeda75cb56009a0",
       "version_major": 2,
       "version_minor": 0
      },
      "text/plain": [
       "Sort Sample 6:   0%|          | 0.00/1.00 [00:00<?, ? row/s]"
      ]
     },
     "metadata": {},
     "output_type": "display_data"
    },
    {
     "data": {
      "application/vnd.jupyter.widget-view+json": {
       "model_id": "0744e6b502654e9bb6085e167405ba70",
       "version_major": 2,
       "version_minor": 0
      },
      "text/plain": [
       "Shuffle Map 7:   0%|          | 0.00/1.00 [00:00<?, ? row/s]"
      ]
     },
     "metadata": {},
     "output_type": "display_data"
    },
    {
     "data": {
      "application/vnd.jupyter.widget-view+json": {
       "model_id": "67decae3be7647299fd9e019da5bb883",
       "version_major": 2,
       "version_minor": 0
      },
      "text/plain": [
       "Shuffle Reduce 8:   0%|          | 0.00/1.00 [00:00<?, ? row/s]"
      ]
     },
     "metadata": {},
     "output_type": "display_data"
    },
    {
     "data": {
      "application/vnd.jupyter.widget-view+json": {
       "model_id": "828540fdddf847e18511f393311053fc",
       "version_major": 2,
       "version_minor": 0
      },
      "text/plain": [
       "- MapBatches(_add_split)->MapBatches(_filter_split)->RandomShuffle 9: 0.00 row [00:00, ? row/s]"
      ]
     },
     "metadata": {},
     "output_type": "display_data"
    },
    {
     "data": {
      "application/vnd.jupyter.widget-view+json": {
       "model_id": "7b685a2ce63b4d679e2b3c7b09ac6119",
       "version_major": 2,
       "version_minor": 0
      },
      "text/plain": [
       "Shuffle Map 10:   0%|          | 0.00/1.00 [00:00<?, ? row/s]"
      ]
     },
     "metadata": {},
     "output_type": "display_data"
    },
    {
     "data": {
      "application/vnd.jupyter.widget-view+json": {
       "model_id": "d1ba29649f44422dad9d1f0c078aa718",
       "version_major": 2,
       "version_minor": 0
      },
      "text/plain": [
       "Shuffle Reduce 11:   0%|          | 0.00/1.00 [00:00<?, ? row/s]"
      ]
     },
     "metadata": {},
     "output_type": "display_data"
    },
    {
     "data": {
      "application/vnd.jupyter.widget-view+json": {
       "model_id": "806dd49aa8a24b27b46089309ea88699",
       "version_major": 2,
       "version_minor": 0
      },
      "text/plain": [
       "- MapBatches(preprocess) 12: 0.00 row [00:00, ? row/s]"
      ]
     },
     "metadata": {},
     "output_type": "display_data"
    }
   ],
   "source": [
    "# Preprocess\n",
    "preprocessor = CustomPreprocessor()\n",
    "preprocessor = preprocessor.fit(train_ds)\n",
    "train_ds = preprocessor.transform(train_ds)\n",
    "val_ds = preprocessor.transform(val_ds)\n",
    "train_ds = train_ds.materialize()\n",
    "val_ds = val_ds.materialize()"
   ]
  },
  {
   "cell_type": "code",
   "execution_count": 65,
   "id": "c81c979484dc6399",
   "metadata": {
    "ExecuteTime": {
     "end_time": "2024-12-20T20:49:32.314331Z",
     "start_time": "2024-12-20T20:49:32.276839Z"
    }
   },
   "outputs": [],
   "source": [
    "# Dataset config\n",
    "options = ray.data.ExecutionOptions(preserve_order=True)\n",
    "dataset_config = DataConfig(datasets_to_split=[\"train\"], execution_options=options)"
   ]
  },
  {
   "cell_type": "code",
   "execution_count": 66,
   "id": "17e968f06da2d972",
   "metadata": {
    "ExecuteTime": {
     "end_time": "2024-12-20T20:49:37.772830Z",
     "start_time": "2024-12-20T20:49:37.736680Z"
    }
   },
   "outputs": [],
   "source": [
    "# Trainer\n",
    "trainer = TorchTrainer(\n",
    "    train_loop_per_worker=train_loop_per_worker,\n",
    "    train_loop_config=train_loop_config,\n",
    "    scaling_config=scaling_config,\n",
    "    run_config=run_config,\n",
    "    datasets={\"train\": train_ds, \"val\": val_ds},\n",
    "    dataset_config=dataset_config,\n",
    "    metadata={\"class_to_index\": preprocessor.class_to_index},\n",
    ")"
   ]
  },
  {
   "cell_type": "code",
   "execution_count": 67,
   "id": "1254d91748a6130",
   "metadata": {
    "ExecuteTime": {
     "end_time": "2024-12-20T20:58:22.440027Z",
     "start_time": "2024-12-20T20:49:43.826080Z"
    }
   },
   "outputs": [
    {
     "name": "stderr",
     "output_type": "stream",
     "text": [
      "2024-12-20 21:49:43,908\tINFO tune.py:616 -- [output] This uses the legacy output and progress reporter, as Jupyter notebooks are not supported by the new engine, yet. For more information, please see https://github.com/ray-project/ray/issues/36949\n",
      "2024-12-20 21:49:43,911\tINFO tensorboardx.py:193 -- pip install \"ray[tune]\" to see TensorBoard files.\n",
      "2024-12-20 21:49:43,911\tWARNING callback.py:136 -- The TensorboardX logger cannot be instantiated because either TensorboardX or one of it's dependencies is not installed. Please make sure you have the latest version of TensorboardX installed: `pip install -U tensorboardx`\n"
     ]
    },
    {
     "name": "stdout",
     "output_type": "stream",
     "text": [
      "== Status ==\n",
      "Current time: 2024-12-20 21:49:44 (running for 00:00:00.11)\n",
      "Using FIFO scheduling algorithm.\n",
      "Logical resource usage: 7.0/10 CPUs, 0/0 GPUs\n",
      "Result logdir: /tmp/ray/session_2024-12-20_21-41-30_038316_36280/artifacts/2024-12-20_21-49-43/llm/driver_artifacts\n",
      "Number of trials: 1/1 (1 PENDING)\n",
      "\n",
      "\n",
      "== Status ==\n",
      "Current time: 2024-12-20 21:49:49 (running for 00:00:05.20)\n",
      "Using FIFO scheduling algorithm.\n",
      "Logical resource usage: 7.0/10 CPUs, 0/0 GPUs\n",
      "Result logdir: /tmp/ray/session_2024-12-20_21-41-30_038316_36280/artifacts/2024-12-20_21-49-43/llm/driver_artifacts\n",
      "Number of trials: 1/1 (1 RUNNING)\n",
      "\n",
      "\n"
     ]
    },
    {
     "data": {
      "application/vnd.jupyter.widget-view+json": {
       "model_id": "d59dbcaf703a4bb2ad0d66b8ebeb64f9",
       "version_major": 2,
       "version_minor": 0
      },
      "text/plain": [
       "(pid=36904) Running 0: 0.00 row [00:00, ? row/s]"
      ]
     },
     "metadata": {},
     "output_type": "display_data"
    },
    {
     "data": {
      "application/vnd.jupyter.widget-view+json": {
       "model_id": "5441e07f9fff4a39abb98755ab5589f1",
       "version_major": 2,
       "version_minor": 0
      },
      "text/plain": [
       "(pid=36904) - split(6, equal=True) 1: 0.00 row [00:00, ? row/s]"
      ]
     },
     "metadata": {},
     "output_type": "display_data"
    },
    {
     "name": "stdout",
     "output_type": "stream",
     "text": [
      "== Status ==\n",
      "Current time: 2024-12-20 21:49:54 (running for 00:00:10.24)\n",
      "Using FIFO scheduling algorithm.\n",
      "Logical resource usage: 7.0/10 CPUs, 0/0 GPUs\n",
      "Result logdir: /tmp/ray/session_2024-12-20_21-41-30_038316_36280/artifacts/2024-12-20_21-49-43/llm/driver_artifacts\n",
      "Number of trials: 1/1 (1 RUNNING)\n",
      "\n",
      "\n",
      "== Status ==\n",
      "Current time: 2024-12-20 21:49:59 (running for 00:00:15.27)\n",
      "Using FIFO scheduling algorithm.\n",
      "Logical resource usage: 7.0/10 CPUs, 0/0 GPUs\n",
      "Result logdir: /tmp/ray/session_2024-12-20_21-41-30_038316_36280/artifacts/2024-12-20_21-49-43/llm/driver_artifacts\n",
      "Number of trials: 1/1 (1 RUNNING)\n",
      "\n",
      "\n",
      "== Status ==\n",
      "Current time: 2024-12-20 21:50:04 (running for 00:00:20.30)\n",
      "Using FIFO scheduling algorithm.\n",
      "Logical resource usage: 7.0/10 CPUs, 0/0 GPUs\n",
      "Result logdir: /tmp/ray/session_2024-12-20_21-41-30_038316_36280/artifacts/2024-12-20_21-49-43/llm/driver_artifacts\n",
      "Number of trials: 1/1 (1 RUNNING)\n",
      "\n",
      "\n",
      "== Status ==\n",
      "Current time: 2024-12-20 21:50:09 (running for 00:00:25.33)\n",
      "Using FIFO scheduling algorithm.\n",
      "Logical resource usage: 7.0/10 CPUs, 0/0 GPUs\n",
      "Result logdir: /tmp/ray/session_2024-12-20_21-41-30_038316_36280/artifacts/2024-12-20_21-49-43/llm/driver_artifacts\n",
      "Number of trials: 1/1 (1 RUNNING)\n",
      "\n",
      "\n",
      "== Status ==\n",
      "Current time: 2024-12-20 21:50:14 (running for 00:00:30.43)\n",
      "Using FIFO scheduling algorithm.\n",
      "Logical resource usage: 7.0/10 CPUs, 0/0 GPUs\n",
      "Result logdir: /tmp/ray/session_2024-12-20_21-41-30_038316_36280/artifacts/2024-12-20_21-49-43/llm/driver_artifacts\n",
      "Number of trials: 1/1 (1 RUNNING)\n",
      "\n",
      "\n",
      "== Status ==\n",
      "Current time: 2024-12-20 21:50:19 (running for 00:00:35.49)\n",
      "Using FIFO scheduling algorithm.\n",
      "Logical resource usage: 7.0/10 CPUs, 0/0 GPUs\n",
      "Result logdir: /tmp/ray/session_2024-12-20_21-41-30_038316_36280/artifacts/2024-12-20_21-49-43/llm/driver_artifacts\n",
      "Number of trials: 1/1 (1 RUNNING)\n",
      "\n",
      "\n",
      "== Status ==\n",
      "Current time: 2024-12-20 21:50:24 (running for 00:00:40.53)\n",
      "Using FIFO scheduling algorithm.\n",
      "Logical resource usage: 7.0/10 CPUs, 0/0 GPUs\n",
      "Result logdir: /tmp/ray/session_2024-12-20_21-41-30_038316_36280/artifacts/2024-12-20_21-49-43/llm/driver_artifacts\n",
      "Number of trials: 1/1 (1 RUNNING)\n",
      "\n",
      "\n",
      "== Status ==\n",
      "Current time: 2024-12-20 21:50:29 (running for 00:00:45.63)\n",
      "Using FIFO scheduling algorithm.\n",
      "Logical resource usage: 7.0/10 CPUs, 0/0 GPUs\n",
      "Result logdir: /tmp/ray/session_2024-12-20_21-41-30_038316_36280/artifacts/2024-12-20_21-49-43/llm/driver_artifacts\n",
      "Number of trials: 1/1 (1 RUNNING)\n",
      "\n",
      "\n",
      "== Status ==\n",
      "Current time: 2024-12-20 21:50:34 (running for 00:00:50.63)\n",
      "Using FIFO scheduling algorithm.\n",
      "Logical resource usage: 7.0/10 CPUs, 0/0 GPUs\n",
      "Result logdir: /tmp/ray/session_2024-12-20_21-41-30_038316_36280/artifacts/2024-12-20_21-49-43/llm/driver_artifacts\n",
      "Number of trials: 1/1 (1 RUNNING)\n",
      "\n",
      "\n",
      "== Status ==\n",
      "Current time: 2024-12-20 21:50:39 (running for 00:00:55.68)\n",
      "Using FIFO scheduling algorithm.\n",
      "Logical resource usage: 7.0/10 CPUs, 0/0 GPUs\n",
      "Result logdir: /tmp/ray/session_2024-12-20_21-41-30_038316_36280/artifacts/2024-12-20_21-49-43/llm/driver_artifacts\n",
      "Number of trials: 1/1 (1 RUNNING)\n",
      "\n",
      "\n",
      "== Status ==\n",
      "Current time: 2024-12-20 21:50:44 (running for 00:01:00.71)\n",
      "Using FIFO scheduling algorithm.\n",
      "Logical resource usage: 7.0/10 CPUs, 0/0 GPUs\n",
      "Result logdir: /tmp/ray/session_2024-12-20_21-41-30_038316_36280/artifacts/2024-12-20_21-49-43/llm/driver_artifacts\n",
      "Number of trials: 1/1 (1 RUNNING)\n",
      "\n",
      "\n",
      "== Status ==\n",
      "Current time: 2024-12-20 21:50:49 (running for 00:01:05.75)\n",
      "Using FIFO scheduling algorithm.\n",
      "Logical resource usage: 7.0/10 CPUs, 0/0 GPUs\n",
      "Result logdir: /tmp/ray/session_2024-12-20_21-41-30_038316_36280/artifacts/2024-12-20_21-49-43/llm/driver_artifacts\n",
      "Number of trials: 1/1 (1 RUNNING)\n",
      "\n",
      "\n"
     ]
    },
    {
     "data": {
      "application/vnd.jupyter.widget-view+json": {
       "model_id": "82766d1206ca4b979c7fb9ff56dcb19f",
       "version_major": 2,
       "version_minor": 0
      },
      "text/plain": [
       "(pid=36904) Running 0: 0.00 row [00:00, ? row/s]"
      ]
     },
     "metadata": {},
     "output_type": "display_data"
    },
    {
     "data": {
      "application/vnd.jupyter.widget-view+json": {
       "model_id": "347a3b28f2c949af8da75315b131399a",
       "version_major": 2,
       "version_minor": 0
      },
      "text/plain": [
       "(pid=36904) - split(6, equal=True) 1: 0.00 row [00:00, ? row/s]"
      ]
     },
     "metadata": {},
     "output_type": "display_data"
    },
    {
     "name": "stdout",
     "output_type": "stream",
     "text": [
      "== Status ==\n",
      "Current time: 2024-12-20 21:50:54 (running for 00:01:10.82)\n",
      "Using FIFO scheduling algorithm.\n",
      "Logical resource usage: 7.0/10 CPUs, 0/0 GPUs\n",
      "Result logdir: /tmp/ray/session_2024-12-20_21-41-30_038316_36280/artifacts/2024-12-20_21-49-43/llm/driver_artifacts\n",
      "Number of trials: 1/1 (1 RUNNING)\n",
      "\n",
      "\n",
      "== Status ==\n",
      "Current time: 2024-12-20 21:50:59 (running for 00:01:15.88)\n",
      "Using FIFO scheduling algorithm.\n",
      "Logical resource usage: 7.0/10 CPUs, 0/0 GPUs\n",
      "Result logdir: /tmp/ray/session_2024-12-20_21-41-30_038316_36280/artifacts/2024-12-20_21-49-43/llm/driver_artifacts\n",
      "Number of trials: 1/1 (1 RUNNING)\n",
      "\n",
      "\n",
      "== Status ==\n",
      "Current time: 2024-12-20 21:51:04 (running for 00:01:20.89)\n",
      "Using FIFO scheduling algorithm.\n",
      "Logical resource usage: 7.0/10 CPUs, 0/0 GPUs\n",
      "Result logdir: /tmp/ray/session_2024-12-20_21-41-30_038316_36280/artifacts/2024-12-20_21-49-43/llm/driver_artifacts\n",
      "Number of trials: 1/1 (1 RUNNING)\n",
      "\n",
      "\n",
      "== Status ==\n",
      "Current time: 2024-12-20 21:51:09 (running for 00:01:25.95)\n",
      "Using FIFO scheduling algorithm.\n",
      "Logical resource usage: 7.0/10 CPUs, 0/0 GPUs\n",
      "Result logdir: /tmp/ray/session_2024-12-20_21-41-30_038316_36280/artifacts/2024-12-20_21-49-43/llm/driver_artifacts\n",
      "Number of trials: 1/1 (1 RUNNING)\n",
      "\n",
      "\n",
      "== Status ==\n",
      "Current time: 2024-12-20 21:51:14 (running for 00:01:30.99)\n",
      "Using FIFO scheduling algorithm.\n",
      "Logical resource usage: 7.0/10 CPUs, 0/0 GPUs\n",
      "Result logdir: /tmp/ray/session_2024-12-20_21-41-30_038316_36280/artifacts/2024-12-20_21-49-43/llm/driver_artifacts\n",
      "Number of trials: 1/1 (1 RUNNING)\n",
      "\n",
      "\n",
      "== Status ==\n",
      "Current time: 2024-12-20 21:51:19 (running for 00:01:36.00)\n",
      "Using FIFO scheduling algorithm.\n",
      "Logical resource usage: 7.0/10 CPUs, 0/0 GPUs\n",
      "Result logdir: /tmp/ray/session_2024-12-20_21-41-30_038316_36280/artifacts/2024-12-20_21-49-43/llm/driver_artifacts\n",
      "Number of trials: 1/1 (1 RUNNING)\n",
      "\n",
      "\n",
      "== Status ==\n",
      "Current time: 2024-12-20 21:51:24 (running for 00:01:41.06)\n",
      "Using FIFO scheduling algorithm.\n",
      "Logical resource usage: 7.0/10 CPUs, 0/0 GPUs\n",
      "Result logdir: /tmp/ray/session_2024-12-20_21-41-30_038316_36280/artifacts/2024-12-20_21-49-43/llm/driver_artifacts\n",
      "Number of trials: 1/1 (1 RUNNING)\n",
      "\n",
      "\n",
      "== Status ==\n",
      "Current time: 2024-12-20 21:51:29 (running for 00:01:46.08)\n",
      "Using FIFO scheduling algorithm.\n",
      "Logical resource usage: 7.0/10 CPUs, 0/0 GPUs\n",
      "Result logdir: /tmp/ray/session_2024-12-20_21-41-30_038316_36280/artifacts/2024-12-20_21-49-43/llm/driver_artifacts\n",
      "Number of trials: 1/1 (1 RUNNING)\n",
      "\n",
      "\n",
      "== Status ==\n",
      "Current time: 2024-12-20 21:51:35 (running for 00:01:51.16)\n",
      "Using FIFO scheduling algorithm.\n",
      "Logical resource usage: 7.0/10 CPUs, 0/0 GPUs\n",
      "Result logdir: /tmp/ray/session_2024-12-20_21-41-30_038316_36280/artifacts/2024-12-20_21-49-43/llm/driver_artifacts\n",
      "Number of trials: 1/1 (1 RUNNING)\n",
      "\n",
      "\n",
      "== Status ==\n",
      "Current time: 2024-12-20 21:51:40 (running for 00:01:56.19)\n",
      "Using FIFO scheduling algorithm.\n",
      "Logical resource usage: 7.0/10 CPUs, 0/0 GPUs\n",
      "Result logdir: /tmp/ray/session_2024-12-20_21-41-30_038316_36280/artifacts/2024-12-20_21-49-43/llm/driver_artifacts\n",
      "Number of trials: 1/1 (1 RUNNING)\n",
      "\n",
      "\n"
     ]
    },
    {
     "data": {
      "application/vnd.jupyter.widget-view+json": {
       "model_id": "764682e948d24374b645c5e8cd49463d",
       "version_major": 2,
       "version_minor": 0
      },
      "text/plain": [
       "(pid=36904) Running 0: 0.00 row [00:00, ? row/s]"
      ]
     },
     "metadata": {},
     "output_type": "display_data"
    },
    {
     "data": {
      "application/vnd.jupyter.widget-view+json": {
       "model_id": "ef99c9bd433743ee82aafc79073c2ce3",
       "version_major": 2,
       "version_minor": 0
      },
      "text/plain": [
       "(pid=36904) - split(6, equal=True) 1: 0.00 row [00:00, ? row/s]"
      ]
     },
     "metadata": {},
     "output_type": "display_data"
    },
    {
     "name": "stderr",
     "output_type": "stream",
     "text": [
      "2024-12-20 21:51:42,235\tWARNING experiment_state.py:206 -- Experiment state snapshotting has been triggered multiple times in the last 5.0 seconds and may become a bottleneck. A snapshot is forced if `CheckpointConfig(num_to_keep)` is set, and a trial has checkpointed >= `num_to_keep` times since the last snapshot.\n",
      "You may want to consider increasing the `CheckpointConfig(num_to_keep)` or decreasing the frequency of saving checkpoints.\n",
      "You can suppress this warning by setting the environment variable TUNE_WARN_EXCESSIVE_EXPERIMENT_CHECKPOINT_SYNC_THRESHOLD_S to a smaller value than the current threshold (5.0). Set it to 0 to completely suppress this warning.\n"
     ]
    },
    {
     "name": "stdout",
     "output_type": "stream",
     "text": [
      "== Status ==\n",
      "Current time: 2024-12-20 21:51:45 (running for 00:02:01.29)\n",
      "Using FIFO scheduling algorithm.\n",
      "Logical resource usage: 7.0/10 CPUs, 0/0 GPUs\n",
      "Result logdir: /tmp/ray/session_2024-12-20_21-41-30_038316_36280/artifacts/2024-12-20_21-49-43/llm/driver_artifacts\n",
      "Number of trials: 1/1 (1 RUNNING)\n",
      "\n",
      "\n",
      "== Status ==\n",
      "Current time: 2024-12-20 21:51:50 (running for 00:02:06.30)\n",
      "Using FIFO scheduling algorithm.\n",
      "Logical resource usage: 7.0/10 CPUs, 0/0 GPUs\n",
      "Result logdir: /tmp/ray/session_2024-12-20_21-41-30_038316_36280/artifacts/2024-12-20_21-49-43/llm/driver_artifacts\n",
      "Number of trials: 1/1 (1 RUNNING)\n",
      "\n",
      "\n",
      "== Status ==\n",
      "Current time: 2024-12-20 21:51:55 (running for 00:02:11.33)\n",
      "Using FIFO scheduling algorithm.\n",
      "Logical resource usage: 7.0/10 CPUs, 0/0 GPUs\n",
      "Result logdir: /tmp/ray/session_2024-12-20_21-41-30_038316_36280/artifacts/2024-12-20_21-49-43/llm/driver_artifacts\n",
      "Number of trials: 1/1 (1 RUNNING)\n",
      "\n",
      "\n",
      "== Status ==\n",
      "Current time: 2024-12-20 21:52:00 (running for 00:02:16.35)\n",
      "Using FIFO scheduling algorithm.\n",
      "Logical resource usage: 7.0/10 CPUs, 0/0 GPUs\n",
      "Result logdir: /tmp/ray/session_2024-12-20_21-41-30_038316_36280/artifacts/2024-12-20_21-49-43/llm/driver_artifacts\n",
      "Number of trials: 1/1 (1 RUNNING)\n",
      "\n",
      "\n",
      "== Status ==\n",
      "Current time: 2024-12-20 21:52:05 (running for 00:02:21.43)\n",
      "Using FIFO scheduling algorithm.\n",
      "Logical resource usage: 7.0/10 CPUs, 0/0 GPUs\n",
      "Result logdir: /tmp/ray/session_2024-12-20_21-41-30_038316_36280/artifacts/2024-12-20_21-49-43/llm/driver_artifacts\n",
      "Number of trials: 1/1 (1 RUNNING)\n",
      "\n",
      "\n",
      "== Status ==\n",
      "Current time: 2024-12-20 21:52:10 (running for 00:02:26.45)\n",
      "Using FIFO scheduling algorithm.\n",
      "Logical resource usage: 7.0/10 CPUs, 0/0 GPUs\n",
      "Result logdir: /tmp/ray/session_2024-12-20_21-41-30_038316_36280/artifacts/2024-12-20_21-49-43/llm/driver_artifacts\n",
      "Number of trials: 1/1 (1 RUNNING)\n",
      "\n",
      "\n",
      "== Status ==\n",
      "Current time: 2024-12-20 21:52:15 (running for 00:02:31.53)\n",
      "Using FIFO scheduling algorithm.\n",
      "Logical resource usage: 7.0/10 CPUs, 0/0 GPUs\n",
      "Result logdir: /tmp/ray/session_2024-12-20_21-41-30_038316_36280/artifacts/2024-12-20_21-49-43/llm/driver_artifacts\n",
      "Number of trials: 1/1 (1 RUNNING)\n",
      "\n",
      "\n",
      "== Status ==\n",
      "Current time: 2024-12-20 21:52:20 (running for 00:02:36.59)\n",
      "Using FIFO scheduling algorithm.\n",
      "Logical resource usage: 7.0/10 CPUs, 0/0 GPUs\n",
      "Result logdir: /tmp/ray/session_2024-12-20_21-41-30_038316_36280/artifacts/2024-12-20_21-49-43/llm/driver_artifacts\n",
      "Number of trials: 1/1 (1 RUNNING)\n",
      "\n",
      "\n",
      "== Status ==\n",
      "Current time: 2024-12-20 21:52:25 (running for 00:02:41.63)\n",
      "Using FIFO scheduling algorithm.\n",
      "Logical resource usage: 7.0/10 CPUs, 0/0 GPUs\n",
      "Result logdir: /tmp/ray/session_2024-12-20_21-41-30_038316_36280/artifacts/2024-12-20_21-49-43/llm/driver_artifacts\n",
      "Number of trials: 1/1 (1 RUNNING)\n",
      "\n",
      "\n",
      "== Status ==\n",
      "Current time: 2024-12-20 21:52:30 (running for 00:02:46.73)\n",
      "Using FIFO scheduling algorithm.\n",
      "Logical resource usage: 7.0/10 CPUs, 0/0 GPUs\n",
      "Result logdir: /tmp/ray/session_2024-12-20_21-41-30_038316_36280/artifacts/2024-12-20_21-49-43/llm/driver_artifacts\n",
      "Number of trials: 1/1 (1 RUNNING)\n",
      "\n",
      "\n"
     ]
    },
    {
     "data": {
      "application/vnd.jupyter.widget-view+json": {
       "model_id": "0ac669f1cd254936bcae27d8d91a9e7b",
       "version_major": 2,
       "version_minor": 0
      },
      "text/plain": [
       "(pid=36904) Running 0: 0.00 row [00:00, ? row/s]"
      ]
     },
     "metadata": {},
     "output_type": "display_data"
    },
    {
     "data": {
      "application/vnd.jupyter.widget-view+json": {
       "model_id": "4bf0350974d14b99b7535b250bc55395",
       "version_major": 2,
       "version_minor": 0
      },
      "text/plain": [
       "(pid=36904) - split(6, equal=True) 1: 0.00 row [00:00, ? row/s]"
      ]
     },
     "metadata": {},
     "output_type": "display_data"
    },
    {
     "name": "stdout",
     "output_type": "stream",
     "text": [
      "== Status ==\n",
      "Current time: 2024-12-20 21:52:35 (running for 00:02:51.75)\n",
      "Using FIFO scheduling algorithm.\n",
      "Logical resource usage: 7.0/10 CPUs, 0/0 GPUs\n",
      "Result logdir: /tmp/ray/session_2024-12-20_21-41-30_038316_36280/artifacts/2024-12-20_21-49-43/llm/driver_artifacts\n",
      "Number of trials: 1/1 (1 RUNNING)\n",
      "\n",
      "\n",
      "== Status ==\n",
      "Current time: 2024-12-20 21:52:40 (running for 00:02:56.80)\n",
      "Using FIFO scheduling algorithm.\n",
      "Logical resource usage: 7.0/10 CPUs, 0/0 GPUs\n",
      "Result logdir: /tmp/ray/session_2024-12-20_21-41-30_038316_36280/artifacts/2024-12-20_21-49-43/llm/driver_artifacts\n",
      "Number of trials: 1/1 (1 RUNNING)\n",
      "\n",
      "\n",
      "== Status ==\n",
      "Current time: 2024-12-20 21:52:45 (running for 00:03:01.83)\n",
      "Using FIFO scheduling algorithm.\n",
      "Logical resource usage: 7.0/10 CPUs, 0/0 GPUs\n",
      "Result logdir: /tmp/ray/session_2024-12-20_21-41-30_038316_36280/artifacts/2024-12-20_21-49-43/llm/driver_artifacts\n",
      "Number of trials: 1/1 (1 RUNNING)\n",
      "\n",
      "\n",
      "== Status ==\n",
      "Current time: 2024-12-20 21:52:50 (running for 00:03:06.91)\n",
      "Using FIFO scheduling algorithm.\n",
      "Logical resource usage: 7.0/10 CPUs, 0/0 GPUs\n",
      "Result logdir: /tmp/ray/session_2024-12-20_21-41-30_038316_36280/artifacts/2024-12-20_21-49-43/llm/driver_artifacts\n",
      "Number of trials: 1/1 (1 RUNNING)\n",
      "\n",
      "\n",
      "== Status ==\n",
      "Current time: 2024-12-20 21:52:55 (running for 00:03:12.00)\n",
      "Using FIFO scheduling algorithm.\n",
      "Logical resource usage: 7.0/10 CPUs, 0/0 GPUs\n",
      "Result logdir: /tmp/ray/session_2024-12-20_21-41-30_038316_36280/artifacts/2024-12-20_21-49-43/llm/driver_artifacts\n",
      "Number of trials: 1/1 (1 RUNNING)\n",
      "\n",
      "\n",
      "== Status ==\n",
      "Current time: 2024-12-20 21:53:01 (running for 00:03:17.09)\n",
      "Using FIFO scheduling algorithm.\n",
      "Logical resource usage: 7.0/10 CPUs, 0/0 GPUs\n",
      "Result logdir: /tmp/ray/session_2024-12-20_21-41-30_038316_36280/artifacts/2024-12-20_21-49-43/llm/driver_artifacts\n",
      "Number of trials: 1/1 (1 RUNNING)\n",
      "\n",
      "\n",
      "== Status ==\n",
      "Current time: 2024-12-20 21:53:06 (running for 00:03:22.14)\n",
      "Using FIFO scheduling algorithm.\n",
      "Logical resource usage: 7.0/10 CPUs, 0/0 GPUs\n",
      "Result logdir: /tmp/ray/session_2024-12-20_21-41-30_038316_36280/artifacts/2024-12-20_21-49-43/llm/driver_artifacts\n",
      "Number of trials: 1/1 (1 RUNNING)\n",
      "\n",
      "\n",
      "== Status ==\n",
      "Current time: 2024-12-20 21:53:11 (running for 00:03:27.17)\n",
      "Using FIFO scheduling algorithm.\n",
      "Logical resource usage: 7.0/10 CPUs, 0/0 GPUs\n",
      "Result logdir: /tmp/ray/session_2024-12-20_21-41-30_038316_36280/artifacts/2024-12-20_21-49-43/llm/driver_artifacts\n",
      "Number of trials: 1/1 (1 RUNNING)\n",
      "\n",
      "\n",
      "== Status ==\n",
      "Current time: 2024-12-20 21:53:16 (running for 00:03:32.20)\n",
      "Using FIFO scheduling algorithm.\n",
      "Logical resource usage: 7.0/10 CPUs, 0/0 GPUs\n",
      "Result logdir: /tmp/ray/session_2024-12-20_21-41-30_038316_36280/artifacts/2024-12-20_21-49-43/llm/driver_artifacts\n",
      "Number of trials: 1/1 (1 RUNNING)\n",
      "\n",
      "\n"
     ]
    },
    {
     "data": {
      "application/vnd.jupyter.widget-view+json": {
       "model_id": "acf7d7b7f0ff4e2d80aa6e69743b79c9",
       "version_major": 2,
       "version_minor": 0
      },
      "text/plain": [
       "(pid=36904) Running 0: 0.00 row [00:00, ? row/s]"
      ]
     },
     "metadata": {},
     "output_type": "display_data"
    },
    {
     "data": {
      "application/vnd.jupyter.widget-view+json": {
       "model_id": "1342624269ad48f9b20158f2e1a15c7f",
       "version_major": 2,
       "version_minor": 0
      },
      "text/plain": [
       "(pid=36904) - split(6, equal=True) 1: 0.00 row [00:00, ? row/s]"
      ]
     },
     "metadata": {},
     "output_type": "display_data"
    },
    {
     "name": "stdout",
     "output_type": "stream",
     "text": [
      "== Status ==\n",
      "Current time: 2024-12-20 21:53:21 (running for 00:03:37.22)\n",
      "Using FIFO scheduling algorithm.\n",
      "Logical resource usage: 7.0/10 CPUs, 0/0 GPUs\n",
      "Result logdir: /tmp/ray/session_2024-12-20_21-41-30_038316_36280/artifacts/2024-12-20_21-49-43/llm/driver_artifacts\n",
      "Number of trials: 1/1 (1 RUNNING)\n",
      "\n",
      "\n",
      "== Status ==\n",
      "Current time: 2024-12-20 21:53:26 (running for 00:03:42.27)\n",
      "Using FIFO scheduling algorithm.\n",
      "Logical resource usage: 7.0/10 CPUs, 0/0 GPUs\n",
      "Result logdir: /tmp/ray/session_2024-12-20_21-41-30_038316_36280/artifacts/2024-12-20_21-49-43/llm/driver_artifacts\n",
      "Number of trials: 1/1 (1 RUNNING)\n",
      "\n",
      "\n",
      "== Status ==\n",
      "Current time: 2024-12-20 21:53:31 (running for 00:03:47.34)\n",
      "Using FIFO scheduling algorithm.\n",
      "Logical resource usage: 7.0/10 CPUs, 0/0 GPUs\n",
      "Result logdir: /tmp/ray/session_2024-12-20_21-41-30_038316_36280/artifacts/2024-12-20_21-49-43/llm/driver_artifacts\n",
      "Number of trials: 1/1 (1 RUNNING)\n",
      "\n",
      "\n",
      "== Status ==\n",
      "Current time: 2024-12-20 21:53:36 (running for 00:03:52.43)\n",
      "Using FIFO scheduling algorithm.\n",
      "Logical resource usage: 7.0/10 CPUs, 0/0 GPUs\n",
      "Result logdir: /tmp/ray/session_2024-12-20_21-41-30_038316_36280/artifacts/2024-12-20_21-49-43/llm/driver_artifacts\n",
      "Number of trials: 1/1 (1 RUNNING)\n",
      "\n",
      "\n",
      "== Status ==\n",
      "Current time: 2024-12-20 21:53:41 (running for 00:03:57.51)\n",
      "Using FIFO scheduling algorithm.\n",
      "Logical resource usage: 7.0/10 CPUs, 0/0 GPUs\n",
      "Result logdir: /tmp/ray/session_2024-12-20_21-41-30_038316_36280/artifacts/2024-12-20_21-49-43/llm/driver_artifacts\n",
      "Number of trials: 1/1 (1 RUNNING)\n",
      "\n",
      "\n",
      "== Status ==\n",
      "Current time: 2024-12-20 21:53:46 (running for 00:04:02.58)\n",
      "Using FIFO scheduling algorithm.\n",
      "Logical resource usage: 7.0/10 CPUs, 0/0 GPUs\n",
      "Result logdir: /tmp/ray/session_2024-12-20_21-41-30_038316_36280/artifacts/2024-12-20_21-49-43/llm/driver_artifacts\n",
      "Number of trials: 1/1 (1 RUNNING)\n",
      "\n",
      "\n",
      "== Status ==\n",
      "Current time: 2024-12-20 21:53:51 (running for 00:04:07.69)\n",
      "Using FIFO scheduling algorithm.\n",
      "Logical resource usage: 7.0/10 CPUs, 0/0 GPUs\n",
      "Result logdir: /tmp/ray/session_2024-12-20_21-41-30_038316_36280/artifacts/2024-12-20_21-49-43/llm/driver_artifacts\n",
      "Number of trials: 1/1 (1 RUNNING)\n",
      "\n",
      "\n",
      "== Status ==\n",
      "Current time: 2024-12-20 21:53:56 (running for 00:04:12.72)\n",
      "Using FIFO scheduling algorithm.\n",
      "Logical resource usage: 7.0/10 CPUs, 0/0 GPUs\n",
      "Result logdir: /tmp/ray/session_2024-12-20_21-41-30_038316_36280/artifacts/2024-12-20_21-49-43/llm/driver_artifacts\n",
      "Number of trials: 1/1 (1 RUNNING)\n",
      "\n",
      "\n",
      "== Status ==\n",
      "Current time: 2024-12-20 21:54:01 (running for 00:04:17.77)\n",
      "Using FIFO scheduling algorithm.\n",
      "Logical resource usage: 7.0/10 CPUs, 0/0 GPUs\n",
      "Result logdir: /tmp/ray/session_2024-12-20_21-41-30_038316_36280/artifacts/2024-12-20_21-49-43/llm/driver_artifacts\n",
      "Number of trials: 1/1 (1 RUNNING)\n",
      "\n",
      "\n",
      "== Status ==\n",
      "Current time: 2024-12-20 21:54:06 (running for 00:04:22.79)\n",
      "Using FIFO scheduling algorithm.\n",
      "Logical resource usage: 7.0/10 CPUs, 0/0 GPUs\n",
      "Result logdir: /tmp/ray/session_2024-12-20_21-41-30_038316_36280/artifacts/2024-12-20_21-49-43/llm/driver_artifacts\n",
      "Number of trials: 1/1 (1 RUNNING)\n",
      "\n",
      "\n"
     ]
    },
    {
     "data": {
      "application/vnd.jupyter.widget-view+json": {
       "model_id": "2bcd3867b34e4172a4377e1287d586fb",
       "version_major": 2,
       "version_minor": 0
      },
      "text/plain": [
       "(pid=36904) Running 0: 0.00 row [00:00, ? row/s]"
      ]
     },
     "metadata": {},
     "output_type": "display_data"
    },
    {
     "data": {
      "application/vnd.jupyter.widget-view+json": {
       "model_id": "07b56ea552e0466bbb90602be8a3ff62",
       "version_major": 2,
       "version_minor": 0
      },
      "text/plain": [
       "(pid=36904) - split(6, equal=True) 1: 0.00 row [00:00, ? row/s]"
      ]
     },
     "metadata": {},
     "output_type": "display_data"
    },
    {
     "name": "stdout",
     "output_type": "stream",
     "text": [
      "== Status ==\n",
      "Current time: 2024-12-20 21:54:11 (running for 00:04:27.81)\n",
      "Using FIFO scheduling algorithm.\n",
      "Logical resource usage: 7.0/10 CPUs, 0/0 GPUs\n",
      "Result logdir: /tmp/ray/session_2024-12-20_21-41-30_038316_36280/artifacts/2024-12-20_21-49-43/llm/driver_artifacts\n",
      "Number of trials: 1/1 (1 RUNNING)\n",
      "\n",
      "\n",
      "== Status ==\n",
      "Current time: 2024-12-20 21:54:16 (running for 00:04:32.87)\n",
      "Using FIFO scheduling algorithm.\n",
      "Logical resource usage: 7.0/10 CPUs, 0/0 GPUs\n",
      "Result logdir: /tmp/ray/session_2024-12-20_21-41-30_038316_36280/artifacts/2024-12-20_21-49-43/llm/driver_artifacts\n",
      "Number of trials: 1/1 (1 RUNNING)\n",
      "\n",
      "\n",
      "== Status ==\n",
      "Current time: 2024-12-20 21:54:21 (running for 00:04:37.93)\n",
      "Using FIFO scheduling algorithm.\n",
      "Logical resource usage: 7.0/10 CPUs, 0/0 GPUs\n",
      "Result logdir: /tmp/ray/session_2024-12-20_21-41-30_038316_36280/artifacts/2024-12-20_21-49-43/llm/driver_artifacts\n",
      "Number of trials: 1/1 (1 RUNNING)\n",
      "\n",
      "\n",
      "== Status ==\n",
      "Current time: 2024-12-20 21:54:27 (running for 00:04:43.37)\n",
      "Using FIFO scheduling algorithm.\n",
      "Logical resource usage: 7.0/10 CPUs, 0/0 GPUs\n",
      "Result logdir: /tmp/ray/session_2024-12-20_21-41-30_038316_36280/artifacts/2024-12-20_21-49-43/llm/driver_artifacts\n",
      "Number of trials: 1/1 (1 RUNNING)\n",
      "\n",
      "\n",
      "== Status ==\n",
      "Current time: 2024-12-20 21:54:31 (running for 00:04:48.04)\n",
      "Using FIFO scheduling algorithm.\n",
      "Logical resource usage: 7.0/10 CPUs, 0/0 GPUs\n",
      "Result logdir: /tmp/ray/session_2024-12-20_21-41-30_038316_36280/artifacts/2024-12-20_21-49-43/llm/driver_artifacts\n",
      "Number of trials: 1/1 (1 RUNNING)\n",
      "\n",
      "\n",
      "== Status ==\n",
      "Current time: 2024-12-20 21:54:37 (running for 00:04:53.09)\n",
      "Using FIFO scheduling algorithm.\n",
      "Logical resource usage: 7.0/10 CPUs, 0/0 GPUs\n",
      "Result logdir: /tmp/ray/session_2024-12-20_21-41-30_038316_36280/artifacts/2024-12-20_21-49-43/llm/driver_artifacts\n",
      "Number of trials: 1/1 (1 RUNNING)\n",
      "\n",
      "\n",
      "== Status ==\n",
      "Current time: 2024-12-20 21:54:42 (running for 00:04:58.12)\n",
      "Using FIFO scheduling algorithm.\n",
      "Logical resource usage: 7.0/10 CPUs, 0/0 GPUs\n",
      "Result logdir: /tmp/ray/session_2024-12-20_21-41-30_038316_36280/artifacts/2024-12-20_21-49-43/llm/driver_artifacts\n",
      "Number of trials: 1/1 (1 RUNNING)\n",
      "\n",
      "\n",
      "== Status ==\n",
      "Current time: 2024-12-20 21:54:47 (running for 00:05:03.16)\n",
      "Using FIFO scheduling algorithm.\n",
      "Logical resource usage: 7.0/10 CPUs, 0/0 GPUs\n",
      "Result logdir: /tmp/ray/session_2024-12-20_21-41-30_038316_36280/artifacts/2024-12-20_21-49-43/llm/driver_artifacts\n",
      "Number of trials: 1/1 (1 RUNNING)\n",
      "\n",
      "\n",
      "== Status ==\n",
      "Current time: 2024-12-20 21:54:52 (running for 00:05:08.19)\n",
      "Using FIFO scheduling algorithm.\n",
      "Logical resource usage: 7.0/10 CPUs, 0/0 GPUs\n",
      "Result logdir: /tmp/ray/session_2024-12-20_21-41-30_038316_36280/artifacts/2024-12-20_21-49-43/llm/driver_artifacts\n",
      "Number of trials: 1/1 (1 RUNNING)\n",
      "\n",
      "\n",
      "== Status ==\n",
      "Current time: 2024-12-20 21:54:57 (running for 00:05:13.22)\n",
      "Using FIFO scheduling algorithm.\n",
      "Logical resource usage: 7.0/10 CPUs, 0/0 GPUs\n",
      "Result logdir: /tmp/ray/session_2024-12-20_21-41-30_038316_36280/artifacts/2024-12-20_21-49-43/llm/driver_artifacts\n",
      "Number of trials: 1/1 (1 RUNNING)\n",
      "\n",
      "\n"
     ]
    },
    {
     "data": {
      "application/vnd.jupyter.widget-view+json": {
       "model_id": "b557bb2c6ff9469194a034dababe9bd4",
       "version_major": 2,
       "version_minor": 0
      },
      "text/plain": [
       "(pid=36904) Running 0: 0.00 row [00:00, ? row/s]"
      ]
     },
     "metadata": {},
     "output_type": "display_data"
    },
    {
     "data": {
      "application/vnd.jupyter.widget-view+json": {
       "model_id": "9ece914969074c9aa2e845b015071d6c",
       "version_major": 2,
       "version_minor": 0
      },
      "text/plain": [
       "(pid=36904) - split(6, equal=True) 1: 0.00 row [00:00, ? row/s]"
      ]
     },
     "metadata": {},
     "output_type": "display_data"
    },
    {
     "name": "stdout",
     "output_type": "stream",
     "text": [
      "== Status ==\n",
      "Current time: 2024-12-20 21:55:02 (running for 00:05:18.27)\n",
      "Using FIFO scheduling algorithm.\n",
      "Logical resource usage: 7.0/10 CPUs, 0/0 GPUs\n",
      "Result logdir: /tmp/ray/session_2024-12-20_21-41-30_038316_36280/artifacts/2024-12-20_21-49-43/llm/driver_artifacts\n",
      "Number of trials: 1/1 (1 RUNNING)\n",
      "\n",
      "\n",
      "== Status ==\n",
      "Current time: 2024-12-20 21:55:07 (running for 00:05:23.36)\n",
      "Using FIFO scheduling algorithm.\n",
      "Logical resource usage: 7.0/10 CPUs, 0/0 GPUs\n",
      "Result logdir: /tmp/ray/session_2024-12-20_21-41-30_038316_36280/artifacts/2024-12-20_21-49-43/llm/driver_artifacts\n",
      "Number of trials: 1/1 (1 RUNNING)\n",
      "\n",
      "\n",
      "== Status ==\n",
      "Current time: 2024-12-20 21:55:12 (running for 00:05:28.43)\n",
      "Using FIFO scheduling algorithm.\n",
      "Logical resource usage: 7.0/10 CPUs, 0/0 GPUs\n",
      "Result logdir: /tmp/ray/session_2024-12-20_21-41-30_038316_36280/artifacts/2024-12-20_21-49-43/llm/driver_artifacts\n",
      "Number of trials: 1/1 (1 RUNNING)\n",
      "\n",
      "\n",
      "== Status ==\n",
      "Current time: 2024-12-20 21:55:17 (running for 00:05:33.53)\n",
      "Using FIFO scheduling algorithm.\n",
      "Logical resource usage: 7.0/10 CPUs, 0/0 GPUs\n",
      "Result logdir: /tmp/ray/session_2024-12-20_21-41-30_038316_36280/artifacts/2024-12-20_21-49-43/llm/driver_artifacts\n",
      "Number of trials: 1/1 (1 RUNNING)\n",
      "\n",
      "\n",
      "== Status ==\n",
      "Current time: 2024-12-20 21:55:22 (running for 00:05:38.62)\n",
      "Using FIFO scheduling algorithm.\n",
      "Logical resource usage: 7.0/10 CPUs, 0/0 GPUs\n",
      "Result logdir: /tmp/ray/session_2024-12-20_21-41-30_038316_36280/artifacts/2024-12-20_21-49-43/llm/driver_artifacts\n",
      "Number of trials: 1/1 (1 RUNNING)\n",
      "\n",
      "\n",
      "== Status ==\n",
      "Current time: 2024-12-20 21:55:27 (running for 00:05:43.70)\n",
      "Using FIFO scheduling algorithm.\n",
      "Logical resource usage: 7.0/10 CPUs, 0/0 GPUs\n",
      "Result logdir: /tmp/ray/session_2024-12-20_21-41-30_038316_36280/artifacts/2024-12-20_21-49-43/llm/driver_artifacts\n",
      "Number of trials: 1/1 (1 RUNNING)\n",
      "\n",
      "\n",
      "== Status ==\n",
      "Current time: 2024-12-20 21:55:32 (running for 00:05:48.70)\n",
      "Using FIFO scheduling algorithm.\n",
      "Logical resource usage: 7.0/10 CPUs, 0/0 GPUs\n",
      "Result logdir: /tmp/ray/session_2024-12-20_21-41-30_038316_36280/artifacts/2024-12-20_21-49-43/llm/driver_artifacts\n",
      "Number of trials: 1/1 (1 RUNNING)\n",
      "\n",
      "\n",
      "== Status ==\n",
      "Current time: 2024-12-20 21:55:37 (running for 00:05:53.79)\n",
      "Using FIFO scheduling algorithm.\n",
      "Logical resource usage: 7.0/10 CPUs, 0/0 GPUs\n",
      "Result logdir: /tmp/ray/session_2024-12-20_21-41-30_038316_36280/artifacts/2024-12-20_21-49-43/llm/driver_artifacts\n",
      "Number of trials: 1/1 (1 RUNNING)\n",
      "\n",
      "\n",
      "== Status ==\n",
      "Current time: 2024-12-20 21:55:42 (running for 00:05:58.82)\n",
      "Using FIFO scheduling algorithm.\n",
      "Logical resource usage: 7.0/10 CPUs, 0/0 GPUs\n",
      "Result logdir: /tmp/ray/session_2024-12-20_21-41-30_038316_36280/artifacts/2024-12-20_21-49-43/llm/driver_artifacts\n",
      "Number of trials: 1/1 (1 RUNNING)\n",
      "\n",
      "\n",
      "== Status ==\n",
      "Current time: 2024-12-20 21:55:47 (running for 00:06:03.86)\n",
      "Using FIFO scheduling algorithm.\n",
      "Logical resource usage: 7.0/10 CPUs, 0/0 GPUs\n",
      "Result logdir: /tmp/ray/session_2024-12-20_21-41-30_038316_36280/artifacts/2024-12-20_21-49-43/llm/driver_artifacts\n",
      "Number of trials: 1/1 (1 RUNNING)\n",
      "\n",
      "\n",
      "== Status ==\n",
      "Current time: 2024-12-20 21:55:52 (running for 00:06:08.89)\n",
      "Using FIFO scheduling algorithm.\n",
      "Logical resource usage: 7.0/10 CPUs, 0/0 GPUs\n",
      "Result logdir: /tmp/ray/session_2024-12-20_21-41-30_038316_36280/artifacts/2024-12-20_21-49-43/llm/driver_artifacts\n",
      "Number of trials: 1/1 (1 RUNNING)\n",
      "\n",
      "\n"
     ]
    },
    {
     "data": {
      "application/vnd.jupyter.widget-view+json": {
       "model_id": "00ec9137c3e2463bb07807b03ef1e820",
       "version_major": 2,
       "version_minor": 0
      },
      "text/plain": [
       "(pid=36904) Running 0: 0.00 row [00:00, ? row/s]"
      ]
     },
     "metadata": {},
     "output_type": "display_data"
    },
    {
     "data": {
      "application/vnd.jupyter.widget-view+json": {
       "model_id": "02dbe0ddd67645e38adc8c3973571d5a",
       "version_major": 2,
       "version_minor": 0
      },
      "text/plain": [
       "(pid=36904) - split(6, equal=True) 1: 0.00 row [00:00, ? row/s]"
      ]
     },
     "metadata": {},
     "output_type": "display_data"
    },
    {
     "name": "stderr",
     "output_type": "stream",
     "text": [
      "2024-12-20 21:55:55,072\tWARNING experiment_state.py:206 -- Experiment state snapshotting has been triggered multiple times in the last 5.0 seconds and may become a bottleneck. A snapshot is forced if `CheckpointConfig(num_to_keep)` is set, and a trial has checkpointed >= `num_to_keep` times since the last snapshot.\n",
      "You may want to consider increasing the `CheckpointConfig(num_to_keep)` or decreasing the frequency of saving checkpoints.\n",
      "You can suppress this warning by setting the environment variable TUNE_WARN_EXCESSIVE_EXPERIMENT_CHECKPOINT_SYNC_THRESHOLD_S to a smaller value than the current threshold (5.0). Set it to 0 to completely suppress this warning.\n"
     ]
    },
    {
     "name": "stdout",
     "output_type": "stream",
     "text": [
      "== Status ==\n",
      "Current time: 2024-12-20 21:55:57 (running for 00:06:13.97)\n",
      "Using FIFO scheduling algorithm.\n",
      "Logical resource usage: 7.0/10 CPUs, 0/0 GPUs\n",
      "Result logdir: /tmp/ray/session_2024-12-20_21-41-30_038316_36280/artifacts/2024-12-20_21-49-43/llm/driver_artifacts\n",
      "Number of trials: 1/1 (1 RUNNING)\n",
      "\n",
      "\n",
      "== Status ==\n",
      "Current time: 2024-12-20 21:56:02 (running for 00:06:19.01)\n",
      "Using FIFO scheduling algorithm.\n",
      "Logical resource usage: 7.0/10 CPUs, 0/0 GPUs\n",
      "Result logdir: /tmp/ray/session_2024-12-20_21-41-30_038316_36280/artifacts/2024-12-20_21-49-43/llm/driver_artifacts\n",
      "Number of trials: 1/1 (1 RUNNING)\n",
      "\n",
      "\n",
      "== Status ==\n",
      "Current time: 2024-12-20 21:56:07 (running for 00:06:24.03)\n",
      "Using FIFO scheduling algorithm.\n",
      "Logical resource usage: 7.0/10 CPUs, 0/0 GPUs\n",
      "Result logdir: /tmp/ray/session_2024-12-20_21-41-30_038316_36280/artifacts/2024-12-20_21-49-43/llm/driver_artifacts\n",
      "Number of trials: 1/1 (1 RUNNING)\n",
      "\n",
      "\n",
      "== Status ==\n",
      "Current time: 2024-12-20 21:56:12 (running for 00:06:29.05)\n",
      "Using FIFO scheduling algorithm.\n",
      "Logical resource usage: 7.0/10 CPUs, 0/0 GPUs\n",
      "Result logdir: /tmp/ray/session_2024-12-20_21-41-30_038316_36280/artifacts/2024-12-20_21-49-43/llm/driver_artifacts\n",
      "Number of trials: 1/1 (1 RUNNING)\n",
      "\n",
      "\n",
      "== Status ==\n",
      "Current time: 2024-12-20 21:56:18 (running for 00:06:34.12)\n",
      "Using FIFO scheduling algorithm.\n",
      "Logical resource usage: 7.0/10 CPUs, 0/0 GPUs\n",
      "Result logdir: /tmp/ray/session_2024-12-20_21-41-30_038316_36280/artifacts/2024-12-20_21-49-43/llm/driver_artifacts\n",
      "Number of trials: 1/1 (1 RUNNING)\n",
      "\n",
      "\n",
      "== Status ==\n",
      "Current time: 2024-12-20 21:56:23 (running for 00:06:39.13)\n",
      "Using FIFO scheduling algorithm.\n",
      "Logical resource usage: 7.0/10 CPUs, 0/0 GPUs\n",
      "Result logdir: /tmp/ray/session_2024-12-20_21-41-30_038316_36280/artifacts/2024-12-20_21-49-43/llm/driver_artifacts\n",
      "Number of trials: 1/1 (1 RUNNING)\n",
      "\n",
      "\n",
      "== Status ==\n",
      "Current time: 2024-12-20 21:56:28 (running for 00:06:44.18)\n",
      "Using FIFO scheduling algorithm.\n",
      "Logical resource usage: 7.0/10 CPUs, 0/0 GPUs\n",
      "Result logdir: /tmp/ray/session_2024-12-20_21-41-30_038316_36280/artifacts/2024-12-20_21-49-43/llm/driver_artifacts\n",
      "Number of trials: 1/1 (1 RUNNING)\n",
      "\n",
      "\n",
      "== Status ==\n",
      "Current time: 2024-12-20 21:56:33 (running for 00:06:49.21)\n",
      "Using FIFO scheduling algorithm.\n",
      "Logical resource usage: 7.0/10 CPUs, 0/0 GPUs\n",
      "Result logdir: /tmp/ray/session_2024-12-20_21-41-30_038316_36280/artifacts/2024-12-20_21-49-43/llm/driver_artifacts\n",
      "Number of trials: 1/1 (1 RUNNING)\n",
      "\n",
      "\n",
      "== Status ==\n",
      "Current time: 2024-12-20 21:56:38 (running for 00:06:54.26)\n",
      "Using FIFO scheduling algorithm.\n",
      "Logical resource usage: 7.0/10 CPUs, 0/0 GPUs\n",
      "Result logdir: /tmp/ray/session_2024-12-20_21-41-30_038316_36280/artifacts/2024-12-20_21-49-43/llm/driver_artifacts\n",
      "Number of trials: 1/1 (1 RUNNING)\n",
      "\n",
      "\n"
     ]
    },
    {
     "data": {
      "application/vnd.jupyter.widget-view+json": {
       "model_id": "ab0380d38232404a9b8d77c0e2bf847c",
       "version_major": 2,
       "version_minor": 0
      },
      "text/plain": [
       "(pid=36904) Running 0: 0.00 row [00:00, ? row/s]"
      ]
     },
     "metadata": {},
     "output_type": "display_data"
    },
    {
     "data": {
      "application/vnd.jupyter.widget-view+json": {
       "model_id": "d18e4116c8274fb3aa6446c9f30a28ef",
       "version_major": 2,
       "version_minor": 0
      },
      "text/plain": [
       "(pid=36904) - split(6, equal=True) 1: 0.00 row [00:00, ? row/s]"
      ]
     },
     "metadata": {},
     "output_type": "display_data"
    },
    {
     "name": "stdout",
     "output_type": "stream",
     "text": [
      "== Status ==\n",
      "Current time: 2024-12-20 21:56:43 (running for 00:06:59.35)\n",
      "Using FIFO scheduling algorithm.\n",
      "Logical resource usage: 7.0/10 CPUs, 0/0 GPUs\n",
      "Result logdir: /tmp/ray/session_2024-12-20_21-41-30_038316_36280/artifacts/2024-12-20_21-49-43/llm/driver_artifacts\n",
      "Number of trials: 1/1 (1 RUNNING)\n",
      "\n",
      "\n",
      "== Status ==\n",
      "Current time: 2024-12-20 21:56:48 (running for 00:07:04.35)\n",
      "Using FIFO scheduling algorithm.\n",
      "Logical resource usage: 7.0/10 CPUs, 0/0 GPUs\n",
      "Result logdir: /tmp/ray/session_2024-12-20_21-41-30_038316_36280/artifacts/2024-12-20_21-49-43/llm/driver_artifacts\n",
      "Number of trials: 1/1 (1 RUNNING)\n",
      "\n",
      "\n",
      "== Status ==\n",
      "Current time: 2024-12-20 21:56:53 (running for 00:07:09.41)\n",
      "Using FIFO scheduling algorithm.\n",
      "Logical resource usage: 7.0/10 CPUs, 0/0 GPUs\n",
      "Result logdir: /tmp/ray/session_2024-12-20_21-41-30_038316_36280/artifacts/2024-12-20_21-49-43/llm/driver_artifacts\n",
      "Number of trials: 1/1 (1 RUNNING)\n",
      "\n",
      "\n",
      "== Status ==\n",
      "Current time: 2024-12-20 21:56:58 (running for 00:07:14.74)\n",
      "Using FIFO scheduling algorithm.\n",
      "Logical resource usage: 7.0/10 CPUs, 0/0 GPUs\n",
      "Result logdir: /tmp/ray/session_2024-12-20_21-41-30_038316_36280/artifacts/2024-12-20_21-49-43/llm/driver_artifacts\n",
      "Number of trials: 1/1 (1 RUNNING)\n",
      "\n",
      "\n",
      "== Status ==\n",
      "Current time: 2024-12-20 21:57:03 (running for 00:07:19.59)\n",
      "Using FIFO scheduling algorithm.\n",
      "Logical resource usage: 7.0/10 CPUs, 0/0 GPUs\n",
      "Result logdir: /tmp/ray/session_2024-12-20_21-41-30_038316_36280/artifacts/2024-12-20_21-49-43/llm/driver_artifacts\n",
      "Number of trials: 1/1 (1 RUNNING)\n",
      "\n",
      "\n",
      "== Status ==\n",
      "Current time: 2024-12-20 21:57:08 (running for 00:07:24.65)\n",
      "Using FIFO scheduling algorithm.\n",
      "Logical resource usage: 7.0/10 CPUs, 0/0 GPUs\n",
      "Result logdir: /tmp/ray/session_2024-12-20_21-41-30_038316_36280/artifacts/2024-12-20_21-49-43/llm/driver_artifacts\n",
      "Number of trials: 1/1 (1 RUNNING)\n",
      "\n",
      "\n",
      "== Status ==\n",
      "Current time: 2024-12-20 21:57:13 (running for 00:07:29.67)\n",
      "Using FIFO scheduling algorithm.\n",
      "Logical resource usage: 7.0/10 CPUs, 0/0 GPUs\n",
      "Result logdir: /tmp/ray/session_2024-12-20_21-41-30_038316_36280/artifacts/2024-12-20_21-49-43/llm/driver_artifacts\n",
      "Number of trials: 1/1 (1 RUNNING)\n",
      "\n",
      "\n",
      "== Status ==\n",
      "Current time: 2024-12-20 21:57:18 (running for 00:07:34.71)\n",
      "Using FIFO scheduling algorithm.\n",
      "Logical resource usage: 7.0/10 CPUs, 0/0 GPUs\n",
      "Result logdir: /tmp/ray/session_2024-12-20_21-41-30_038316_36280/artifacts/2024-12-20_21-49-43/llm/driver_artifacts\n",
      "Number of trials: 1/1 (1 RUNNING)\n",
      "\n",
      "\n",
      "== Status ==\n",
      "Current time: 2024-12-20 21:57:23 (running for 00:07:39.76)\n",
      "Using FIFO scheduling algorithm.\n",
      "Logical resource usage: 7.0/10 CPUs, 0/0 GPUs\n",
      "Result logdir: /tmp/ray/session_2024-12-20_21-41-30_038316_36280/artifacts/2024-12-20_21-49-43/llm/driver_artifacts\n",
      "Number of trials: 1/1 (1 RUNNING)\n",
      "\n",
      "\n",
      "== Status ==\n",
      "Current time: 2024-12-20 21:57:28 (running for 00:07:44.80)\n",
      "Using FIFO scheduling algorithm.\n",
      "Logical resource usage: 7.0/10 CPUs, 0/0 GPUs\n",
      "Result logdir: /tmp/ray/session_2024-12-20_21-41-30_038316_36280/artifacts/2024-12-20_21-49-43/llm/driver_artifacts\n",
      "Number of trials: 1/1 (1 RUNNING)\n",
      "\n",
      "\n"
     ]
    },
    {
     "data": {
      "application/vnd.jupyter.widget-view+json": {
       "model_id": "851d6d42afd24582bb4dcfee4a6498f2",
       "version_major": 2,
       "version_minor": 0
      },
      "text/plain": [
       "(pid=36904) Running 0: 0.00 row [00:00, ? row/s]"
      ]
     },
     "metadata": {},
     "output_type": "display_data"
    },
    {
     "data": {
      "application/vnd.jupyter.widget-view+json": {
       "model_id": "afbb0aa1aa844f77bf1825a928671447",
       "version_major": 2,
       "version_minor": 0
      },
      "text/plain": [
       "(pid=36904) - split(6, equal=True) 1: 0.00 row [00:00, ? row/s]"
      ]
     },
     "metadata": {},
     "output_type": "display_data"
    },
    {
     "name": "stdout",
     "output_type": "stream",
     "text": [
      "== Status ==\n",
      "Current time: 2024-12-20 21:57:33 (running for 00:07:49.86)\n",
      "Using FIFO scheduling algorithm.\n",
      "Logical resource usage: 7.0/10 CPUs, 0/0 GPUs\n",
      "Result logdir: /tmp/ray/session_2024-12-20_21-41-30_038316_36280/artifacts/2024-12-20_21-49-43/llm/driver_artifacts\n",
      "Number of trials: 1/1 (1 RUNNING)\n",
      "\n",
      "\n",
      "== Status ==\n",
      "Current time: 2024-12-20 21:57:38 (running for 00:07:54.86)\n",
      "Using FIFO scheduling algorithm.\n",
      "Logical resource usage: 7.0/10 CPUs, 0/0 GPUs\n",
      "Result logdir: /tmp/ray/session_2024-12-20_21-41-30_038316_36280/artifacts/2024-12-20_21-49-43/llm/driver_artifacts\n",
      "Number of trials: 1/1 (1 RUNNING)\n",
      "\n",
      "\n",
      "== Status ==\n",
      "Current time: 2024-12-20 21:57:43 (running for 00:07:59.90)\n",
      "Using FIFO scheduling algorithm.\n",
      "Logical resource usage: 7.0/10 CPUs, 0/0 GPUs\n",
      "Result logdir: /tmp/ray/session_2024-12-20_21-41-30_038316_36280/artifacts/2024-12-20_21-49-43/llm/driver_artifacts\n",
      "Number of trials: 1/1 (1 RUNNING)\n",
      "\n",
      "\n",
      "== Status ==\n",
      "Current time: 2024-12-20 21:57:48 (running for 00:08:04.99)\n",
      "Using FIFO scheduling algorithm.\n",
      "Logical resource usage: 7.0/10 CPUs, 0/0 GPUs\n",
      "Result logdir: /tmp/ray/session_2024-12-20_21-41-30_038316_36280/artifacts/2024-12-20_21-49-43/llm/driver_artifacts\n",
      "Number of trials: 1/1 (1 RUNNING)\n",
      "\n",
      "\n",
      "== Status ==\n",
      "Current time: 2024-12-20 21:57:53 (running for 00:08:10.01)\n",
      "Using FIFO scheduling algorithm.\n",
      "Logical resource usage: 7.0/10 CPUs, 0/0 GPUs\n",
      "Result logdir: /tmp/ray/session_2024-12-20_21-41-30_038316_36280/artifacts/2024-12-20_21-49-43/llm/driver_artifacts\n",
      "Number of trials: 1/1 (1 RUNNING)\n",
      "\n",
      "\n",
      "== Status ==\n",
      "Current time: 2024-12-20 21:57:58 (running for 00:08:15.03)\n",
      "Using FIFO scheduling algorithm.\n",
      "Logical resource usage: 7.0/10 CPUs, 0/0 GPUs\n",
      "Result logdir: /tmp/ray/session_2024-12-20_21-41-30_038316_36280/artifacts/2024-12-20_21-49-43/llm/driver_artifacts\n",
      "Number of trials: 1/1 (1 RUNNING)\n",
      "\n",
      "\n",
      "== Status ==\n",
      "Current time: 2024-12-20 21:58:04 (running for 00:08:20.37)\n",
      "Using FIFO scheduling algorithm.\n",
      "Logical resource usage: 7.0/10 CPUs, 0/0 GPUs\n",
      "Result logdir: /tmp/ray/session_2024-12-20_21-41-30_038316_36280/artifacts/2024-12-20_21-49-43/llm/driver_artifacts\n",
      "Number of trials: 1/1 (1 RUNNING)\n",
      "\n",
      "\n",
      "== Status ==\n",
      "Current time: 2024-12-20 21:58:09 (running for 00:08:25.09)\n",
      "Using FIFO scheduling algorithm.\n",
      "Logical resource usage: 7.0/10 CPUs, 0/0 GPUs\n",
      "Result logdir: /tmp/ray/session_2024-12-20_21-41-30_038316_36280/artifacts/2024-12-20_21-49-43/llm/driver_artifacts\n",
      "Number of trials: 1/1 (1 RUNNING)\n",
      "\n",
      "\n",
      "== Status ==\n",
      "Current time: 2024-12-20 21:58:14 (running for 00:08:30.17)\n",
      "Using FIFO scheduling algorithm.\n",
      "Logical resource usage: 7.0/10 CPUs, 0/0 GPUs\n",
      "Result logdir: /tmp/ray/session_2024-12-20_21-41-30_038316_36280/artifacts/2024-12-20_21-49-43/llm/driver_artifacts\n",
      "Number of trials: 1/1 (1 RUNNING)\n",
      "\n",
      "\n",
      "== Status ==\n",
      "Current time: 2024-12-20 21:58:19 (running for 00:08:35.22)\n",
      "Using FIFO scheduling algorithm.\n",
      "Logical resource usage: 7.0/10 CPUs, 0/0 GPUs\n",
      "Result logdir: /tmp/ray/session_2024-12-20_21-41-30_038316_36280/artifacts/2024-12-20_21-49-43/llm/driver_artifacts\n",
      "Number of trials: 1/1 (1 RUNNING)\n",
      "\n",
      "\n"
     ]
    },
    {
     "name": "stderr",
     "output_type": "stream",
     "text": [
      "2024-12-20 21:58:22,088\tINFO tune.py:1009 -- Wrote the latest version of all result files and experiment state to '/Users/monkey/ray_results/e2e-machine-learning/llm' in 0.0043s.\n",
      "2024-12-20 21:58:22,095\tINFO tune.py:1041 -- Total run time: 518.19 seconds (518.17 seconds for the tuning loop).\n"
     ]
    },
    {
     "name": "stdout",
     "output_type": "stream",
     "text": [
      "== Status ==\n",
      "Current time: 2024-12-20 21:58:22 (running for 00:08:38.18)\n",
      "Using FIFO scheduling algorithm.\n",
      "Logical resource usage: 7.0/10 CPUs, 0/0 GPUs\n",
      "Result logdir: /tmp/ray/session_2024-12-20_21-41-30_038316_36280/artifacts/2024-12-20_21-49-43/llm/driver_artifacts\n",
      "Number of trials: 1/1 (1 TERMINATED)\n",
      "\n",
      "\n",
      "CPU times: user 2.87 s, sys: 1.56 s, total: 4.43 s\n",
      "Wall time: 8min 38s\n"
     ]
    }
   ],
   "source": [
    "%%time\n",
    "# Train\n",
    "results = trainer.fit()"
   ]
  },
  {
   "cell_type": "code",
   "execution_count": 68,
   "id": "b96479d917d147c2",
   "metadata": {
    "ExecuteTime": {
     "end_time": "2024-12-20T20:58:39.551107Z",
     "start_time": "2024-12-20T20:58:39.284893Z"
    }
   },
   "outputs": [
    {
     "data": {
      "text/html": [
       "<div>\n",
       "<style scoped>\n",
       "    .dataframe tbody tr th:only-of-type {\n",
       "        vertical-align: middle;\n",
       "    }\n",
       "\n",
       "    .dataframe tbody tr th {\n",
       "        vertical-align: top;\n",
       "    }\n",
       "\n",
       "    .dataframe thead th {\n",
       "        text-align: right;\n",
       "    }\n",
       "</style>\n",
       "<table border=\"1\" class=\"dataframe\">\n",
       "  <thead>\n",
       "    <tr style=\"text-align: right;\">\n",
       "      <th></th>\n",
       "      <th>epoch</th>\n",
       "      <th>lr</th>\n",
       "      <th>train_loss</th>\n",
       "      <th>val_loss</th>\n",
       "      <th>timestamp</th>\n",
       "      <th>checkpoint_dir_name</th>\n",
       "      <th>should_checkpoint</th>\n",
       "      <th>done</th>\n",
       "      <th>training_iteration</th>\n",
       "      <th>trial_id</th>\n",
       "      <th>...</th>\n",
       "      <th>node_ip</th>\n",
       "      <th>time_since_restore</th>\n",
       "      <th>iterations_since_restore</th>\n",
       "      <th>config/train_loop_config/dropout_p</th>\n",
       "      <th>config/train_loop_config/lr</th>\n",
       "      <th>config/train_loop_config/lr_factor</th>\n",
       "      <th>config/train_loop_config/lr_patience</th>\n",
       "      <th>config/train_loop_config/num_epochs</th>\n",
       "      <th>config/train_loop_config/batch_size</th>\n",
       "      <th>config/train_loop_config/num_classes</th>\n",
       "    </tr>\n",
       "  </thead>\n",
       "  <tbody>\n",
       "    <tr>\n",
       "      <th>0</th>\n",
       "      <td>0</td>\n",
       "      <td>0.0001</td>\n",
       "      <td>0.662468</td>\n",
       "      <td>0.514555</td>\n",
       "      <td>1734727849</td>\n",
       "      <td>checkpoint_000000</td>\n",
       "      <td>True</td>\n",
       "      <td>False</td>\n",
       "      <td>1</td>\n",
       "      <td>f0ecc_00000</td>\n",
       "      <td>...</td>\n",
       "      <td>127.0.0.1</td>\n",
       "      <td>63.152463</td>\n",
       "      <td>1</td>\n",
       "      <td>0.5</td>\n",
       "      <td>0.0001</td>\n",
       "      <td>0.8</td>\n",
       "      <td>3</td>\n",
       "      <td>10</td>\n",
       "      <td>256</td>\n",
       "      <td>4</td>\n",
       "    </tr>\n",
       "    <tr>\n",
       "      <th>1</th>\n",
       "      <td>1</td>\n",
       "      <td>0.0001</td>\n",
       "      <td>0.506313</td>\n",
       "      <td>0.503544</td>\n",
       "      <td>1734727901</td>\n",
       "      <td>checkpoint_000001</td>\n",
       "      <td>True</td>\n",
       "      <td>False</td>\n",
       "      <td>2</td>\n",
       "      <td>f0ecc_00000</td>\n",
       "      <td>...</td>\n",
       "      <td>127.0.0.1</td>\n",
       "      <td>115.581434</td>\n",
       "      <td>2</td>\n",
       "      <td>0.5</td>\n",
       "      <td>0.0001</td>\n",
       "      <td>0.8</td>\n",
       "      <td>3</td>\n",
       "      <td>10</td>\n",
       "      <td>256</td>\n",
       "      <td>4</td>\n",
       "    </tr>\n",
       "    <tr>\n",
       "      <th>2</th>\n",
       "      <td>2</td>\n",
       "      <td>0.0001</td>\n",
       "      <td>0.492255</td>\n",
       "      <td>0.493757</td>\n",
       "      <td>1734727950</td>\n",
       "      <td>checkpoint_000002</td>\n",
       "      <td>True</td>\n",
       "      <td>False</td>\n",
       "      <td>3</td>\n",
       "      <td>f0ecc_00000</td>\n",
       "      <td>...</td>\n",
       "      <td>127.0.0.1</td>\n",
       "      <td>165.280095</td>\n",
       "      <td>3</td>\n",
       "      <td>0.5</td>\n",
       "      <td>0.0001</td>\n",
       "      <td>0.8</td>\n",
       "      <td>3</td>\n",
       "      <td>10</td>\n",
       "      <td>256</td>\n",
       "      <td>4</td>\n",
       "    </tr>\n",
       "    <tr>\n",
       "      <th>3</th>\n",
       "      <td>3</td>\n",
       "      <td>0.0001</td>\n",
       "      <td>0.485078</td>\n",
       "      <td>0.430629</td>\n",
       "      <td>1734727999</td>\n",
       "      <td>checkpoint_000003</td>\n",
       "      <td>True</td>\n",
       "      <td>False</td>\n",
       "      <td>4</td>\n",
       "      <td>f0ecc_00000</td>\n",
       "      <td>...</td>\n",
       "      <td>127.0.0.1</td>\n",
       "      <td>214.256625</td>\n",
       "      <td>4</td>\n",
       "      <td>0.5</td>\n",
       "      <td>0.0001</td>\n",
       "      <td>0.8</td>\n",
       "      <td>3</td>\n",
       "      <td>10</td>\n",
       "      <td>256</td>\n",
       "      <td>4</td>\n",
       "    </tr>\n",
       "    <tr>\n",
       "      <th>4</th>\n",
       "      <td>4</td>\n",
       "      <td>0.0001</td>\n",
       "      <td>0.399827</td>\n",
       "      <td>0.350864</td>\n",
       "      <td>1734728049</td>\n",
       "      <td>checkpoint_000004</td>\n",
       "      <td>True</td>\n",
       "      <td>False</td>\n",
       "      <td>5</td>\n",
       "      <td>f0ecc_00000</td>\n",
       "      <td>...</td>\n",
       "      <td>127.0.0.1</td>\n",
       "      <td>263.803734</td>\n",
       "      <td>5</td>\n",
       "      <td>0.5</td>\n",
       "      <td>0.0001</td>\n",
       "      <td>0.8</td>\n",
       "      <td>3</td>\n",
       "      <td>10</td>\n",
       "      <td>256</td>\n",
       "      <td>4</td>\n",
       "    </tr>\n",
       "    <tr>\n",
       "      <th>5</th>\n",
       "      <td>5</td>\n",
       "      <td>0.0001</td>\n",
       "      <td>0.300407</td>\n",
       "      <td>0.281572</td>\n",
       "      <td>1734728099</td>\n",
       "      <td>checkpoint_000005</td>\n",
       "      <td>True</td>\n",
       "      <td>False</td>\n",
       "      <td>6</td>\n",
       "      <td>f0ecc_00000</td>\n",
       "      <td>...</td>\n",
       "      <td>127.0.0.1</td>\n",
       "      <td>313.592828</td>\n",
       "      <td>6</td>\n",
       "      <td>0.5</td>\n",
       "      <td>0.0001</td>\n",
       "      <td>0.8</td>\n",
       "      <td>3</td>\n",
       "      <td>10</td>\n",
       "      <td>256</td>\n",
       "      <td>4</td>\n",
       "    </tr>\n",
       "    <tr>\n",
       "      <th>6</th>\n",
       "      <td>6</td>\n",
       "      <td>0.0001</td>\n",
       "      <td>0.216052</td>\n",
       "      <td>0.255651</td>\n",
       "      <td>1734728154</td>\n",
       "      <td>checkpoint_000006</td>\n",
       "      <td>True</td>\n",
       "      <td>False</td>\n",
       "      <td>7</td>\n",
       "      <td>f0ecc_00000</td>\n",
       "      <td>...</td>\n",
       "      <td>127.0.0.1</td>\n",
       "      <td>367.883221</td>\n",
       "      <td>7</td>\n",
       "      <td>0.5</td>\n",
       "      <td>0.0001</td>\n",
       "      <td>0.8</td>\n",
       "      <td>3</td>\n",
       "      <td>10</td>\n",
       "      <td>256</td>\n",
       "      <td>4</td>\n",
       "    </tr>\n",
       "    <tr>\n",
       "      <th>7</th>\n",
       "      <td>7</td>\n",
       "      <td>0.0001</td>\n",
       "      <td>0.155883</td>\n",
       "      <td>0.217051</td>\n",
       "      <td>1734728201</td>\n",
       "      <td>checkpoint_000007</td>\n",
       "      <td>True</td>\n",
       "      <td>False</td>\n",
       "      <td>8</td>\n",
       "      <td>f0ecc_00000</td>\n",
       "      <td>...</td>\n",
       "      <td>127.0.0.1</td>\n",
       "      <td>415.268077</td>\n",
       "      <td>8</td>\n",
       "      <td>0.5</td>\n",
       "      <td>0.0001</td>\n",
       "      <td>0.8</td>\n",
       "      <td>3</td>\n",
       "      <td>10</td>\n",
       "      <td>256</td>\n",
       "      <td>4</td>\n",
       "    </tr>\n",
       "    <tr>\n",
       "      <th>8</th>\n",
       "      <td>8</td>\n",
       "      <td>0.0001</td>\n",
       "      <td>0.105431</td>\n",
       "      <td>0.228981</td>\n",
       "      <td>1734728251</td>\n",
       "      <td>checkpoint_000008</td>\n",
       "      <td>True</td>\n",
       "      <td>False</td>\n",
       "      <td>9</td>\n",
       "      <td>f0ecc_00000</td>\n",
       "      <td>...</td>\n",
       "      <td>127.0.0.1</td>\n",
       "      <td>465.238259</td>\n",
       "      <td>9</td>\n",
       "      <td>0.5</td>\n",
       "      <td>0.0001</td>\n",
       "      <td>0.8</td>\n",
       "      <td>3</td>\n",
       "      <td>10</td>\n",
       "      <td>256</td>\n",
       "      <td>4</td>\n",
       "    </tr>\n",
       "    <tr>\n",
       "      <th>9</th>\n",
       "      <td>9</td>\n",
       "      <td>0.0001</td>\n",
       "      <td>0.071209</td>\n",
       "      <td>0.196764</td>\n",
       "      <td>1734728299</td>\n",
       "      <td>checkpoint_000009</td>\n",
       "      <td>True</td>\n",
       "      <td>False</td>\n",
       "      <td>10</td>\n",
       "      <td>f0ecc_00000</td>\n",
       "      <td>...</td>\n",
       "      <td>127.0.0.1</td>\n",
       "      <td>513.279499</td>\n",
       "      <td>10</td>\n",
       "      <td>0.5</td>\n",
       "      <td>0.0001</td>\n",
       "      <td>0.8</td>\n",
       "      <td>3</td>\n",
       "      <td>10</td>\n",
       "      <td>256</td>\n",
       "      <td>4</td>\n",
       "    </tr>\n",
       "  </tbody>\n",
       "</table>\n",
       "<p>10 rows × 25 columns</p>\n",
       "</div>"
      ],
      "text/plain": [
       "   epoch      lr  train_loss  val_loss   timestamp checkpoint_dir_name  \\\n",
       "0      0  0.0001    0.662468  0.514555  1734727849   checkpoint_000000   \n",
       "1      1  0.0001    0.506313  0.503544  1734727901   checkpoint_000001   \n",
       "2      2  0.0001    0.492255  0.493757  1734727950   checkpoint_000002   \n",
       "3      3  0.0001    0.485078  0.430629  1734727999   checkpoint_000003   \n",
       "4      4  0.0001    0.399827  0.350864  1734728049   checkpoint_000004   \n",
       "5      5  0.0001    0.300407  0.281572  1734728099   checkpoint_000005   \n",
       "6      6  0.0001    0.216052  0.255651  1734728154   checkpoint_000006   \n",
       "7      7  0.0001    0.155883  0.217051  1734728201   checkpoint_000007   \n",
       "8      8  0.0001    0.105431  0.228981  1734728251   checkpoint_000008   \n",
       "9      9  0.0001    0.071209  0.196764  1734728299   checkpoint_000009   \n",
       "\n",
       "   should_checkpoint   done  training_iteration     trial_id  ...    node_ip  \\\n",
       "0               True  False                   1  f0ecc_00000  ...  127.0.0.1   \n",
       "1               True  False                   2  f0ecc_00000  ...  127.0.0.1   \n",
       "2               True  False                   3  f0ecc_00000  ...  127.0.0.1   \n",
       "3               True  False                   4  f0ecc_00000  ...  127.0.0.1   \n",
       "4               True  False                   5  f0ecc_00000  ...  127.0.0.1   \n",
       "5               True  False                   6  f0ecc_00000  ...  127.0.0.1   \n",
       "6               True  False                   7  f0ecc_00000  ...  127.0.0.1   \n",
       "7               True  False                   8  f0ecc_00000  ...  127.0.0.1   \n",
       "8               True  False                   9  f0ecc_00000  ...  127.0.0.1   \n",
       "9               True  False                  10  f0ecc_00000  ...  127.0.0.1   \n",
       "\n",
       "   time_since_restore  iterations_since_restore  \\\n",
       "0           63.152463                         1   \n",
       "1          115.581434                         2   \n",
       "2          165.280095                         3   \n",
       "3          214.256625                         4   \n",
       "4          263.803734                         5   \n",
       "5          313.592828                         6   \n",
       "6          367.883221                         7   \n",
       "7          415.268077                         8   \n",
       "8          465.238259                         9   \n",
       "9          513.279499                        10   \n",
       "\n",
       "   config/train_loop_config/dropout_p config/train_loop_config/lr  \\\n",
       "0                                 0.5                      0.0001   \n",
       "1                                 0.5                      0.0001   \n",
       "2                                 0.5                      0.0001   \n",
       "3                                 0.5                      0.0001   \n",
       "4                                 0.5                      0.0001   \n",
       "5                                 0.5                      0.0001   \n",
       "6                                 0.5                      0.0001   \n",
       "7                                 0.5                      0.0001   \n",
       "8                                 0.5                      0.0001   \n",
       "9                                 0.5                      0.0001   \n",
       "\n",
       "  config/train_loop_config/lr_factor  config/train_loop_config/lr_patience  \\\n",
       "0                                0.8                                     3   \n",
       "1                                0.8                                     3   \n",
       "2                                0.8                                     3   \n",
       "3                                0.8                                     3   \n",
       "4                                0.8                                     3   \n",
       "5                                0.8                                     3   \n",
       "6                                0.8                                     3   \n",
       "7                                0.8                                     3   \n",
       "8                                0.8                                     3   \n",
       "9                                0.8                                     3   \n",
       "\n",
       "   config/train_loop_config/num_epochs  config/train_loop_config/batch_size  \\\n",
       "0                                   10                                  256   \n",
       "1                                   10                                  256   \n",
       "2                                   10                                  256   \n",
       "3                                   10                                  256   \n",
       "4                                   10                                  256   \n",
       "5                                   10                                  256   \n",
       "6                                   10                                  256   \n",
       "7                                   10                                  256   \n",
       "8                                   10                                  256   \n",
       "9                                   10                                  256   \n",
       "\n",
       "   config/train_loop_config/num_classes  \n",
       "0                                     4  \n",
       "1                                     4  \n",
       "2                                     4  \n",
       "3                                     4  \n",
       "4                                     4  \n",
       "5                                     4  \n",
       "6                                     4  \n",
       "7                                     4  \n",
       "8                                     4  \n",
       "9                                     4  \n",
       "\n",
       "[10 rows x 25 columns]"
      ]
     },
     "execution_count": 68,
     "metadata": {},
     "output_type": "execute_result"
    }
   ],
   "source": [
    "# Metrics per epoch\n",
    "results.metrics_dataframe"
   ]
  },
  {
   "cell_type": "code",
   "execution_count": 69,
   "id": "fb4bfb7609e389e7",
   "metadata": {
    "ExecuteTime": {
     "end_time": "2024-12-20T20:58:58.711735Z",
     "start_time": "2024-12-20T20:58:58.669033Z"
    }
   },
   "outputs": [
    {
     "data": {
      "text/plain": [
       "[(Checkpoint(filesystem=local, path=/Users/monkey/ray_results/e2e-machine-learning/llm/TorchTrainer_f0ecc_00000_0_2024-12-20_21-49-43/checkpoint_000009),\n",
       "  {'epoch': 9,\n",
       "   'lr': 0.0001,\n",
       "   'train_loss': 0.07120860740542412,\n",
       "   'val_loss': 0.19676376692950726,\n",
       "   'timestamp': 1734728299,\n",
       "   'checkpoint_dir_name': 'checkpoint_000009',\n",
       "   'should_checkpoint': True,\n",
       "   'done': False,\n",
       "   'training_iteration': 10,\n",
       "   'trial_id': 'f0ecc_00000',\n",
       "   'date': '2024-12-20_21-58-20',\n",
       "   'time_this_iter_s': 48.041239976882935,\n",
       "   'time_total_s': 513.2794992923737,\n",
       "   'pid': 36893,\n",
       "   'hostname': 'Alexs-Mac-mini.local',\n",
       "   'node_ip': '127.0.0.1',\n",
       "   'config': {'train_loop_config': {'dropout_p': 0.5,\n",
       "     'lr': 0.0001,\n",
       "     'lr_factor': 0.8,\n",
       "     'lr_patience': 3,\n",
       "     'num_epochs': 10,\n",
       "     'batch_size': 256,\n",
       "     'num_classes': 4}},\n",
       "   'time_since_restore': 513.2794992923737,\n",
       "   'iterations_since_restore': 10})]"
      ]
     },
     "execution_count": 69,
     "metadata": {},
     "output_type": "execute_result"
    }
   ],
   "source": [
    "# Best checkpoints\n",
    "results.best_checkpoints"
   ]
  },
  {
   "cell_type": "markdown",
   "id": "630a49b460582bd1",
   "metadata": {},
   "source": [
    "## Observability"
   ]
  },
  {
   "cell_type": "markdown",
   "id": "24df232499eea474",
   "metadata": {},
   "source": [
    "While our model is training, we can inspect our Ray dashboard to observe how our compute resources are being utilized."
   ]
  },
  {
   "cell_type": "markdown",
   "id": "d7eea376ae041ae3",
   "metadata": {},
   "source": [
    "We can inspect our Ray dashboard by opening http://127.0.0.1:8265 on a browser window. Click on Cluster on the top menu bar and then we will be able to see a list of our nodes (head and worker) and their utilizations."
   ]
  },
  {
   "cell_type": "markdown",
   "id": "efd0027a20a27eb7",
   "metadata": {},
   "source": [
    "## Evaluation"
   ]
  },
  {
   "cell_type": "code",
   "execution_count": 70,
   "id": "59529e5879d0a31f",
   "metadata": {
    "ExecuteTime": {
     "end_time": "2024-12-20T21:01:20.092780Z",
     "start_time": "2024-12-20T21:01:20.056318Z"
    }
   },
   "outputs": [],
   "source": [
    "from sklearn.metrics import precision_recall_fscore_support"
   ]
  },
  {
   "cell_type": "code",
   "execution_count": 71,
   "id": "302713e663f31170",
   "metadata": {
    "ExecuteTime": {
     "end_time": "2024-12-20T21:01:27.086041Z",
     "start_time": "2024-12-20T21:01:27.050898Z"
    }
   },
   "outputs": [],
   "source": [
    "class TorchPredictor:\n",
    "    def __init__(self, preprocessor, model):\n",
    "        self.preprocessor = preprocessor\n",
    "        self.model = model\n",
    "        self.model.eval()\n",
    "\n",
    "    def __call__(self, batch):\n",
    "        results = self.model.predict(collate_fn(batch))\n",
    "        return {\"output\": results}\n",
    "\n",
    "    def predict_proba(self, batch):\n",
    "        results = self.model.predict_proba(collate_fn(batch))\n",
    "        return {\"output\": results}\n",
    "\n",
    "    def get_preprocessor(self):\n",
    "        return self.preprocessor\n",
    "\n",
    "    @classmethod\n",
    "    def from_checkpoint(cls, checkpoint):\n",
    "        metadata = checkpoint.get_metadata()\n",
    "        preprocessor = CustomPreprocessor(class_to_index=metadata[\"class_to_index\"])\n",
    "        model = FinetunedLLM.load(\n",
    "            Path(checkpoint.path, \"args.json\"), Path(checkpoint.path, \"model.pt\")\n",
    "        )\n",
    "        return cls(preprocessor=preprocessor, model=model)"
   ]
  },
  {
   "cell_type": "code",
   "execution_count": 72,
   "id": "ed632d6eb24e2003",
   "metadata": {
    "ExecuteTime": {
     "end_time": "2024-12-20T21:02:09.910032Z",
     "start_time": "2024-12-20T21:02:09.085045Z"
    }
   },
   "outputs": [],
   "source": [
    "# Artifacts\n",
    "best_checkpoint = results.best_checkpoints[0][0]\n",
    "predictor = TorchPredictor.from_checkpoint(best_checkpoint)\n",
    "preprocessor = predictor.get_preprocessor()"
   ]
  },
  {
   "cell_type": "code",
   "execution_count": 73,
   "id": "6e9a930068b40b14",
   "metadata": {
    "ExecuteTime": {
     "end_time": "2024-12-20T21:02:25.532686Z",
     "start_time": "2024-12-20T21:02:24.604400Z"
    }
   },
   "outputs": [
    {
     "name": "stderr",
     "output_type": "stream",
     "text": [
      "2024-12-20 22:02:24,653\tINFO streaming_executor.py:108 -- Starting execution of Dataset. Full logs are in /tmp/ray/session_2024-12-20_21-41-30_038316_36280/logs/ray-data\n",
      "2024-12-20 22:02:24,653\tINFO streaming_executor.py:109 -- Execution plan of Dataset: InputDataBuffer[Input] -> TaskPoolMapOperator[ReadCSV] -> TaskPoolMapOperator[MapBatches(preprocess)] -> LimitOperator[limit=1]\n"
     ]
    },
    {
     "data": {
      "application/vnd.jupyter.widget-view+json": {
       "model_id": "d0533e77fe134e9b8af84a4ec092b063",
       "version_major": 2,
       "version_minor": 0
      },
      "text/plain": [
       "Running 0: 0.00 row [00:00, ? row/s]"
      ]
     },
     "metadata": {},
     "output_type": "display_data"
    },
    {
     "data": {
      "application/vnd.jupyter.widget-view+json": {
       "model_id": "8e86908ad03d4f9a847a194b80a0471d",
       "version_major": 2,
       "version_minor": 0
      },
      "text/plain": [
       "- ReadCSV->SplitBlocks(20) 1: 0.00 row [00:00, ? row/s]"
      ]
     },
     "metadata": {},
     "output_type": "display_data"
    },
    {
     "data": {
      "application/vnd.jupyter.widget-view+json": {
       "model_id": "824cfe8c47654242a3174f9d4651f81f",
       "version_major": 2,
       "version_minor": 0
      },
      "text/plain": [
       "- MapBatches(preprocess) 2: 0.00 row [00:00, ? row/s]"
      ]
     },
     "metadata": {},
     "output_type": "display_data"
    },
    {
     "data": {
      "application/vnd.jupyter.widget-view+json": {
       "model_id": "57f6a6af8cf540cc829ede419f2d7381",
       "version_major": 2,
       "version_minor": 0
      },
      "text/plain": [
       "- limit=1 3: 0.00 row [00:00, ? row/s]"
      ]
     },
     "metadata": {},
     "output_type": "display_data"
    },
    {
     "data": {
      "text/plain": [
       "[{'ids': array([  102,  4905,  2069,  2470,  2848,  4905, 30132, 22081,   691,\n",
       "          4324,  7491,  5896,   341,  6136,   934, 30137,   103,     0,\n",
       "             0,     0,     0,     0,     0,     0,     0,     0,     0,\n",
       "             0,     0,     0,     0,     0,     0]),\n",
       "  'masks': array([1, 1, 1, 1, 1, 1, 1, 1, 1, 1, 1, 1, 1, 1, 1, 1, 1, 0, 0, 0, 0, 0,\n",
       "         0, 0, 0, 0, 0, 0, 0, 0, 0, 0, 0]),\n",
       "  'targets': 3}]"
      ]
     },
     "execution_count": 73,
     "metadata": {},
     "output_type": "execute_result"
    }
   ],
   "source": [
    "# Test (holdout) dataset\n",
    "HOLDOUT_LOC = \"../datasets/holdout.csv\"\n",
    "test_ds = ray.data.read_csv(HOLDOUT_LOC)\n",
    "preprocessed_ds = preprocessor.transform(test_ds)\n",
    "preprocessed_ds.take(1)"
   ]
  },
  {
   "cell_type": "code",
   "execution_count": 74,
   "id": "6c55723c9f466e4f",
   "metadata": {
    "ExecuteTime": {
     "end_time": "2024-12-20T21:03:46.603002Z",
     "start_time": "2024-12-20T21:03:44.926782Z"
    }
   },
   "outputs": [
    {
     "name": "stderr",
     "output_type": "stream",
     "text": [
      "2024-12-20 22:03:44,970\tINFO streaming_executor.py:108 -- Starting execution of Dataset. Full logs are in /tmp/ray/session_2024-12-20_21-41-30_038316_36280/logs/ray-data\n",
      "2024-12-20 22:03:44,971\tINFO streaming_executor.py:109 -- Execution plan of Dataset: InputDataBuffer[Input] -> TaskPoolMapOperator[ReadCSV] -> TaskPoolMapOperator[MapBatches(preprocess)->Project]\n"
     ]
    },
    {
     "data": {
      "application/vnd.jupyter.widget-view+json": {
       "model_id": "3aa28b83709f48f28dcf431af2579005",
       "version_major": 2,
       "version_minor": 0
      },
      "text/plain": [
       "Running 0: 0.00 row [00:00, ? row/s]"
      ]
     },
     "metadata": {},
     "output_type": "display_data"
    },
    {
     "data": {
      "application/vnd.jupyter.widget-view+json": {
       "model_id": "820162ccdb0b4a719f2414a8f8b4fec7",
       "version_major": 2,
       "version_minor": 0
      },
      "text/plain": [
       "- ReadCSV->SplitBlocks(20) 1: 0.00 row [00:00, ? row/s]"
      ]
     },
     "metadata": {},
     "output_type": "display_data"
    },
    {
     "data": {
      "application/vnd.jupyter.widget-view+json": {
       "model_id": "66ff47a2fc29492dbcb641726cf1a294",
       "version_major": 2,
       "version_minor": 0
      },
      "text/plain": [
       "- MapBatches(preprocess)->Project 2: 0.00 row [00:00, ? row/s]"
      ]
     },
     "metadata": {},
     "output_type": "display_data"
    },
    {
     "name": "stdout",
     "output_type": "stream",
     "text": [
      "[3 3 3 0 2 0 0 0 0 2 0 0 2 3 0 0 2 2 3 2 3 0 3 2 0 2 2 1 1 2 2 2 2 2 2 0 0\n",
      " 0 0 0 1 1 2 0 0 3 1 2 0 2 2 3 3 0 2 3 2 3 3 3 3 0 0 0 0 2 2 0 2 1 0 2 3 0\n",
      " 0 2 2 2 2 2 0 0 2 0 1 0 0 0 0 3 0 0 2 0 2 2 3 2 0 2 0 2 0 3 0 0 0 0 0 2 0\n",
      " 0 2 2 2 2 3 0 2 0 2 0 2 3 3 3 2 0 2 2 2 2 0 2 2 2 0 1 2 2 2 2 2 1 2 0 3 0\n",
      " 2 2 1 1 2 0 0 0 0 0 0 2 2 2 0 2 1 1 2 0 0 1 2 3 2 2 2 0 0 2 0 2 0 3 0 2 2\n",
      " 0 1 2 1 2 2]\n"
     ]
    }
   ],
   "source": [
    "# y_true\n",
    "values = preprocessed_ds.select_columns(cols=[\"targets\"]).take_all()\n",
    "y_true = np.stack([item[\"targets\"] for item in values])\n",
    "print(y_true)"
   ]
  },
  {
   "cell_type": "code",
   "execution_count": 76,
   "id": "29167de558e4199e",
   "metadata": {
    "ExecuteTime": {
     "end_time": "2024-12-20T21:04:25.705875Z",
     "start_time": "2024-12-20T21:04:18.576056Z"
    }
   },
   "outputs": [
    {
     "name": "stderr",
     "output_type": "stream",
     "text": [
      "2024-12-20 22:04:18,612\tINFO streaming_executor.py:108 -- Starting execution of Dataset. Full logs are in /tmp/ray/session_2024-12-20_21-41-30_038316_36280/logs/ray-data\n",
      "2024-12-20 22:04:18,612\tINFO streaming_executor.py:109 -- Execution plan of Dataset: InputDataBuffer[Input] -> TaskPoolMapOperator[ReadCSV] -> TaskPoolMapOperator[MapBatches(preprocess)->MapBatches(TorchPredictor)]\n"
     ]
    },
    {
     "data": {
      "application/vnd.jupyter.widget-view+json": {
       "model_id": "62ea7c884bd94f13bed46dc7a8c7cea2",
       "version_major": 2,
       "version_minor": 0
      },
      "text/plain": [
       "Running 0: 0.00 row [00:00, ? row/s]"
      ]
     },
     "metadata": {},
     "output_type": "display_data"
    },
    {
     "data": {
      "application/vnd.jupyter.widget-view+json": {
       "model_id": "f04e299cd7f54724aee53f6efdbe2d33",
       "version_major": 2,
       "version_minor": 0
      },
      "text/plain": [
       "- ReadCSV->SplitBlocks(20) 1: 0.00 row [00:00, ? row/s]"
      ]
     },
     "metadata": {},
     "output_type": "display_data"
    },
    {
     "data": {
      "application/vnd.jupyter.widget-view+json": {
       "model_id": "23fbde519fdb4133b13fc6ff81e39f34",
       "version_major": 2,
       "version_minor": 0
      },
      "text/plain": [
       "- MapBatches(preprocess)->MapBatches(TorchPredictor) 2: 0.00 row [00:00, ? row/s]"
      ]
     },
     "metadata": {},
     "output_type": "display_data"
    }
   ],
   "source": [
    "# y_pred\n",
    "predictions = preprocessed_ds.map_batches(predictor).take_all()\n",
    "y_pred = np.array([d[\"output\"] for d in predictions])"
   ]
  },
  {
   "cell_type": "code",
   "execution_count": 77,
   "id": "181fdffcd3167a2d",
   "metadata": {
    "ExecuteTime": {
     "end_time": "2024-12-20T21:04:46.903034Z",
     "start_time": "2024-12-20T21:04:46.834169Z"
    }
   },
   "outputs": [
    {
     "data": {
      "text/plain": [
       "{'precision': 0.8936424578344513,\n",
       " 'recall': 0.8900523560209425,\n",
       " 'f1': 0.8889035819278764}"
      ]
     },
     "execution_count": 77,
     "metadata": {},
     "output_type": "execute_result"
    }
   ],
   "source": [
    "# Evaluate\n",
    "metrics = precision_recall_fscore_support(y_true, y_pred, average=\"weighted\")\n",
    "{\"precision\": metrics[0], \"recall\": metrics[1], \"f1\": metrics[2]}"
   ]
  },
  {
   "cell_type": "code",
   "execution_count": 78,
   "id": "bcd7705db2a07d34",
   "metadata": {
    "ExecuteTime": {
     "end_time": "2024-12-20T21:05:08.441015Z",
     "start_time": "2024-12-20T21:05:08.405348Z"
    }
   },
   "outputs": [],
   "source": [
    "def evaluate(ds, predictor):\n",
    "    # y_true\n",
    "    preprocessor = predictor.get_preprocessor()\n",
    "    preprocessed_ds = preprocessor.transform(ds)\n",
    "    values = preprocessed_ds.select_columns(cols=[\"targets\"]).take_all()\n",
    "    y_true = np.stack([item[\"targets\"] for item in values])\n",
    "\n",
    "    # y_pred\n",
    "    predictions = preprocessed_ds.map_batches(predictor).take_all()\n",
    "    y_pred = np.array([d[\"output\"] for d in predictions])\n",
    "\n",
    "    # Evaluate\n",
    "    metrics = precision_recall_fscore_support(y_true, y_pred, average=\"weighted\")\n",
    "    performance = {\"precision\": metrics[0], \"recall\": metrics[1], \"f1\": metrics[2]}\n",
    "    return performance"
   ]
  },
  {
   "cell_type": "code",
   "execution_count": 79,
   "id": "eace0262884d87d9",
   "metadata": {
    "ExecuteTime": {
     "end_time": "2024-12-20T21:05:20.318836Z",
     "start_time": "2024-12-20T21:05:14.069289Z"
    }
   },
   "outputs": [
    {
     "name": "stderr",
     "output_type": "stream",
     "text": [
      "2024-12-20 22:05:14,106\tINFO streaming_executor.py:108 -- Starting execution of Dataset. Full logs are in /tmp/ray/session_2024-12-20_21-41-30_038316_36280/logs/ray-data\n",
      "2024-12-20 22:05:14,106\tINFO streaming_executor.py:109 -- Execution plan of Dataset: InputDataBuffer[Input] -> TaskPoolMapOperator[ReadCSV] -> TaskPoolMapOperator[MapBatches(preprocess)->Project]\n"
     ]
    },
    {
     "data": {
      "application/vnd.jupyter.widget-view+json": {
       "model_id": "f6f65b69505f4b80bb57bead5388b6d8",
       "version_major": 2,
       "version_minor": 0
      },
      "text/plain": [
       "Running 0: 0.00 row [00:00, ? row/s]"
      ]
     },
     "metadata": {},
     "output_type": "display_data"
    },
    {
     "data": {
      "application/vnd.jupyter.widget-view+json": {
       "model_id": "9de79aae4f0d412b93411e4a9c0bcfa3",
       "version_major": 2,
       "version_minor": 0
      },
      "text/plain": [
       "- ReadCSV->SplitBlocks(20) 1: 0.00 row [00:00, ? row/s]"
      ]
     },
     "metadata": {},
     "output_type": "display_data"
    },
    {
     "data": {
      "application/vnd.jupyter.widget-view+json": {
       "model_id": "ce47eb99994640a78e3bf2fe67927dae",
       "version_major": 2,
       "version_minor": 0
      },
      "text/plain": [
       "- MapBatches(preprocess)->Project 2: 0.00 row [00:00, ? row/s]"
      ]
     },
     "metadata": {},
     "output_type": "display_data"
    },
    {
     "name": "stderr",
     "output_type": "stream",
     "text": [
      "2024-12-20 22:05:15,343\tINFO streaming_executor.py:108 -- Starting execution of Dataset. Full logs are in /tmp/ray/session_2024-12-20_21-41-30_038316_36280/logs/ray-data\n",
      "2024-12-20 22:05:15,344\tINFO streaming_executor.py:109 -- Execution plan of Dataset: InputDataBuffer[Input] -> TaskPoolMapOperator[ReadCSV] -> TaskPoolMapOperator[MapBatches(preprocess)->MapBatches(TorchPredictor)]\n"
     ]
    },
    {
     "data": {
      "application/vnd.jupyter.widget-view+json": {
       "model_id": "cbf585223d2349ff99a434d916606d15",
       "version_major": 2,
       "version_minor": 0
      },
      "text/plain": [
       "Running 0: 0.00 row [00:00, ? row/s]"
      ]
     },
     "metadata": {},
     "output_type": "display_data"
    },
    {
     "data": {
      "application/vnd.jupyter.widget-view+json": {
       "model_id": "5ee008bb839b486d833bd28af215e3e2",
       "version_major": 2,
       "version_minor": 0
      },
      "text/plain": [
       "- ReadCSV->SplitBlocks(20) 1: 0.00 row [00:00, ? row/s]"
      ]
     },
     "metadata": {},
     "output_type": "display_data"
    },
    {
     "data": {
      "application/vnd.jupyter.widget-view+json": {
       "model_id": "c2776e1f5fa7410b8f0f46c4d96c5ed7",
       "version_major": 2,
       "version_minor": 0
      },
      "text/plain": [
       "- MapBatches(preprocess)->MapBatches(TorchPredictor) 2: 0.00 row [00:00, ? row/s]"
      ]
     },
     "metadata": {},
     "output_type": "display_data"
    },
    {
     "name": "stdout",
     "output_type": "stream",
     "text": [
      "{\n",
      "  \"precision\": 0.8936424578344513,\n",
      "  \"recall\": 0.8900523560209425,\n",
      "  \"f1\": 0.8889035819278764\n",
      "}\n"
     ]
    }
   ],
   "source": [
    "# Evaluate on test split\n",
    "performance = evaluate(ds=test_ds, predictor=predictor)\n",
    "print(json.dumps(performance, indent=2))"
   ]
  },
  {
   "cell_type": "markdown",
   "id": "bd3a47256acdcac4",
   "metadata": {},
   "source": [
    "## Inference"
   ]
  },
  {
   "cell_type": "code",
   "execution_count": 80,
   "id": "b68f6ce59efd8c6e",
   "metadata": {
    "ExecuteTime": {
     "end_time": "2024-12-20T21:07:13.404576Z",
     "start_time": "2024-12-20T21:07:13.341665Z"
    }
   },
   "outputs": [],
   "source": [
    "import pandas as pd"
   ]
  },
  {
   "cell_type": "code",
   "execution_count": 81,
   "id": "c4f7bfb1dec90679",
   "metadata": {
    "ExecuteTime": {
     "end_time": "2024-12-20T21:07:19.058052Z",
     "start_time": "2024-12-20T21:07:19.022462Z"
    }
   },
   "outputs": [],
   "source": [
    "def format_prob(prob, index_to_class):\n",
    "    d = {}\n",
    "    for i, item in enumerate(prob):\n",
    "        d[index_to_class[i]] = item\n",
    "    return d"
   ]
  },
  {
   "cell_type": "code",
   "execution_count": 82,
   "id": "54620f8ce9800c6a",
   "metadata": {
    "ExecuteTime": {
     "end_time": "2024-12-20T21:07:24.944047Z",
     "start_time": "2024-12-20T21:07:24.909101Z"
    }
   },
   "outputs": [],
   "source": [
    "def predict_proba(ds, predictor):\n",
    "    preprocessor = predictor.get_preprocessor()\n",
    "    preprocessed_ds = preprocessor.transform(ds)\n",
    "    outputs = preprocessed_ds.map_batches(predictor.predict_proba)\n",
    "    y_prob = np.array([d[\"output\"] for d in outputs.take_all()])\n",
    "    results = []\n",
    "    for i, prob in enumerate(y_prob):\n",
    "        tag = preprocessor.index_to_class[prob.argmax()]\n",
    "        results.append(\n",
    "            {\n",
    "                \"prediction\": tag,\n",
    "                \"probabilities\": format_prob(prob, preprocessor.index_to_class),\n",
    "            }\n",
    "        )\n",
    "    return results"
   ]
  },
  {
   "cell_type": "code",
   "execution_count": 83,
   "id": "e0e856bf2e3a2821",
   "metadata": {
    "ExecuteTime": {
     "end_time": "2024-12-20T21:07:31.631562Z",
     "start_time": "2024-12-20T21:07:30.620973Z"
    }
   },
   "outputs": [
    {
     "name": "stderr",
     "output_type": "stream",
     "text": [
      "2024-12-20 22:07:30,668\tINFO streaming_executor.py:108 -- Starting execution of Dataset. Full logs are in /tmp/ray/session_2024-12-20_21-41-30_038316_36280/logs/ray-data\n",
      "2024-12-20 22:07:30,668\tINFO streaming_executor.py:109 -- Execution plan of Dataset: InputDataBuffer[Input] -> TaskPoolMapOperator[MapBatches(preprocess)->MapBatches(TorchPredictor.predict_proba)]\n"
     ]
    },
    {
     "data": {
      "application/vnd.jupyter.widget-view+json": {
       "model_id": "ef5ab44e051347c0888f5f8be01b7178",
       "version_major": 2,
       "version_minor": 0
      },
      "text/plain": [
       "Running 0: 0.00 row [00:00, ? row/s]"
      ]
     },
     "metadata": {},
     "output_type": "display_data"
    },
    {
     "data": {
      "application/vnd.jupyter.widget-view+json": {
       "model_id": "a70fcd764d304b6b91076f9a1775bd39",
       "version_major": 2,
       "version_minor": 0
      },
      "text/plain": [
       "- MapBatches(preprocess)->MapBatches(TorchPredictor.predict_proba) 1: 0.00 row [00:00, ? row/s]"
      ]
     },
     "metadata": {},
     "output_type": "display_data"
    },
    {
     "data": {
      "text/plain": [
       "[{'prediction': 'natural-language-processing',\n",
       "  'probabilities': {'computer-vision': 0.000511551,\n",
       "   'mlops': 0.0007686566,\n",
       "   'natural-language-processing': 0.997724,\n",
       "   'other': 0.0009957899}}]"
      ]
     },
     "execution_count": 83,
     "metadata": {},
     "output_type": "execute_result"
    }
   ],
   "source": [
    "# Predict on sample\n",
    "title = \"Transfer learning with transformers\"\n",
    "description = \"Using transformers for transfer learning on text classification tasks.\"\n",
    "sample_ds = ray.data.from_items(\n",
    "    [{\"title\": title, \"description\": description, \"tag\": \"other\"}]\n",
    ")\n",
    "predict_proba(ds=sample_ds, predictor=predictor)"
   ]
  },
  {
   "cell_type": "markdown",
   "id": "b35f7915d48d80d",
   "metadata": {},
   "source": [
    "## Optimization"
   ]
  },
  {
   "cell_type": "markdown",
   "id": "c5b786e50c75cd98",
   "metadata": {},
   "source": [
    "Distributed training strategies are great for when our data or models are too large for training but there are additional strategies to make the models itself smaller for serving. The following model compression techniques are commonly used to reduce the size of the model:\n",
    "\n",
    "* [Pruning](https://pytorch.org/tutorials/intermediate/pruning_tutorial.html): remove weights (unstructured) or entire channels (structured) to reduce the size of the network. The objective is to preserve the model’s performance while increasing its sparsity.\n",
    "* [Quantization](https://pytorch.org/docs/stable/quantization.html): reduce the memory footprint of the weights by reducing their precision (ex. 32 bit to 8 bit). We may loose some precision but it shouldn’t affect performance too much.\n",
    "* [Distillation](https://pytorch.org/tutorials/beginner/knowledge_distillation_tutorial.html): training smaller networks to “mimic” larger networks by having it reproduce the larger network’s layers’ outputs."
   ]
  },
  {
   "cell_type": "markdown",
   "id": "dbe55f29381491df",
   "metadata": {},
   "source": [
    "## Experiment tracking"
   ]
  },
  {
   "cell_type": "markdown",
   "id": "36b723334f5275c2",
   "metadata": {},
   "source": [
    "So far, we've been training our models but we don't have a way to more deeply track and compare them. We'll achieve this but defining a proper process for experiment tracking which we'll use for all future experiments (including hyperparameter optimization). Experiment tracking is the processing of managing all the different experiments and their components, such as parameters, metrics, models and other artifacts and it enables us to:\n",
    "\n",
    "Organize all the necessary components of a specific experiment. It's important to have everything in one place and know where it is so you can use them later.\n",
    "Reproduce past results (easily) using saved experiments.\n",
    "Log iterative improvements across time, data, ideas, teams, etc.\n",
    "There are many options for experiment tracking but we're going to use MLflow (100% free and open-source) because it has all the functionality we'll need (and growing integration support). There are also several popular options such as a Comet ML (Used by Google AI, HuggingFace, etc.) and Weights and Biases (Used by Open AI, Toyota Research, etc.). These are fantastic options if you want a fully managed experiment tracking solution."
   ]
  },
  {
   "metadata": {},
   "cell_type": "markdown",
   "source": "### Setup",
   "id": "7fecd356e9d93bcf"
  },
  {
   "cell_type": "code",
   "execution_count": 84,
   "id": "12f1d5b6b49c2476",
   "metadata": {
    "ExecuteTime": {
     "end_time": "2024-12-20T21:37:04.039189Z",
     "start_time": "2024-12-20T21:37:03.870052Z"
    }
   },
   "outputs": [],
   "source": [
    "import time\n",
    "from pathlib import Path\n",
    "\n",
    "import mlflow\n",
    "from ray.tune.logger.mlflow import MLflowLoggerCallback"
   ]
  },
  {
   "cell_type": "code",
   "id": "9d844903ee16495a",
   "metadata": {
    "ExecuteTime": {
     "end_time": "2024-12-20T21:54:55.674836Z",
     "start_time": "2024-12-20T21:54:55.635271Z"
    }
   },
   "source": [
    "# Config MLflow\n",
    "MODEL_REGISTRY = Path(f\"{EFS_DIR}/mlflow\")\n",
    "Path(MODEL_REGISTRY).mkdir(parents=True, exist_ok=True)\n",
    "MLFLOW_TRACKING_URI = \"file://\" + str(MODEL_REGISTRY.absolute())\n",
    "mlflow.set_tracking_uri(MLFLOW_TRACKING_URI)\n",
    "print(mlflow.get_tracking_uri())"
   ],
   "outputs": [
    {
     "name": "stdout",
     "output_type": "stream",
     "text": [
      "file:///Users/monkey/ray_results/e2e-machine-learning/mlflow\n"
     ]
    }
   ],
   "execution_count": 103
  },
  {
   "metadata": {},
   "cell_type": "markdown",
   "source": "### Integration",
   "id": "bbb24a775f387a3d"
  },
  {
   "cell_type": "code",
   "id": "8a8906c47b5ad3af",
   "metadata": {
    "ExecuteTime": {
     "end_time": "2024-12-20T21:54:57.621017Z",
     "start_time": "2024-12-20T21:54:57.580250Z"
    }
   },
   "source": [
    "# MLflow callback\n",
    "experiment_name = f\"llm-{int(time.time())}\"\n",
    "mlflow_callback = MLflowLoggerCallback(\n",
    "    tracking_uri=MLFLOW_TRACKING_URI,\n",
    "    experiment_name=experiment_name,\n",
    "    save_artifact=True,\n",
    ")"
   ],
   "outputs": [],
   "execution_count": 104
  },
  {
   "cell_type": "code",
   "id": "254d3253aa12c189",
   "metadata": {
    "ExecuteTime": {
     "end_time": "2024-12-20T21:54:59.983483Z",
     "start_time": "2024-12-20T21:54:59.940641Z"
    }
   },
   "source": [
    "# Run configuration with MLflow callback\n",
    "run_config = RunConfig(\n",
    "    callbacks=[mlflow_callback],\n",
    "    checkpoint_config=checkpoint_config,\n",
    "    storage_path=EFS_DIR,\n",
    ")"
   ],
   "outputs": [],
   "execution_count": 105
  },
  {
   "metadata": {},
   "cell_type": "markdown",
   "source": "### Training",
   "id": "f00669d57ccc4330"
  },
  {
   "metadata": {
    "ExecuteTime": {
     "end_time": "2024-12-20T21:55:02.028995Z",
     "start_time": "2024-12-20T21:55:01.966166Z"
    }
   },
   "cell_type": "code",
   "source": [
    "# Dataset\n",
    "ds = load_data()\n",
    "train_ds, val_ds = stratify_split(ds, stratify=\"tag\", test_size=test_size)"
   ],
   "id": "fd9323a16cf31194",
   "outputs": [],
   "execution_count": 106
  },
  {
   "metadata": {
    "ExecuteTime": {
     "end_time": "2024-12-20T21:55:10.900340Z",
     "start_time": "2024-12-20T21:55:04.174060Z"
    }
   },
   "cell_type": "code",
   "source": [
    "# Preprocess\n",
    "preprocessor = CustomPreprocessor()\n",
    "preprocessor = preprocessor.fit(train_ds)\n",
    "train_ds = preprocessor.transform(train_ds)\n",
    "val_ds = preprocessor.transform(val_ds)\n",
    "train_ds = train_ds.materialize()\n",
    "val_ds = val_ds.materialize()"
   ],
   "id": "5359676a99d9cc3f",
   "outputs": [
    {
     "name": "stderr",
     "output_type": "stream",
     "text": [
      "2024-12-20 22:55:04,218\tINFO streaming_executor.py:108 -- Starting execution of Dataset. Full logs are in /tmp/ray/session_2024-12-20_21-41-30_038316_36280/logs/ray-data\n",
      "2024-12-20 22:55:04,219\tINFO streaming_executor.py:109 -- Execution plan of Dataset: InputDataBuffer[Input] -> TaskPoolMapOperator[ReadCSV] -> AllToAllOperator[RandomShuffle] -> AllToAllOperator[Sort] -> AllToAllOperator[MapBatches(_add_split)->MapBatches(_filter_split)->RandomShuffle] -> TaskPoolMapOperator[Project] -> AllToAllOperator[Aggregate]\n"
     ]
    },
    {
     "data": {
      "text/plain": [
       "Running 0: 0.00 row [00:00, ? row/s]"
      ],
      "application/vnd.jupyter.widget-view+json": {
       "version_major": 2,
       "version_minor": 0,
       "model_id": "fbb4fd1e75234f0991317fba022ce649"
      }
     },
     "metadata": {},
     "output_type": "display_data"
    },
    {
     "data": {
      "text/plain": [
       "- ReadCSV->SplitBlocks(20) 1: 0.00 row [00:00, ? row/s]"
      ],
      "application/vnd.jupyter.widget-view+json": {
       "version_major": 2,
       "version_minor": 0,
       "model_id": "65e4ef82b539437eb00c2e2a2ccf0c91"
      }
     },
     "metadata": {},
     "output_type": "display_data"
    },
    {
     "data": {
      "text/plain": [
       "- RandomShuffle 2: 0.00 row [00:00, ? row/s]"
      ],
      "application/vnd.jupyter.widget-view+json": {
       "version_major": 2,
       "version_minor": 0,
       "model_id": "690173c088834b4b9254f9d0620196c4"
      }
     },
     "metadata": {},
     "output_type": "display_data"
    },
    {
     "data": {
      "text/plain": [
       "Shuffle Map 3:   0%|          | 0.00/1.00 [00:00<?, ? row/s]"
      ],
      "application/vnd.jupyter.widget-view+json": {
       "version_major": 2,
       "version_minor": 0,
       "model_id": "b89132ad48b4438dbda820dcaae6a659"
      }
     },
     "metadata": {},
     "output_type": "display_data"
    },
    {
     "data": {
      "text/plain": [
       "Shuffle Reduce 4:   0%|          | 0.00/1.00 [00:00<?, ? row/s]"
      ],
      "application/vnd.jupyter.widget-view+json": {
       "version_major": 2,
       "version_minor": 0,
       "model_id": "2b9792c4a3db4ad0b51b1cba594a3cc6"
      }
     },
     "metadata": {},
     "output_type": "display_data"
    },
    {
     "data": {
      "text/plain": [
       "- Sort 5: 0.00 row [00:00, ? row/s]"
      ],
      "application/vnd.jupyter.widget-view+json": {
       "version_major": 2,
       "version_minor": 0,
       "model_id": "11630fa743ac4c20979a5ec5a3f59576"
      }
     },
     "metadata": {},
     "output_type": "display_data"
    },
    {
     "data": {
      "text/plain": [
       "Sort Sample 6:   0%|          | 0.00/1.00 [00:00<?, ? row/s]"
      ],
      "application/vnd.jupyter.widget-view+json": {
       "version_major": 2,
       "version_minor": 0,
       "model_id": "4de087a2de734160890530861f709eba"
      }
     },
     "metadata": {},
     "output_type": "display_data"
    },
    {
     "data": {
      "text/plain": [
       "Shuffle Map 7:   0%|          | 0.00/1.00 [00:00<?, ? row/s]"
      ],
      "application/vnd.jupyter.widget-view+json": {
       "version_major": 2,
       "version_minor": 0,
       "model_id": "8a88f41e8e144c56b359348dac842b26"
      }
     },
     "metadata": {},
     "output_type": "display_data"
    },
    {
     "data": {
      "text/plain": [
       "Shuffle Reduce 8:   0%|          | 0.00/1.00 [00:00<?, ? row/s]"
      ],
      "application/vnd.jupyter.widget-view+json": {
       "version_major": 2,
       "version_minor": 0,
       "model_id": "89620377e5694f8c80e26b52d9eb2bc4"
      }
     },
     "metadata": {},
     "output_type": "display_data"
    },
    {
     "data": {
      "text/plain": [
       "- MapBatches(_add_split)->MapBatches(_filter_split)->RandomShuffle 9: 0.00 row [00:00, ? row/s]"
      ],
      "application/vnd.jupyter.widget-view+json": {
       "version_major": 2,
       "version_minor": 0,
       "model_id": "5c14dfcf44ce4c9aaff13698ea47e796"
      }
     },
     "metadata": {},
     "output_type": "display_data"
    },
    {
     "data": {
      "text/plain": [
       "Shuffle Map 10:   0%|          | 0.00/1.00 [00:00<?, ? row/s]"
      ],
      "application/vnd.jupyter.widget-view+json": {
       "version_major": 2,
       "version_minor": 0,
       "model_id": "b3130fb40c084a1b9998b638bc4ac0b1"
      }
     },
     "metadata": {},
     "output_type": "display_data"
    },
    {
     "data": {
      "text/plain": [
       "Shuffle Reduce 11:   0%|          | 0.00/1.00 [00:00<?, ? row/s]"
      ],
      "application/vnd.jupyter.widget-view+json": {
       "version_major": 2,
       "version_minor": 0,
       "model_id": "10ec25ce1eb74785832e73ae81d61a8a"
      }
     },
     "metadata": {},
     "output_type": "display_data"
    },
    {
     "data": {
      "text/plain": [
       "- Project 12: 0.00 row [00:00, ? row/s]"
      ],
      "application/vnd.jupyter.widget-view+json": {
       "version_major": 2,
       "version_minor": 0,
       "model_id": "03113b4a9a52452ebaaf66de7552d3e3"
      }
     },
     "metadata": {},
     "output_type": "display_data"
    },
    {
     "data": {
      "text/plain": [
       "- Aggregate 13: 0.00 row [00:00, ? row/s]"
      ],
      "application/vnd.jupyter.widget-view+json": {
       "version_major": 2,
       "version_minor": 0,
       "model_id": "b11cb19082914b469bd05f9a1c9f0936"
      }
     },
     "metadata": {},
     "output_type": "display_data"
    },
    {
     "data": {
      "text/plain": [
       "Sort Sample 14:   0%|          | 0.00/1.00 [00:00<?, ? row/s]"
      ],
      "application/vnd.jupyter.widget-view+json": {
       "version_major": 2,
       "version_minor": 0,
       "model_id": "8a7769aea1364667bef8fc9604901daa"
      }
     },
     "metadata": {},
     "output_type": "display_data"
    },
    {
     "data": {
      "text/plain": [
       "Shuffle Map 15:   0%|          | 0.00/1.00 [00:00<?, ? row/s]"
      ],
      "application/vnd.jupyter.widget-view+json": {
       "version_major": 2,
       "version_minor": 0,
       "model_id": "0303ff1b5c624f2eb6c02bfb12e13c6d"
      }
     },
     "metadata": {},
     "output_type": "display_data"
    },
    {
     "data": {
      "text/plain": [
       "Shuffle Reduce 16:   0%|          | 0.00/1.00 [00:00<?, ? row/s]"
      ],
      "application/vnd.jupyter.widget-view+json": {
       "version_major": 2,
       "version_minor": 0,
       "model_id": "3da3bd4287834cbb933616e03f5f87f5"
      }
     },
     "metadata": {},
     "output_type": "display_data"
    },
    {
     "name": "stderr",
     "output_type": "stream",
     "text": [
      "2024-12-20 22:55:05,873\tINFO streaming_executor.py:108 -- Starting execution of Dataset. Full logs are in /tmp/ray/session_2024-12-20_21-41-30_038316_36280/logs/ray-data\n",
      "2024-12-20 22:55:05,874\tINFO streaming_executor.py:109 -- Execution plan of Dataset: InputDataBuffer[Input] -> TaskPoolMapOperator[ReadCSV] -> AllToAllOperator[RandomShuffle] -> AllToAllOperator[Sort] -> AllToAllOperator[MapBatches(_add_split)->MapBatches(_filter_split)->RandomShuffle] -> TaskPoolMapOperator[MapBatches(preprocess)]\n"
     ]
    },
    {
     "data": {
      "text/plain": [
       "Running 0: 0.00 row [00:00, ? row/s]"
      ],
      "application/vnd.jupyter.widget-view+json": {
       "version_major": 2,
       "version_minor": 0,
       "model_id": "9a692eba192049ce8e1464760e5edb42"
      }
     },
     "metadata": {},
     "output_type": "display_data"
    },
    {
     "data": {
      "text/plain": [
       "- ReadCSV->SplitBlocks(20) 1: 0.00 row [00:00, ? row/s]"
      ],
      "application/vnd.jupyter.widget-view+json": {
       "version_major": 2,
       "version_minor": 0,
       "model_id": "27c9f62d16c64c3882ab0e2c7b5afb85"
      }
     },
     "metadata": {},
     "output_type": "display_data"
    },
    {
     "data": {
      "text/plain": [
       "- RandomShuffle 2: 0.00 row [00:00, ? row/s]"
      ],
      "application/vnd.jupyter.widget-view+json": {
       "version_major": 2,
       "version_minor": 0,
       "model_id": "173993e1548f4fbfbec099c0239aeee5"
      }
     },
     "metadata": {},
     "output_type": "display_data"
    },
    {
     "data": {
      "text/plain": [
       "Shuffle Map 3:   0%|          | 0.00/1.00 [00:00<?, ? row/s]"
      ],
      "application/vnd.jupyter.widget-view+json": {
       "version_major": 2,
       "version_minor": 0,
       "model_id": "72feee6346de46bfbe8f7c7cf397653b"
      }
     },
     "metadata": {},
     "output_type": "display_data"
    },
    {
     "data": {
      "text/plain": [
       "Shuffle Reduce 4:   0%|          | 0.00/1.00 [00:00<?, ? row/s]"
      ],
      "application/vnd.jupyter.widget-view+json": {
       "version_major": 2,
       "version_minor": 0,
       "model_id": "2de9ad936d074c7cb278ba33ef5c746b"
      }
     },
     "metadata": {},
     "output_type": "display_data"
    },
    {
     "data": {
      "text/plain": [
       "- Sort 5: 0.00 row [00:00, ? row/s]"
      ],
      "application/vnd.jupyter.widget-view+json": {
       "version_major": 2,
       "version_minor": 0,
       "model_id": "cfa6350956794f8686788cdd1acaa020"
      }
     },
     "metadata": {},
     "output_type": "display_data"
    },
    {
     "data": {
      "text/plain": [
       "Sort Sample 6:   0%|          | 0.00/1.00 [00:00<?, ? row/s]"
      ],
      "application/vnd.jupyter.widget-view+json": {
       "version_major": 2,
       "version_minor": 0,
       "model_id": "a7356e3e1e124371a11f511c396029f7"
      }
     },
     "metadata": {},
     "output_type": "display_data"
    },
    {
     "data": {
      "text/plain": [
       "Shuffle Map 7:   0%|          | 0.00/1.00 [00:00<?, ? row/s]"
      ],
      "application/vnd.jupyter.widget-view+json": {
       "version_major": 2,
       "version_minor": 0,
       "model_id": "e0ba4f6e68d84b878158adc509193b62"
      }
     },
     "metadata": {},
     "output_type": "display_data"
    },
    {
     "data": {
      "text/plain": [
       "Shuffle Reduce 8:   0%|          | 0.00/1.00 [00:00<?, ? row/s]"
      ],
      "application/vnd.jupyter.widget-view+json": {
       "version_major": 2,
       "version_minor": 0,
       "model_id": "8fce649a8b5e4d53a820d5d6e5afe879"
      }
     },
     "metadata": {},
     "output_type": "display_data"
    },
    {
     "data": {
      "text/plain": [
       "- MapBatches(_add_split)->MapBatches(_filter_split)->RandomShuffle 9: 0.00 row [00:00, ? row/s]"
      ],
      "application/vnd.jupyter.widget-view+json": {
       "version_major": 2,
       "version_minor": 0,
       "model_id": "2e9e8dc9a25f45b1861df7115d3388d2"
      }
     },
     "metadata": {},
     "output_type": "display_data"
    },
    {
     "data": {
      "text/plain": [
       "Shuffle Map 10:   0%|          | 0.00/1.00 [00:00<?, ? row/s]"
      ],
      "application/vnd.jupyter.widget-view+json": {
       "version_major": 2,
       "version_minor": 0,
       "model_id": "285f307235894fb5b0b1eec03ec71eab"
      }
     },
     "metadata": {},
     "output_type": "display_data"
    },
    {
     "data": {
      "text/plain": [
       "Shuffle Reduce 11:   0%|          | 0.00/1.00 [00:00<?, ? row/s]"
      ],
      "application/vnd.jupyter.widget-view+json": {
       "version_major": 2,
       "version_minor": 0,
       "model_id": "a7dfd9b9f55644abae2118329c531c43"
      }
     },
     "metadata": {},
     "output_type": "display_data"
    },
    {
     "data": {
      "text/plain": [
       "- MapBatches(preprocess) 12: 0.00 row [00:00, ? row/s]"
      ],
      "application/vnd.jupyter.widget-view+json": {
       "version_major": 2,
       "version_minor": 0,
       "model_id": "ab88d8e49c534fd98d132dcd55c03f86"
      }
     },
     "metadata": {},
     "output_type": "display_data"
    },
    {
     "name": "stderr",
     "output_type": "stream",
     "text": [
      "2024-12-20 22:55:07,594\tINFO streaming_executor.py:108 -- Starting execution of Dataset. Full logs are in /tmp/ray/session_2024-12-20_21-41-30_038316_36280/logs/ray-data\n",
      "2024-12-20 22:55:07,597\tINFO streaming_executor.py:109 -- Execution plan of Dataset: InputDataBuffer[Input] -> TaskPoolMapOperator[ReadCSV] -> AllToAllOperator[RandomShuffle] -> AllToAllOperator[Sort] -> AllToAllOperator[MapBatches(_add_split)->MapBatches(_filter_split)->RandomShuffle] -> TaskPoolMapOperator[MapBatches(preprocess)]\n"
     ]
    },
    {
     "data": {
      "text/plain": [
       "Running 0: 0.00 row [00:00, ? row/s]"
      ],
      "application/vnd.jupyter.widget-view+json": {
       "version_major": 2,
       "version_minor": 0,
       "model_id": "507ecd32f6f54f77882b75849a416e74"
      }
     },
     "metadata": {},
     "output_type": "display_data"
    },
    {
     "data": {
      "text/plain": [
       "- ReadCSV->SplitBlocks(20) 1: 0.00 row [00:00, ? row/s]"
      ],
      "application/vnd.jupyter.widget-view+json": {
       "version_major": 2,
       "version_minor": 0,
       "model_id": "f2838bce487e4a899385b77d7680fee7"
      }
     },
     "metadata": {},
     "output_type": "display_data"
    },
    {
     "data": {
      "text/plain": [
       "- RandomShuffle 2: 0.00 row [00:00, ? row/s]"
      ],
      "application/vnd.jupyter.widget-view+json": {
       "version_major": 2,
       "version_minor": 0,
       "model_id": "e57bd579c767496e923460c571488aba"
      }
     },
     "metadata": {},
     "output_type": "display_data"
    },
    {
     "data": {
      "text/plain": [
       "Shuffle Map 3:   0%|          | 0.00/1.00 [00:00<?, ? row/s]"
      ],
      "application/vnd.jupyter.widget-view+json": {
       "version_major": 2,
       "version_minor": 0,
       "model_id": "18d1b9f763b94713a2e7c9015efd0ae1"
      }
     },
     "metadata": {},
     "output_type": "display_data"
    },
    {
     "data": {
      "text/plain": [
       "Shuffle Reduce 4:   0%|          | 0.00/1.00 [00:00<?, ? row/s]"
      ],
      "application/vnd.jupyter.widget-view+json": {
       "version_major": 2,
       "version_minor": 0,
       "model_id": "edab1a5ce12d4621b8bb36491755fef4"
      }
     },
     "metadata": {},
     "output_type": "display_data"
    },
    {
     "data": {
      "text/plain": [
       "- Sort 5: 0.00 row [00:00, ? row/s]"
      ],
      "application/vnd.jupyter.widget-view+json": {
       "version_major": 2,
       "version_minor": 0,
       "model_id": "b4f5f00e319345309ef43777e2407310"
      }
     },
     "metadata": {},
     "output_type": "display_data"
    },
    {
     "data": {
      "text/plain": [
       "Sort Sample 6:   0%|          | 0.00/1.00 [00:00<?, ? row/s]"
      ],
      "application/vnd.jupyter.widget-view+json": {
       "version_major": 2,
       "version_minor": 0,
       "model_id": "dc11a672867049329c9b98b92d4c18ea"
      }
     },
     "metadata": {},
     "output_type": "display_data"
    },
    {
     "data": {
      "text/plain": [
       "Shuffle Map 7:   0%|          | 0.00/1.00 [00:00<?, ? row/s]"
      ],
      "application/vnd.jupyter.widget-view+json": {
       "version_major": 2,
       "version_minor": 0,
       "model_id": "c0bb96bee5c34337b7b89c00425226fa"
      }
     },
     "metadata": {},
     "output_type": "display_data"
    },
    {
     "data": {
      "text/plain": [
       "Shuffle Reduce 8:   0%|          | 0.00/1.00 [00:00<?, ? row/s]"
      ],
      "application/vnd.jupyter.widget-view+json": {
       "version_major": 2,
       "version_minor": 0,
       "model_id": "7811b482d49043d5a316b9bdde0fc3b3"
      }
     },
     "metadata": {},
     "output_type": "display_data"
    },
    {
     "data": {
      "text/plain": [
       "- MapBatches(_add_split)->MapBatches(_filter_split)->RandomShuffle 9: 0.00 row [00:00, ? row/s]"
      ],
      "application/vnd.jupyter.widget-view+json": {
       "version_major": 2,
       "version_minor": 0,
       "model_id": "447dbfd43c3a49ceb1a03014153a739b"
      }
     },
     "metadata": {},
     "output_type": "display_data"
    },
    {
     "data": {
      "text/plain": [
       "Shuffle Map 10:   0%|          | 0.00/1.00 [00:00<?, ? row/s]"
      ],
      "application/vnd.jupyter.widget-view+json": {
       "version_major": 2,
       "version_minor": 0,
       "model_id": "04417d08001e45a190217c4cc008f35f"
      }
     },
     "metadata": {},
     "output_type": "display_data"
    },
    {
     "data": {
      "text/plain": [
       "Shuffle Reduce 11:   0%|          | 0.00/1.00 [00:00<?, ? row/s]"
      ],
      "application/vnd.jupyter.widget-view+json": {
       "version_major": 2,
       "version_minor": 0,
       "model_id": "d57a9dc5b5044203b25fae58ab4e90a5"
      }
     },
     "metadata": {},
     "output_type": "display_data"
    },
    {
     "data": {
      "text/plain": [
       "- MapBatches(preprocess) 12: 0.00 row [00:00, ? row/s]"
      ],
      "application/vnd.jupyter.widget-view+json": {
       "version_major": 2,
       "version_minor": 0,
       "model_id": "f8ee3af965fc43bdad72fbcde0b373ea"
      }
     },
     "metadata": {},
     "output_type": "display_data"
    }
   ],
   "execution_count": 107
  },
  {
   "metadata": {
    "ExecuteTime": {
     "end_time": "2024-12-20T21:55:21.873615Z",
     "start_time": "2024-12-20T21:55:21.832811Z"
    }
   },
   "cell_type": "code",
   "source": [
    "# Trainer\n",
    "trainer = TorchTrainer(\n",
    "    train_loop_per_worker=train_loop_per_worker,\n",
    "    train_loop_config=train_loop_config,\n",
    "    scaling_config=scaling_config,\n",
    "    run_config=run_config,  # uses RunConfig with MLflow callback\n",
    "    datasets={\"train\": train_ds, \"val\": val_ds},\n",
    "    dataset_config=dataset_config,\n",
    "    metadata={\"class_to_index\": preprocessor.class_to_index},\n",
    ")"
   ],
   "id": "3d20fbef5fdcfb46",
   "outputs": [],
   "execution_count": 108
  },
  {
   "metadata": {
    "ExecuteTime": {
     "end_time": "2024-12-20T22:06:38.526402Z",
     "start_time": "2024-12-20T21:57:29.855310Z"
    }
   },
   "cell_type": "code",
   "source": [
    "%%time\n",
    "# Train\n",
    "results = trainer.fit()"
   ],
   "id": "70e5d61207fbcd7d",
   "outputs": [
    {
     "name": "stderr",
     "output_type": "stream",
     "text": [
      "2024-12-20 22:57:29,929\tINFO tune.py:616 -- [output] This uses the legacy output and progress reporter, as Jupyter notebooks are not supported by the new engine, yet. For more information, please see https://github.com/ray-project/ray/issues/36949\n",
      "2024-12-20 22:57:29,932\tWARNING callback.py:136 -- The TensorboardX logger cannot be instantiated because either TensorboardX or one of it's dependencies is not installed. Please make sure you have the latest version of TensorboardX installed: `pip install -U tensorboardx`\n"
     ]
    },
    {
     "name": "stdout",
     "output_type": "stream",
     "text": [
      "== Status ==\n",
      "Current time: 2024-12-20 22:57:30 (running for 00:00:00.11)\n",
      "Using FIFO scheduling algorithm.\n",
      "Logical resource usage: 7.0/10 CPUs, 0/0 GPUs\n",
      "Result logdir: /tmp/ray/session_2024-12-20_21-41-30_038316_36280/artifacts/2024-12-20_22-57-29/TorchTrainer_2024-12-20_22-55-27/driver_artifacts\n",
      "Number of trials: 1/1 (1 PENDING)\n",
      "\n",
      "\n",
      "== Status ==\n",
      "Current time: 2024-12-20 22:57:35 (running for 00:00:05.12)\n",
      "Using FIFO scheduling algorithm.\n",
      "Logical resource usage: 7.0/10 CPUs, 0/0 GPUs\n",
      "Result logdir: /tmp/ray/session_2024-12-20_21-41-30_038316_36280/artifacts/2024-12-20_22-57-29/TorchTrainer_2024-12-20_22-55-27/driver_artifacts\n",
      "Number of trials: 1/1 (1 RUNNING)\n",
      "\n",
      "\n",
      "== Status ==\n",
      "Current time: 2024-12-20 22:57:40 (running for 00:00:10.21)\n",
      "Using FIFO scheduling algorithm.\n",
      "Logical resource usage: 7.0/10 CPUs, 0/0 GPUs\n",
      "Result logdir: /tmp/ray/session_2024-12-20_21-41-30_038316_36280/artifacts/2024-12-20_22-57-29/TorchTrainer_2024-12-20_22-55-27/driver_artifacts\n",
      "Number of trials: 1/1 (1 RUNNING)\n",
      "\n",
      "\n"
     ]
    },
    {
     "data": {
      "text/plain": [
       "(pid=38432) Running 0: 0.00 row [00:00, ? row/s]"
      ],
      "application/vnd.jupyter.widget-view+json": {
       "version_major": 2,
       "version_minor": 0,
       "model_id": "863eb79980ab4faf8a87f2cddcdff4ec"
      }
     },
     "metadata": {},
     "output_type": "display_data"
    },
    {
     "data": {
      "text/plain": [
       "(pid=38432) - split(6, equal=True) 1: 0.00 row [00:00, ? row/s]"
      ],
      "application/vnd.jupyter.widget-view+json": {
       "version_major": 2,
       "version_minor": 0,
       "model_id": "3787a886e7944b7eaa8c04bd3e7dbd0e"
      }
     },
     "metadata": {},
     "output_type": "display_data"
    },
    {
     "name": "stdout",
     "output_type": "stream",
     "text": [
      "== Status ==\n",
      "Current time: 2024-12-20 22:57:45 (running for 00:00:15.22)\n",
      "Using FIFO scheduling algorithm.\n",
      "Logical resource usage: 7.0/10 CPUs, 0/0 GPUs\n",
      "Result logdir: /tmp/ray/session_2024-12-20_21-41-30_038316_36280/artifacts/2024-12-20_22-57-29/TorchTrainer_2024-12-20_22-55-27/driver_artifacts\n",
      "Number of trials: 1/1 (1 RUNNING)\n",
      "\n",
      "\n",
      "== Status ==\n",
      "Current time: 2024-12-20 22:57:50 (running for 00:00:20.30)\n",
      "Using FIFO scheduling algorithm.\n",
      "Logical resource usage: 7.0/10 CPUs, 0/0 GPUs\n",
      "Result logdir: /tmp/ray/session_2024-12-20_21-41-30_038316_36280/artifacts/2024-12-20_22-57-29/TorchTrainer_2024-12-20_22-55-27/driver_artifacts\n",
      "Number of trials: 1/1 (1 RUNNING)\n",
      "\n",
      "\n",
      "== Status ==\n",
      "Current time: 2024-12-20 22:57:55 (running for 00:00:25.36)\n",
      "Using FIFO scheduling algorithm.\n",
      "Logical resource usage: 7.0/10 CPUs, 0/0 GPUs\n",
      "Result logdir: /tmp/ray/session_2024-12-20_21-41-30_038316_36280/artifacts/2024-12-20_22-57-29/TorchTrainer_2024-12-20_22-55-27/driver_artifacts\n",
      "Number of trials: 1/1 (1 RUNNING)\n",
      "\n",
      "\n",
      "== Status ==\n",
      "Current time: 2024-12-20 22:58:00 (running for 00:00:30.40)\n",
      "Using FIFO scheduling algorithm.\n",
      "Logical resource usage: 7.0/10 CPUs, 0/0 GPUs\n",
      "Result logdir: /tmp/ray/session_2024-12-20_21-41-30_038316_36280/artifacts/2024-12-20_22-57-29/TorchTrainer_2024-12-20_22-55-27/driver_artifacts\n",
      "Number of trials: 1/1 (1 RUNNING)\n",
      "\n",
      "\n",
      "== Status ==\n",
      "Current time: 2024-12-20 22:58:05 (running for 00:00:35.43)\n",
      "Using FIFO scheduling algorithm.\n",
      "Logical resource usage: 7.0/10 CPUs, 0/0 GPUs\n",
      "Result logdir: /tmp/ray/session_2024-12-20_21-41-30_038316_36280/artifacts/2024-12-20_22-57-29/TorchTrainer_2024-12-20_22-55-27/driver_artifacts\n",
      "Number of trials: 1/1 (1 RUNNING)\n",
      "\n",
      "\n",
      "== Status ==\n",
      "Current time: 2024-12-20 22:58:10 (running for 00:00:40.45)\n",
      "Using FIFO scheduling algorithm.\n",
      "Logical resource usage: 7.0/10 CPUs, 0/0 GPUs\n",
      "Result logdir: /tmp/ray/session_2024-12-20_21-41-30_038316_36280/artifacts/2024-12-20_22-57-29/TorchTrainer_2024-12-20_22-55-27/driver_artifacts\n",
      "Number of trials: 1/1 (1 RUNNING)\n",
      "\n",
      "\n",
      "== Status ==\n",
      "Current time: 2024-12-20 22:58:15 (running for 00:00:45.46)\n",
      "Using FIFO scheduling algorithm.\n",
      "Logical resource usage: 7.0/10 CPUs, 0/0 GPUs\n",
      "Result logdir: /tmp/ray/session_2024-12-20_21-41-30_038316_36280/artifacts/2024-12-20_22-57-29/TorchTrainer_2024-12-20_22-55-27/driver_artifacts\n",
      "Number of trials: 1/1 (1 RUNNING)\n",
      "\n",
      "\n",
      "== Status ==\n",
      "Current time: 2024-12-20 22:58:20 (running for 00:00:50.57)\n",
      "Using FIFO scheduling algorithm.\n",
      "Logical resource usage: 7.0/10 CPUs, 0/0 GPUs\n",
      "Result logdir: /tmp/ray/session_2024-12-20_21-41-30_038316_36280/artifacts/2024-12-20_22-57-29/TorchTrainer_2024-12-20_22-55-27/driver_artifacts\n",
      "Number of trials: 1/1 (1 RUNNING)\n",
      "\n",
      "\n",
      "== Status ==\n",
      "Current time: 2024-12-20 22:58:25 (running for 00:00:55.63)\n",
      "Using FIFO scheduling algorithm.\n",
      "Logical resource usage: 7.0/10 CPUs, 0/0 GPUs\n",
      "Result logdir: /tmp/ray/session_2024-12-20_21-41-30_038316_36280/artifacts/2024-12-20_22-57-29/TorchTrainer_2024-12-20_22-55-27/driver_artifacts\n",
      "Number of trials: 1/1 (1 RUNNING)\n",
      "\n",
      "\n",
      "== Status ==\n",
      "Current time: 2024-12-20 22:58:30 (running for 00:01:00.67)\n",
      "Using FIFO scheduling algorithm.\n",
      "Logical resource usage: 7.0/10 CPUs, 0/0 GPUs\n",
      "Result logdir: /tmp/ray/session_2024-12-20_21-41-30_038316_36280/artifacts/2024-12-20_22-57-29/TorchTrainer_2024-12-20_22-55-27/driver_artifacts\n",
      "Number of trials: 1/1 (1 RUNNING)\n",
      "\n",
      "\n",
      "== Status ==\n",
      "Current time: 2024-12-20 22:58:35 (running for 00:01:05.68)\n",
      "Using FIFO scheduling algorithm.\n",
      "Logical resource usage: 7.0/10 CPUs, 0/0 GPUs\n",
      "Result logdir: /tmp/ray/session_2024-12-20_21-41-30_038316_36280/artifacts/2024-12-20_22-57-29/TorchTrainer_2024-12-20_22-55-27/driver_artifacts\n",
      "Number of trials: 1/1 (1 RUNNING)\n",
      "\n",
      "\n"
     ]
    },
    {
     "data": {
      "text/plain": [
       "(pid=38432) Running 0: 0.00 row [00:00, ? row/s]"
      ],
      "application/vnd.jupyter.widget-view+json": {
       "version_major": 2,
       "version_minor": 0,
       "model_id": "9ffce516f0a54d4e98b3e40aaa8a3c1b"
      }
     },
     "metadata": {},
     "output_type": "display_data"
    },
    {
     "data": {
      "text/plain": [
       "(pid=38432) - split(6, equal=True) 1: 0.00 row [00:00, ? row/s]"
      ],
      "application/vnd.jupyter.widget-view+json": {
       "version_major": 2,
       "version_minor": 0,
       "model_id": "79ced5469a1f43e7a4b93b24105f9f07"
      }
     },
     "metadata": {},
     "output_type": "display_data"
    },
    {
     "name": "stdout",
     "output_type": "stream",
     "text": [
      "== Status ==\n",
      "Current time: 2024-12-20 22:58:40 (running for 00:01:10.70)\n",
      "Using FIFO scheduling algorithm.\n",
      "Logical resource usage: 7.0/10 CPUs, 0/0 GPUs\n",
      "Result logdir: /tmp/ray/session_2024-12-20_21-41-30_038316_36280/artifacts/2024-12-20_22-57-29/TorchTrainer_2024-12-20_22-55-27/driver_artifacts\n",
      "Number of trials: 1/1 (1 RUNNING)\n",
      "\n",
      "\n",
      "== Status ==\n",
      "Current time: 2024-12-20 22:58:45 (running for 00:01:15.71)\n",
      "Using FIFO scheduling algorithm.\n",
      "Logical resource usage: 7.0/10 CPUs, 0/0 GPUs\n",
      "Result logdir: /tmp/ray/session_2024-12-20_21-41-30_038316_36280/artifacts/2024-12-20_22-57-29/TorchTrainer_2024-12-20_22-55-27/driver_artifacts\n",
      "Number of trials: 1/1 (1 RUNNING)\n",
      "\n",
      "\n",
      "== Status ==\n",
      "Current time: 2024-12-20 22:58:50 (running for 00:01:20.74)\n",
      "Using FIFO scheduling algorithm.\n",
      "Logical resource usage: 7.0/10 CPUs, 0/0 GPUs\n",
      "Result logdir: /tmp/ray/session_2024-12-20_21-41-30_038316_36280/artifacts/2024-12-20_22-57-29/TorchTrainer_2024-12-20_22-55-27/driver_artifacts\n",
      "Number of trials: 1/1 (1 RUNNING)\n",
      "\n",
      "\n",
      "== Status ==\n",
      "Current time: 2024-12-20 22:58:55 (running for 00:01:25.84)\n",
      "Using FIFO scheduling algorithm.\n",
      "Logical resource usage: 7.0/10 CPUs, 0/0 GPUs\n",
      "Result logdir: /tmp/ray/session_2024-12-20_21-41-30_038316_36280/artifacts/2024-12-20_22-57-29/TorchTrainer_2024-12-20_22-55-27/driver_artifacts\n",
      "Number of trials: 1/1 (1 RUNNING)\n",
      "\n",
      "\n",
      "== Status ==\n",
      "Current time: 2024-12-20 22:59:00 (running for 00:01:30.86)\n",
      "Using FIFO scheduling algorithm.\n",
      "Logical resource usage: 7.0/10 CPUs, 0/0 GPUs\n",
      "Result logdir: /tmp/ray/session_2024-12-20_21-41-30_038316_36280/artifacts/2024-12-20_22-57-29/TorchTrainer_2024-12-20_22-55-27/driver_artifacts\n",
      "Number of trials: 1/1 (1 RUNNING)\n",
      "\n",
      "\n",
      "== Status ==\n",
      "Current time: 2024-12-20 22:59:05 (running for 00:01:35.88)\n",
      "Using FIFO scheduling algorithm.\n",
      "Logical resource usage: 7.0/10 CPUs, 0/0 GPUs\n",
      "Result logdir: /tmp/ray/session_2024-12-20_21-41-30_038316_36280/artifacts/2024-12-20_22-57-29/TorchTrainer_2024-12-20_22-55-27/driver_artifacts\n",
      "Number of trials: 1/1 (1 RUNNING)\n",
      "\n",
      "\n",
      "== Status ==\n",
      "Current time: 2024-12-20 22:59:10 (running for 00:01:40.93)\n",
      "Using FIFO scheduling algorithm.\n",
      "Logical resource usage: 7.0/10 CPUs, 0/0 GPUs\n",
      "Result logdir: /tmp/ray/session_2024-12-20_21-41-30_038316_36280/artifacts/2024-12-20_22-57-29/TorchTrainer_2024-12-20_22-55-27/driver_artifacts\n",
      "Number of trials: 1/1 (1 RUNNING)\n",
      "\n",
      "\n",
      "== Status ==\n",
      "Current time: 2024-12-20 22:59:15 (running for 00:01:46.03)\n",
      "Using FIFO scheduling algorithm.\n",
      "Logical resource usage: 7.0/10 CPUs, 0/0 GPUs\n",
      "Result logdir: /tmp/ray/session_2024-12-20_21-41-30_038316_36280/artifacts/2024-12-20_22-57-29/TorchTrainer_2024-12-20_22-55-27/driver_artifacts\n",
      "Number of trials: 1/1 (1 RUNNING)\n",
      "\n",
      "\n",
      "== Status ==\n",
      "Current time: 2024-12-20 22:59:20 (running for 00:01:51.06)\n",
      "Using FIFO scheduling algorithm.\n",
      "Logical resource usage: 7.0/10 CPUs, 0/0 GPUs\n",
      "Result logdir: /tmp/ray/session_2024-12-20_21-41-30_038316_36280/artifacts/2024-12-20_22-57-29/TorchTrainer_2024-12-20_22-55-27/driver_artifacts\n",
      "Number of trials: 1/1 (1 RUNNING)\n",
      "\n",
      "\n",
      "== Status ==\n",
      "Current time: 2024-12-20 22:59:26 (running for 00:01:56.08)\n",
      "Using FIFO scheduling algorithm.\n",
      "Logical resource usage: 7.0/10 CPUs, 0/0 GPUs\n",
      "Result logdir: /tmp/ray/session_2024-12-20_21-41-30_038316_36280/artifacts/2024-12-20_22-57-29/TorchTrainer_2024-12-20_22-55-27/driver_artifacts\n",
      "Number of trials: 1/1 (1 RUNNING)\n",
      "\n",
      "\n",
      "== Status ==\n",
      "Current time: 2024-12-20 22:59:31 (running for 00:02:01.15)\n",
      "Using FIFO scheduling algorithm.\n",
      "Logical resource usage: 7.0/10 CPUs, 0/0 GPUs\n",
      "Result logdir: /tmp/ray/session_2024-12-20_21-41-30_038316_36280/artifacts/2024-12-20_22-57-29/TorchTrainer_2024-12-20_22-55-27/driver_artifacts\n",
      "Number of trials: 1/1 (1 RUNNING)\n",
      "\n",
      "\n"
     ]
    },
    {
     "data": {
      "text/plain": [
       "(pid=38432) Running 0: 0.00 row [00:00, ? row/s]"
      ],
      "application/vnd.jupyter.widget-view+json": {
       "version_major": 2,
       "version_minor": 0,
       "model_id": "f025545c6e69495baaa3ab5580506114"
      }
     },
     "metadata": {},
     "output_type": "display_data"
    },
    {
     "data": {
      "text/plain": [
       "(pid=38432) - split(6, equal=True) 1: 0.00 row [00:00, ? row/s]"
      ],
      "application/vnd.jupyter.widget-view+json": {
       "version_major": 2,
       "version_minor": 0,
       "model_id": "25eb410aaf984a498069b322d7c75082"
      }
     },
     "metadata": {},
     "output_type": "display_data"
    },
    {
     "name": "stdout",
     "output_type": "stream",
     "text": [
      "== Status ==\n",
      "Current time: 2024-12-20 22:59:36 (running for 00:02:06.25)\n",
      "Using FIFO scheduling algorithm.\n",
      "Logical resource usage: 7.0/10 CPUs, 0/0 GPUs\n",
      "Result logdir: /tmp/ray/session_2024-12-20_21-41-30_038316_36280/artifacts/2024-12-20_22-57-29/TorchTrainer_2024-12-20_22-55-27/driver_artifacts\n",
      "Number of trials: 1/1 (1 RUNNING)\n",
      "\n",
      "\n",
      "== Status ==\n",
      "Current time: 2024-12-20 22:59:41 (running for 00:02:11.27)\n",
      "Using FIFO scheduling algorithm.\n",
      "Logical resource usage: 7.0/10 CPUs, 0/0 GPUs\n",
      "Result logdir: /tmp/ray/session_2024-12-20_21-41-30_038316_36280/artifacts/2024-12-20_22-57-29/TorchTrainer_2024-12-20_22-55-27/driver_artifacts\n",
      "Number of trials: 1/1 (1 RUNNING)\n",
      "\n",
      "\n",
      "== Status ==\n",
      "Current time: 2024-12-20 22:59:46 (running for 00:02:16.29)\n",
      "Using FIFO scheduling algorithm.\n",
      "Logical resource usage: 7.0/10 CPUs, 0/0 GPUs\n",
      "Result logdir: /tmp/ray/session_2024-12-20_21-41-30_038316_36280/artifacts/2024-12-20_22-57-29/TorchTrainer_2024-12-20_22-55-27/driver_artifacts\n",
      "Number of trials: 1/1 (1 RUNNING)\n",
      "\n",
      "\n",
      "== Status ==\n",
      "Current time: 2024-12-20 22:59:51 (running for 00:02:21.30)\n",
      "Using FIFO scheduling algorithm.\n",
      "Logical resource usage: 7.0/10 CPUs, 0/0 GPUs\n",
      "Result logdir: /tmp/ray/session_2024-12-20_21-41-30_038316_36280/artifacts/2024-12-20_22-57-29/TorchTrainer_2024-12-20_22-55-27/driver_artifacts\n",
      "Number of trials: 1/1 (1 RUNNING)\n",
      "\n",
      "\n",
      "== Status ==\n",
      "Current time: 2024-12-20 22:59:56 (running for 00:02:26.36)\n",
      "Using FIFO scheduling algorithm.\n",
      "Logical resource usage: 7.0/10 CPUs, 0/0 GPUs\n",
      "Result logdir: /tmp/ray/session_2024-12-20_21-41-30_038316_36280/artifacts/2024-12-20_22-57-29/TorchTrainer_2024-12-20_22-55-27/driver_artifacts\n",
      "Number of trials: 1/1 (1 RUNNING)\n",
      "\n",
      "\n",
      "== Status ==\n",
      "Current time: 2024-12-20 23:00:01 (running for 00:02:31.41)\n",
      "Using FIFO scheduling algorithm.\n",
      "Logical resource usage: 7.0/10 CPUs, 0/0 GPUs\n",
      "Result logdir: /tmp/ray/session_2024-12-20_21-41-30_038316_36280/artifacts/2024-12-20_22-57-29/TorchTrainer_2024-12-20_22-55-27/driver_artifacts\n",
      "Number of trials: 1/1 (1 RUNNING)\n",
      "\n",
      "\n",
      "== Status ==\n",
      "Current time: 2024-12-20 23:00:06 (running for 00:02:36.44)\n",
      "Using FIFO scheduling algorithm.\n",
      "Logical resource usage: 7.0/10 CPUs, 0/0 GPUs\n",
      "Result logdir: /tmp/ray/session_2024-12-20_21-41-30_038316_36280/artifacts/2024-12-20_22-57-29/TorchTrainer_2024-12-20_22-55-27/driver_artifacts\n",
      "Number of trials: 1/1 (1 RUNNING)\n",
      "\n",
      "\n",
      "== Status ==\n",
      "Current time: 2024-12-20 23:00:11 (running for 00:02:41.49)\n",
      "Using FIFO scheduling algorithm.\n",
      "Logical resource usage: 7.0/10 CPUs, 0/0 GPUs\n",
      "Result logdir: /tmp/ray/session_2024-12-20_21-41-30_038316_36280/artifacts/2024-12-20_22-57-29/TorchTrainer_2024-12-20_22-55-27/driver_artifacts\n",
      "Number of trials: 1/1 (1 RUNNING)\n",
      "\n",
      "\n",
      "== Status ==\n",
      "Current time: 2024-12-20 23:00:16 (running for 00:02:46.51)\n",
      "Using FIFO scheduling algorithm.\n",
      "Logical resource usage: 7.0/10 CPUs, 0/0 GPUs\n",
      "Result logdir: /tmp/ray/session_2024-12-20_21-41-30_038316_36280/artifacts/2024-12-20_22-57-29/TorchTrainer_2024-12-20_22-55-27/driver_artifacts\n",
      "Number of trials: 1/1 (1 RUNNING)\n",
      "\n",
      "\n",
      "== Status ==\n",
      "Current time: 2024-12-20 23:00:21 (running for 00:02:51.54)\n",
      "Using FIFO scheduling algorithm.\n",
      "Logical resource usage: 7.0/10 CPUs, 0/0 GPUs\n",
      "Result logdir: /tmp/ray/session_2024-12-20_21-41-30_038316_36280/artifacts/2024-12-20_22-57-29/TorchTrainer_2024-12-20_22-55-27/driver_artifacts\n",
      "Number of trials: 1/1 (1 RUNNING)\n",
      "\n",
      "\n",
      "== Status ==\n",
      "Current time: 2024-12-20 23:00:26 (running for 00:02:56.63)\n",
      "Using FIFO scheduling algorithm.\n",
      "Logical resource usage: 7.0/10 CPUs, 0/0 GPUs\n",
      "Result logdir: /tmp/ray/session_2024-12-20_21-41-30_038316_36280/artifacts/2024-12-20_22-57-29/TorchTrainer_2024-12-20_22-55-27/driver_artifacts\n",
      "Number of trials: 1/1 (1 RUNNING)\n",
      "\n",
      "\n"
     ]
    },
    {
     "data": {
      "text/plain": [
       "(pid=38432) Running 0: 0.00 row [00:00, ? row/s]"
      ],
      "application/vnd.jupyter.widget-view+json": {
       "version_major": 2,
       "version_minor": 0,
       "model_id": "d85ef535016a4a27943365b3349968d1"
      }
     },
     "metadata": {},
     "output_type": "display_data"
    },
    {
     "data": {
      "text/plain": [
       "(pid=38432) - split(6, equal=True) 1: 0.00 row [00:00, ? row/s]"
      ],
      "application/vnd.jupyter.widget-view+json": {
       "version_major": 2,
       "version_minor": 0,
       "model_id": "3457ac3a14404563bc4d0169e4efb580"
      }
     },
     "metadata": {},
     "output_type": "display_data"
    },
    {
     "name": "stdout",
     "output_type": "stream",
     "text": [
      "== Status ==\n",
      "Current time: 2024-12-20 23:00:31 (running for 00:03:01.71)\n",
      "Using FIFO scheduling algorithm.\n",
      "Logical resource usage: 7.0/10 CPUs, 0/0 GPUs\n",
      "Result logdir: /tmp/ray/session_2024-12-20_21-41-30_038316_36280/artifacts/2024-12-20_22-57-29/TorchTrainer_2024-12-20_22-55-27/driver_artifacts\n",
      "Number of trials: 1/1 (1 RUNNING)\n",
      "\n",
      "\n",
      "== Status ==\n",
      "Current time: 2024-12-20 23:00:36 (running for 00:03:06.72)\n",
      "Using FIFO scheduling algorithm.\n",
      "Logical resource usage: 7.0/10 CPUs, 0/0 GPUs\n",
      "Result logdir: /tmp/ray/session_2024-12-20_21-41-30_038316_36280/artifacts/2024-12-20_22-57-29/TorchTrainer_2024-12-20_22-55-27/driver_artifacts\n",
      "Number of trials: 1/1 (1 RUNNING)\n",
      "\n",
      "\n",
      "== Status ==\n",
      "Current time: 2024-12-20 23:00:41 (running for 00:03:11.74)\n",
      "Using FIFO scheduling algorithm.\n",
      "Logical resource usage: 7.0/10 CPUs, 0/0 GPUs\n",
      "Result logdir: /tmp/ray/session_2024-12-20_21-41-30_038316_36280/artifacts/2024-12-20_22-57-29/TorchTrainer_2024-12-20_22-55-27/driver_artifacts\n",
      "Number of trials: 1/1 (1 RUNNING)\n",
      "\n",
      "\n",
      "== Status ==\n",
      "Current time: 2024-12-20 23:00:46 (running for 00:03:16.78)\n",
      "Using FIFO scheduling algorithm.\n",
      "Logical resource usage: 7.0/10 CPUs, 0/0 GPUs\n",
      "Result logdir: /tmp/ray/session_2024-12-20_21-41-30_038316_36280/artifacts/2024-12-20_22-57-29/TorchTrainer_2024-12-20_22-55-27/driver_artifacts\n",
      "Number of trials: 1/1 (1 RUNNING)\n",
      "\n",
      "\n",
      "== Status ==\n",
      "Current time: 2024-12-20 23:00:51 (running for 00:03:21.80)\n",
      "Using FIFO scheduling algorithm.\n",
      "Logical resource usage: 7.0/10 CPUs, 0/0 GPUs\n",
      "Result logdir: /tmp/ray/session_2024-12-20_21-41-30_038316_36280/artifacts/2024-12-20_22-57-29/TorchTrainer_2024-12-20_22-55-27/driver_artifacts\n",
      "Number of trials: 1/1 (1 RUNNING)\n",
      "\n",
      "\n",
      "== Status ==\n",
      "Current time: 2024-12-20 23:00:56 (running for 00:03:26.86)\n",
      "Using FIFO scheduling algorithm.\n",
      "Logical resource usage: 7.0/10 CPUs, 0/0 GPUs\n",
      "Result logdir: /tmp/ray/session_2024-12-20_21-41-30_038316_36280/artifacts/2024-12-20_22-57-29/TorchTrainer_2024-12-20_22-55-27/driver_artifacts\n",
      "Number of trials: 1/1 (1 RUNNING)\n",
      "\n",
      "\n",
      "== Status ==\n",
      "Current time: 2024-12-20 23:01:01 (running for 00:03:31.89)\n",
      "Using FIFO scheduling algorithm.\n",
      "Logical resource usage: 7.0/10 CPUs, 0/0 GPUs\n",
      "Result logdir: /tmp/ray/session_2024-12-20_21-41-30_038316_36280/artifacts/2024-12-20_22-57-29/TorchTrainer_2024-12-20_22-55-27/driver_artifacts\n",
      "Number of trials: 1/1 (1 RUNNING)\n",
      "\n",
      "\n",
      "== Status ==\n",
      "Current time: 2024-12-20 23:01:06 (running for 00:03:36.90)\n",
      "Using FIFO scheduling algorithm.\n",
      "Logical resource usage: 7.0/10 CPUs, 0/0 GPUs\n",
      "Result logdir: /tmp/ray/session_2024-12-20_21-41-30_038316_36280/artifacts/2024-12-20_22-57-29/TorchTrainer_2024-12-20_22-55-27/driver_artifacts\n",
      "Number of trials: 1/1 (1 RUNNING)\n",
      "\n",
      "\n",
      "== Status ==\n",
      "Current time: 2024-12-20 23:01:11 (running for 00:03:41.94)\n",
      "Using FIFO scheduling algorithm.\n",
      "Logical resource usage: 7.0/10 CPUs, 0/0 GPUs\n",
      "Result logdir: /tmp/ray/session_2024-12-20_21-41-30_038316_36280/artifacts/2024-12-20_22-57-29/TorchTrainer_2024-12-20_22-55-27/driver_artifacts\n",
      "Number of trials: 1/1 (1 RUNNING)\n",
      "\n",
      "\n",
      "== Status ==\n",
      "Current time: 2024-12-20 23:01:16 (running for 00:03:47.03)\n",
      "Using FIFO scheduling algorithm.\n",
      "Logical resource usage: 7.0/10 CPUs, 0/0 GPUs\n",
      "Result logdir: /tmp/ray/session_2024-12-20_21-41-30_038316_36280/artifacts/2024-12-20_22-57-29/TorchTrainer_2024-12-20_22-55-27/driver_artifacts\n",
      "Number of trials: 1/1 (1 RUNNING)\n",
      "\n",
      "\n"
     ]
    },
    {
     "data": {
      "text/plain": [
       "(pid=38432) Running 0: 0.00 row [00:00, ? row/s]"
      ],
      "application/vnd.jupyter.widget-view+json": {
       "version_major": 2,
       "version_minor": 0,
       "model_id": "b83e125dcfff473e964b07c0f2d9b51c"
      }
     },
     "metadata": {},
     "output_type": "display_data"
    },
    {
     "data": {
      "text/plain": [
       "(pid=38432) - split(6, equal=True) 1: 0.00 row [00:00, ? row/s]"
      ],
      "application/vnd.jupyter.widget-view+json": {
       "version_major": 2,
       "version_minor": 0,
       "model_id": "a0e28e874813491f8b9607bff34a8b72"
      }
     },
     "metadata": {},
     "output_type": "display_data"
    },
    {
     "name": "stdout",
     "output_type": "stream",
     "text": [
      "== Status ==\n",
      "Current time: 2024-12-20 23:01:22 (running for 00:03:52.09)\n",
      "Using FIFO scheduling algorithm.\n",
      "Logical resource usage: 7.0/10 CPUs, 0/0 GPUs\n",
      "Result logdir: /tmp/ray/session_2024-12-20_21-41-30_038316_36280/artifacts/2024-12-20_22-57-29/TorchTrainer_2024-12-20_22-55-27/driver_artifacts\n",
      "Number of trials: 1/1 (1 RUNNING)\n",
      "\n",
      "\n",
      "== Status ==\n",
      "Current time: 2024-12-20 23:01:27 (running for 00:03:57.12)\n",
      "Using FIFO scheduling algorithm.\n",
      "Logical resource usage: 7.0/10 CPUs, 0/0 GPUs\n",
      "Result logdir: /tmp/ray/session_2024-12-20_21-41-30_038316_36280/artifacts/2024-12-20_22-57-29/TorchTrainer_2024-12-20_22-55-27/driver_artifacts\n",
      "Number of trials: 1/1 (1 RUNNING)\n",
      "\n",
      "\n",
      "== Status ==\n",
      "Current time: 2024-12-20 23:01:32 (running for 00:04:02.13)\n",
      "Using FIFO scheduling algorithm.\n",
      "Logical resource usage: 7.0/10 CPUs, 0/0 GPUs\n",
      "Result logdir: /tmp/ray/session_2024-12-20_21-41-30_038316_36280/artifacts/2024-12-20_22-57-29/TorchTrainer_2024-12-20_22-55-27/driver_artifacts\n",
      "Number of trials: 1/1 (1 RUNNING)\n",
      "\n",
      "\n",
      "== Status ==\n",
      "Current time: 2024-12-20 23:01:37 (running for 00:04:07.17)\n",
      "Using FIFO scheduling algorithm.\n",
      "Logical resource usage: 7.0/10 CPUs, 0/0 GPUs\n",
      "Result logdir: /tmp/ray/session_2024-12-20_21-41-30_038316_36280/artifacts/2024-12-20_22-57-29/TorchTrainer_2024-12-20_22-55-27/driver_artifacts\n",
      "Number of trials: 1/1 (1 RUNNING)\n",
      "\n",
      "\n",
      "== Status ==\n",
      "Current time: 2024-12-20 23:01:42 (running for 00:04:12.19)\n",
      "Using FIFO scheduling algorithm.\n",
      "Logical resource usage: 7.0/10 CPUs, 0/0 GPUs\n",
      "Result logdir: /tmp/ray/session_2024-12-20_21-41-30_038316_36280/artifacts/2024-12-20_22-57-29/TorchTrainer_2024-12-20_22-55-27/driver_artifacts\n",
      "Number of trials: 1/1 (1 RUNNING)\n",
      "\n",
      "\n",
      "== Status ==\n",
      "Current time: 2024-12-20 23:01:47 (running for 00:04:17.24)\n",
      "Using FIFO scheduling algorithm.\n",
      "Logical resource usage: 7.0/10 CPUs, 0/0 GPUs\n",
      "Result logdir: /tmp/ray/session_2024-12-20_21-41-30_038316_36280/artifacts/2024-12-20_22-57-29/TorchTrainer_2024-12-20_22-55-27/driver_artifacts\n",
      "Number of trials: 1/1 (1 RUNNING)\n",
      "\n",
      "\n",
      "== Status ==\n",
      "Current time: 2024-12-20 23:01:52 (running for 00:04:22.24)\n",
      "Using FIFO scheduling algorithm.\n",
      "Logical resource usage: 7.0/10 CPUs, 0/0 GPUs\n",
      "Result logdir: /tmp/ray/session_2024-12-20_21-41-30_038316_36280/artifacts/2024-12-20_22-57-29/TorchTrainer_2024-12-20_22-55-27/driver_artifacts\n",
      "Number of trials: 1/1 (1 RUNNING)\n",
      "\n",
      "\n",
      "== Status ==\n",
      "Current time: 2024-12-20 23:01:57 (running for 00:04:27.28)\n",
      "Using FIFO scheduling algorithm.\n",
      "Logical resource usage: 7.0/10 CPUs, 0/0 GPUs\n",
      "Result logdir: /tmp/ray/session_2024-12-20_21-41-30_038316_36280/artifacts/2024-12-20_22-57-29/TorchTrainer_2024-12-20_22-55-27/driver_artifacts\n",
      "Number of trials: 1/1 (1 RUNNING)\n",
      "\n",
      "\n",
      "== Status ==\n",
      "Current time: 2024-12-20 23:02:02 (running for 00:04:32.38)\n",
      "Using FIFO scheduling algorithm.\n",
      "Logical resource usage: 7.0/10 CPUs, 0/0 GPUs\n",
      "Result logdir: /tmp/ray/session_2024-12-20_21-41-30_038316_36280/artifacts/2024-12-20_22-57-29/TorchTrainer_2024-12-20_22-55-27/driver_artifacts\n",
      "Number of trials: 1/1 (1 RUNNING)\n",
      "\n",
      "\n",
      "== Status ==\n",
      "Current time: 2024-12-20 23:02:07 (running for 00:04:37.40)\n",
      "Using FIFO scheduling algorithm.\n",
      "Logical resource usage: 7.0/10 CPUs, 0/0 GPUs\n",
      "Result logdir: /tmp/ray/session_2024-12-20_21-41-30_038316_36280/artifacts/2024-12-20_22-57-29/TorchTrainer_2024-12-20_22-55-27/driver_artifacts\n",
      "Number of trials: 1/1 (1 RUNNING)\n",
      "\n",
      "\n"
     ]
    },
    {
     "name": "stderr",
     "output_type": "stream",
     "text": [
      "2024-12-20 23:02:11,313\tWARNING experiment_state.py:206 -- Experiment state snapshotting has been triggered multiple times in the last 5.0 seconds and may become a bottleneck. A snapshot is forced if `CheckpointConfig(num_to_keep)` is set, and a trial has checkpointed >= `num_to_keep` times since the last snapshot.\n",
      "You may want to consider increasing the `CheckpointConfig(num_to_keep)` or decreasing the frequency of saving checkpoints.\n",
      "You can suppress this warning by setting the environment variable TUNE_WARN_EXCESSIVE_EXPERIMENT_CHECKPOINT_SYNC_THRESHOLD_S to a smaller value than the current threshold (5.0). Set it to 0 to completely suppress this warning.\n"
     ]
    },
    {
     "data": {
      "text/plain": [
       "(pid=38432) Running 0: 0.00 row [00:00, ? row/s]"
      ],
      "application/vnd.jupyter.widget-view+json": {
       "version_major": 2,
       "version_minor": 0,
       "model_id": "84df9937ab324cf8906beee482ed2881"
      }
     },
     "metadata": {},
     "output_type": "display_data"
    },
    {
     "data": {
      "text/plain": [
       "(pid=38432) - split(6, equal=True) 1: 0.00 row [00:00, ? row/s]"
      ],
      "application/vnd.jupyter.widget-view+json": {
       "version_major": 2,
       "version_minor": 0,
       "model_id": "b4da40b4f8f04ccba08da2c0ddc5a3c8"
      }
     },
     "metadata": {},
     "output_type": "display_data"
    },
    {
     "name": "stdout",
     "output_type": "stream",
     "text": [
      "== Status ==\n",
      "Current time: 2024-12-20 23:02:12 (running for 00:04:42.43)\n",
      "Using FIFO scheduling algorithm.\n",
      "Logical resource usage: 7.0/10 CPUs, 0/0 GPUs\n",
      "Result logdir: /tmp/ray/session_2024-12-20_21-41-30_038316_36280/artifacts/2024-12-20_22-57-29/TorchTrainer_2024-12-20_22-55-27/driver_artifacts\n",
      "Number of trials: 1/1 (1 RUNNING)\n",
      "\n",
      "\n",
      "== Status ==\n",
      "Current time: 2024-12-20 23:02:17 (running for 00:04:47.52)\n",
      "Using FIFO scheduling algorithm.\n",
      "Logical resource usage: 7.0/10 CPUs, 0/0 GPUs\n",
      "Result logdir: /tmp/ray/session_2024-12-20_21-41-30_038316_36280/artifacts/2024-12-20_22-57-29/TorchTrainer_2024-12-20_22-55-27/driver_artifacts\n",
      "Number of trials: 1/1 (1 RUNNING)\n",
      "\n",
      "\n",
      "== Status ==\n",
      "Current time: 2024-12-20 23:02:22 (running for 00:04:52.54)\n",
      "Using FIFO scheduling algorithm.\n",
      "Logical resource usage: 7.0/10 CPUs, 0/0 GPUs\n",
      "Result logdir: /tmp/ray/session_2024-12-20_21-41-30_038316_36280/artifacts/2024-12-20_22-57-29/TorchTrainer_2024-12-20_22-55-27/driver_artifacts\n",
      "Number of trials: 1/1 (1 RUNNING)\n",
      "\n",
      "\n",
      "== Status ==\n",
      "Current time: 2024-12-20 23:02:27 (running for 00:04:57.63)\n",
      "Using FIFO scheduling algorithm.\n",
      "Logical resource usage: 7.0/10 CPUs, 0/0 GPUs\n",
      "Result logdir: /tmp/ray/session_2024-12-20_21-41-30_038316_36280/artifacts/2024-12-20_22-57-29/TorchTrainer_2024-12-20_22-55-27/driver_artifacts\n",
      "Number of trials: 1/1 (1 RUNNING)\n",
      "\n",
      "\n",
      "== Status ==\n",
      "Current time: 2024-12-20 23:02:32 (running for 00:05:02.70)\n",
      "Using FIFO scheduling algorithm.\n",
      "Logical resource usage: 7.0/10 CPUs, 0/0 GPUs\n",
      "Result logdir: /tmp/ray/session_2024-12-20_21-41-30_038316_36280/artifacts/2024-12-20_22-57-29/TorchTrainer_2024-12-20_22-55-27/driver_artifacts\n",
      "Number of trials: 1/1 (1 RUNNING)\n",
      "\n",
      "\n",
      "== Status ==\n",
      "Current time: 2024-12-20 23:02:37 (running for 00:05:07.71)\n",
      "Using FIFO scheduling algorithm.\n",
      "Logical resource usage: 7.0/10 CPUs, 0/0 GPUs\n",
      "Result logdir: /tmp/ray/session_2024-12-20_21-41-30_038316_36280/artifacts/2024-12-20_22-57-29/TorchTrainer_2024-12-20_22-55-27/driver_artifacts\n",
      "Number of trials: 1/1 (1 RUNNING)\n",
      "\n",
      "\n",
      "== Status ==\n",
      "Current time: 2024-12-20 23:02:42 (running for 00:05:12.71)\n",
      "Using FIFO scheduling algorithm.\n",
      "Logical resource usage: 7.0/10 CPUs, 0/0 GPUs\n",
      "Result logdir: /tmp/ray/session_2024-12-20_21-41-30_038316_36280/artifacts/2024-12-20_22-57-29/TorchTrainer_2024-12-20_22-55-27/driver_artifacts\n",
      "Number of trials: 1/1 (1 RUNNING)\n",
      "\n",
      "\n",
      "== Status ==\n",
      "Current time: 2024-12-20 23:02:47 (running for 00:05:17.72)\n",
      "Using FIFO scheduling algorithm.\n",
      "Logical resource usage: 7.0/10 CPUs, 0/0 GPUs\n",
      "Result logdir: /tmp/ray/session_2024-12-20_21-41-30_038316_36280/artifacts/2024-12-20_22-57-29/TorchTrainer_2024-12-20_22-55-27/driver_artifacts\n",
      "Number of trials: 1/1 (1 RUNNING)\n",
      "\n",
      "\n",
      "== Status ==\n",
      "Current time: 2024-12-20 23:02:52 (running for 00:05:22.75)\n",
      "Using FIFO scheduling algorithm.\n",
      "Logical resource usage: 7.0/10 CPUs, 0/0 GPUs\n",
      "Result logdir: /tmp/ray/session_2024-12-20_21-41-30_038316_36280/artifacts/2024-12-20_22-57-29/TorchTrainer_2024-12-20_22-55-27/driver_artifacts\n",
      "Number of trials: 1/1 (1 RUNNING)\n",
      "\n",
      "\n",
      "== Status ==\n",
      "Current time: 2024-12-20 23:02:57 (running for 00:05:27.77)\n",
      "Using FIFO scheduling algorithm.\n",
      "Logical resource usage: 7.0/10 CPUs, 0/0 GPUs\n",
      "Result logdir: /tmp/ray/session_2024-12-20_21-41-30_038316_36280/artifacts/2024-12-20_22-57-29/TorchTrainer_2024-12-20_22-55-27/driver_artifacts\n",
      "Number of trials: 1/1 (1 RUNNING)\n",
      "\n",
      "\n",
      "== Status ==\n",
      "Current time: 2024-12-20 23:03:02 (running for 00:05:32.78)\n",
      "Using FIFO scheduling algorithm.\n",
      "Logical resource usage: 7.0/10 CPUs, 0/0 GPUs\n",
      "Result logdir: /tmp/ray/session_2024-12-20_21-41-30_038316_36280/artifacts/2024-12-20_22-57-29/TorchTrainer_2024-12-20_22-55-27/driver_artifacts\n",
      "Number of trials: 1/1 (1 RUNNING)\n",
      "\n",
      "\n"
     ]
    },
    {
     "name": "stderr",
     "output_type": "stream",
     "text": [
      "2024-12-20 23:03:04,024\tWARNING experiment_state.py:206 -- Experiment state snapshotting has been triggered multiple times in the last 5.0 seconds and may become a bottleneck. A snapshot is forced if `CheckpointConfig(num_to_keep)` is set, and a trial has checkpointed >= `num_to_keep` times since the last snapshot.\n",
      "You may want to consider increasing the `CheckpointConfig(num_to_keep)` or decreasing the frequency of saving checkpoints.\n",
      "You can suppress this warning by setting the environment variable TUNE_WARN_EXCESSIVE_EXPERIMENT_CHECKPOINT_SYNC_THRESHOLD_S to a smaller value than the current threshold (5.0). Set it to 0 to completely suppress this warning.\n"
     ]
    },
    {
     "data": {
      "text/plain": [
       "(pid=38432) Running 0: 0.00 row [00:00, ? row/s]"
      ],
      "application/vnd.jupyter.widget-view+json": {
       "version_major": 2,
       "version_minor": 0,
       "model_id": "a35307e094694feaa0c785ad067a2206"
      }
     },
     "metadata": {},
     "output_type": "display_data"
    },
    {
     "data": {
      "text/plain": [
       "(pid=38432) - split(6, equal=True) 1: 0.00 row [00:00, ? row/s]"
      ],
      "application/vnd.jupyter.widget-view+json": {
       "version_major": 2,
       "version_minor": 0,
       "model_id": "6b031ef047fb46d3a6d5f5a178856e55"
      }
     },
     "metadata": {},
     "output_type": "display_data"
    },
    {
     "name": "stdout",
     "output_type": "stream",
     "text": [
      "== Status ==\n",
      "Current time: 2024-12-20 23:03:07 (running for 00:05:37.85)\n",
      "Using FIFO scheduling algorithm.\n",
      "Logical resource usage: 7.0/10 CPUs, 0/0 GPUs\n",
      "Result logdir: /tmp/ray/session_2024-12-20_21-41-30_038316_36280/artifacts/2024-12-20_22-57-29/TorchTrainer_2024-12-20_22-55-27/driver_artifacts\n",
      "Number of trials: 1/1 (1 RUNNING)\n",
      "\n",
      "\n",
      "== Status ==\n",
      "Current time: 2024-12-20 23:03:12 (running for 00:05:42.88)\n",
      "Using FIFO scheduling algorithm.\n",
      "Logical resource usage: 7.0/10 CPUs, 0/0 GPUs\n",
      "Result logdir: /tmp/ray/session_2024-12-20_21-41-30_038316_36280/artifacts/2024-12-20_22-57-29/TorchTrainer_2024-12-20_22-55-27/driver_artifacts\n",
      "Number of trials: 1/1 (1 RUNNING)\n",
      "\n",
      "\n",
      "== Status ==\n",
      "Current time: 2024-12-20 23:03:17 (running for 00:05:47.90)\n",
      "Using FIFO scheduling algorithm.\n",
      "Logical resource usage: 7.0/10 CPUs, 0/0 GPUs\n",
      "Result logdir: /tmp/ray/session_2024-12-20_21-41-30_038316_36280/artifacts/2024-12-20_22-57-29/TorchTrainer_2024-12-20_22-55-27/driver_artifacts\n",
      "Number of trials: 1/1 (1 RUNNING)\n",
      "\n",
      "\n",
      "== Status ==\n",
      "Current time: 2024-12-20 23:03:22 (running for 00:05:52.92)\n",
      "Using FIFO scheduling algorithm.\n",
      "Logical resource usage: 7.0/10 CPUs, 0/0 GPUs\n",
      "Result logdir: /tmp/ray/session_2024-12-20_21-41-30_038316_36280/artifacts/2024-12-20_22-57-29/TorchTrainer_2024-12-20_22-55-27/driver_artifacts\n",
      "Number of trials: 1/1 (1 RUNNING)\n",
      "\n",
      "\n",
      "== Status ==\n",
      "Current time: 2024-12-20 23:03:27 (running for 00:05:57.96)\n",
      "Using FIFO scheduling algorithm.\n",
      "Logical resource usage: 7.0/10 CPUs, 0/0 GPUs\n",
      "Result logdir: /tmp/ray/session_2024-12-20_21-41-30_038316_36280/artifacts/2024-12-20_22-57-29/TorchTrainer_2024-12-20_22-55-27/driver_artifacts\n",
      "Number of trials: 1/1 (1 RUNNING)\n",
      "\n",
      "\n",
      "== Status ==\n",
      "Current time: 2024-12-20 23:03:32 (running for 00:06:02.97)\n",
      "Using FIFO scheduling algorithm.\n",
      "Logical resource usage: 7.0/10 CPUs, 0/0 GPUs\n",
      "Result logdir: /tmp/ray/session_2024-12-20_21-41-30_038316_36280/artifacts/2024-12-20_22-57-29/TorchTrainer_2024-12-20_22-55-27/driver_artifacts\n",
      "Number of trials: 1/1 (1 RUNNING)\n",
      "\n",
      "\n",
      "== Status ==\n",
      "Current time: 2024-12-20 23:03:37 (running for 00:06:07.97)\n",
      "Using FIFO scheduling algorithm.\n",
      "Logical resource usage: 7.0/10 CPUs, 0/0 GPUs\n",
      "Result logdir: /tmp/ray/session_2024-12-20_21-41-30_038316_36280/artifacts/2024-12-20_22-57-29/TorchTrainer_2024-12-20_22-55-27/driver_artifacts\n",
      "Number of trials: 1/1 (1 RUNNING)\n",
      "\n",
      "\n",
      "== Status ==\n",
      "Current time: 2024-12-20 23:03:42 (running for 00:06:12.98)\n",
      "Using FIFO scheduling algorithm.\n",
      "Logical resource usage: 7.0/10 CPUs, 0/0 GPUs\n",
      "Result logdir: /tmp/ray/session_2024-12-20_21-41-30_038316_36280/artifacts/2024-12-20_22-57-29/TorchTrainer_2024-12-20_22-55-27/driver_artifacts\n",
      "Number of trials: 1/1 (1 RUNNING)\n",
      "\n",
      "\n",
      "== Status ==\n",
      "Current time: 2024-12-20 23:03:47 (running for 00:06:18.02)\n",
      "Using FIFO scheduling algorithm.\n",
      "Logical resource usage: 7.0/10 CPUs, 0/0 GPUs\n",
      "Result logdir: /tmp/ray/session_2024-12-20_21-41-30_038316_36280/artifacts/2024-12-20_22-57-29/TorchTrainer_2024-12-20_22-55-27/driver_artifacts\n",
      "Number of trials: 1/1 (1 RUNNING)\n",
      "\n",
      "\n",
      "== Status ==\n",
      "Current time: 2024-12-20 23:03:52 (running for 00:06:23.04)\n",
      "Using FIFO scheduling algorithm.\n",
      "Logical resource usage: 7.0/10 CPUs, 0/0 GPUs\n",
      "Result logdir: /tmp/ray/session_2024-12-20_21-41-30_038316_36280/artifacts/2024-12-20_22-57-29/TorchTrainer_2024-12-20_22-55-27/driver_artifacts\n",
      "Number of trials: 1/1 (1 RUNNING)\n",
      "\n",
      "\n"
     ]
    },
    {
     "name": "stderr",
     "output_type": "stream",
     "text": [
      "2024-12-20 23:03:57,170\tWARNING experiment_state.py:206 -- Experiment state snapshotting has been triggered multiple times in the last 5.0 seconds and may become a bottleneck. A snapshot is forced if `CheckpointConfig(num_to_keep)` is set, and a trial has checkpointed >= `num_to_keep` times since the last snapshot.\n",
      "You may want to consider increasing the `CheckpointConfig(num_to_keep)` or decreasing the frequency of saving checkpoints.\n",
      "You can suppress this warning by setting the environment variable TUNE_WARN_EXCESSIVE_EXPERIMENT_CHECKPOINT_SYNC_THRESHOLD_S to a smaller value than the current threshold (5.0). Set it to 0 to completely suppress this warning.\n"
     ]
    },
    {
     "data": {
      "text/plain": [
       "(pid=38432) Running 0: 0.00 row [00:00, ? row/s]"
      ],
      "application/vnd.jupyter.widget-view+json": {
       "version_major": 2,
       "version_minor": 0,
       "model_id": "44a041672bc14e39b3bd8fc8d0d88b9b"
      }
     },
     "metadata": {},
     "output_type": "display_data"
    },
    {
     "data": {
      "text/plain": [
       "(pid=38432) - split(6, equal=True) 1: 0.00 row [00:00, ? row/s]"
      ],
      "application/vnd.jupyter.widget-view+json": {
       "version_major": 2,
       "version_minor": 0,
       "model_id": "a2305acdbea64e889b84c387d64182a5"
      }
     },
     "metadata": {},
     "output_type": "display_data"
    },
    {
     "name": "stdout",
     "output_type": "stream",
     "text": [
      "== Status ==\n",
      "Current time: 2024-12-20 23:03:57 (running for 00:06:28.04)\n",
      "Using FIFO scheduling algorithm.\n",
      "Logical resource usage: 7.0/10 CPUs, 0/0 GPUs\n",
      "Result logdir: /tmp/ray/session_2024-12-20_21-41-30_038316_36280/artifacts/2024-12-20_22-57-29/TorchTrainer_2024-12-20_22-55-27/driver_artifacts\n",
      "Number of trials: 1/1 (1 RUNNING)\n",
      "\n",
      "\n",
      "== Status ==\n",
      "Current time: 2024-12-20 23:04:03 (running for 00:06:33.07)\n",
      "Using FIFO scheduling algorithm.\n",
      "Logical resource usage: 7.0/10 CPUs, 0/0 GPUs\n",
      "Result logdir: /tmp/ray/session_2024-12-20_21-41-30_038316_36280/artifacts/2024-12-20_22-57-29/TorchTrainer_2024-12-20_22-55-27/driver_artifacts\n",
      "Number of trials: 1/1 (1 RUNNING)\n",
      "\n",
      "\n",
      "== Status ==\n",
      "Current time: 2024-12-20 23:04:08 (running for 00:06:38.11)\n",
      "Using FIFO scheduling algorithm.\n",
      "Logical resource usage: 7.0/10 CPUs, 0/0 GPUs\n",
      "Result logdir: /tmp/ray/session_2024-12-20_21-41-30_038316_36280/artifacts/2024-12-20_22-57-29/TorchTrainer_2024-12-20_22-55-27/driver_artifacts\n",
      "Number of trials: 1/1 (1 RUNNING)\n",
      "\n",
      "\n",
      "== Status ==\n",
      "Current time: 2024-12-20 23:04:13 (running for 00:06:43.21)\n",
      "Using FIFO scheduling algorithm.\n",
      "Logical resource usage: 7.0/10 CPUs, 0/0 GPUs\n",
      "Result logdir: /tmp/ray/session_2024-12-20_21-41-30_038316_36280/artifacts/2024-12-20_22-57-29/TorchTrainer_2024-12-20_22-55-27/driver_artifacts\n",
      "Number of trials: 1/1 (1 RUNNING)\n",
      "\n",
      "\n",
      "== Status ==\n",
      "Current time: 2024-12-20 23:04:18 (running for 00:06:48.24)\n",
      "Using FIFO scheduling algorithm.\n",
      "Logical resource usage: 7.0/10 CPUs, 0/0 GPUs\n",
      "Result logdir: /tmp/ray/session_2024-12-20_21-41-30_038316_36280/artifacts/2024-12-20_22-57-29/TorchTrainer_2024-12-20_22-55-27/driver_artifacts\n",
      "Number of trials: 1/1 (1 RUNNING)\n",
      "\n",
      "\n",
      "== Status ==\n",
      "Current time: 2024-12-20 23:04:23 (running for 00:06:53.32)\n",
      "Using FIFO scheduling algorithm.\n",
      "Logical resource usage: 7.0/10 CPUs, 0/0 GPUs\n",
      "Result logdir: /tmp/ray/session_2024-12-20_21-41-30_038316_36280/artifacts/2024-12-20_22-57-29/TorchTrainer_2024-12-20_22-55-27/driver_artifacts\n",
      "Number of trials: 1/1 (1 RUNNING)\n",
      "\n",
      "\n",
      "== Status ==\n",
      "Current time: 2024-12-20 23:04:28 (running for 00:06:58.41)\n",
      "Using FIFO scheduling algorithm.\n",
      "Logical resource usage: 7.0/10 CPUs, 0/0 GPUs\n",
      "Result logdir: /tmp/ray/session_2024-12-20_21-41-30_038316_36280/artifacts/2024-12-20_22-57-29/TorchTrainer_2024-12-20_22-55-27/driver_artifacts\n",
      "Number of trials: 1/1 (1 RUNNING)\n",
      "\n",
      "\n",
      "== Status ==\n",
      "Current time: 2024-12-20 23:04:33 (running for 00:07:03.43)\n",
      "Using FIFO scheduling algorithm.\n",
      "Logical resource usage: 7.0/10 CPUs, 0/0 GPUs\n",
      "Result logdir: /tmp/ray/session_2024-12-20_21-41-30_038316_36280/artifacts/2024-12-20_22-57-29/TorchTrainer_2024-12-20_22-55-27/driver_artifacts\n",
      "Number of trials: 1/1 (1 RUNNING)\n",
      "\n",
      "\n",
      "== Status ==\n",
      "Current time: 2024-12-20 23:04:38 (running for 00:07:08.44)\n",
      "Using FIFO scheduling algorithm.\n",
      "Logical resource usage: 7.0/10 CPUs, 0/0 GPUs\n",
      "Result logdir: /tmp/ray/session_2024-12-20_21-41-30_038316_36280/artifacts/2024-12-20_22-57-29/TorchTrainer_2024-12-20_22-55-27/driver_artifacts\n",
      "Number of trials: 1/1 (1 RUNNING)\n",
      "\n",
      "\n",
      "== Status ==\n",
      "Current time: 2024-12-20 23:04:43 (running for 00:07:13.50)\n",
      "Using FIFO scheduling algorithm.\n",
      "Logical resource usage: 7.0/10 CPUs, 0/0 GPUs\n",
      "Result logdir: /tmp/ray/session_2024-12-20_21-41-30_038316_36280/artifacts/2024-12-20_22-57-29/TorchTrainer_2024-12-20_22-55-27/driver_artifacts\n",
      "Number of trials: 1/1 (1 RUNNING)\n",
      "\n",
      "\n",
      "== Status ==\n",
      "Current time: 2024-12-20 23:04:48 (running for 00:07:18.51)\n",
      "Using FIFO scheduling algorithm.\n",
      "Logical resource usage: 7.0/10 CPUs, 0/0 GPUs\n",
      "Result logdir: /tmp/ray/session_2024-12-20_21-41-30_038316_36280/artifacts/2024-12-20_22-57-29/TorchTrainer_2024-12-20_22-55-27/driver_artifacts\n",
      "Number of trials: 1/1 (1 RUNNING)\n",
      "\n",
      "\n"
     ]
    },
    {
     "data": {
      "text/plain": [
       "(pid=38432) Running 0: 0.00 row [00:00, ? row/s]"
      ],
      "application/vnd.jupyter.widget-view+json": {
       "version_major": 2,
       "version_minor": 0,
       "model_id": "3bb545944c8b401289cbdbd64f14c063"
      }
     },
     "metadata": {},
     "output_type": "display_data"
    },
    {
     "data": {
      "text/plain": [
       "(pid=38432) - split(6, equal=True) 1: 0.00 row [00:00, ? row/s]"
      ],
      "application/vnd.jupyter.widget-view+json": {
       "version_major": 2,
       "version_minor": 0,
       "model_id": "3f3254e055da494ebf648558ed9f8994"
      }
     },
     "metadata": {},
     "output_type": "display_data"
    },
    {
     "name": "stderr",
     "output_type": "stream",
     "text": [
      "2024-12-20 23:04:49,759\tWARNING experiment_state.py:206 -- Experiment state snapshotting has been triggered multiple times in the last 5.0 seconds and may become a bottleneck. A snapshot is forced if `CheckpointConfig(num_to_keep)` is set, and a trial has checkpointed >= `num_to_keep` times since the last snapshot.\n",
      "You may want to consider increasing the `CheckpointConfig(num_to_keep)` or decreasing the frequency of saving checkpoints.\n",
      "You can suppress this warning by setting the environment variable TUNE_WARN_EXCESSIVE_EXPERIMENT_CHECKPOINT_SYNC_THRESHOLD_S to a smaller value than the current threshold (5.0). Set it to 0 to completely suppress this warning.\n"
     ]
    },
    {
     "name": "stdout",
     "output_type": "stream",
     "text": [
      "== Status ==\n",
      "Current time: 2024-12-20 23:04:53 (running for 00:07:23.59)\n",
      "Using FIFO scheduling algorithm.\n",
      "Logical resource usage: 7.0/10 CPUs, 0/0 GPUs\n",
      "Result logdir: /tmp/ray/session_2024-12-20_21-41-30_038316_36280/artifacts/2024-12-20_22-57-29/TorchTrainer_2024-12-20_22-55-27/driver_artifacts\n",
      "Number of trials: 1/1 (1 RUNNING)\n",
      "\n",
      "\n",
      "== Status ==\n",
      "Current time: 2024-12-20 23:04:58 (running for 00:07:28.59)\n",
      "Using FIFO scheduling algorithm.\n",
      "Logical resource usage: 7.0/10 CPUs, 0/0 GPUs\n",
      "Result logdir: /tmp/ray/session_2024-12-20_21-41-30_038316_36280/artifacts/2024-12-20_22-57-29/TorchTrainer_2024-12-20_22-55-27/driver_artifacts\n",
      "Number of trials: 1/1 (1 RUNNING)\n",
      "\n",
      "\n",
      "== Status ==\n",
      "Current time: 2024-12-20 23:05:03 (running for 00:07:33.63)\n",
      "Using FIFO scheduling algorithm.\n",
      "Logical resource usage: 7.0/10 CPUs, 0/0 GPUs\n",
      "Result logdir: /tmp/ray/session_2024-12-20_21-41-30_038316_36280/artifacts/2024-12-20_22-57-29/TorchTrainer_2024-12-20_22-55-27/driver_artifacts\n",
      "Number of trials: 1/1 (1 RUNNING)\n",
      "\n",
      "\n",
      "== Status ==\n",
      "Current time: 2024-12-20 23:05:08 (running for 00:07:38.71)\n",
      "Using FIFO scheduling algorithm.\n",
      "Logical resource usage: 7.0/10 CPUs, 0/0 GPUs\n",
      "Result logdir: /tmp/ray/session_2024-12-20_21-41-30_038316_36280/artifacts/2024-12-20_22-57-29/TorchTrainer_2024-12-20_22-55-27/driver_artifacts\n",
      "Number of trials: 1/1 (1 RUNNING)\n",
      "\n",
      "\n",
      "== Status ==\n",
      "Current time: 2024-12-20 23:05:13 (running for 00:07:43.73)\n",
      "Using FIFO scheduling algorithm.\n",
      "Logical resource usage: 7.0/10 CPUs, 0/0 GPUs\n",
      "Result logdir: /tmp/ray/session_2024-12-20_21-41-30_038316_36280/artifacts/2024-12-20_22-57-29/TorchTrainer_2024-12-20_22-55-27/driver_artifacts\n",
      "Number of trials: 1/1 (1 RUNNING)\n",
      "\n",
      "\n",
      "== Status ==\n",
      "Current time: 2024-12-20 23:05:18 (running for 00:07:48.74)\n",
      "Using FIFO scheduling algorithm.\n",
      "Logical resource usage: 7.0/10 CPUs, 0/0 GPUs\n",
      "Result logdir: /tmp/ray/session_2024-12-20_21-41-30_038316_36280/artifacts/2024-12-20_22-57-29/TorchTrainer_2024-12-20_22-55-27/driver_artifacts\n",
      "Number of trials: 1/1 (1 RUNNING)\n",
      "\n",
      "\n",
      "== Status ==\n",
      "Current time: 2024-12-20 23:05:23 (running for 00:07:53.77)\n",
      "Using FIFO scheduling algorithm.\n",
      "Logical resource usage: 7.0/10 CPUs, 0/0 GPUs\n",
      "Result logdir: /tmp/ray/session_2024-12-20_21-41-30_038316_36280/artifacts/2024-12-20_22-57-29/TorchTrainer_2024-12-20_22-55-27/driver_artifacts\n",
      "Number of trials: 1/1 (1 RUNNING)\n",
      "\n",
      "\n",
      "== Status ==\n",
      "Current time: 2024-12-20 23:05:28 (running for 00:07:58.85)\n",
      "Using FIFO scheduling algorithm.\n",
      "Logical resource usage: 7.0/10 CPUs, 0/0 GPUs\n",
      "Result logdir: /tmp/ray/session_2024-12-20_21-41-30_038316_36280/artifacts/2024-12-20_22-57-29/TorchTrainer_2024-12-20_22-55-27/driver_artifacts\n",
      "Number of trials: 1/1 (1 RUNNING)\n",
      "\n",
      "\n",
      "== Status ==\n",
      "Current time: 2024-12-20 23:05:33 (running for 00:08:03.87)\n",
      "Using FIFO scheduling algorithm.\n",
      "Logical resource usage: 7.0/10 CPUs, 0/0 GPUs\n",
      "Result logdir: /tmp/ray/session_2024-12-20_21-41-30_038316_36280/artifacts/2024-12-20_22-57-29/TorchTrainer_2024-12-20_22-55-27/driver_artifacts\n",
      "Number of trials: 1/1 (1 RUNNING)\n",
      "\n",
      "\n",
      "== Status ==\n",
      "Current time: 2024-12-20 23:05:38 (running for 00:08:08.90)\n",
      "Using FIFO scheduling algorithm.\n",
      "Logical resource usage: 7.0/10 CPUs, 0/0 GPUs\n",
      "Result logdir: /tmp/ray/session_2024-12-20_21-41-30_038316_36280/artifacts/2024-12-20_22-57-29/TorchTrainer_2024-12-20_22-55-27/driver_artifacts\n",
      "Number of trials: 1/1 (1 RUNNING)\n",
      "\n",
      "\n"
     ]
    },
    {
     "name": "stderr",
     "output_type": "stream",
     "text": [
      "2024-12-20 23:05:43,893\tWARNING experiment_state.py:206 -- Experiment state snapshotting has been triggered multiple times in the last 5.0 seconds and may become a bottleneck. A snapshot is forced if `CheckpointConfig(num_to_keep)` is set, and a trial has checkpointed >= `num_to_keep` times since the last snapshot.\n",
      "You may want to consider increasing the `CheckpointConfig(num_to_keep)` or decreasing the frequency of saving checkpoints.\n",
      "You can suppress this warning by setting the environment variable TUNE_WARN_EXCESSIVE_EXPERIMENT_CHECKPOINT_SYNC_THRESHOLD_S to a smaller value than the current threshold (5.0). Set it to 0 to completely suppress this warning.\n"
     ]
    },
    {
     "name": "stdout",
     "output_type": "stream",
     "text": [
      "== Status ==\n",
      "Current time: 2024-12-20 23:05:43 (running for 00:08:13.94)\n",
      "Using FIFO scheduling algorithm.\n",
      "Logical resource usage: 7.0/10 CPUs, 0/0 GPUs\n",
      "Result logdir: /tmp/ray/session_2024-12-20_21-41-30_038316_36280/artifacts/2024-12-20_22-57-29/TorchTrainer_2024-12-20_22-55-27/driver_artifacts\n",
      "Number of trials: 1/1 (1 RUNNING)\n",
      "\n",
      "\n"
     ]
    },
    {
     "data": {
      "text/plain": [
       "(pid=38432) Running 0: 0.00 row [00:00, ? row/s]"
      ],
      "application/vnd.jupyter.widget-view+json": {
       "version_major": 2,
       "version_minor": 0,
       "model_id": "bf5f96e0e29641b0ac977ae8eb813ec5"
      }
     },
     "metadata": {},
     "output_type": "display_data"
    },
    {
     "data": {
      "text/plain": [
       "(pid=38432) - split(6, equal=True) 1: 0.00 row [00:00, ? row/s]"
      ],
      "application/vnd.jupyter.widget-view+json": {
       "version_major": 2,
       "version_minor": 0,
       "model_id": "d428b8ff1a0e44caafbb4744c5e41a20"
      }
     },
     "metadata": {},
     "output_type": "display_data"
    },
    {
     "name": "stdout",
     "output_type": "stream",
     "text": [
      "== Status ==\n",
      "Current time: 2024-12-20 23:05:48 (running for 00:08:19.03)\n",
      "Using FIFO scheduling algorithm.\n",
      "Logical resource usage: 7.0/10 CPUs, 0/0 GPUs\n",
      "Result logdir: /tmp/ray/session_2024-12-20_21-41-30_038316_36280/artifacts/2024-12-20_22-57-29/TorchTrainer_2024-12-20_22-55-27/driver_artifacts\n",
      "Number of trials: 1/1 (1 RUNNING)\n",
      "\n",
      "\n",
      "== Status ==\n",
      "Current time: 2024-12-20 23:05:54 (running for 00:08:24.07)\n",
      "Using FIFO scheduling algorithm.\n",
      "Logical resource usage: 7.0/10 CPUs, 0/0 GPUs\n",
      "Result logdir: /tmp/ray/session_2024-12-20_21-41-30_038316_36280/artifacts/2024-12-20_22-57-29/TorchTrainer_2024-12-20_22-55-27/driver_artifacts\n",
      "Number of trials: 1/1 (1 RUNNING)\n",
      "\n",
      "\n",
      "== Status ==\n",
      "Current time: 2024-12-20 23:05:59 (running for 00:08:29.09)\n",
      "Using FIFO scheduling algorithm.\n",
      "Logical resource usage: 7.0/10 CPUs, 0/0 GPUs\n",
      "Result logdir: /tmp/ray/session_2024-12-20_21-41-30_038316_36280/artifacts/2024-12-20_22-57-29/TorchTrainer_2024-12-20_22-55-27/driver_artifacts\n",
      "Number of trials: 1/1 (1 RUNNING)\n",
      "\n",
      "\n",
      "== Status ==\n",
      "Current time: 2024-12-20 23:06:04 (running for 00:08:34.13)\n",
      "Using FIFO scheduling algorithm.\n",
      "Logical resource usage: 7.0/10 CPUs, 0/0 GPUs\n",
      "Result logdir: /tmp/ray/session_2024-12-20_21-41-30_038316_36280/artifacts/2024-12-20_22-57-29/TorchTrainer_2024-12-20_22-55-27/driver_artifacts\n",
      "Number of trials: 1/1 (1 RUNNING)\n",
      "\n",
      "\n",
      "== Status ==\n",
      "Current time: 2024-12-20 23:06:09 (running for 00:08:39.16)\n",
      "Using FIFO scheduling algorithm.\n",
      "Logical resource usage: 7.0/10 CPUs, 0/0 GPUs\n",
      "Result logdir: /tmp/ray/session_2024-12-20_21-41-30_038316_36280/artifacts/2024-12-20_22-57-29/TorchTrainer_2024-12-20_22-55-27/driver_artifacts\n",
      "Number of trials: 1/1 (1 RUNNING)\n",
      "\n",
      "\n",
      "== Status ==\n",
      "Current time: 2024-12-20 23:06:14 (running for 00:08:44.26)\n",
      "Using FIFO scheduling algorithm.\n",
      "Logical resource usage: 7.0/10 CPUs, 0/0 GPUs\n",
      "Result logdir: /tmp/ray/session_2024-12-20_21-41-30_038316_36280/artifacts/2024-12-20_22-57-29/TorchTrainer_2024-12-20_22-55-27/driver_artifacts\n",
      "Number of trials: 1/1 (1 RUNNING)\n",
      "\n",
      "\n",
      "== Status ==\n",
      "Current time: 2024-12-20 23:06:19 (running for 00:08:49.28)\n",
      "Using FIFO scheduling algorithm.\n",
      "Logical resource usage: 7.0/10 CPUs, 0/0 GPUs\n",
      "Result logdir: /tmp/ray/session_2024-12-20_21-41-30_038316_36280/artifacts/2024-12-20_22-57-29/TorchTrainer_2024-12-20_22-55-27/driver_artifacts\n",
      "Number of trials: 1/1 (1 RUNNING)\n",
      "\n",
      "\n",
      "== Status ==\n",
      "Current time: 2024-12-20 23:06:24 (running for 00:08:54.32)\n",
      "Using FIFO scheduling algorithm.\n",
      "Logical resource usage: 7.0/10 CPUs, 0/0 GPUs\n",
      "Result logdir: /tmp/ray/session_2024-12-20_21-41-30_038316_36280/artifacts/2024-12-20_22-57-29/TorchTrainer_2024-12-20_22-55-27/driver_artifacts\n",
      "Number of trials: 1/1 (1 RUNNING)\n",
      "\n",
      "\n",
      "== Status ==\n",
      "Current time: 2024-12-20 23:06:29 (running for 00:08:59.35)\n",
      "Using FIFO scheduling algorithm.\n",
      "Logical resource usage: 7.0/10 CPUs, 0/0 GPUs\n",
      "Result logdir: /tmp/ray/session_2024-12-20_21-41-30_038316_36280/artifacts/2024-12-20_22-57-29/TorchTrainer_2024-12-20_22-55-27/driver_artifacts\n",
      "Number of trials: 1/1 (1 RUNNING)\n",
      "\n",
      "\n",
      "== Status ==\n",
      "Current time: 2024-12-20 23:06:34 (running for 00:09:04.38)\n",
      "Using FIFO scheduling algorithm.\n",
      "Logical resource usage: 7.0/10 CPUs, 0/0 GPUs\n",
      "Result logdir: /tmp/ray/session_2024-12-20_21-41-30_038316_36280/artifacts/2024-12-20_22-57-29/TorchTrainer_2024-12-20_22-55-27/driver_artifacts\n",
      "Number of trials: 1/1 (1 RUNNING)\n",
      "\n",
      "\n"
     ]
    },
    {
     "name": "stderr",
     "output_type": "stream",
     "text": [
      "2024-12-20 23:06:37,185\tWARNING experiment_state.py:206 -- Experiment state snapshotting has been triggered multiple times in the last 5.0 seconds and may become a bottleneck. A snapshot is forced if `CheckpointConfig(num_to_keep)` is set, and a trial has checkpointed >= `num_to_keep` times since the last snapshot.\n",
      "You may want to consider increasing the `CheckpointConfig(num_to_keep)` or decreasing the frequency of saving checkpoints.\n",
      "You can suppress this warning by setting the environment variable TUNE_WARN_EXCESSIVE_EXPERIMENT_CHECKPOINT_SYNC_THRESHOLD_S to a smaller value than the current threshold (5.0). Set it to 0 to completely suppress this warning.\n",
      "2024-12-20 23:06:38,395\tINFO tune.py:1009 -- Wrote the latest version of all result files and experiment state to '/Users/monkey/ray_results/e2e-machine-learning/TorchTrainer_2024-12-20_22-55-27' in 0.0024s.\n",
      "2024-12-20 23:06:38,403\tINFO tune.py:1041 -- Total run time: 548.47 seconds (548.46 seconds for the tuning loop).\n"
     ]
    },
    {
     "name": "stdout",
     "output_type": "stream",
     "text": [
      "== Status ==\n",
      "Current time: 2024-12-20 23:06:38 (running for 00:09:08.46)\n",
      "Using FIFO scheduling algorithm.\n",
      "Logical resource usage: 7.0/10 CPUs, 0/0 GPUs\n",
      "Result logdir: /tmp/ray/session_2024-12-20_21-41-30_038316_36280/artifacts/2024-12-20_22-57-29/TorchTrainer_2024-12-20_22-55-27/driver_artifacts\n",
      "Number of trials: 1/1 (1 TERMINATED)\n",
      "\n",
      "\n",
      "CPU times: user 3.06 s, sys: 1.65 s, total: 4.71 s\n",
      "Wall time: 9min 8s\n"
     ]
    }
   ],
   "execution_count": 110
  },
  {
   "metadata": {
    "ExecuteTime": {
     "end_time": "2024-12-20T22:07:35.918335Z",
     "start_time": "2024-12-20T22:07:35.690032Z"
    }
   },
   "cell_type": "code",
   "source": [
    "results.metrics_dataframe"
   ],
   "id": "78148ab2064adbf5",
   "outputs": [
    {
     "data": {
      "text/plain": [
       "   epoch      lr  train_loss  val_loss   timestamp checkpoint_dir_name  \\\n",
       "0      0  0.0001    0.660014  0.512653  1734731914   checkpoint_000000   \n",
       "1      1  0.0001    0.520997  0.499366  1734731970   checkpoint_000001   \n",
       "2      2  0.0001    0.502185  0.454787  1734732027   checkpoint_000002   \n",
       "3      3  0.0001    0.440757  0.367964  1734732077   checkpoint_000003   \n",
       "4      4  0.0001    0.348682  0.281603  1734732129   checkpoint_000004   \n",
       "5      5  0.0001    0.243145  0.231836  1734732183   checkpoint_000005   \n",
       "6      6  0.0001    0.152483  0.203076  1734732236   checkpoint_000006   \n",
       "7      7  0.0001    0.099189  0.192916  1734732288   checkpoint_000007   \n",
       "8      8  0.0001    0.072616  0.182709  1734732343   checkpoint_000008   \n",
       "9      9  0.0001    0.057624  0.180028  1734732395   checkpoint_000009   \n",
       "\n",
       "   should_checkpoint   done  training_iteration     trial_id  ...    node_ip  \\\n",
       "0               True  False                   1  68765_00000  ...  127.0.0.1   \n",
       "1               True  False                   2  68765_00000  ...  127.0.0.1   \n",
       "2               True  False                   3  68765_00000  ...  127.0.0.1   \n",
       "3               True  False                   4  68765_00000  ...  127.0.0.1   \n",
       "4               True  False                   5  68765_00000  ...  127.0.0.1   \n",
       "5               True  False                   6  68765_00000  ...  127.0.0.1   \n",
       "6               True  False                   7  68765_00000  ...  127.0.0.1   \n",
       "7               True  False                   8  68765_00000  ...  127.0.0.1   \n",
       "8               True  False                   9  68765_00000  ...  127.0.0.1   \n",
       "9               True  False                  10  68765_00000  ...  127.0.0.1   \n",
       "\n",
       "   time_since_restore  iterations_since_restore  \\\n",
       "0           62.191468                         1   \n",
       "1          117.592718                         2   \n",
       "2          173.967589                         3   \n",
       "3          223.900918                         4   \n",
       "4          277.043520                         5   \n",
       "5          329.706053                         6   \n",
       "6          382.813116                         7   \n",
       "7          435.221483                         8   \n",
       "8          489.298553                         9   \n",
       "9          542.451860                        10   \n",
       "\n",
       "   config/train_loop_config/dropout_p config/train_loop_config/lr  \\\n",
       "0                                 0.5                      0.0001   \n",
       "1                                 0.5                      0.0001   \n",
       "2                                 0.5                      0.0001   \n",
       "3                                 0.5                      0.0001   \n",
       "4                                 0.5                      0.0001   \n",
       "5                                 0.5                      0.0001   \n",
       "6                                 0.5                      0.0001   \n",
       "7                                 0.5                      0.0001   \n",
       "8                                 0.5                      0.0001   \n",
       "9                                 0.5                      0.0001   \n",
       "\n",
       "  config/train_loop_config/lr_factor  config/train_loop_config/lr_patience  \\\n",
       "0                                0.8                                     3   \n",
       "1                                0.8                                     3   \n",
       "2                                0.8                                     3   \n",
       "3                                0.8                                     3   \n",
       "4                                0.8                                     3   \n",
       "5                                0.8                                     3   \n",
       "6                                0.8                                     3   \n",
       "7                                0.8                                     3   \n",
       "8                                0.8                                     3   \n",
       "9                                0.8                                     3   \n",
       "\n",
       "   config/train_loop_config/num_epochs  config/train_loop_config/batch_size  \\\n",
       "0                                   10                                  256   \n",
       "1                                   10                                  256   \n",
       "2                                   10                                  256   \n",
       "3                                   10                                  256   \n",
       "4                                   10                                  256   \n",
       "5                                   10                                  256   \n",
       "6                                   10                                  256   \n",
       "7                                   10                                  256   \n",
       "8                                   10                                  256   \n",
       "9                                   10                                  256   \n",
       "\n",
       "   config/train_loop_config/num_classes  \n",
       "0                                     4  \n",
       "1                                     4  \n",
       "2                                     4  \n",
       "3                                     4  \n",
       "4                                     4  \n",
       "5                                     4  \n",
       "6                                     4  \n",
       "7                                     4  \n",
       "8                                     4  \n",
       "9                                     4  \n",
       "\n",
       "[10 rows x 25 columns]"
      ],
      "text/html": [
       "<div>\n",
       "<style scoped>\n",
       "    .dataframe tbody tr th:only-of-type {\n",
       "        vertical-align: middle;\n",
       "    }\n",
       "\n",
       "    .dataframe tbody tr th {\n",
       "        vertical-align: top;\n",
       "    }\n",
       "\n",
       "    .dataframe thead th {\n",
       "        text-align: right;\n",
       "    }\n",
       "</style>\n",
       "<table border=\"1\" class=\"dataframe\">\n",
       "  <thead>\n",
       "    <tr style=\"text-align: right;\">\n",
       "      <th></th>\n",
       "      <th>epoch</th>\n",
       "      <th>lr</th>\n",
       "      <th>train_loss</th>\n",
       "      <th>val_loss</th>\n",
       "      <th>timestamp</th>\n",
       "      <th>checkpoint_dir_name</th>\n",
       "      <th>should_checkpoint</th>\n",
       "      <th>done</th>\n",
       "      <th>training_iteration</th>\n",
       "      <th>trial_id</th>\n",
       "      <th>...</th>\n",
       "      <th>node_ip</th>\n",
       "      <th>time_since_restore</th>\n",
       "      <th>iterations_since_restore</th>\n",
       "      <th>config/train_loop_config/dropout_p</th>\n",
       "      <th>config/train_loop_config/lr</th>\n",
       "      <th>config/train_loop_config/lr_factor</th>\n",
       "      <th>config/train_loop_config/lr_patience</th>\n",
       "      <th>config/train_loop_config/num_epochs</th>\n",
       "      <th>config/train_loop_config/batch_size</th>\n",
       "      <th>config/train_loop_config/num_classes</th>\n",
       "    </tr>\n",
       "  </thead>\n",
       "  <tbody>\n",
       "    <tr>\n",
       "      <th>0</th>\n",
       "      <td>0</td>\n",
       "      <td>0.0001</td>\n",
       "      <td>0.660014</td>\n",
       "      <td>0.512653</td>\n",
       "      <td>1734731914</td>\n",
       "      <td>checkpoint_000000</td>\n",
       "      <td>True</td>\n",
       "      <td>False</td>\n",
       "      <td>1</td>\n",
       "      <td>68765_00000</td>\n",
       "      <td>...</td>\n",
       "      <td>127.0.0.1</td>\n",
       "      <td>62.191468</td>\n",
       "      <td>1</td>\n",
       "      <td>0.5</td>\n",
       "      <td>0.0001</td>\n",
       "      <td>0.8</td>\n",
       "      <td>3</td>\n",
       "      <td>10</td>\n",
       "      <td>256</td>\n",
       "      <td>4</td>\n",
       "    </tr>\n",
       "    <tr>\n",
       "      <th>1</th>\n",
       "      <td>1</td>\n",
       "      <td>0.0001</td>\n",
       "      <td>0.520997</td>\n",
       "      <td>0.499366</td>\n",
       "      <td>1734731970</td>\n",
       "      <td>checkpoint_000001</td>\n",
       "      <td>True</td>\n",
       "      <td>False</td>\n",
       "      <td>2</td>\n",
       "      <td>68765_00000</td>\n",
       "      <td>...</td>\n",
       "      <td>127.0.0.1</td>\n",
       "      <td>117.592718</td>\n",
       "      <td>2</td>\n",
       "      <td>0.5</td>\n",
       "      <td>0.0001</td>\n",
       "      <td>0.8</td>\n",
       "      <td>3</td>\n",
       "      <td>10</td>\n",
       "      <td>256</td>\n",
       "      <td>4</td>\n",
       "    </tr>\n",
       "    <tr>\n",
       "      <th>2</th>\n",
       "      <td>2</td>\n",
       "      <td>0.0001</td>\n",
       "      <td>0.502185</td>\n",
       "      <td>0.454787</td>\n",
       "      <td>1734732027</td>\n",
       "      <td>checkpoint_000002</td>\n",
       "      <td>True</td>\n",
       "      <td>False</td>\n",
       "      <td>3</td>\n",
       "      <td>68765_00000</td>\n",
       "      <td>...</td>\n",
       "      <td>127.0.0.1</td>\n",
       "      <td>173.967589</td>\n",
       "      <td>3</td>\n",
       "      <td>0.5</td>\n",
       "      <td>0.0001</td>\n",
       "      <td>0.8</td>\n",
       "      <td>3</td>\n",
       "      <td>10</td>\n",
       "      <td>256</td>\n",
       "      <td>4</td>\n",
       "    </tr>\n",
       "    <tr>\n",
       "      <th>3</th>\n",
       "      <td>3</td>\n",
       "      <td>0.0001</td>\n",
       "      <td>0.440757</td>\n",
       "      <td>0.367964</td>\n",
       "      <td>1734732077</td>\n",
       "      <td>checkpoint_000003</td>\n",
       "      <td>True</td>\n",
       "      <td>False</td>\n",
       "      <td>4</td>\n",
       "      <td>68765_00000</td>\n",
       "      <td>...</td>\n",
       "      <td>127.0.0.1</td>\n",
       "      <td>223.900918</td>\n",
       "      <td>4</td>\n",
       "      <td>0.5</td>\n",
       "      <td>0.0001</td>\n",
       "      <td>0.8</td>\n",
       "      <td>3</td>\n",
       "      <td>10</td>\n",
       "      <td>256</td>\n",
       "      <td>4</td>\n",
       "    </tr>\n",
       "    <tr>\n",
       "      <th>4</th>\n",
       "      <td>4</td>\n",
       "      <td>0.0001</td>\n",
       "      <td>0.348682</td>\n",
       "      <td>0.281603</td>\n",
       "      <td>1734732129</td>\n",
       "      <td>checkpoint_000004</td>\n",
       "      <td>True</td>\n",
       "      <td>False</td>\n",
       "      <td>5</td>\n",
       "      <td>68765_00000</td>\n",
       "      <td>...</td>\n",
       "      <td>127.0.0.1</td>\n",
       "      <td>277.043520</td>\n",
       "      <td>5</td>\n",
       "      <td>0.5</td>\n",
       "      <td>0.0001</td>\n",
       "      <td>0.8</td>\n",
       "      <td>3</td>\n",
       "      <td>10</td>\n",
       "      <td>256</td>\n",
       "      <td>4</td>\n",
       "    </tr>\n",
       "    <tr>\n",
       "      <th>5</th>\n",
       "      <td>5</td>\n",
       "      <td>0.0001</td>\n",
       "      <td>0.243145</td>\n",
       "      <td>0.231836</td>\n",
       "      <td>1734732183</td>\n",
       "      <td>checkpoint_000005</td>\n",
       "      <td>True</td>\n",
       "      <td>False</td>\n",
       "      <td>6</td>\n",
       "      <td>68765_00000</td>\n",
       "      <td>...</td>\n",
       "      <td>127.0.0.1</td>\n",
       "      <td>329.706053</td>\n",
       "      <td>6</td>\n",
       "      <td>0.5</td>\n",
       "      <td>0.0001</td>\n",
       "      <td>0.8</td>\n",
       "      <td>3</td>\n",
       "      <td>10</td>\n",
       "      <td>256</td>\n",
       "      <td>4</td>\n",
       "    </tr>\n",
       "    <tr>\n",
       "      <th>6</th>\n",
       "      <td>6</td>\n",
       "      <td>0.0001</td>\n",
       "      <td>0.152483</td>\n",
       "      <td>0.203076</td>\n",
       "      <td>1734732236</td>\n",
       "      <td>checkpoint_000006</td>\n",
       "      <td>True</td>\n",
       "      <td>False</td>\n",
       "      <td>7</td>\n",
       "      <td>68765_00000</td>\n",
       "      <td>...</td>\n",
       "      <td>127.0.0.1</td>\n",
       "      <td>382.813116</td>\n",
       "      <td>7</td>\n",
       "      <td>0.5</td>\n",
       "      <td>0.0001</td>\n",
       "      <td>0.8</td>\n",
       "      <td>3</td>\n",
       "      <td>10</td>\n",
       "      <td>256</td>\n",
       "      <td>4</td>\n",
       "    </tr>\n",
       "    <tr>\n",
       "      <th>7</th>\n",
       "      <td>7</td>\n",
       "      <td>0.0001</td>\n",
       "      <td>0.099189</td>\n",
       "      <td>0.192916</td>\n",
       "      <td>1734732288</td>\n",
       "      <td>checkpoint_000007</td>\n",
       "      <td>True</td>\n",
       "      <td>False</td>\n",
       "      <td>8</td>\n",
       "      <td>68765_00000</td>\n",
       "      <td>...</td>\n",
       "      <td>127.0.0.1</td>\n",
       "      <td>435.221483</td>\n",
       "      <td>8</td>\n",
       "      <td>0.5</td>\n",
       "      <td>0.0001</td>\n",
       "      <td>0.8</td>\n",
       "      <td>3</td>\n",
       "      <td>10</td>\n",
       "      <td>256</td>\n",
       "      <td>4</td>\n",
       "    </tr>\n",
       "    <tr>\n",
       "      <th>8</th>\n",
       "      <td>8</td>\n",
       "      <td>0.0001</td>\n",
       "      <td>0.072616</td>\n",
       "      <td>0.182709</td>\n",
       "      <td>1734732343</td>\n",
       "      <td>checkpoint_000008</td>\n",
       "      <td>True</td>\n",
       "      <td>False</td>\n",
       "      <td>9</td>\n",
       "      <td>68765_00000</td>\n",
       "      <td>...</td>\n",
       "      <td>127.0.0.1</td>\n",
       "      <td>489.298553</td>\n",
       "      <td>9</td>\n",
       "      <td>0.5</td>\n",
       "      <td>0.0001</td>\n",
       "      <td>0.8</td>\n",
       "      <td>3</td>\n",
       "      <td>10</td>\n",
       "      <td>256</td>\n",
       "      <td>4</td>\n",
       "    </tr>\n",
       "    <tr>\n",
       "      <th>9</th>\n",
       "      <td>9</td>\n",
       "      <td>0.0001</td>\n",
       "      <td>0.057624</td>\n",
       "      <td>0.180028</td>\n",
       "      <td>1734732395</td>\n",
       "      <td>checkpoint_000009</td>\n",
       "      <td>True</td>\n",
       "      <td>False</td>\n",
       "      <td>10</td>\n",
       "      <td>68765_00000</td>\n",
       "      <td>...</td>\n",
       "      <td>127.0.0.1</td>\n",
       "      <td>542.451860</td>\n",
       "      <td>10</td>\n",
       "      <td>0.5</td>\n",
       "      <td>0.0001</td>\n",
       "      <td>0.8</td>\n",
       "      <td>3</td>\n",
       "      <td>10</td>\n",
       "      <td>256</td>\n",
       "      <td>4</td>\n",
       "    </tr>\n",
       "  </tbody>\n",
       "</table>\n",
       "<p>10 rows × 25 columns</p>\n",
       "</div>"
      ]
     },
     "execution_count": 111,
     "metadata": {},
     "output_type": "execute_result"
    }
   ],
   "execution_count": 111
  },
  {
   "metadata": {
    "ExecuteTime": {
     "end_time": "2024-12-20T22:07:43.214686Z",
     "start_time": "2024-12-20T22:07:43.151661Z"
    }
   },
   "cell_type": "code",
   "source": [
    "# Sorted runs\n",
    "sorted_runs = mlflow.search_runs(\n",
    "    experiment_names=[experiment_name], order_by=[\"metrics.val_loss ASC\"]\n",
    ")\n",
    "sorted_runs"
   ],
   "id": "1a7e2b0bc98295f2",
   "outputs": [
    {
     "data": {
      "text/plain": [
       "                             run_id       experiment_id    status  \\\n",
       "0  518708e5067f4fdd95ee4ff9e23bcd29  148925892636246878  FINISHED   \n",
       "1  a4ed9742451f4bb6bf227172c87bfde2  148925892636246878    FAILED   \n",
       "\n",
       "                                        artifact_uri  \\\n",
       "0  file:///Users/monkey/ray_results/e2e-machine-l...   \n",
       "1  file:///Users/monkey/ray_results/e2e-machine-l...   \n",
       "\n",
       "                        start_time                         end_time  \\\n",
       "0 2024-12-20 21:57:33.893000+00:00 2024-12-20 22:06:38.390000+00:00   \n",
       "1 2024-12-20 21:55:31.088000+00:00 2024-12-20 21:56:45.195000+00:00   \n",
       "\n",
       "   metrics.time_this_iter_s  metrics.train_loss  metrics.done  \\\n",
       "0                 53.153307            0.057624           0.0   \n",
       "1                       NaN                 NaN           NaN   \n",
       "\n",
       "   metrics.config/train_loop_config/lr_factor  ...  metrics.val_loss  \\\n",
       "0                                         0.8  ...          0.180028   \n",
       "1                                         NaN  ...               NaN   \n",
       "\n",
       "   params.train_loop_config/num_epochs  params.train_loop_config/lr_patience  \\\n",
       "0                                   10                                     3   \n",
       "1                                   10                                     3   \n",
       "\n",
       "   params.train_loop_config/dropout_p  params.train_loop_config/batch_size  \\\n",
       "0                                 0.5                                  256   \n",
       "1                                 0.5                                  256   \n",
       "\n",
       "   params.train_loop_config/num_classes  params.train_loop_config/lr_factor  \\\n",
       "0                                     4                                 0.8   \n",
       "1                                     4                                 0.8   \n",
       "\n",
       "   params.train_loop_config/lr           tags.trial_name  \\\n",
       "0                       0.0001  TorchTrainer_68765_00000   \n",
       "1                       0.0001  TorchTrainer_1f49f_00000   \n",
       "\n",
       "        tags.mlflow.runName  \n",
       "0  TorchTrainer_68765_00000  \n",
       "1  TorchTrainer_1f49f_00000  \n",
       "\n",
       "[2 rows x 36 columns]"
      ],
      "text/html": [
       "<div>\n",
       "<style scoped>\n",
       "    .dataframe tbody tr th:only-of-type {\n",
       "        vertical-align: middle;\n",
       "    }\n",
       "\n",
       "    .dataframe tbody tr th {\n",
       "        vertical-align: top;\n",
       "    }\n",
       "\n",
       "    .dataframe thead th {\n",
       "        text-align: right;\n",
       "    }\n",
       "</style>\n",
       "<table border=\"1\" class=\"dataframe\">\n",
       "  <thead>\n",
       "    <tr style=\"text-align: right;\">\n",
       "      <th></th>\n",
       "      <th>run_id</th>\n",
       "      <th>experiment_id</th>\n",
       "      <th>status</th>\n",
       "      <th>artifact_uri</th>\n",
       "      <th>start_time</th>\n",
       "      <th>end_time</th>\n",
       "      <th>metrics.time_this_iter_s</th>\n",
       "      <th>metrics.train_loss</th>\n",
       "      <th>metrics.done</th>\n",
       "      <th>metrics.config/train_loop_config/lr_factor</th>\n",
       "      <th>...</th>\n",
       "      <th>metrics.val_loss</th>\n",
       "      <th>params.train_loop_config/num_epochs</th>\n",
       "      <th>params.train_loop_config/lr_patience</th>\n",
       "      <th>params.train_loop_config/dropout_p</th>\n",
       "      <th>params.train_loop_config/batch_size</th>\n",
       "      <th>params.train_loop_config/num_classes</th>\n",
       "      <th>params.train_loop_config/lr_factor</th>\n",
       "      <th>params.train_loop_config/lr</th>\n",
       "      <th>tags.trial_name</th>\n",
       "      <th>tags.mlflow.runName</th>\n",
       "    </tr>\n",
       "  </thead>\n",
       "  <tbody>\n",
       "    <tr>\n",
       "      <th>0</th>\n",
       "      <td>518708e5067f4fdd95ee4ff9e23bcd29</td>\n",
       "      <td>148925892636246878</td>\n",
       "      <td>FINISHED</td>\n",
       "      <td>file:///Users/monkey/ray_results/e2e-machine-l...</td>\n",
       "      <td>2024-12-20 21:57:33.893000+00:00</td>\n",
       "      <td>2024-12-20 22:06:38.390000+00:00</td>\n",
       "      <td>53.153307</td>\n",
       "      <td>0.057624</td>\n",
       "      <td>0.0</td>\n",
       "      <td>0.8</td>\n",
       "      <td>...</td>\n",
       "      <td>0.180028</td>\n",
       "      <td>10</td>\n",
       "      <td>3</td>\n",
       "      <td>0.5</td>\n",
       "      <td>256</td>\n",
       "      <td>4</td>\n",
       "      <td>0.8</td>\n",
       "      <td>0.0001</td>\n",
       "      <td>TorchTrainer_68765_00000</td>\n",
       "      <td>TorchTrainer_68765_00000</td>\n",
       "    </tr>\n",
       "    <tr>\n",
       "      <th>1</th>\n",
       "      <td>a4ed9742451f4bb6bf227172c87bfde2</td>\n",
       "      <td>148925892636246878</td>\n",
       "      <td>FAILED</td>\n",
       "      <td>file:///Users/monkey/ray_results/e2e-machine-l...</td>\n",
       "      <td>2024-12-20 21:55:31.088000+00:00</td>\n",
       "      <td>2024-12-20 21:56:45.195000+00:00</td>\n",
       "      <td>NaN</td>\n",
       "      <td>NaN</td>\n",
       "      <td>NaN</td>\n",
       "      <td>NaN</td>\n",
       "      <td>...</td>\n",
       "      <td>NaN</td>\n",
       "      <td>10</td>\n",
       "      <td>3</td>\n",
       "      <td>0.5</td>\n",
       "      <td>256</td>\n",
       "      <td>4</td>\n",
       "      <td>0.8</td>\n",
       "      <td>0.0001</td>\n",
       "      <td>TorchTrainer_1f49f_00000</td>\n",
       "      <td>TorchTrainer_1f49f_00000</td>\n",
       "    </tr>\n",
       "  </tbody>\n",
       "</table>\n",
       "<p>2 rows × 36 columns</p>\n",
       "</div>"
      ]
     },
     "execution_count": 112,
     "metadata": {},
     "output_type": "execute_result"
    }
   ],
   "execution_count": 112
  },
  {
   "metadata": {
    "ExecuteTime": {
     "end_time": "2024-12-20T22:07:51.240336Z",
     "start_time": "2024-12-20T22:07:51.202234Z"
    }
   },
   "cell_type": "code",
   "source": [
    "# Best run\n",
    "best_run = sorted_runs.iloc[0]\n",
    "best_run"
   ],
   "id": "295fbef4ce975453",
   "outputs": [
    {
     "data": {
      "text/plain": [
       "run_id                                                           518708e5067f4fdd95ee4ff9e23bcd29\n",
       "experiment_id                                                                  148925892636246878\n",
       "status                                                                                   FINISHED\n",
       "artifact_uri                                    file:///Users/monkey/ray_results/e2e-machine-l...\n",
       "start_time                                                       2024-12-20 21:57:33.893000+00:00\n",
       "end_time                                                         2024-12-20 22:06:38.390000+00:00\n",
       "metrics.time_this_iter_s                                                                53.153307\n",
       "metrics.train_loss                                                                       0.057624\n",
       "metrics.done                                                                                  0.0\n",
       "metrics.config/train_loop_config/lr_factor                                                    0.8\n",
       "metrics.time_since_restore                                                              542.45186\n",
       "metrics.training_iteration                                                                   10.0\n",
       "metrics.config/train_loop_config/dropout_p                                                    0.5\n",
       "metrics.config/train_loop_config/num_epochs                                                  10.0\n",
       "metrics.config/train_loop_config/num_classes                                                  4.0\n",
       "metrics.time_total_s                                                                    542.45186\n",
       "metrics.trial_id                                                                     6876500000.0\n",
       "metrics.timestamp                                                                    1734732395.0\n",
       "metrics.epoch                                                                                 9.0\n",
       "metrics.config/train_loop_config/lr_patience                                                  3.0\n",
       "metrics.config/train_loop_config/batch_size                                                 256.0\n",
       "metrics.iterations_since_restore                                                             10.0\n",
       "metrics.should_checkpoint                                                                     1.0\n",
       "metrics.config/train_loop_config/lr                                                        0.0001\n",
       "metrics.pid                                                                               38415.0\n",
       "metrics.lr                                                                                 0.0001\n",
       "metrics.val_loss                                                                         0.180028\n",
       "params.train_loop_config/num_epochs                                                            10\n",
       "params.train_loop_config/lr_patience                                                            3\n",
       "params.train_loop_config/dropout_p                                                            0.5\n",
       "params.train_loop_config/batch_size                                                           256\n",
       "params.train_loop_config/num_classes                                                            4\n",
       "params.train_loop_config/lr_factor                                                            0.8\n",
       "params.train_loop_config/lr                                                                0.0001\n",
       "tags.trial_name                                                          TorchTrainer_68765_00000\n",
       "tags.mlflow.runName                                                      TorchTrainer_68765_00000\n",
       "Name: 0, dtype: object"
      ]
     },
     "execution_count": 113,
     "metadata": {},
     "output_type": "execute_result"
    }
   ],
   "execution_count": 113
  },
  {
   "metadata": {},
   "cell_type": "markdown",
   "source": "### Dashboard",
   "id": "43aadfe9e2bd62cc"
  },
  {
   "metadata": {},
   "cell_type": "markdown",
   "source": [
    "Let's view what we've tracked from our experiment. MLFlow serves a dashboard for us to view and explore our experiments on a localhost port:\n",
    "`mlflow server -h 0.0.0.0 -p 8080 --backend-store-uri $EFS_DIR/mlflow`\n",
    "\n",
    "MLFlow creates a main dashboard with all your experiments and their respective runs. We can sort runs by clicking on the column headers."
   ],
   "id": "a8f754f474083450"
  },
  {
   "metadata": {},
   "cell_type": "markdown",
   "source": "### Loading",
   "id": "39876f9c152aa419"
  },
  {
   "metadata": {
    "ExecuteTime": {
     "end_time": "2024-12-20T22:14:39.205138Z",
     "start_time": "2024-12-20T22:14:39.171435Z"
    }
   },
   "cell_type": "code",
   "source": [
    "from urllib.parse import urlparse\n",
    "\n",
    "from ray.train import Result"
   ],
   "id": "524d3eec07f015e7",
   "outputs": [],
   "execution_count": 122
  },
  {
   "metadata": {
    "ExecuteTime": {
     "end_time": "2024-12-20T22:28:28.206684Z",
     "start_time": "2024-12-20T22:28:28.172340Z"
    }
   },
   "cell_type": "code",
   "source": [
    "def get_best_checkpoint(run_id):\n",
    "    artifact_dir = urlparse(\n",
    "        mlflow.get_run(run_id).info.artifact_uri\n",
    "    ).path  # get path from mlflow\n",
    "    results = Result.from_path(artifact_dir)\n",
    "    return results.best_checkpoints[0][0]"
   ],
   "id": "cff7fefbb2210ee9",
   "outputs": [],
   "execution_count": 149
  },
  {
   "metadata": {
    "ExecuteTime": {
     "end_time": "2024-12-20T22:28:58.019951Z",
     "start_time": "2024-12-20T22:28:57.981634Z"
    }
   },
   "cell_type": "code",
   "source": "print(results.best_checkpoints)",
   "id": "ea982de5bf4eb52c",
   "outputs": [
    {
     "name": "stdout",
     "output_type": "stream",
     "text": [
      "[(Checkpoint(filesystem=local, path=/Users/monkey/ray_results/e2e-machine-learning/TorchTrainer_2024-12-20_22-55-27/TorchTrainer_68765_00000_0_2024-12-20_22-57-29/checkpoint_000009), {'epoch': 9, 'lr': 0.0001, 'train_loss': 0.05762408673763275, 'val_loss': 0.18002831004559994, 'timestamp': 1734732395, 'checkpoint_dir_name': 'checkpoint_000009', 'should_checkpoint': True, 'done': False, 'training_iteration': 10, 'trial_id': '68765_00000', 'date': '2024-12-20_23-06-37', 'time_this_iter_s': 53.15330696105957, 'time_total_s': 542.4518597126007, 'pid': 38415, 'hostname': 'Alexs-Mac-mini.local', 'node_ip': '127.0.0.1', 'config': {'train_loop_config': {'dropout_p': 0.5, 'lr': 0.0001, 'lr_factor': 0.8, 'lr_patience': 3, 'num_epochs': 10, 'batch_size': 256, 'num_classes': 4}}, 'time_since_restore': 542.4518597126007, 'iterations_since_restore': 10})]\n"
     ]
    }
   ],
   "execution_count": 150
  },
  {
   "metadata": {
    "ExecuteTime": {
     "end_time": "2024-12-20T22:29:24.539934Z",
     "start_time": "2024-12-20T22:29:23.442154Z"
    }
   },
   "cell_type": "code",
   "source": [
    "# Artifacts\n",
    "# best_checkpoint = get_best_checkpoint(run_id=best_run.run_id)\n",
    "predictor = TorchPredictor.from_checkpoint(results.best_checkpoints[0][0])\n",
    "preprocessor = predictor.get_preprocessor()"
   ],
   "id": "c73cab44b3f80402",
   "outputs": [],
   "execution_count": 151
  },
  {
   "metadata": {
    "ExecuteTime": {
     "end_time": "2024-12-20T22:29:36.304429Z",
     "start_time": "2024-12-20T22:29:26.668475Z"
    }
   },
   "cell_type": "code",
   "source": [
    "# Evaluate on test split\n",
    "performance = evaluate(ds=test_ds, predictor=predictor)\n",
    "print(json.dumps(performance, indent=2))"
   ],
   "id": "a4889c08e578020f",
   "outputs": [
    {
     "name": "stderr",
     "output_type": "stream",
     "text": [
      "2024-12-20 23:29:26,720\tINFO streaming_executor.py:108 -- Starting execution of Dataset. Full logs are in /tmp/ray/session_2024-12-20_21-41-30_038316_36280/logs/ray-data\n",
      "2024-12-20 23:29:26,720\tINFO streaming_executor.py:109 -- Execution plan of Dataset: InputDataBuffer[Input] -> TaskPoolMapOperator[ReadCSV] -> TaskPoolMapOperator[MapBatches(preprocess)->Project]\n"
     ]
    },
    {
     "data": {
      "text/plain": [
       "Running 0: 0.00 row [00:00, ? row/s]"
      ],
      "application/vnd.jupyter.widget-view+json": {
       "version_major": 2,
       "version_minor": 0,
       "model_id": "e38eb4ab7c3c4f5589f32758221109ba"
      }
     },
     "metadata": {},
     "output_type": "display_data"
    },
    {
     "data": {
      "text/plain": [
       "- ReadCSV->SplitBlocks(20) 1: 0.00 row [00:00, ? row/s]"
      ],
      "application/vnd.jupyter.widget-view+json": {
       "version_major": 2,
       "version_minor": 0,
       "model_id": "e0e5633cabc046688ce06101c8900ec4"
      }
     },
     "metadata": {},
     "output_type": "display_data"
    },
    {
     "data": {
      "text/plain": [
       "- MapBatches(preprocess)->Project 2: 0.00 row [00:00, ? row/s]"
      ],
      "application/vnd.jupyter.widget-view+json": {
       "version_major": 2,
       "version_minor": 0,
       "model_id": "20bfa456a17c439ca76a855d7223e2c3"
      }
     },
     "metadata": {},
     "output_type": "display_data"
    },
    {
     "name": "stderr",
     "output_type": "stream",
     "text": [
      "2024-12-20 23:29:28,141\tINFO streaming_executor.py:108 -- Starting execution of Dataset. Full logs are in /tmp/ray/session_2024-12-20_21-41-30_038316_36280/logs/ray-data\n",
      "2024-12-20 23:29:28,141\tINFO streaming_executor.py:109 -- Execution plan of Dataset: InputDataBuffer[Input] -> TaskPoolMapOperator[ReadCSV] -> TaskPoolMapOperator[MapBatches(preprocess)->MapBatches(TorchPredictor)]\n"
     ]
    },
    {
     "data": {
      "text/plain": [
       "Running 0: 0.00 row [00:00, ? row/s]"
      ],
      "application/vnd.jupyter.widget-view+json": {
       "version_major": 2,
       "version_minor": 0,
       "model_id": "6c3554ee21194ada90047d202fe61d91"
      }
     },
     "metadata": {},
     "output_type": "display_data"
    },
    {
     "data": {
      "text/plain": [
       "- ReadCSV->SplitBlocks(20) 1: 0.00 row [00:00, ? row/s]"
      ],
      "application/vnd.jupyter.widget-view+json": {
       "version_major": 2,
       "version_minor": 0,
       "model_id": "90a31410c56d43e385a0ec489dd81718"
      }
     },
     "metadata": {},
     "output_type": "display_data"
    },
    {
     "data": {
      "text/plain": [
       "- MapBatches(preprocess)->MapBatches(TorchPredictor) 2: 0.00 row [00:00, ? row/s]"
      ],
      "application/vnd.jupyter.widget-view+json": {
       "version_major": 2,
       "version_minor": 0,
       "model_id": "a991dc60008143d381b3a5479366789a"
      }
     },
     "metadata": {},
     "output_type": "display_data"
    },
    {
     "name": "stdout",
     "output_type": "stream",
     "text": [
      "{\n",
      "  \"precision\": 0.9133373435349453,\n",
      "  \"recall\": 0.9109947643979057,\n",
      "  \"f1\": 0.910165878171147\n",
      "}\n"
     ]
    }
   ],
   "execution_count": 152
  },
  {
   "metadata": {},
   "cell_type": "code",
   "outputs": [],
   "execution_count": null,
   "source": [
    "# Predict on sample\n",
    "title = \"Transfer learning with transformers\"\n",
    "description = \"Using transformers for transfer learning on text classification tasks.\"\n",
    "sample_ds = ray.data.from_items(\n",
    "    [{\"title\": title, \"description\": description, \"tag\": \"other\"}]\n",
    ")\n",
    "predict_proba(ds=sample_ds, predictor=predictor)"
   ],
   "id": "79554ac870dcf185"
  }
 ],
 "metadata": {
  "kernelspec": {
   "display_name": "Python 3 (ipykernel)",
   "language": "python",
   "name": "python3"
  },
  "language_info": {
   "codemirror_mode": {
    "name": "ipython",
    "version": 3
   },
   "file_extension": ".py",
   "mimetype": "text/x-python",
   "name": "python",
   "nbconvert_exporter": "python",
   "pygments_lexer": "ipython3",
   "version": "3.11.11"
  }
 },
 "nbformat": 4,
 "nbformat_minor": 5
}
